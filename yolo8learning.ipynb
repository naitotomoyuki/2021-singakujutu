{
  "nbformat": 4,
  "nbformat_minor": 0,
  "metadata": {
    "colab": {
      "provenance": [],
      "gpuType": "A100"
    },
    "kernelspec": {
      "name": "python3",
      "display_name": "Python 3"
    },
    "language_info": {
      "name": "python"
    },
    "accelerator": "GPU"
  },
  "cells": [
    {
      "cell_type": "code",
      "source": [
        "!export LC_ALL=C.UTF-8\n",
        "!export LANG=C.UTF-8\n",
        "!export LANGUAGE=C.UTF-8"
      ],
      "metadata": {
        "id": "f438YCUbNO6D",
        "collapsed": true
      },
      "execution_count": 1,
      "outputs": []
    },
    {
      "cell_type": "code",
      "source": [
        "!pip install -U torch torchvision torchaudio\n",
        "!pip install -U ultralytics"
      ],
      "metadata": {
        "id": "pMfiPX77P7d8",
        "collapsed": true,
        "colab": {
          "base_uri": "https://localhost:8080/"
        },
        "outputId": "7b25c7d3-1a3a-40e2-dba5-a645b39383ff"
      },
      "execution_count": 2,
      "outputs": [
        {
          "output_type": "stream",
          "name": "stdout",
          "text": [
            "Requirement already satisfied: torch in /usr/local/lib/python3.11/dist-packages (2.5.1+cu124)\n",
            "Collecting torch\n",
            "  Downloading torch-2.6.0-cp311-cp311-manylinux1_x86_64.whl.metadata (28 kB)\n",
            "Requirement already satisfied: torchvision in /usr/local/lib/python3.11/dist-packages (0.20.1+cu124)\n",
            "Collecting torchvision\n",
            "  Downloading torchvision-0.21.0-cp311-cp311-manylinux1_x86_64.whl.metadata (6.1 kB)\n",
            "Requirement already satisfied: torchaudio in /usr/local/lib/python3.11/dist-packages (2.5.1+cu124)\n",
            "Collecting torchaudio\n",
            "  Downloading torchaudio-2.6.0-cp311-cp311-manylinux1_x86_64.whl.metadata (6.6 kB)\n",
            "Requirement already satisfied: filelock in /usr/local/lib/python3.11/dist-packages (from torch) (3.17.0)\n",
            "Requirement already satisfied: typing-extensions>=4.10.0 in /usr/local/lib/python3.11/dist-packages (from torch) (4.12.2)\n",
            "Requirement already satisfied: networkx in /usr/local/lib/python3.11/dist-packages (from torch) (3.4.2)\n",
            "Requirement already satisfied: jinja2 in /usr/local/lib/python3.11/dist-packages (from torch) (3.1.6)\n",
            "Requirement already satisfied: fsspec in /usr/local/lib/python3.11/dist-packages (from torch) (2024.10.0)\n",
            "Collecting nvidia-cuda-nvrtc-cu12==12.4.127 (from torch)\n",
            "  Downloading nvidia_cuda_nvrtc_cu12-12.4.127-py3-none-manylinux2014_x86_64.whl.metadata (1.5 kB)\n",
            "Collecting nvidia-cuda-runtime-cu12==12.4.127 (from torch)\n",
            "  Downloading nvidia_cuda_runtime_cu12-12.4.127-py3-none-manylinux2014_x86_64.whl.metadata (1.5 kB)\n",
            "Collecting nvidia-cuda-cupti-cu12==12.4.127 (from torch)\n",
            "  Downloading nvidia_cuda_cupti_cu12-12.4.127-py3-none-manylinux2014_x86_64.whl.metadata (1.6 kB)\n",
            "Collecting nvidia-cudnn-cu12==9.1.0.70 (from torch)\n",
            "  Downloading nvidia_cudnn_cu12-9.1.0.70-py3-none-manylinux2014_x86_64.whl.metadata (1.6 kB)\n",
            "Collecting nvidia-cublas-cu12==12.4.5.8 (from torch)\n",
            "  Downloading nvidia_cublas_cu12-12.4.5.8-py3-none-manylinux2014_x86_64.whl.metadata (1.5 kB)\n",
            "Collecting nvidia-cufft-cu12==11.2.1.3 (from torch)\n",
            "  Downloading nvidia_cufft_cu12-11.2.1.3-py3-none-manylinux2014_x86_64.whl.metadata (1.5 kB)\n",
            "Collecting nvidia-curand-cu12==10.3.5.147 (from torch)\n",
            "  Downloading nvidia_curand_cu12-10.3.5.147-py3-none-manylinux2014_x86_64.whl.metadata (1.5 kB)\n",
            "Collecting nvidia-cusolver-cu12==11.6.1.9 (from torch)\n",
            "  Downloading nvidia_cusolver_cu12-11.6.1.9-py3-none-manylinux2014_x86_64.whl.metadata (1.6 kB)\n",
            "Collecting nvidia-cusparse-cu12==12.3.1.170 (from torch)\n",
            "  Downloading nvidia_cusparse_cu12-12.3.1.170-py3-none-manylinux2014_x86_64.whl.metadata (1.6 kB)\n",
            "Collecting nvidia-cusparselt-cu12==0.6.2 (from torch)\n",
            "  Downloading nvidia_cusparselt_cu12-0.6.2-py3-none-manylinux2014_x86_64.whl.metadata (6.8 kB)\n",
            "Requirement already satisfied: nvidia-nccl-cu12==2.21.5 in /usr/local/lib/python3.11/dist-packages (from torch) (2.21.5)\n",
            "Requirement already satisfied: nvidia-nvtx-cu12==12.4.127 in /usr/local/lib/python3.11/dist-packages (from torch) (12.4.127)\n",
            "Collecting nvidia-nvjitlink-cu12==12.4.127 (from torch)\n",
            "  Downloading nvidia_nvjitlink_cu12-12.4.127-py3-none-manylinux2014_x86_64.whl.metadata (1.5 kB)\n",
            "Collecting triton==3.2.0 (from torch)\n",
            "  Downloading triton-3.2.0-cp311-cp311-manylinux_2_17_x86_64.manylinux2014_x86_64.whl.metadata (1.4 kB)\n",
            "Requirement already satisfied: sympy==1.13.1 in /usr/local/lib/python3.11/dist-packages (from torch) (1.13.1)\n",
            "Requirement already satisfied: mpmath<1.4,>=1.1.0 in /usr/local/lib/python3.11/dist-packages (from sympy==1.13.1->torch) (1.3.0)\n",
            "Requirement already satisfied: numpy in /usr/local/lib/python3.11/dist-packages (from torchvision) (1.26.4)\n",
            "Requirement already satisfied: pillow!=8.3.*,>=5.3.0 in /usr/local/lib/python3.11/dist-packages (from torchvision) (11.1.0)\n",
            "Requirement already satisfied: MarkupSafe>=2.0 in /usr/local/lib/python3.11/dist-packages (from jinja2->torch) (3.0.2)\n",
            "Downloading torch-2.6.0-cp311-cp311-manylinux1_x86_64.whl (766.7 MB)\n",
            "\u001b[2K   \u001b[90m━━━━━━━━━━━━━━━━━━━━━━━━━━━━━━━━━━━━━━━━\u001b[0m \u001b[32m766.7/766.7 MB\u001b[0m \u001b[31m1.5 MB/s\u001b[0m eta \u001b[36m0:00:00\u001b[0m\n",
            "\u001b[?25hDownloading nvidia_cublas_cu12-12.4.5.8-py3-none-manylinux2014_x86_64.whl (363.4 MB)\n",
            "\u001b[2K   \u001b[90m━━━━━━━━━━━━━━━━━━━━━━━━━━━━━━━━━━━━━━━━\u001b[0m \u001b[32m363.4/363.4 MB\u001b[0m \u001b[31m2.9 MB/s\u001b[0m eta \u001b[36m0:00:00\u001b[0m\n",
            "\u001b[?25hDownloading nvidia_cuda_cupti_cu12-12.4.127-py3-none-manylinux2014_x86_64.whl (13.8 MB)\n",
            "\u001b[2K   \u001b[90m━━━━━━━━━━━━━━━━━━━━━━━━━━━━━━━━━━━━━━━━\u001b[0m \u001b[32m13.8/13.8 MB\u001b[0m \u001b[31m109.2 MB/s\u001b[0m eta \u001b[36m0:00:00\u001b[0m\n",
            "\u001b[?25hDownloading nvidia_cuda_nvrtc_cu12-12.4.127-py3-none-manylinux2014_x86_64.whl (24.6 MB)\n",
            "\u001b[2K   \u001b[90m━━━━━━━━━━━━━━━━━━━━━━━━━━━━━━━━━━━━━━━━\u001b[0m \u001b[32m24.6/24.6 MB\u001b[0m \u001b[31m86.3 MB/s\u001b[0m eta \u001b[36m0:00:00\u001b[0m\n",
            "\u001b[?25hDownloading nvidia_cuda_runtime_cu12-12.4.127-py3-none-manylinux2014_x86_64.whl (883 kB)\n",
            "\u001b[2K   \u001b[90m━━━━━━━━━━━━━━━━━━━━━━━━━━━━━━━━━━━━━━━━\u001b[0m \u001b[32m883.7/883.7 kB\u001b[0m \u001b[31m55.1 MB/s\u001b[0m eta \u001b[36m0:00:00\u001b[0m\n",
            "\u001b[?25hDownloading nvidia_cudnn_cu12-9.1.0.70-py3-none-manylinux2014_x86_64.whl (664.8 MB)\n",
            "\u001b[2K   \u001b[90m━━━━━━━━━━━━━━━━━━━━━━━━━━━━━━━━━━━━━━━━\u001b[0m \u001b[32m664.8/664.8 MB\u001b[0m \u001b[31m1.6 MB/s\u001b[0m eta \u001b[36m0:00:00\u001b[0m\n",
            "\u001b[?25hDownloading nvidia_cufft_cu12-11.2.1.3-py3-none-manylinux2014_x86_64.whl (211.5 MB)\n",
            "\u001b[2K   \u001b[90m━━━━━━━━━━━━━━━━━━━━━━━━━━━━━━━━━━━━━━━━\u001b[0m \u001b[32m211.5/211.5 MB\u001b[0m \u001b[31m10.2 MB/s\u001b[0m eta \u001b[36m0:00:00\u001b[0m\n",
            "\u001b[?25hDownloading nvidia_curand_cu12-10.3.5.147-py3-none-manylinux2014_x86_64.whl (56.3 MB)\n",
            "\u001b[2K   \u001b[90m━━━━━━━━━━━━━━━━━━━━━━━━━━━━━━━━━━━━━━━━\u001b[0m \u001b[32m56.3/56.3 MB\u001b[0m \u001b[31m22.7 MB/s\u001b[0m eta \u001b[36m0:00:00\u001b[0m\n",
            "\u001b[?25hDownloading nvidia_cusolver_cu12-11.6.1.9-py3-none-manylinux2014_x86_64.whl (127.9 MB)\n",
            "\u001b[2K   \u001b[90m━━━━━━━━━━━━━━━━━━━━━━━━━━━━━━━━━━━━━━━━\u001b[0m \u001b[32m127.9/127.9 MB\u001b[0m \u001b[31m10.0 MB/s\u001b[0m eta \u001b[36m0:00:00\u001b[0m\n",
            "\u001b[?25hDownloading nvidia_cusparse_cu12-12.3.1.170-py3-none-manylinux2014_x86_64.whl (207.5 MB)\n",
            "\u001b[2K   \u001b[90m━━━━━━━━━━━━━━━━━━━━━━━━━━━━━━━━━━━━━━━━\u001b[0m \u001b[32m207.5/207.5 MB\u001b[0m \u001b[31m3.8 MB/s\u001b[0m eta \u001b[36m0:00:00\u001b[0m\n",
            "\u001b[?25hDownloading nvidia_cusparselt_cu12-0.6.2-py3-none-manylinux2014_x86_64.whl (150.1 MB)\n",
            "\u001b[2K   \u001b[90m━━━━━━━━━━━━━━━━━━━━━━━━━━━━━━━━━━━━━━━━\u001b[0m \u001b[32m150.1/150.1 MB\u001b[0m \u001b[31m15.0 MB/s\u001b[0m eta \u001b[36m0:00:00\u001b[0m\n",
            "\u001b[?25hDownloading nvidia_nvjitlink_cu12-12.4.127-py3-none-manylinux2014_x86_64.whl (21.1 MB)\n",
            "\u001b[2K   \u001b[90m━━━━━━━━━━━━━━━━━━━━━━━━━━━━━━━━━━━━━━━━\u001b[0m \u001b[32m21.1/21.1 MB\u001b[0m \u001b[31m86.0 MB/s\u001b[0m eta \u001b[36m0:00:00\u001b[0m\n",
            "\u001b[?25hDownloading triton-3.2.0-cp311-cp311-manylinux_2_17_x86_64.manylinux2014_x86_64.whl (253.2 MB)\n",
            "\u001b[2K   \u001b[90m━━━━━━━━━━━━━━━━━━━━━━━━━━━━━━━━━━━━━━━━\u001b[0m \u001b[32m253.2/253.2 MB\u001b[0m \u001b[31m4.3 MB/s\u001b[0m eta \u001b[36m0:00:00\u001b[0m\n",
            "\u001b[?25hDownloading torchvision-0.21.0-cp311-cp311-manylinux1_x86_64.whl (7.2 MB)\n",
            "\u001b[2K   \u001b[90m━━━━━━━━━━━━━━━━━━━━━━━━━━━━━━━━━━━━━━━━\u001b[0m \u001b[32m7.2/7.2 MB\u001b[0m \u001b[31m102.9 MB/s\u001b[0m eta \u001b[36m0:00:00\u001b[0m\n",
            "\u001b[?25hDownloading torchaudio-2.6.0-cp311-cp311-manylinux1_x86_64.whl (3.4 MB)\n",
            "\u001b[2K   \u001b[90m━━━━━━━━━━━━━━━━━━━━━━━━━━━━━━━━━━━━━━━━\u001b[0m \u001b[32m3.4/3.4 MB\u001b[0m \u001b[31m97.4 MB/s\u001b[0m eta \u001b[36m0:00:00\u001b[0m\n",
            "\u001b[?25hInstalling collected packages: triton, nvidia-cusparselt-cu12, nvidia-nvjitlink-cu12, nvidia-curand-cu12, nvidia-cufft-cu12, nvidia-cuda-runtime-cu12, nvidia-cuda-nvrtc-cu12, nvidia-cuda-cupti-cu12, nvidia-cublas-cu12, nvidia-cusparse-cu12, nvidia-cudnn-cu12, nvidia-cusolver-cu12, torch, torchvision, torchaudio\n",
            "  Attempting uninstall: triton\n",
            "    Found existing installation: triton 3.1.0\n",
            "    Uninstalling triton-3.1.0:\n",
            "      Successfully uninstalled triton-3.1.0\n",
            "  Attempting uninstall: nvidia-nvjitlink-cu12\n",
            "    Found existing installation: nvidia-nvjitlink-cu12 12.5.82\n",
            "    Uninstalling nvidia-nvjitlink-cu12-12.5.82:\n",
            "      Successfully uninstalled nvidia-nvjitlink-cu12-12.5.82\n",
            "  Attempting uninstall: nvidia-curand-cu12\n",
            "    Found existing installation: nvidia-curand-cu12 10.3.6.82\n",
            "    Uninstalling nvidia-curand-cu12-10.3.6.82:\n",
            "      Successfully uninstalled nvidia-curand-cu12-10.3.6.82\n",
            "  Attempting uninstall: nvidia-cufft-cu12\n",
            "    Found existing installation: nvidia-cufft-cu12 11.2.3.61\n",
            "    Uninstalling nvidia-cufft-cu12-11.2.3.61:\n",
            "      Successfully uninstalled nvidia-cufft-cu12-11.2.3.61\n",
            "  Attempting uninstall: nvidia-cuda-runtime-cu12\n",
            "    Found existing installation: nvidia-cuda-runtime-cu12 12.5.82\n",
            "    Uninstalling nvidia-cuda-runtime-cu12-12.5.82:\n",
            "      Successfully uninstalled nvidia-cuda-runtime-cu12-12.5.82\n",
            "  Attempting uninstall: nvidia-cuda-nvrtc-cu12\n",
            "    Found existing installation: nvidia-cuda-nvrtc-cu12 12.5.82\n",
            "    Uninstalling nvidia-cuda-nvrtc-cu12-12.5.82:\n",
            "      Successfully uninstalled nvidia-cuda-nvrtc-cu12-12.5.82\n",
            "  Attempting uninstall: nvidia-cuda-cupti-cu12\n",
            "    Found existing installation: nvidia-cuda-cupti-cu12 12.5.82\n",
            "    Uninstalling nvidia-cuda-cupti-cu12-12.5.82:\n",
            "      Successfully uninstalled nvidia-cuda-cupti-cu12-12.5.82\n",
            "  Attempting uninstall: nvidia-cublas-cu12\n",
            "    Found existing installation: nvidia-cublas-cu12 12.5.3.2\n",
            "    Uninstalling nvidia-cublas-cu12-12.5.3.2:\n",
            "      Successfully uninstalled nvidia-cublas-cu12-12.5.3.2\n",
            "  Attempting uninstall: nvidia-cusparse-cu12\n",
            "    Found existing installation: nvidia-cusparse-cu12 12.5.1.3\n",
            "    Uninstalling nvidia-cusparse-cu12-12.5.1.3:\n",
            "      Successfully uninstalled nvidia-cusparse-cu12-12.5.1.3\n",
            "  Attempting uninstall: nvidia-cudnn-cu12\n",
            "    Found existing installation: nvidia-cudnn-cu12 9.3.0.75\n",
            "    Uninstalling nvidia-cudnn-cu12-9.3.0.75:\n",
            "      Successfully uninstalled nvidia-cudnn-cu12-9.3.0.75\n",
            "  Attempting uninstall: nvidia-cusolver-cu12\n",
            "    Found existing installation: nvidia-cusolver-cu12 11.6.3.83\n",
            "    Uninstalling nvidia-cusolver-cu12-11.6.3.83:\n",
            "      Successfully uninstalled nvidia-cusolver-cu12-11.6.3.83\n",
            "  Attempting uninstall: torch\n",
            "    Found existing installation: torch 2.5.1+cu124\n",
            "    Uninstalling torch-2.5.1+cu124:\n",
            "      Successfully uninstalled torch-2.5.1+cu124\n",
            "  Attempting uninstall: torchvision\n",
            "    Found existing installation: torchvision 0.20.1+cu124\n",
            "    Uninstalling torchvision-0.20.1+cu124:\n",
            "      Successfully uninstalled torchvision-0.20.1+cu124\n",
            "  Attempting uninstall: torchaudio\n",
            "    Found existing installation: torchaudio 2.5.1+cu124\n",
            "    Uninstalling torchaudio-2.5.1+cu124:\n",
            "      Successfully uninstalled torchaudio-2.5.1+cu124\n",
            "\u001b[31mERROR: pip's dependency resolver does not currently take into account all the packages that are installed. This behaviour is the source of the following dependency conflicts.\n",
            "fastai 2.7.18 requires torch<2.6,>=1.10, but you have torch 2.6.0 which is incompatible.\u001b[0m\u001b[31m\n",
            "\u001b[0mSuccessfully installed nvidia-cublas-cu12-12.4.5.8 nvidia-cuda-cupti-cu12-12.4.127 nvidia-cuda-nvrtc-cu12-12.4.127 nvidia-cuda-runtime-cu12-12.4.127 nvidia-cudnn-cu12-9.1.0.70 nvidia-cufft-cu12-11.2.1.3 nvidia-curand-cu12-10.3.5.147 nvidia-cusolver-cu12-11.6.1.9 nvidia-cusparse-cu12-12.3.1.170 nvidia-cusparselt-cu12-0.6.2 nvidia-nvjitlink-cu12-12.4.127 torch-2.6.0 torchaudio-2.6.0 torchvision-0.21.0 triton-3.2.0\n",
            "Collecting ultralytics\n",
            "  Downloading ultralytics-8.3.88-py3-none-any.whl.metadata (35 kB)\n",
            "Requirement already satisfied: numpy<=2.1.1,>=1.23.0 in /usr/local/lib/python3.11/dist-packages (from ultralytics) (1.26.4)\n",
            "Requirement already satisfied: matplotlib>=3.3.0 in /usr/local/lib/python3.11/dist-packages (from ultralytics) (3.10.0)\n",
            "Requirement already satisfied: opencv-python>=4.6.0 in /usr/local/lib/python3.11/dist-packages (from ultralytics) (4.11.0.86)\n",
            "Requirement already satisfied: pillow>=7.1.2 in /usr/local/lib/python3.11/dist-packages (from ultralytics) (11.1.0)\n",
            "Requirement already satisfied: pyyaml>=5.3.1 in /usr/local/lib/python3.11/dist-packages (from ultralytics) (6.0.2)\n",
            "Requirement already satisfied: requests>=2.23.0 in /usr/local/lib/python3.11/dist-packages (from ultralytics) (2.32.3)\n",
            "Requirement already satisfied: scipy>=1.4.1 in /usr/local/lib/python3.11/dist-packages (from ultralytics) (1.14.1)\n",
            "Requirement already satisfied: torch>=1.8.0 in /usr/local/lib/python3.11/dist-packages (from ultralytics) (2.6.0)\n",
            "Requirement already satisfied: torchvision>=0.9.0 in /usr/local/lib/python3.11/dist-packages (from ultralytics) (0.21.0)\n",
            "Requirement already satisfied: tqdm>=4.64.0 in /usr/local/lib/python3.11/dist-packages (from ultralytics) (4.67.1)\n",
            "Requirement already satisfied: psutil in /usr/local/lib/python3.11/dist-packages (from ultralytics) (5.9.5)\n",
            "Requirement already satisfied: py-cpuinfo in /usr/local/lib/python3.11/dist-packages (from ultralytics) (9.0.0)\n",
            "Requirement already satisfied: pandas>=1.1.4 in /usr/local/lib/python3.11/dist-packages (from ultralytics) (2.2.2)\n",
            "Requirement already satisfied: seaborn>=0.11.0 in /usr/local/lib/python3.11/dist-packages (from ultralytics) (0.13.2)\n",
            "Collecting ultralytics-thop>=2.0.0 (from ultralytics)\n",
            "  Downloading ultralytics_thop-2.0.14-py3-none-any.whl.metadata (9.4 kB)\n",
            "Requirement already satisfied: contourpy>=1.0.1 in /usr/local/lib/python3.11/dist-packages (from matplotlib>=3.3.0->ultralytics) (1.3.1)\n",
            "Requirement already satisfied: cycler>=0.10 in /usr/local/lib/python3.11/dist-packages (from matplotlib>=3.3.0->ultralytics) (0.12.1)\n",
            "Requirement already satisfied: fonttools>=4.22.0 in /usr/local/lib/python3.11/dist-packages (from matplotlib>=3.3.0->ultralytics) (4.56.0)\n",
            "Requirement already satisfied: kiwisolver>=1.3.1 in /usr/local/lib/python3.11/dist-packages (from matplotlib>=3.3.0->ultralytics) (1.4.8)\n",
            "Requirement already satisfied: packaging>=20.0 in /usr/local/lib/python3.11/dist-packages (from matplotlib>=3.3.0->ultralytics) (24.2)\n",
            "Requirement already satisfied: pyparsing>=2.3.1 in /usr/local/lib/python3.11/dist-packages (from matplotlib>=3.3.0->ultralytics) (3.2.1)\n",
            "Requirement already satisfied: python-dateutil>=2.7 in /usr/local/lib/python3.11/dist-packages (from matplotlib>=3.3.0->ultralytics) (2.8.2)\n",
            "Requirement already satisfied: pytz>=2020.1 in /usr/local/lib/python3.11/dist-packages (from pandas>=1.1.4->ultralytics) (2025.1)\n",
            "Requirement already satisfied: tzdata>=2022.7 in /usr/local/lib/python3.11/dist-packages (from pandas>=1.1.4->ultralytics) (2025.1)\n",
            "Requirement already satisfied: charset-normalizer<4,>=2 in /usr/local/lib/python3.11/dist-packages (from requests>=2.23.0->ultralytics) (3.4.1)\n",
            "Requirement already satisfied: idna<4,>=2.5 in /usr/local/lib/python3.11/dist-packages (from requests>=2.23.0->ultralytics) (3.10)\n",
            "Requirement already satisfied: urllib3<3,>=1.21.1 in /usr/local/lib/python3.11/dist-packages (from requests>=2.23.0->ultralytics) (2.3.0)\n",
            "Requirement already satisfied: certifi>=2017.4.17 in /usr/local/lib/python3.11/dist-packages (from requests>=2.23.0->ultralytics) (2025.1.31)\n",
            "Requirement already satisfied: filelock in /usr/local/lib/python3.11/dist-packages (from torch>=1.8.0->ultralytics) (3.17.0)\n",
            "Requirement already satisfied: typing-extensions>=4.10.0 in /usr/local/lib/python3.11/dist-packages (from torch>=1.8.0->ultralytics) (4.12.2)\n",
            "Requirement already satisfied: networkx in /usr/local/lib/python3.11/dist-packages (from torch>=1.8.0->ultralytics) (3.4.2)\n",
            "Requirement already satisfied: jinja2 in /usr/local/lib/python3.11/dist-packages (from torch>=1.8.0->ultralytics) (3.1.6)\n",
            "Requirement already satisfied: fsspec in /usr/local/lib/python3.11/dist-packages (from torch>=1.8.0->ultralytics) (2024.10.0)\n",
            "Requirement already satisfied: nvidia-cuda-nvrtc-cu12==12.4.127 in /usr/local/lib/python3.11/dist-packages (from torch>=1.8.0->ultralytics) (12.4.127)\n",
            "Requirement already satisfied: nvidia-cuda-runtime-cu12==12.4.127 in /usr/local/lib/python3.11/dist-packages (from torch>=1.8.0->ultralytics) (12.4.127)\n",
            "Requirement already satisfied: nvidia-cuda-cupti-cu12==12.4.127 in /usr/local/lib/python3.11/dist-packages (from torch>=1.8.0->ultralytics) (12.4.127)\n",
            "Requirement already satisfied: nvidia-cudnn-cu12==9.1.0.70 in /usr/local/lib/python3.11/dist-packages (from torch>=1.8.0->ultralytics) (9.1.0.70)\n",
            "Requirement already satisfied: nvidia-cublas-cu12==12.4.5.8 in /usr/local/lib/python3.11/dist-packages (from torch>=1.8.0->ultralytics) (12.4.5.8)\n",
            "Requirement already satisfied: nvidia-cufft-cu12==11.2.1.3 in /usr/local/lib/python3.11/dist-packages (from torch>=1.8.0->ultralytics) (11.2.1.3)\n",
            "Requirement already satisfied: nvidia-curand-cu12==10.3.5.147 in /usr/local/lib/python3.11/dist-packages (from torch>=1.8.0->ultralytics) (10.3.5.147)\n",
            "Requirement already satisfied: nvidia-cusolver-cu12==11.6.1.9 in /usr/local/lib/python3.11/dist-packages (from torch>=1.8.0->ultralytics) (11.6.1.9)\n",
            "Requirement already satisfied: nvidia-cusparse-cu12==12.3.1.170 in /usr/local/lib/python3.11/dist-packages (from torch>=1.8.0->ultralytics) (12.3.1.170)\n",
            "Requirement already satisfied: nvidia-cusparselt-cu12==0.6.2 in /usr/local/lib/python3.11/dist-packages (from torch>=1.8.0->ultralytics) (0.6.2)\n",
            "Requirement already satisfied: nvidia-nccl-cu12==2.21.5 in /usr/local/lib/python3.11/dist-packages (from torch>=1.8.0->ultralytics) (2.21.5)\n",
            "Requirement already satisfied: nvidia-nvtx-cu12==12.4.127 in /usr/local/lib/python3.11/dist-packages (from torch>=1.8.0->ultralytics) (12.4.127)\n",
            "Requirement already satisfied: nvidia-nvjitlink-cu12==12.4.127 in /usr/local/lib/python3.11/dist-packages (from torch>=1.8.0->ultralytics) (12.4.127)\n",
            "Requirement already satisfied: triton==3.2.0 in /usr/local/lib/python3.11/dist-packages (from torch>=1.8.0->ultralytics) (3.2.0)\n",
            "Requirement already satisfied: sympy==1.13.1 in /usr/local/lib/python3.11/dist-packages (from torch>=1.8.0->ultralytics) (1.13.1)\n",
            "Requirement already satisfied: mpmath<1.4,>=1.1.0 in /usr/local/lib/python3.11/dist-packages (from sympy==1.13.1->torch>=1.8.0->ultralytics) (1.3.0)\n",
            "Requirement already satisfied: six>=1.5 in /usr/local/lib/python3.11/dist-packages (from python-dateutil>=2.7->matplotlib>=3.3.0->ultralytics) (1.17.0)\n",
            "Requirement already satisfied: MarkupSafe>=2.0 in /usr/local/lib/python3.11/dist-packages (from jinja2->torch>=1.8.0->ultralytics) (3.0.2)\n",
            "Downloading ultralytics-8.3.88-py3-none-any.whl (932 kB)\n",
            "\u001b[2K   \u001b[90m━━━━━━━━━━━━━━━━━━━━━━━━━━━━━━━━━━━━━━━━\u001b[0m \u001b[32m932.9/932.9 kB\u001b[0m \u001b[31m17.4 MB/s\u001b[0m eta \u001b[36m0:00:00\u001b[0m\n",
            "\u001b[?25hDownloading ultralytics_thop-2.0.14-py3-none-any.whl (26 kB)\n",
            "Installing collected packages: ultralytics-thop, ultralytics\n",
            "Successfully installed ultralytics-8.3.88 ultralytics-thop-2.0.14\n"
          ]
        }
      ]
    },
    {
      "cell_type": "code",
      "execution_count": 3,
      "metadata": {
        "id": "hqHJgmagKOsm",
        "colab": {
          "base_uri": "https://localhost:8080/"
        },
        "outputId": "0f4ce375-ff85-40cc-ce37-cc3061847ade"
      },
      "outputs": [
        {
          "output_type": "stream",
          "name": "stdout",
          "text": [
            "Mounted at /content/drive\n"
          ]
        }
      ],
      "source": [
        "from google.colab import drive\n",
        "drive.mount('/content/drive')"
      ]
    },
    {
      "cell_type": "code",
      "source": [
        "#!rsync -ah --progress /content/drive/MyDrive/dataset/ /content/dataset/\n",
        "#超重要！！！！！\n",
        "#ローカルPCでdatasetをdataset.zipに圧縮してMyDriveへコピーしてください。\n",
        "\n",
        "# ZIPファイルをGoogle DriveからColabへコピー\n",
        "!rsync -ah --progress /content/drive/MyDrive/dataset.zip /content/\n",
        "\n",
        "# ZIPファイルを解凍\n",
        "!unzip -o /content/dataset.zip -d /content/\n",
        "\n",
        "# (任意) 解凍後のZIPファイルを削除してディスクを節約\n",
        "!rm /content/dataset.zip"
      ],
      "metadata": {
        "id": "V7XeP7IKKj2j",
        "collapsed": true,
        "colab": {
          "base_uri": "https://localhost:8080/"
        },
        "outputId": "f06e9316-f349-46de-b4d6-424d17836558"
      },
      "execution_count": 4,
      "outputs": [
        {
          "output_type": "stream",
          "name": "stdout",
          "text": [
            "\u001b[1;30;43mストリーミング出力は最後の 5000 行に切り捨てられました。\u001b[0m\n",
            "  inflating: /content/dataset/images/train/2eff9c34-Ch120250118105049_learning_learning.jpg  \n",
            "  inflating: /content/dataset/images/train/2f003409-Ch120250202102810.jpg  \n",
            "  inflating: /content/dataset/images/train/2f049f65-Ch120240927165458.png  \n",
            "  inflating: /content/dataset/images/train/2f0bc4ed-Ch120250206105059.jpg  \n",
            "  inflating: /content/dataset/images/train/2f3a6e29-Ch120250130094245.jpg  \n",
            "  inflating: /content/dataset/images/train/2f718430-Ch120241203103119.png  \n",
            "  inflating: /content/dataset/images/train/2f860d3c-Ch120241225114440.png  \n",
            "  inflating: /content/dataset/images/train/2f8d3420-Ch120241225114417.png  \n",
            "  inflating: /content/dataset/images/train/2f93dd9e-Ch120240927115843.png  \n",
            "  inflating: /content/dataset/images/train/2fa37910-Ch120250111161541.png  \n",
            "  inflating: /content/dataset/images/train/2fac2083-Ch120241021101059.png  \n",
            "  inflating: /content/dataset/images/train/2feafecb-Ch120250111161854.png  \n",
            "  inflating: /content/dataset/images/train/300f2f49-Ch120241225114416.png  \n",
            "  inflating: /content/dataset/images/train/302e73a9-Ch120241225114525.png  \n",
            "  inflating: /content/dataset/images/train/30383aa0-Ch120241227151311.png  \n",
            "  inflating: /content/dataset/images/train/30519d4f-Ch120250112105255.png  \n",
            "  inflating: /content/dataset/images/train/305ed9eb-Ch120250111161747.png  \n",
            "  inflating: /content/dataset/images/train/30baeedc-Ch120241203103147.png  \n",
            "  inflating: /content/dataset/images/train/30bc2a6c-Ch120241225114441.png  \n",
            "  inflating: /content/dataset/images/train/30d0d6b7-Ch120250120144443_learning.jpg  \n",
            "  inflating: /content/dataset/images/train/311d703e-Ch120241225114439.png  \n",
            "  inflating: /content/dataset/images/train/312faf3e-Ch120250111161819.png  \n",
            "  inflating: /content/dataset/images/train/3131bc38-Ch120250119143101_learning.jpg  \n",
            "  inflating: /content/dataset/images/train/3131c484-Ch120250202102917.jpg  \n",
            "  inflating: /content/dataset/images/train/31528643-Ch120241226102704.png  \n",
            "  inflating: /content/dataset/images/train/3196db23-Ch120241226150533.png  \n",
            "  inflating: /content/dataset/images/train/3198587c-Ch120250116143004.jpg  \n",
            "  inflating: /content/dataset/images/train/31a0e803-Ch120241021101039.png  \n",
            "  inflating: /content/dataset/images/train/31cdba90-Ch120250111161438.png  \n",
            "  inflating: /content/dataset/images/train/31dd400f-Ch120240927115826.png  \n",
            "  inflating: /content/dataset/images/train/31f9cb0e-Ch120241021100700.png  \n",
            "  inflating: /content/dataset/images/train/32112609-Ch120250116143216.jpg  \n",
            "  inflating: /content/dataset/images/train/32136ba0-Ch120250116143407.jpg  \n",
            "  inflating: /content/dataset/images/train/323ccdc1-Ch120250115104949.png  \n",
            "  inflating: /content/dataset/images/train/3270a0ba-Ch120250228105333.jpg  \n",
            "  inflating: /content/dataset/images/train/32fa2ed9-Ch120250119142909_learning.jpg  \n",
            "  inflating: /content/dataset/images/train/32fc7aaa-Ch120241225112937.png  \n",
            "  inflating: /content/dataset/images/train/3307eddb-Ch120241227151407.png  \n",
            "  inflating: /content/dataset/images/train/33212f89-Ch120250116142648.jpg  \n",
            "  inflating: /content/dataset/images/train/333c67f8-Ch120250202103759.jpg  \n",
            "  inflating: /content/dataset/images/train/334536c2-Ch120250111161735.png  \n",
            "  inflating: /content/dataset/images/train/33b5d2af-Ch120250202102833.jpg  \n",
            "  inflating: /content/dataset/images/train/33bed532-Ch120241225104228.png  \n",
            "  inflating: /content/dataset/images/train/33e26543-Ch120250116143524.jpg  \n",
            "  inflating: /content/dataset/images/train/33fbe69f-Ch120250111161217.png  \n",
            "  inflating: /content/dataset/images/train/34406db0-Ch120241225114317.png  \n",
            "  inflating: /content/dataset/images/train/3483291a-Ch120250130094404.jpg  \n",
            "  inflating: /content/dataset/images/train/34919e65-Ch120240927165212.png  \n",
            "  inflating: /content/dataset/images/train/349adbd4-Ch120241203102926.png  \n",
            "  inflating: /content/dataset/images/train/35030c17-Ch120250206103426.jpg  \n",
            "  inflating: /content/dataset/images/train/352cd499-Ch120250115113146.png  \n",
            "  inflating: /content/dataset/images/train/352d5e8c-Ch120241021100705.png  \n",
            "  inflating: /content/dataset/images/train/35606680-Ch120250202095958.jpg  \n",
            "  inflating: /content/dataset/images/train/359ae6de-Ch120241021160557.png  \n",
            "  inflating: /content/dataset/images/train/35b04a2f-Ch120241226102922.png  \n",
            "  inflating: /content/dataset/images/train/35c47080-Ch120250115113108.png  \n",
            "  inflating: /content/dataset/images/train/3638a8cf-Ch120241227151439.png  \n",
            "  inflating: /content/dataset/images/train/363cf1b5-Ch120250202103618.jpg  \n",
            "  inflating: /content/dataset/images/train/36ad5948-Ch120241225113040.png  \n",
            "  inflating: /content/dataset/images/train/36d4afef-Ch120241225104237.png  \n",
            "  inflating: /content/dataset/images/train/36dedcb6-Ch120250115113658.png  \n",
            "  inflating: /content/dataset/images/train/36f04f60-Ch120250228101524.jpg  \n",
            "  inflating: /content/dataset/images/train/3707b76a-Ch120250128094300.jpg  \n",
            "  inflating: /content/dataset/images/train/3726c4fe-Ch120241226102745.png  \n",
            "  inflating: /content/dataset/images/train/3726d120-Ch120241227145419.png  \n",
            "  inflating: /content/dataset/images/train/373f47c2-Ch120241225114259.png  \n",
            "  inflating: /content/dataset/images/train/3770d882-Ch120240927115844.png  \n",
            "  inflating: /content/dataset/images/train/37945402-Ch120241226150640.png  \n",
            "  inflating: /content/dataset/images/train/37afa174-Ch120241225114527.png  \n",
            "  inflating: /content/dataset/images/train/37b4683f-Ch120250125120656.jpg  \n",
            "  inflating: /content/dataset/images/train/381de75e-Ch120250130094552.jpg  \n",
            "  inflating: /content/dataset/images/train/388aee82-Ch120241227145451.png  \n",
            "  inflating: /content/dataset/images/train/389898c2-Ch120240927120042.png  \n",
            "  inflating: /content/dataset/images/train/38a0c78a-Ch120241227151117.png  \n",
            "  inflating: /content/dataset/images/train/38abbd56-Ch120241226150820.png  \n",
            "  inflating: /content/dataset/images/train/38acc63e-Ch120240927165330.png  \n",
            "  inflating: /content/dataset/images/train/38ce4dd6-Ch120250309113521738.jpg  \n",
            "  inflating: /content/dataset/images/train/390381a0-Ch120241227151415.png  \n",
            "  inflating: /content/dataset/images/train/391fd6c5-Ch120250115104958.png  \n",
            "  inflating: /content/dataset/images/train/394b4412-Ch120241227151426.png  \n",
            "  inflating: /content/dataset/images/train/3976b116-Ch120241226145914.png  \n",
            "  inflating: /content/dataset/images/train/3991e3ba-Ch120250112104226.png  \n",
            "  inflating: /content/dataset/images/train/39c9fc7a-Ch120240927115918.png  \n",
            "  inflating: /content/dataset/images/train/39ce95a7-Ch120240927165211.png  \n",
            "  inflating: /content/dataset/images/train/39d16cde-Ch120241225112922.png  \n",
            "  inflating: /content/dataset/images/train/39da63cd-Ch120250121155920.jpg  \n",
            "  inflating: /content/dataset/images/train/39da660b-Ch120250118103922_learning_learning.jpg  \n",
            "  inflating: /content/dataset/images/train/39dd2682-Ch120241121101111.png  \n",
            "  inflating: /content/dataset/images/train/3a063e40-Ch120241225112921.png  \n",
            "  inflating: /content/dataset/images/train/3a0774ec-Ch120250111161607.png  \n",
            "  inflating: /content/dataset/images/train/3a1049a7-Ch120241021100727.png  \n",
            "  inflating: /content/dataset/images/train/3a56dcbb-Ch120241203103054.png  \n",
            "  inflating: /content/dataset/images/train/3a8e7511-Ch120250118103337_learning.jpg  \n",
            "  inflating: /content/dataset/images/train/3a9d5331-Ch120250111161231.png  \n",
            "  inflating: /content/dataset/images/train/3ac751eb-Ch120250129100101.jpg  \n",
            "  inflating: /content/dataset/images/train/3acbf099-Ch120240927115907.png  \n",
            "  inflating: /content/dataset/images/train/3ad4371d-Ch120250116143710.jpg  \n",
            "  inflating: /content/dataset/images/train/3af26ba5-Ch120241226103033.png  \n",
            "  inflating: /content/dataset/images/train/3b063285-Ch120250120115038_learning.jpg  \n",
            "  inflating: /content/dataset/images/train/3b25b5d4-Ch120250128094132.jpg  \n",
            "  inflating: /content/dataset/images/train/3b3ad99b-Ch120250118103223_learning.jpg  \n",
            "  inflating: /content/dataset/images/train/3b3eed9a-Ch120250116143603.jpg  \n",
            "  inflating: /content/dataset/images/train/3b578eb0-Ch120250116143722.jpg  \n",
            "  inflating: /content/dataset/images/train/3b724700-Ch120250128094156.jpg  \n",
            "  inflating: /content/dataset/images/train/3b89fb38-Ch120241225104235.png  \n",
            "  inflating: /content/dataset/images/train/3ba00928-Ch120241225113406.png  \n",
            "  inflating: /content/dataset/images/train/3ba923e6-Ch120250121161008.jpg  \n",
            "  inflating: /content/dataset/images/train/3bcdc5ee-Ch120250120105815_learning.jpg  \n",
            "  inflating: /content/dataset/images/train/3c05fc0b-Ch120241203103354.png  \n",
            "  inflating: /content/dataset/images/train/3c10a3c8-Ch120240927115724.png  \n",
            "  inflating: /content/dataset/images/train/3c19a504-Ch120241225113305.png  \n",
            "  inflating: /content/dataset/images/train/3c43837e-Ch120241121101647.png  \n",
            "  inflating: /content/dataset/images/train/3c44fdb1-Ch120240927165350.png  \n",
            "  inflating: /content/dataset/images/train/3c593d7f-Ch120250118095200_learning.jpg  \n",
            "  inflating: /content/dataset/images/train/3c951d59-Ch120241021182612.png  \n",
            "  inflating: /content/dataset/images/train/3c992986-Ch120250118095929_learning.jpg  \n",
            "  inflating: /content/dataset/images/train/3cbad04b-Ch120250202102734.jpg  \n",
            "  inflating: /content/dataset/images/train/3ccccc3d-Ch120241225114543.png  \n",
            "  inflating: /content/dataset/images/train/3cf07209-Ch120250309162728124.jpg  \n",
            "  inflating: /content/dataset/images/train/3d04839b-Ch120250202102556.jpg  \n",
            "  inflating: /content/dataset/images/train/3d098426-Ch120250206105546.jpg  \n",
            "  inflating: /content/dataset/images/train/3d13f523-Ch120241225113433.png  \n",
            "  inflating: /content/dataset/images/train/3d1483c3-Ch120240927115510.png  \n",
            "  inflating: /content/dataset/images/train/3d314f4c-Ch120241225114530.png  \n",
            "  inflating: /content/dataset/images/train/3d4b1abd-Ch120241226150309.png  \n",
            "  inflating: /content/dataset/images/train/3d4fc959-Ch120250115113344.png  \n",
            "  inflating: /content/dataset/images/train/3d8ddb2d-Ch120241226151110.png  \n",
            "  inflating: /content/dataset/images/train/3d954d7d-Ch120241203103336.png  \n",
            "  inflating: /content/dataset/images/train/3d957fd0-Ch120250128094147.jpg  \n",
            "  inflating: /content/dataset/images/train/3dd22254-Ch120250131100019.jpg  \n",
            "  inflating: /content/dataset/images/train/3de08dd4-Ch120250116143152.jpg  \n",
            "  inflating: /content/dataset/images/train/3df4d2f6-Ch120250131100030.jpg  \n",
            "  inflating: /content/dataset/images/train/3e021d9d-Ch120250111161124.png  \n",
            "  inflating: /content/dataset/images/train/3e05f0ce-Ch120250202103137.jpg  \n",
            "  inflating: /content/dataset/images/train/3e153533-Ch120250206105404.jpg  \n",
            "  inflating: /content/dataset/images/train/3e3488e0-Ch120250115113413.png  \n",
            "  inflating: /content/dataset/images/train/3e34969f-Ch120250118095256_learning.jpg  \n",
            "  inflating: /content/dataset/images/train/3e5afda2-Ch120250302101321.jpg  \n",
            "  inflating: /content/dataset/images/train/3e92efe4-Ch120250120105238_learning.jpg  \n",
            "  inflating: /content/dataset/images/train/3ef84ec7-Ch120250130094114.jpg  \n",
            "  inflating: /content/dataset/images/train/3ef8da68-Ch120250115104704.png  \n",
            "  inflating: /content/dataset/images/train/3efa54c2-Ch120250116142854.jpg  \n",
            "  inflating: /content/dataset/images/train/3efb031f-Ch120241226150617.png  \n",
            "  inflating: /content/dataset/images/train/3f254dec-Ch120250131100046.jpg  \n",
            "  inflating: /content/dataset/images/train/3f874924-Ch120241226150243.png  \n",
            "  inflating: /content/dataset/images/train/3f94fc74-Ch120241203102945.png  \n",
            "  inflating: /content/dataset/images/train/3fa21037-Ch120250118095936_learning.jpg  \n",
            "  inflating: /content/dataset/images/train/3faa454f-Ch120250119143453_learning_learning.jpg  \n",
            "  inflating: /content/dataset/images/train/3fd98221-Ch120241203103152.png  \n",
            "  inflating: /content/dataset/images/train/3fe10a90-Ch120250120104113_learning.jpg  \n",
            "  inflating: /content/dataset/images/train/4002b70e-Ch120250115113313.png  \n",
            "  inflating: /content/dataset/images/train/40110263-Ch120250111161936.png  \n",
            "  inflating: /content/dataset/images/train/402aeae6-Ch120241226150021.png  \n",
            "  inflating: /content/dataset/images/train/4044857e-Ch120250202103208.jpg  \n",
            "  inflating: /content/dataset/images/train/40aa7f52-Ch120241226150022.png  \n",
            "  inflating: /content/dataset/images/train/40b1c702-Ch120250115105330.png  \n",
            "  inflating: /content/dataset/images/train/40b941bd-Ch120250111161227.png  \n",
            "  inflating: /content/dataset/images/train/40c85260-Ch120250302102225.jpg  \n",
            "  inflating: /content/dataset/images/train/40c8d2e4-Ch120241227145434.png  \n",
            "  inflating: /content/dataset/images/train/40cd723a-Ch120241225113015.png  \n",
            "  inflating: /content/dataset/images/train/40ecc5a4-Ch120241225104227.png  \n",
            "  inflating: /content/dataset/images/train/40f84b78-Ch120250115104802.png  \n",
            "  inflating: /content/dataset/images/train/40fb7707-Ch120241225112829.png  \n",
            "  inflating: /content/dataset/images/train/4118f7ab-Ch120241226102858.png  \n",
            "  inflating: /content/dataset/images/train/411e697f-Ch120250120145126_learning.jpg  \n",
            "  inflating: /content/dataset/images/train/419568e8-Ch120241227151344.png  \n",
            "  inflating: /content/dataset/images/train/41b54d49-Ch120250115105420.png  \n",
            "  inflating: /content/dataset/images/train/423215d7-Ch120250115113115.png  \n",
            "  inflating: /content/dataset/images/train/423545cd-Ch120250202103349.jpg  \n",
            "  inflating: /content/dataset/images/train/4239145e-Ch120250202103742.jpg  \n",
            "  inflating: /content/dataset/images/train/42e1de85-Ch120241226102810.png  \n",
            "  inflating: /content/dataset/images/train/430b1f27-Ch120250119143509_learning_learning.jpg  \n",
            "  inflating: /content/dataset/images/train/43664e56-Ch120250202102948.jpg  \n",
            "  inflating: /content/dataset/images/train/4377ef17-Ch120250302102311.jpg  \n",
            "  inflating: /content/dataset/images/train/43863b57-Ch120250120143059_learning.jpg  \n",
            "  inflating: /content/dataset/images/train/4394f590-Ch120250202102706.jpg  \n",
            "  inflating: /content/dataset/images/train/43c3d5d7-Ch120250118104300_learning_learning.jpg  \n",
            "  inflating: /content/dataset/images/train/43ddb0cd-Ch120250110112012.png  \n",
            "  inflating: /content/dataset/images/train/43ecaafe-Ch120241226103026.png  \n",
            "  inflating: /content/dataset/images/train/4410c03c-Ch120250111105809.png  \n",
            "  inflating: /content/dataset/images/train/441b7330-Ch120241227151419.png  \n",
            "  inflating: /content/dataset/images/train/441fb9ca-Ch120250203095307.jpg  \n",
            "  inflating: /content/dataset/images/train/44262e1a-Ch120250111161613.png  \n",
            "  inflating: /content/dataset/images/train/4452ff3c-Ch120250111161845.png  \n",
            "  inflating: /content/dataset/images/train/445c3dc0-Ch120241226151128.png  \n",
            "  inflating: /content/dataset/images/train/446b0f25-Ch120250111160910.png  \n",
            "  inflating: /content/dataset/images/train/447600c6-Ch120250217104238.jpg  \n",
            "  inflating: /content/dataset/images/train/448fadd6-Ch120250302110416.jpg  \n",
            "  inflating: /content/dataset/images/train/44e92271-Ch120250129095804.jpg  \n",
            "  inflating: /content/dataset/images/train/4516795b-Ch120250202103542.jpg  \n",
            "  inflating: /content/dataset/images/train/45565b19-Ch120250120145054_learning.jpg  \n",
            "  inflating: /content/dataset/images/train/455c7d39-Ch120241226103039.png  \n",
            "  inflating: /content/dataset/images/train/45f219e9-Ch120250111160911.png  \n",
            "  inflating: /content/dataset/images/train/46312233-Ch120241021100713.png  \n",
            "  inflating: /content/dataset/images/train/4646c80c-Ch120241121101331.png  \n",
            "  inflating: /content/dataset/images/train/464abacb-Ch120250119143240_learning_learning.jpg  \n",
            "  inflating: /content/dataset/images/train/46a77b3c-Ch120250203095523.jpg  \n",
            "  inflating: /content/dataset/images/train/46b754f7-Ch120241225114524.png  \n",
            "  inflating: /content/dataset/images/train/46e44d20-Ch120241225104302.png  \n",
            "  inflating: /content/dataset/images/train/47206970-Ch120241021101034.png  \n",
            "  inflating: /content/dataset/images/train/472cce3c-Ch120250111161408.png  \n",
            "  inflating: /content/dataset/images/train/474eada2-Ch120250121102639.jpg  \n",
            "  inflating: /content/dataset/images/train/475c063d-Ch120241226103156.png  \n",
            "  inflating: /content/dataset/images/train/47ab4836-Ch120250116143756.jpg  \n",
            "  inflating: /content/dataset/images/train/47df7b13-Ch120241227145440.png  \n",
            "  inflating: /content/dataset/images/train/47f9be19-Ch120250111161550.png  \n",
            "  inflating: /content/dataset/images/train/4823eb4f-Ch120241225113412.png  \n",
            "  inflating: /content/dataset/images/train/485bb32b-Ch120250129100022.jpg  \n",
            "  inflating: /content/dataset/images/train/48719353-Ch120250111161745.png  \n",
            "  inflating: /content/dataset/images/train/48916faf-Ch120241226150754.png  \n",
            "  inflating: /content/dataset/images/train/48c7c5cf-Ch120241021160648.png  \n",
            "  inflating: /content/dataset/images/train/48f2aa0c-Ch120250111110124.png  \n",
            "  inflating: /content/dataset/images/train/490aa8c9-Ch120240927115511.png  \n",
            "  inflating: /content/dataset/images/train/491b0bb0-Ch120250120144401_learning.jpg  \n",
            "  inflating: /content/dataset/images/train/4929f895-Ch120241121101500.png  \n",
            "  inflating: /content/dataset/images/train/495d82b0-Ch120250202103126.jpg  \n",
            "  inflating: /content/dataset/images/train/496e6e5a-Ch120250126102323.jpg  \n",
            "  inflating: /content/dataset/images/train/498dce70-Ch120241121101236.png  \n",
            "  inflating: /content/dataset/images/train/49e41e24-Ch120241021100750.png  \n",
            "  inflating: /content/dataset/images/train/4a658a39-Ch120241226103047.png  \n",
            "  inflating: /content/dataset/images/train/4a9cb7b6-Ch120250202102745.jpg  \n",
            "  inflating: /content/dataset/images/train/4a9d7fb1-Ch120250111161152.png  \n",
            "  inflating: /content/dataset/images/train/4aca2821-Ch120250302105833.jpg  \n",
            "  inflating: /content/dataset/images/train/4adb481b-Ch120240927165318.png  \n",
            "  inflating: /content/dataset/images/train/4ae81032-Ch120250206103004.jpg  \n",
            "  inflating: /content/dataset/images/train/4af05678-Ch120250128094306.jpg  \n",
            "  inflating: /content/dataset/images/train/4b492c71-Ch120241226150405.png  \n",
            "  inflating: /content/dataset/images/train/4b69cb41-Ch120241226102911.png  \n",
            "  inflating: /content/dataset/images/train/4b7d7d4f-Ch120250217100218.jpg  \n",
            "  inflating: /content/dataset/images/train/4ba49d94-Ch120250129095718.jpg  \n",
            "  inflating: /content/dataset/images/train/4c1c8ef3-Ch120250129095734.jpg  \n",
            "  inflating: /content/dataset/images/train/4c219bfd-Ch120240927115829.png  \n",
            "  inflating: /content/dataset/images/train/4c2d2e6f-Ch120250202105551.jpg  \n",
            "  inflating: /content/dataset/images/train/4c6ee462-Ch120250116143625.jpg  \n",
            "  inflating: /content/dataset/images/train/4c962ec8-Ch120250202102818.jpg  \n",
            "  inflating: /content/dataset/images/train/4c9e092a-Ch120250115105316.png  \n",
            "  inflating: /content/dataset/images/train/4d052151-Ch120250228100710.jpg  \n",
            "  inflating: /content/dataset/images/train/4d2a601d-Ch120241021160640.png  \n",
            "  inflating: /content/dataset/images/train/4d86d776-Ch120241225104313.png  \n",
            "  inflating: /content/dataset/images/train/4d932dae-Ch120250129095652.jpg  \n",
            "  inflating: /content/dataset/images/train/4da2e3e2-Ch120241226102807.png  \n",
            "  inflating: /content/dataset/images/train/4db0a439-Ch120241203103438.png  \n",
            "  inflating: /content/dataset/images/train/4dd17e02-Ch120241226150106.png  \n",
            "  inflating: /content/dataset/images/train/4e011956-Ch120240927115750.png  \n",
            "  inflating: /content/dataset/images/train/4e0b8edc-Ch120241225112942.png  \n",
            "  inflating: /content/dataset/images/train/4e17ec07-Ch120241225112928.png  \n",
            "  inflating: /content/dataset/images/train/4e1d65d5-Ch120250121102836.jpg  \n",
            "  inflating: /content/dataset/images/train/4e4dacea-Ch120240927115738.png  \n",
            "  inflating: /content/dataset/images/train/4e6a12b3-Ch120250111161359.png  \n",
            "  inflating: /content/dataset/images/train/4e855392-Ch120250129100205.jpg  \n",
            "  inflating: /content/dataset/images/train/4e96d6f9-Ch120241223131012.png  \n",
            "  inflating: /content/dataset/images/train/4ebdcb94-Ch120241021100506.png  \n",
            "  inflating: /content/dataset/images/train/4ef8ba6d-Ch120241227151255.png  \n",
            "  inflating: /content/dataset/images/train/4f3855d6-Ch120241021160613.png  \n",
            "  inflating: /content/dataset/images/train/4f3e0ef9-Ch120250120104642_learning.jpg  \n",
            "  inflating: /content/dataset/images/train/4f4f16b8-Ch120250203095429.jpg  \n",
            "  inflating: /content/dataset/images/train/4f7b51ea-Ch120241225113121.png  \n",
            "  inflating: /content/dataset/images/train/4fd6d1c9-Ch120240927165500.png  \n",
            "  inflating: /content/dataset/images/train/50652b8c-Ch120241203103425.png  \n",
            "  inflating: /content/dataset/images/train/507f6991-Ch120241021100632.png  \n",
            "  inflating: /content/dataset/images/train/50b68fb5-Ch120250116142907.jpg  \n",
            "  inflating: /content/dataset/images/train/50e23fa4-Ch120241226150543.png  \n",
            "  inflating: /content/dataset/images/train/50e3f9bc-Ch120241225113041.png  \n",
            "  inflating: /content/dataset/images/train/50e3fd21-Ch120250118095119_learning.jpg  \n",
            "  inflating: /content/dataset/images/train/50fb19a9-Ch120250206105535.jpg  \n",
            "  inflating: /content/dataset/images/train/5173621d-Ch120241225113416.png  \n",
            "  inflating: /content/dataset/images/train/51d2c079-Ch120241225113009.png  \n",
            "  inflating: /content/dataset/images/train/51fcaf29-Ch120250228100624.jpg  \n",
            "  inflating: /content/dataset/images/train/521281a7-Ch120241021100437.png  \n",
            "  inflating: /content/dataset/images/train/5243e3fb-Ch120250202103515.jpg  \n",
            "  inflating: /content/dataset/images/train/52538148-Ch120241225113535.png  \n",
            "  inflating: /content/dataset/images/train/52890772-Ch120250111161226.png  \n",
            "  inflating: /content/dataset/images/train/5295092e-Ch120250125121726.jpg  \n",
            "  inflating: /content/dataset/images/train/529d6633-Ch120240927165156.png  \n",
            "  inflating: /content/dataset/images/train/52f02e95-Ch120241226150115.png  \n",
            "  inflating: /content/dataset/images/train/5311b109-Ch120250118104243_learning_learning.jpg  \n",
            "  inflating: /content/dataset/images/train/5330d058-Ch120250111161514.png  \n",
            "  inflating: /content/dataset/images/train/535f9cfc-Ch120241203103017.png  \n",
            "  inflating: /content/dataset/images/train/5392ba8f-Ch120240927115911.png  \n",
            "  inflating: /content/dataset/images/train/539e569c-Ch120250129095713.jpg  \n",
            "  inflating: /content/dataset/images/train/53bc233e-Ch120241021100444.png  \n",
            "  inflating: /content/dataset/images/train/53c68a99-Ch120250302104520.jpg  \n",
            "  inflating: /content/dataset/images/train/53d2b978-Ch120250206103332.jpg  \n",
            "  inflating: /content/dataset/images/train/53d66467-Ch120241226150045.png  \n",
            "  inflating: /content/dataset/images/train/5402cd55-Ch120241121101057.png  \n",
            "  inflating: /content/dataset/images/train/5437b413-Ch120241227151301.png  \n",
            "  inflating: /content/dataset/images/train/544c009c-Ch120241223131033.png  \n",
            "  inflating: /content/dataset/images/train/545864af-Ch120250206105617.jpg  \n",
            "  inflating: /content/dataset/images/train/54680656-Ch120240927165508.png  \n",
            "  inflating: /content/dataset/images/train/548f0b61-Ch120250206105440.jpg  \n",
            "  inflating: /content/dataset/images/train/54bee879-Ch120250125120830.jpg  \n",
            "  inflating: /content/dataset/images/train/54ccbd72-Ch120241021101018.png  \n",
            "  inflating: /content/dataset/images/train/54e1a969-Ch120241225104358.png  \n",
            "  inflating: /content/dataset/images/train/54f863bf-Ch120250203095319.jpg  \n",
            "  inflating: /content/dataset/images/train/553f4c2c-Ch120250217104321.jpg  \n",
            "  inflating: /content/dataset/images/train/55b744ad-Ch120241226150048.png  \n",
            "  inflating: /content/dataset/images/train/55cf5572-Ch120250121160704.jpg  \n",
            "  inflating: /content/dataset/images/train/55d1267a-Ch120241203103123.png  \n",
            "  inflating: /content/dataset/images/train/55db645f-Ch120250115113442.png  \n",
            "  inflating: /content/dataset/images/train/55e3e67b-Ch120241021100610.png  \n",
            "  inflating: /content/dataset/images/train/55f15567-Ch120240927115810.png  \n",
            "  inflating: /content/dataset/images/train/55ffb4e9-Ch120241203102917.png  \n",
            "  inflating: /content/dataset/images/train/5603a2c8-Ch120241021160703.png  \n",
            "  inflating: /content/dataset/images/train/5632370d-Ch120240927165746.png  \n",
            "  inflating: /content/dataset/images/train/568e263f-Ch120250116142709.jpg  \n",
            "  inflating: /content/dataset/images/train/56a36c42-Ch120241225114343.png  \n",
            "  inflating: /content/dataset/images/train/56bab29c-Ch120241021160705.png  \n",
            "  inflating: /content/dataset/images/train/571c19de-Ch120250116143631.jpg  \n",
            "  inflating: /content/dataset/images/train/576b6614-Ch120240927165751.png  \n",
            "  inflating: /content/dataset/images/train/579d49bc-Ch120241203103136.png  \n",
            "  inflating: /content/dataset/images/train/57eb2132-Ch120241225113034.png  \n",
            "  inflating: /content/dataset/images/train/57eb2df0-Ch120240927165733.png  \n",
            "  inflating: /content/dataset/images/train/5824df04-Ch120241203103409.png  \n",
            "  inflating: /content/dataset/images/train/584cb173-Ch120241227151224.png  \n",
            "  inflating: /content/dataset/images/train/584d7a92-Ch120250111161510.png  \n",
            "  inflating: /content/dataset/images/train/587df586-Ch120250302103632.jpg  \n",
            "  inflating: /content/dataset/images/train/59037f54-Ch120250118095723_learning.jpg  \n",
            "  inflating: /content/dataset/images/train/59095fd6-Ch120250113104821.png  \n",
            "  inflating: /content/dataset/images/train/590af5de-Ch120250120115206_learning.jpg  \n",
            "  inflating: /content/dataset/images/train/594caae7-Ch120250125121618.jpg  \n",
            "  inflating: /content/dataset/images/train/594e3f05-Ch120250129095851.jpg  \n",
            "  inflating: /content/dataset/images/train/5968a15d-Ch120241225112931.png  \n",
            "  inflating: /content/dataset/images/train/597bcb7a-Ch120241021182327.png  \n",
            "  inflating: /content/dataset/images/train/599fedcc-Ch120241226150142.png  \n",
            "  inflating: /content/dataset/images/train/59a4da2a-Ch120241021160601.png  \n",
            "  inflating: /content/dataset/images/train/59da9082-Ch120241225104359.png  \n",
            "  inflating: /content/dataset/images/train/5a5c75c8-Ch120241227151348.png  \n",
            "  inflating: /content/dataset/images/train/5a85e7c2-Ch120241226150457.png  \n",
            "  inflating: /content/dataset/images/train/5a869055-Ch120250111161118.png  \n",
            "  inflating: /content/dataset/images/train/5a92b395-Ch120250129095822.jpg  \n",
            "  inflating: /content/dataset/images/train/5aa576c5-Ch120250302102401.jpg  \n",
            "  inflating: /content/dataset/images/train/5ab4612a-Ch120250120114438_learning.jpg  \n",
            "  inflating: /content/dataset/images/train/5aea613a-Ch120241021160619.png  \n",
            "  inflating: /content/dataset/images/train/5afe86f1-Ch120241021160709.png  \n",
            "  inflating: /content/dataset/images/train/5b007119-Ch120241225114311.png  \n",
            "  inflating: /content/dataset/images/train/5b1f83f0-Ch120250120111156_learning.jpg  \n",
            "  inflating: /content/dataset/images/train/5b720719-Ch120250111161600.png  \n",
            "  inflating: /content/dataset/images/train/5bb06743-Ch120250112105307.png  \n",
            "  inflating: /content/dataset/images/train/5bb11db2-Ch120241121101423.png  \n",
            "  inflating: /content/dataset/images/train/5bb18b99-Ch120250115145613.png  \n",
            "  inflating: /content/dataset/images/train/5bdf0fab-Ch120250202103101.jpg  \n",
            "  inflating: /content/dataset/images/train/5bf2c746-Ch120250115145048.png  \n",
            "  inflating: /content/dataset/images/train/5c0299c6-Ch120250129095833.jpg  \n",
            "  inflating: /content/dataset/images/train/5c6b9604-Ch120250111161621.png  \n",
            "  inflating: /content/dataset/images/train/5c7c088e-Ch120241226102703.png  \n",
            "  inflating: /content/dataset/images/train/5c931833-Ch120241226102943.png  \n",
            "  inflating: /content/dataset/images/train/5c9da261-Ch120241225113127.png  \n",
            "  inflating: /content/dataset/images/train/5cd95397-Ch120250111161306.png  \n",
            "  inflating: /content/dataset/images/train/5d1d6aa3-Ch120250120142524_learning.jpg  \n",
            "  inflating: /content/dataset/images/train/5d26c9d9-Ch120241226102801.png  \n",
            "  inflating: /content/dataset/images/train/5d590e43-Ch120241225104408.png  \n",
            "  inflating: /content/dataset/images/train/5de03cbc-Ch120250128094225.jpg  \n",
            "  inflating: /content/dataset/images/train/5e06c5ea-Ch120241021101033.png  \n",
            "  inflating: /content/dataset/images/train/5e49f085-Ch120241225113051.png  \n",
            "  inflating: /content/dataset/images/train/5e5b2ebe-Ch120241021100511.png  \n",
            "  inflating: /content/dataset/images/train/5ea3ecec-Ch120241227151225.png  \n",
            "  inflating: /content/dataset/images/train/5ebe2320-Ch120240927165310.png  \n",
            "  inflating: /content/dataset/images/train/5edcbac1-Ch120250202103437.jpg  \n",
            "  inflating: /content/dataset/images/train/5f0fbaeb-Ch120241021182347.png  \n",
            "  inflating: /content/dataset/images/train/5f1b4f71-Ch120241226102804.png  \n",
            "  inflating: /content/dataset/images/train/5f500d76-Ch120241021100706.png  \n",
            "  inflating: /content/dataset/images/train/5fae74ff-Ch120240927165514.png  \n",
            "  inflating: /content/dataset/images/train/5fb62f10-Ch120241225114451.png  \n",
            "  inflating: /content/dataset/images/train/5fee8852-Ch120241021100732.png  \n",
            "  inflating: /content/dataset/images/train/600a724d-Ch120250130094359.jpg  \n",
            "  inflating: /content/dataset/images/train/60358fc2-Ch120250130094110.jpg  \n",
            "  inflating: /content/dataset/images/train/6036455e-Ch120250112105221.png  \n",
            "  inflating: /content/dataset/images/train/606db8dd-Ch120250202102438.jpg  \n",
            "  inflating: /content/dataset/images/train/6097a04f-Ch120241227145457.png  \n",
            "  inflating: /content/dataset/images/train/60e88f15-Ch120250311104052332.jpg  \n",
            "  inflating: /content/dataset/images/train/60eda32c-Ch120241121101347.png  \n",
            "  inflating: /content/dataset/images/train/60f5fa3d-Ch120250111161140.png  \n",
            "  inflating: /content/dataset/images/train/6128b376-Ch120241121101014.png  \n",
            "  inflating: /content/dataset/images/train/612db55b-Ch120250118095451_learning.jpg  \n",
            "  inflating: /content/dataset/images/train/6131c298-Ch120241225113049.png  \n",
            "  inflating: /content/dataset/images/train/61e77c61-Ch120241225112855.png  \n",
            "  inflating: /content/dataset/images/train/61f04f7b-Ch120241021160623.png  \n",
            "  inflating: /content/dataset/images/train/620ff8c2-Ch120241226151007.png  \n",
            "  inflating: /content/dataset/images/train/62129a91-Ch120250111161733.png  \n",
            "  inflating: /content/dataset/images/train/622d50b0-Ch120241203103112.png  \n",
            "  inflating: /content/dataset/images/train/628b5384-Ch120241021182620.png  \n",
            "  inflating: /content/dataset/images/train/62962533-Ch120250116143441.jpg  \n",
            "  inflating: /content/dataset/images/train/62c25878-Ch120240927120012.png  \n",
            "  inflating: /content/dataset/images/train/62cf16c8-Ch120241226150228.png  \n",
            "  inflating: /content/dataset/images/train/62eb5b72-Ch120241225113415.png  \n",
            "  inflating: /content/dataset/images/train/630c69a1-Ch120250126111915.jpg  \n",
            "  inflating: /content/dataset/images/train/63211105-Ch120241225112926.png  \n",
            "  inflating: /content/dataset/images/train/632165f6-Ch120240927120011.png  \n",
            "  inflating: /content/dataset/images/train/636d78ca-Ch120241227145439.png  \n",
            "  inflating: /content/dataset/images/train/63e76fb8-Ch120250115112856.png  \n",
            "  inflating: /content/dataset/images/train/63f1d3f1-Ch120240927115943.png  \n",
            "  inflating: /content/dataset/images/train/6406dac4-Ch120241121101044.png  \n",
            "  inflating: /content/dataset/images/train/64132063-Ch120241226150456.png  \n",
            "  inflating: /content/dataset/images/train/642115b5-Ch120241225114250.png  \n",
            "  inflating: /content/dataset/images/train/643c141f-Ch120250116143416.jpg  \n",
            "  inflating: /content/dataset/images/train/6441abaa-Ch120241021160639.png  \n",
            "  inflating: /content/dataset/images/train/6442c369-Ch120250125120705.jpg  \n",
            "  inflating: /content/dataset/images/train/6458eeb0-Ch120250202103154.jpg  \n",
            "  inflating: /content/dataset/images/train/646cef5c-Ch120250120104532_learning.jpg  \n",
            "  inflating: /content/dataset/images/train/6495f23d-Ch120241225114249.png  \n",
            "  inflating: /content/dataset/images/train/64b47ceb-Ch120241225113120.png  \n",
            "  inflating: /content/dataset/images/train/64d18d0d-Ch120250115145637.png  \n",
            "  inflating: /content/dataset/images/train/64eb3e05-Ch120250129095941.jpg  \n",
            "  inflating: /content/dataset/images/train/64f118a9-Ch120250206103328.jpg  \n",
            "  inflating: /content/dataset/images/train/6534ec3e-Ch120241021100549.png  \n",
            "  inflating: /content/dataset/images/train/6560bc47-Ch120250128094103.jpg  \n",
            "  inflating: /content/dataset/images/train/6568fa07-Ch120250202103319.jpg  \n",
            "  inflating: /content/dataset/images/train/656c232f-Ch120250129095644.jpg  \n",
            "  inflating: /content/dataset/images/train/659d3163-Ch120241225104249.png  \n",
            "  inflating: /content/dataset/images/train/65bd50fe-Ch120250206103258.jpg  \n",
            "  inflating: /content/dataset/images/train/65e6e9d1-Ch120250111161232.png  \n",
            "  inflating: /content/dataset/images/train/65f450e0-Ch120250119143624_learning_learning.jpg  \n",
            "  inflating: /content/dataset/images/train/65fe697f-Ch120241203103053.png  \n",
            "  inflating: /content/dataset/images/train/65fe85fd-Ch120250110112432.png  \n",
            "  inflating: /content/dataset/images/train/66160a1b-Ch120250129095816.jpg  \n",
            "  inflating: /content/dataset/images/train/663fa945-Ch120250115113034.png  \n",
            "  inflating: /content/dataset/images/train/6651249a-Ch120241226102658.png  \n",
            "  inflating: /content/dataset/images/train/6659ece1-Ch120250128094151.jpg  \n",
            "  inflating: /content/dataset/images/train/66843f77-Ch120241226103149.png  \n",
            "  inflating: /content/dataset/images/train/668f4004-Ch120250116143642.jpg  \n",
            "  inflating: /content/dataset/images/train/66b0f987-Ch120240927115459.png  \n",
            "  inflating: /content/dataset/images/train/670a9aac-Ch120250116143814.jpg  \n",
            "  inflating: /content/dataset/images/train/67143c6a-Ch120250126103128.jpg  \n",
            "  inflating: /content/dataset/images/train/674b79e7-Ch120250228100643.jpg  \n",
            "  inflating: /content/dataset/images/train/674bf1d2-Ch120250129100220.jpg  \n",
            "  inflating: /content/dataset/images/train/6755cc40-Ch120250128094009.jpg  \n",
            "  inflating: /content/dataset/images/train/6790ed5e-Ch120250116143750.jpg  \n",
            "  inflating: /content/dataset/images/train/679ddd6d-Ch120250116143646.jpg  \n",
            "  inflating: /content/dataset/images/train/67b5e693-Ch120241225114356.png  \n",
            "  inflating: /content/dataset/images/train/67bd9684-Ch120250120104113_learning.jpg  \n",
            "  inflating: /content/dataset/images/train/67c00a6a-Ch120250111161052.png  \n",
            "  inflating: /content/dataset/images/train/67d9c253-Ch120250130094444.jpg  \n",
            "  inflating: /content/dataset/images/train/67eaeecd-Ch120250203095438.jpg  \n",
            "  inflating: /content/dataset/images/train/67f7e197-Ch120250202102942.jpg  \n",
            "  inflating: /content/dataset/images/train/68195185-Ch120250206105556.jpg  \n",
            "  inflating: /content/dataset/images/train/68a54f62-Ch120241203103252.png  \n",
            "  inflating: /content/dataset/images/train/68b39a5f-Ch120250111160915.png  \n",
            "  inflating: /content/dataset/images/train/69111770-Ch120250311104230999.jpg  \n",
            "  inflating: /content/dataset/images/train/69202ea0-Ch120250202102613.jpg  \n",
            "  inflating: /content/dataset/images/train/6960952b-Ch120250130094303.jpg  \n",
            "  inflating: /content/dataset/images/train/6992e562-Ch120241021160658.png  \n",
            "  inflating: /content/dataset/images/train/69aac61f-Ch120250228105947.jpg  \n",
            "  inflating: /content/dataset/images/train/69b6ffd2-Ch120250119143544_learning_learning.jpg  \n",
            "  inflating: /content/dataset/images/train/69e18bd7-Ch120250206104405.jpg  \n",
            "  inflating: /content/dataset/images/train/69eeb816-Ch120240927115502.png  \n",
            "  inflating: /content/dataset/images/train/6a115b0f-Ch120241226102746.png  \n",
            "  inflating: /content/dataset/images/train/6a2ef6b7-Ch120250116143614.jpg  \n",
            "  inflating: /content/dataset/images/train/6a447d2b-Ch120241021100840.png  \n",
            "  inflating: /content/dataset/images/train/6a557c4e-Ch120250120144942_learning.jpg  \n",
            "  inflating: /content/dataset/images/train/6a61b543-Ch120250203095522.jpg  \n",
            "  inflating: /content/dataset/images/train/6a6e01d3-Ch120241226150842.png  \n",
            "  inflating: /content/dataset/images/train/6aa3aa57-Ch120250115145604.png  \n",
            "  inflating: /content/dataset/images/train/6b056d2d-Ch120250111161645.png  \n",
            "  inflating: /content/dataset/images/train/6b19baf3-Ch120250118105034_learning_learning.jpg  \n",
            "  inflating: /content/dataset/images/train/6b1c7d41-Ch120241226150411.png  \n",
            "  inflating: /content/dataset/images/train/6b29f550-Ch120250206103509.jpg  \n",
            "  inflating: /content/dataset/images/train/6b3ed762-Ch120250120105817_learning.jpg  \n",
            "  inflating: /content/dataset/images/train/6b5f7281-Ch120241225104258.png  \n",
            "  inflating: /content/dataset/images/train/6b614841-Ch120241227151122.png  \n",
            "  inflating: /content/dataset/images/train/6b64524b-Ch120250206103323.jpg  \n",
            "  inflating: /content/dataset/images/train/6b96fe91-Ch120241226145935.png  \n",
            "  inflating: /content/dataset/images/train/6bb00e74-Ch120241121101206.png  \n",
            "  inflating: /content/dataset/images/train/6bb41bdb-Ch120241226145942.png  \n",
            "  inflating: /content/dataset/images/train/6bbf8d8f-Ch120250303095921.jpg  \n",
            "  inflating: /content/dataset/images/train/6c05a5ac-Ch120241226102941.png  \n",
            "  inflating: /content/dataset/images/train/6c0f462f-Ch120250202103526.jpg  \n",
            "  inflating: /content/dataset/images/train/6c273eb3-Ch120250130094542.jpg  \n",
            "  inflating: /content/dataset/images/train/6c3d06b7-Ch120241225114329.png  \n",
            "  inflating: /content/dataset/images/train/6c610509-Ch120250111161522.png  \n",
            "  inflating: /content/dataset/images/train/6c9d105e-Ch120250118103357_learning.jpg  \n",
            "  inflating: /content/dataset/images/train/6ca28ef6-Ch120241227145452.png  \n",
            "  inflating: /content/dataset/images/train/6ce210dc-Ch120241021100809.png  \n",
            "  inflating: /content/dataset/images/train/6ce986db-Ch120241021100731.png  \n",
            "  inflating: /content/dataset/images/train/6cf4665c-Ch120250115145607.png  \n",
            "  inflating: /content/dataset/images/train/6cf5651e-Ch120250115104908.png  \n",
            "  inflating: /content/dataset/images/train/6db8abd0-Ch120250129095753.jpg  \n",
            "  inflating: /content/dataset/images/train/6dbef6f7-Ch120241227151424.png  \n",
            "  inflating: /content/dataset/images/train/6dce3013-Ch120250118095035_learning.jpg  \n",
            "  inflating: /content/dataset/images/train/6ddea610-Ch120250202103356.jpg  \n",
            "  inflating: /content/dataset/images/train/6df63d6f-Ch120250125121201.jpg  \n",
            "  inflating: /content/dataset/images/train/6dfb661d-Ch120241227151108.png  \n",
            "  inflating: /content/dataset/images/train/6e3d13e5-Ch120240927165353.png  \n",
            "  inflating: /content/dataset/images/train/6e4a8f37-Ch120250202102512.jpg  \n",
            "  inflating: /content/dataset/images/train/6e56fb1c-Ch120241225104342.png  \n",
            "  inflating: /content/dataset/images/train/6e5b6edd-Ch120241226150717.png  \n",
            "  inflating: /content/dataset/images/train/6e7c3830-Ch120241226102952.png  \n",
            "  inflating: /content/dataset/images/train/6eaa756f-Ch120240927165450.png  \n",
            "  inflating: /content/dataset/images/train/6ec9256a-Ch120250302113459.jpg  \n",
            "  inflating: /content/dataset/images/train/6ecff10b-Ch120250202102644.jpg  \n",
            "  inflating: /content/dataset/images/train/6f074965-Ch120250129100200.jpg  \n",
            "  inflating: /content/dataset/images/train/6f0904c4-Ch120241121101018.png  \n",
            "  inflating: /content/dataset/images/train/6f59be46-Ch120250118104358_learning_learning.jpg  \n",
            "  inflating: /content/dataset/images/train/6f68430a-Ch120250111161811.png  \n",
            "  inflating: /content/dataset/images/train/6f8a5315-Ch120240927165516.png  \n",
            "  inflating: /content/dataset/images/train/700b4c2a-Ch120250119143740_learning_learning.jpg  \n",
            "  inflating: /content/dataset/images/train/7021d9a2-Ch120250118103139_learning.jpg  \n",
            "  inflating: /content/dataset/images/train/7038a8a0-Ch120241227151445.png  \n",
            "  inflating: /content/dataset/images/train/705116d2-Ch120250202103502.jpg  \n",
            "  inflating: /content/dataset/images/train/7068cd8b-Ch120241225112845.png  \n",
            "  inflating: /content/dataset/images/train/7072fefb-Ch120241121101110.png  \n",
            "  inflating: /content/dataset/images/train/707d7794-Ch120250125120609.jpg  \n",
            "  inflating: /content/dataset/images/train/70c452ab-Ch120241227151401.png  \n",
            "  inflating: /content/dataset/images/train/70edc3d6-Ch120250125121306.jpg  \n",
            "  inflating: /content/dataset/images/train/70f3a79c-Ch120241227151300.png  \n",
            "  inflating: /content/dataset/images/train/71042948-Ch120250206103322.jpg  \n",
            "  inflating: /content/dataset/images/train/714d736c-Ch120241021182337.png  \n",
            "  inflating: /content/dataset/images/train/716f8877-Ch120250111161314.png  \n",
            "  inflating: /content/dataset/images/train/717adc40-Ch120241225104312.png  \n",
            "  inflating: /content/dataset/images/train/718488f6-Ch120250120105737_learning.jpg  \n",
            "  inflating: /content/dataset/images/train/71b4a63a-Ch120250111161507.png  \n",
            "  inflating: /content/dataset/images/train/71c805f8-Ch120241227145454.png  \n",
            "  inflating: /content/dataset/images/train/71e52874-Ch120241203103414.png  \n",
            "  inflating: /content/dataset/images/train/71eb27f0-Ch120240927165145.png  \n",
            "  inflating: /content/dataset/images/train/71ec36b4-Ch120241203103224.png  \n",
            "  inflating: /content/dataset/images/train/722cfe28-Ch120241227151429.png  \n",
            "  inflating: /content/dataset/images/train/72611c46-Ch120250118104044_learning_learning.jpg  \n",
            "  inflating: /content/dataset/images/train/727f56a0-Ch120250115113456.png  \n",
            "  inflating: /content/dataset/images/train/728da114-Ch120241227151450.png  \n",
            "  inflating: /content/dataset/images/train/72b97bbe-Ch120250111161053.png  \n",
            "  inflating: /content/dataset/images/train/72f08014-Ch120250111161913.png  \n",
            "  inflating: /content/dataset/images/train/733e2b87-Ch120250111161601.png  \n",
            "  inflating: /content/dataset/images/train/735597b4-Ch120250112104554.png  \n",
            "  inflating: /content/dataset/images/train/73567a91-Ch120241225114450.png  \n",
            "  inflating: /content/dataset/images/train/73690628-Ch120250202103732.jpg  \n",
            "  inflating: /content/dataset/images/train/7375bd9b-Ch120241021182400.png  \n",
            "  inflating: /content/dataset/images/train/73adc1d3-Ch120241021100808.png  \n",
            "  inflating: /content/dataset/images/train/73b7bbc3-Ch120241225114422.png  \n",
            "  inflating: /content/dataset/images/train/73f4541e-Ch120241226150629.png  \n",
            "  inflating: /content/dataset/images/train/7433a2bc-Ch120241227151357.png  \n",
            "  inflating: /content/dataset/images/train/746902ea-Ch120250115105006.png  \n",
            "  inflating: /content/dataset/images/train/74926f4b-Ch120241021101043.png  \n",
            "  inflating: /content/dataset/images/train/74bf7fcc-Ch120250202102816.jpg  \n",
            "  inflating: /content/dataset/images/train/74c48635-Ch120241226145613.png  \n",
            "  inflating: /content/dataset/images/train/74eae61b-Ch120241226151127.png  \n",
            "  inflating: /content/dataset/images/train/74f05df7-Ch120241226150857.png  \n",
            "  inflating: /content/dataset/images/train/74fc735d-Ch120241226102909.png  \n",
            "  inflating: /content/dataset/images/train/750b0a41-Ch120241121101359.png  \n",
            "  inflating: /content/dataset/images/train/751d233a-Ch120250118103537_learning.jpg  \n",
            "  inflating: /content/dataset/images/train/751ee2f8-Ch120241121101605.png  \n",
            "  inflating: /content/dataset/images/train/754ec97d-Ch120250111161417.png  \n",
            "  inflating: /content/dataset/images/train/7573a053-Ch120250111161903.png  \n",
            "  inflating: /content/dataset/images/train/759ed955-Ch120250228102911.jpg  \n",
            "  inflating: /content/dataset/images/train/75b9d637-Ch120250115105100.png  \n",
            "  inflating: /content/dataset/images/train/75ca3c3e-Ch120250128094341.jpg  \n",
            "  inflating: /content/dataset/images/train/75f78764-Ch120240927165336.png  \n",
            "  inflating: /content/dataset/images/train/76084753-Ch120241227150952.png  \n",
            "  inflating: /content/dataset/images/train/7628ff76-Ch120240927115917.png  \n",
            "  inflating: /content/dataset/images/train/7691df76-Ch120250111161016.png  \n",
            "  inflating: /content/dataset/images/train/76e8b456-Ch120241227151011.png  \n",
            "  inflating: /content/dataset/images/train/7719f86f-Ch120250111161354.png  \n",
            "  inflating: /content/dataset/images/train/7728405e-Ch120241225104314.png  \n",
            "  inflating: /content/dataset/images/train/7739ff88-Ch120250111161657.png  \n",
            "  inflating: /content/dataset/images/train/773d0022-Ch120250118095457_learning.jpg  \n",
            "  inflating: /content/dataset/images/train/77406905-Ch120250202102412.jpg  \n",
            "  inflating: /content/dataset/images/train/774a14af-Ch120241226103155.png  \n",
            "  inflating: /content/dataset/images/train/77ca9a11-Ch120241227151352.png  \n",
            "  inflating: /content/dataset/images/train/77d4dae0-Ch120241225104215.png  \n",
            "  inflating: /content/dataset/images/train/77e4e9c5-Ch120241121101150.png  \n",
            "  inflating: /content/dataset/images/train/77f6a6fd-Ch120241227151114.png  \n",
            "  inflating: /content/dataset/images/train/781e253e-Ch120250119143019_learning.jpg  \n",
            "  inflating: /content/dataset/images/train/782d2ac9-Ch120240927165204.png  \n",
            "  inflating: /content/dataset/images/train/7890e0d2-Ch120250111161758.png  \n",
            "  inflating: /content/dataset/images/train/791000f3-Ch120250111161326.png  \n",
            "  inflating: /content/dataset/images/train/799dff62-Ch120241225114316.png  \n",
            "  inflating: /content/dataset/images/train/7a120c90-Ch120241226150955.png  \n",
            "  inflating: /content/dataset/images/train/7a6b8019-Ch120250303094855.jpg  \n",
            "  inflating: /content/dataset/images/train/7a920598-Ch120250116143650.jpg  \n",
            "  inflating: /content/dataset/images/train/7ac9dc19-Ch120250130094428.jpg  \n",
            "  inflating: /content/dataset/images/train/7aced160-Ch120241121101611.png  \n",
            "  inflating: /content/dataset/images/train/7ad8dca0-Ch120250131095942.jpg  \n",
            "  inflating: /content/dataset/images/train/7ae85112-Ch120241226150134.png  \n",
            "  inflating: /content/dataset/images/train/7aeefb26-Ch120241226150541.png  \n",
            "  inflating: /content/dataset/images/train/7b24fedc-Ch120250116143542.jpg  \n",
            "  inflating: /content/dataset/images/train/7b7b0996-Ch120240927165402.png  \n",
            "  inflating: /content/dataset/images/train/7ba3c046-Ch120250116142849.jpg  \n",
            "  inflating: /content/dataset/images/train/7ba93c25-Ch120241225113512.png  \n",
            "  inflating: /content/dataset/images/train/7bec1984-Ch120250311104438880.jpg  \n",
            "  inflating: /content/dataset/images/train/7c16a778-Ch120241227145414.png  \n",
            "  inflating: /content/dataset/images/train/7c492681-Ch120241225113439.png  \n",
            "  inflating: /content/dataset/images/train/7c503471-Ch120250111161647.png  \n",
            "  inflating: /content/dataset/images/train/7c6d2a58-Ch120250202103029.jpg  \n",
            "  inflating: /content/dataset/images/train/7cc2017a-Ch120241225104226.png  \n",
            "  inflating: /content/dataset/images/train/7d30bd6d-Ch120250217104414.jpg  \n",
            "  inflating: /content/dataset/images/train/7d3592e4-Ch120241227151054.png  \n",
            "  inflating: /content/dataset/images/train/7d41e699-Ch120241226145553.png  \n",
            "  inflating: /content/dataset/images/train/7d580dc4-Ch120241203103415.png  \n",
            "  inflating: /content/dataset/images/train/7d5bbf4d-Ch120241225104329.png  \n",
            "  inflating: /content/dataset/images/train/7d5e8533-Ch120241203103205.png  \n",
            "  inflating: /content/dataset/images/train/7d7c66ca-Ch120241121101137.png  \n",
            "  inflating: /content/dataset/images/train/7d9d4519-Ch120250202102621.jpg  \n",
            "  inflating: /content/dataset/images/train/7ddbbb43-Ch120241226150424.png  \n",
            "  inflating: /content/dataset/images/train/7de5cdc4-Ch120250116143659.jpg  \n",
            "  inflating: /content/dataset/images/train/7e0b7138-Ch120250111161357.png  \n",
            "  inflating: /content/dataset/images/train/7e0dc1d0-Ch120250202103429.jpg  \n",
            "  inflating: /content/dataset/images/train/7e184956-Ch120241225114522.png  \n",
            "  inflating: /content/dataset/images/train/7e58257d-Ch120241203103120.png  \n",
            "  inflating: /content/dataset/images/train/7e9a86aa-Ch120250129095845.jpg  \n",
            "  inflating: /content/dataset/images/train/7e9de433-Ch120250121161103.jpg  \n",
            "  inflating: /content/dataset/images/train/7ea1d2de-Ch120240927120023.png  \n",
            "  inflating: /content/dataset/images/train/7eb99f4d-Ch120250116143705.jpg  \n",
            "  inflating: /content/dataset/images/train/7eea980d-Ch120241225114358.png  \n",
            "  inflating: /content/dataset/images/train/7ef4b285-Ch120250118103604_learning.jpg  \n",
            "  inflating: /content/dataset/images/train/7f00e370-Ch120250203095249.jpg  \n",
            "  inflating: /content/dataset/images/train/7f088a11-Ch120241021100816.png  \n",
            "  inflating: /content/dataset/images/train/7f2aad55-Ch120250202102909.jpg  \n",
            "  inflating: /content/dataset/images/train/7f5eee37-Ch120250113104737.png  \n",
            "  inflating: /content/dataset/images/train/7f6ab227-Ch120250111161656.png  \n",
            "  inflating: /content/dataset/images/train/7f9271f5-Ch120250111161022.png  \n",
            "  inflating: /content/dataset/images/train/7fa13213-Ch120250203095452.jpg  \n",
            "  inflating: /content/dataset/images/train/7fae0373-Ch120241021160700.png  \n",
            "  inflating: /content/dataset/images/train/7fbdb765-Ch120250118105626_learning_learning.jpg  \n",
            "  inflating: /content/dataset/images/train/7ff0da87-Ch120240927165114.png  \n",
            "  inflating: /content/dataset/images/train/800c90ba-Ch120250126103912.jpg  \n",
            "  inflating: /content/dataset/images/train/80f5e384-Ch120250129100142.jpg  \n",
            "  inflating: /content/dataset/images/train/8103b3f9-Ch120241225112910.png  \n",
            "  inflating: /content/dataset/images/train/8111bb89-Ch120241226150956.png  \n",
            "  inflating: /content/dataset/images/train/81378794-Ch120241203102906.png  \n",
            "  inflating: /content/dataset/images/train/8139c644-Ch120241021100555.png  \n",
            "  inflating: /content/dataset/images/train/817b4b49-Ch120241227151121.png  \n",
            "  inflating: /content/dataset/images/train/817de0ae-Ch120250206102616.jpg  \n",
            "  inflating: /content/dataset/images/train/818c7d02-Ch120250202102941.jpg  \n",
            "  inflating: /content/dataset/images/train/81a796c8-Ch120250131100143.jpg  \n",
            "  inflating: /content/dataset/images/train/81b54989-Ch120241021101013.png  \n",
            "  inflating: /content/dataset/images/train/81c36aeb-Ch120241021100501.png  \n",
            "  inflating: /content/dataset/images/train/81ddbd5f-Ch120241226102733.png  \n",
            "  inflating: /content/dataset/images/train/81df9b45-Ch120250111161737.png  \n",
            "  inflating: /content/dataset/images/train/821da557-Ch120241225113441.png  \n",
            "  inflating: /content/dataset/images/train/824906a9-Ch120250118104024_learning_learning.jpg  \n",
            "  inflating: /content/dataset/images/train/824dd391-Ch120250202102926.jpg  \n",
            "  inflating: /content/dataset/images/train/82639244-Ch120250202103117.jpg  \n",
            "  inflating: /content/dataset/images/train/82709ad6-Ch120240927165419.png  \n",
            "  inflating: /content/dataset/images/train/82756bd1-Ch120250228102108.jpg  \n",
            "  inflating: /content/dataset/images/train/828b0307-Ch120250116143801.jpg  \n",
            "  inflating: /content/dataset/images/train/8297f6b5-Ch120250116142811.jpg  \n",
            "  inflating: /content/dataset/images/train/829f6260-Ch120241021100647.png  \n",
            "  inflating: /content/dataset/images/train/82cbb537-Ch120241121101052.png  \n",
            "  inflating: /content/dataset/images/train/8305c820-Ch120250309110829893.jpg  \n",
            "  inflating: /content/dataset/images/train/83305f10-Ch120250130094601.jpg  \n",
            "  inflating: /content/dataset/images/train/83723688-Ch120250111160912.png  \n",
            "  inflating: /content/dataset/images/train/83a2901f-Ch120250202104340.jpg  \n",
            "  inflating: /content/dataset/images/train/83b52faa-Ch120241227151358.png  \n",
            "  inflating: /content/dataset/images/train/845866b7-Ch120250130094559.jpg  \n",
            "  inflating: /content/dataset/images/train/845afe9b-Ch120250228105304.jpg  \n",
            "  inflating: /content/dataset/images/train/8480f013-Ch120241226151001.png  \n",
            "  inflating: /content/dataset/images/train/8487d425-Ch120250228103056.jpg  \n",
            "  inflating: /content/dataset/images/train/84a55b28-Ch120250128094025.jpg  \n",
            "  inflating: /content/dataset/images/train/84b6b588-Ch120241227150950.png  \n",
            "  inflating: /content/dataset/images/train/85108cf2-Ch120241225112854.png  \n",
            "  inflating: /content/dataset/images/train/852cd463-Ch120241227151215.png  \n",
            "  inflating: /content/dataset/images/train/855786fa-Ch120250111161620.png  \n",
            "  inflating: /content/dataset/images/train/85590906-Ch120250206103059.jpg  \n",
            "  inflating: /content/dataset/images/train/8566c046-Ch120250116143608.jpg  \n",
            "  inflating: /content/dataset/images/train/8574938a-Ch120250130094448.jpg  \n",
            "  inflating: /content/dataset/images/train/85981585-Ch120250129100015.jpg  \n",
            "  inflating: /content/dataset/images/train/85aa129b-Ch120240927115737.png  \n",
            "  inflating: /content/dataset/images/train/85c38406-Ch120250115145557.png  \n",
            "  inflating: /content/dataset/images/train/85d5de58-Ch120250228103055.jpg  \n",
            "  inflating: /content/dataset/images/train/85eb561b-Ch120250126104142.jpg  \n",
            "  inflating: /content/dataset/images/train/86139398-Ch120241121101504.png  \n",
            "  inflating: /content/dataset/images/train/861cfc90-Ch120250126112026.jpg  \n",
            "  inflating: /content/dataset/images/train/86345fc3-Ch120241021100603.png  \n",
            "  inflating: /content/dataset/images/train/86ac13f8-Ch120250111161515.png  \n",
            "  inflating: /content/dataset/images/train/86cd7766-Ch120240927165446.png  \n",
            "  inflating: /content/dataset/images/train/86cfe683-Ch120250302102748.jpg  \n",
            "  inflating: /content/dataset/images/train/87567709-Ch120241021160632.png  \n",
            "  inflating: /content/dataset/images/train/8797f496-Ch120241121101629.png  \n",
            "  inflating: /content/dataset/images/train/87c7f500-Ch120250111161609.png  \n",
            "  inflating: /content/dataset/images/train/87e8b36e-Ch120250115113256.png  \n",
            "  inflating: /content/dataset/images/train/881b47e0-Ch120250116142742.jpg  \n",
            "  inflating: /content/dataset/images/train/881c6b21-Ch120250118103539_learning.jpg  \n",
            "  inflating: /content/dataset/images/train/88572b5f-Ch120241121101222.png  \n",
            "  inflating: /content/dataset/images/train/8858b2a7-Ch120241021100414.png  \n",
            "  inflating: /content/dataset/images/train/886b6bdf-Ch120241225104248.png  \n",
            "  inflating: /content/dataset/images/train/88b4f47b-Ch120250202103611.jpg  \n",
            "  inflating: /content/dataset/images/train/89463663-Ch120240927165400.png  \n",
            "  inflating: /content/dataset/images/train/8946c663-Ch120241227151216.png  \n",
            "  inflating: /content/dataset/images/train/8968e4aa-Ch120250111161245.png  \n",
            "  inflating: /content/dataset/images/train/89860b80-Ch120241203103111.png  \n",
            "  inflating: /content/dataset/images/train/89935b86-Ch120241225114344.png  \n",
            "  inflating: /content/dataset/images/train/89bf35ab-Ch120250111161805.png  \n",
            "  inflating: /content/dataset/images/train/89f79053-Ch120250217104522.jpg  \n",
            "  inflating: /content/dataset/images/train/8a6178e8-Ch120241225113036.png  \n",
            "  inflating: /content/dataset/images/train/8a908faf-Ch120250116142914.jpg  \n",
            "  inflating: /content/dataset/images/train/8aa821a3-Ch120250311104621012.jpg  \n",
            "  inflating: /content/dataset/images/train/8acb8e61-Ch120241226150725.png  \n",
            "  inflating: /content/dataset/images/train/8aeeb88a-Ch120250202100247.jpg  \n",
            "  inflating: /content/dataset/images/train/8afeec4d-Ch120241021101000.png  \n",
            "  inflating: /content/dataset/images/train/8b020456-Ch120250302101617.jpg  \n",
            "  inflating: /content/dataset/images/train/8b07419b-Ch120250115105413.png  \n",
            "  inflating: /content/dataset/images/train/8b101b27-Ch120250111161905.png  \n",
            "  inflating: /content/dataset/images/train/8b240613-Ch120240927115935.png  \n",
            "  inflating: /content/dataset/images/train/8b632b0d-Ch120241121101120.png  \n",
            "  inflating: /content/dataset/images/train/8b8e11c3-Ch120241021100620.png  \n",
            "  inflating: /content/dataset/images/train/8bc18b10-Ch120250202103817.jpg  \n",
            "  inflating: /content/dataset/images/train/8bcab37e-Ch120241226103031.png  \n",
            "  inflating: /content/dataset/images/train/8bf4297e-Ch120250111160948.png  \n",
            "  inflating: /content/dataset/images/train/8c2faa96-Ch120250111161528.png  \n",
            "  inflating: /content/dataset/images/train/8c367f3d-Ch120241203103359.png  \n",
            "  inflating: /content/dataset/images/train/8c37839f-Ch120241203103108.png  \n",
            "  inflating: /content/dataset/images/train/8c444cd4-Ch120250228102954.jpg  \n",
            "  inflating: /content/dataset/images/train/8c917b16-Ch120241021100742.png  \n",
            "  inflating: /content/dataset/images/train/8c99221b-Ch120250206103743.jpg  \n",
            "  inflating: /content/dataset/images/train/8cf236c1-Ch120250118110554_learning_learning.jpg  \n",
            "  inflating: /content/dataset/images/train/8cfdf2d2-Ch120250118100045_learning.jpg  \n",
            "  inflating: /content/dataset/images/train/8d40c981-Ch120240927165117.png  \n",
            "  inflating: /content/dataset/images/train/8d940c48-Ch120241021182402.png  \n",
            "  inflating: /content/dataset/images/train/8d9605ab-Ch120241225104343.png  \n",
            "  inflating: /content/dataset/images/train/8d9781bf-Ch120240927165406.png  \n",
            "  inflating: /content/dataset/images/train/8da22848-Ch120241021160708.png  \n",
            "  inflating: /content/dataset/images/train/8dbb0a4e-Ch120240927115824.png  \n",
            "  inflating: /content/dataset/images/train/8dbf454c-Ch120241226103148.png  \n",
            "  inflating: /content/dataset/images/train/8e032785-Ch120250121102336.jpg  \n",
            "  inflating: /content/dataset/images/train/8e37b7be-Ch120241203102946.png  \n",
            "  inflating: /content/dataset/images/train/8e6fcca8-Ch120250228101252.jpg  \n",
            "  inflating: /content/dataset/images/train/8ebe5945-Ch120250129095648.jpg  \n",
            "  inflating: /content/dataset/images/train/8ed21621-Ch120250202103222.jpg  \n",
            "  inflating: /content/dataset/images/train/8f3461b8-Ch120250120111146_learning.jpg  \n",
            "  inflating: /content/dataset/images/train/8f486310-Ch120250129100138.jpg  \n",
            "  inflating: /content/dataset/images/train/8f56ea2b-Ch120250130094424.jpg  \n",
            "  inflating: /content/dataset/images/train/8f6d96f7-Ch120241021100419.png  \n",
            "  inflating: /content/dataset/images/train/8fdc5b81-Ch120240927115647.png  \n",
            "  inflating: /content/dataset/images/train/90089655-Ch120250111161544.png  \n",
            "  inflating: /content/dataset/images/train/9054b674-Ch120240927165412.png  \n",
            "  inflating: /content/dataset/images/train/9057b41b-Ch120250116143524.jpg  \n",
            "  inflating: /content/dataset/images/train/905e8f87-Ch120250119143556_learning_learning.jpg  \n",
            "  inflating: /content/dataset/images/train/9094603b-Ch120250302104313.jpg  \n",
            "  inflating: /content/dataset/images/train/90ed95ab-Ch120250129095729.jpg  \n",
            "  inflating: /content/dataset/images/train/9137fc2b-Ch120241225113028.png  \n",
            "  inflating: /content/dataset/images/train/915922ec-Ch120241226145648.png  \n",
            "  inflating: /content/dataset/images/train/917ecc8e-Ch120241226103032.png  \n",
            "  inflating: /content/dataset/images/train/91c9d964-Ch120250129100044.jpg  \n",
            "  inflating: /content/dataset/images/train/91d0b1cf-Ch120250115113419.png  \n",
            "  inflating: /content/dataset/images/train/91dafd50-Ch120241227145502.png  \n",
            "  inflating: /content/dataset/images/train/91e86656-Ch120250111161741.png  \n",
            "  inflating: /content/dataset/images/train/91f353c3-Ch120250202105017.jpg  \n",
            "  inflating: /content/dataset/images/train/92270ad3-Ch120250111161008.png  \n",
            "  inflating: /content/dataset/images/train/92337f71-Ch120250202103055.jpg  \n",
            "  inflating: /content/dataset/images/train/92396e6a-Ch120250217130900.jpg  \n",
            "  inflating: /content/dataset/images/train/92505209-Ch120241227151238.png  \n",
            "  inflating: /content/dataset/images/train/92652a59-Ch120250120144843_learning.jpg  \n",
            "  inflating: /content/dataset/images/train/926add75-Ch120250111161856.png  \n",
            "  inflating: /content/dataset/images/train/9275d690-Ch120241226102805.png  \n",
            "  inflating: /content/dataset/images/train/92ac05be-Ch120250111161112.png  \n",
            "  inflating: /content/dataset/images/train/92b5ac72-Ch120250311095233778.jpg  \n",
            "  inflating: /content/dataset/images/train/92feabbd-Ch120241021160701.png  \n",
            "  inflating: /content/dataset/images/train/92ff122c-Ch120240927165312.png  \n",
            "  inflating: /content/dataset/images/train/92ff94c0-Ch120241225113117.png  \n",
            "  inflating: /content/dataset/images/train/93231948-Ch120241225104328.png  \n",
            "  inflating: /content/dataset/images/train/9329266d-Ch120241121101653.png  \n",
            "  inflating: /content/dataset/images/train/932b9ae4-Ch120250202103136.jpg  \n",
            "  inflating: /content/dataset/images/train/9331d0c8-Ch120250130094547.jpg  \n",
            "  inflating: /content/dataset/images/train/9364fde5-Ch120250302105017.jpg  \n",
            "  inflating: /content/dataset/images/train/937fdf78-Ch120250111161412.png  \n",
            "  inflating: /content/dataset/images/train/93aaae52-Ch120250202105555.jpg  \n",
            "  inflating: /content/dataset/images/train/9402b1ca-Ch120241227145511.png  \n",
            "  inflating: /content/dataset/images/train/943407c9-Ch120250130094309.jpg  \n",
            "  inflating: /content/dataset/images/train/9439f9c1-Ch120241226102831.png  \n",
            "  inflating: /content/dataset/images/train/94457348-Ch120241225114432.png  \n",
            "  inflating: /content/dataset/images/train/947dda4b-Ch120250120104009_learning.jpg  \n",
            "  inflating: /content/dataset/images/train/9493f441-Ch120250119143710_learning_learning.jpg  \n",
            "  inflating: /content/dataset/images/train/9500cf02-Ch120250118103502_learning.jpg  \n",
            "  inflating: /content/dataset/images/train/95129324-Ch120250129095657.jpg  \n",
            "  inflating: /content/dataset/images/train/95291419-Ch120241121101216.png  \n",
            "  inflating: /content/dataset/images/train/9535febb-Ch120250228110124.jpg  \n",
            "  inflating: /content/dataset/images/train/9562ae38-Ch120241226145654.png  \n",
            "  inflating: /content/dataset/images/train/9586121f-Ch120250122162337.jpg  \n",
            "  inflating: /content/dataset/images/train/95b1aabd-Ch120250119143031_learning.jpg  \n",
            "  inflating: /content/dataset/images/train/95b8c530-Ch120250110112049.png  \n",
            "  inflating: /content/dataset/images/train/95c49096-Ch120241225112930.png  \n",
            "  inflating: /content/dataset/images/train/95c799ec-Ch120250115104731.png  \n",
            "  inflating: /content/dataset/images/train/95d6b235-Ch120241226103002.png  \n",
            "  inflating: /content/dataset/images/train/95d76e7b-Ch120241225104311.png  \n",
            "  inflating: /content/dataset/images/train/95e56f68-Ch120241226102853.png  \n",
            "  inflating: /content/dataset/images/train/95fea830-Ch120250121102851.jpg  \n",
            "  inflating: /content/dataset/images/train/9626886f-Ch120241227145422.png  \n",
            "  inflating: /content/dataset/images/train/963e1f3c-Ch120240927165405.png  \n",
            "  inflating: /content/dataset/images/train/964f9ced-Ch120241226150546.png  \n",
            "  inflating: /content/dataset/images/train/9687905b-Ch120250206103738.jpg  \n",
            "  inflating: /content/dataset/images/train/968cfa2f-Ch120241021182331.png  \n",
            "  inflating: /content/dataset/images/train/96900acb-Ch120250115113420.png  \n",
            "  inflating: /content/dataset/images/train/96c9b055-Ch120241225113138.png  \n",
            "  inflating: /content/dataset/images/train/96e4957a-Ch120241021100544.png  \n",
            "  inflating: /content/dataset/images/train/96efccc3-Ch120241203103246.png  \n",
            "  inflating: /content/dataset/images/train/96f652d4-Ch120250130094321.jpg  \n",
            "  inflating: /content/dataset/images/train/96f8d02e-Ch120241225114403.png  \n",
            "  inflating: /content/dataset/images/train/9715545a-Ch120241226102719.png  \n",
            "  inflating: /content/dataset/images/train/9786e68c-Ch120250126103129.jpg  \n",
            "  inflating: /content/dataset/images/train/978ed57d-Ch120241227151000.png  \n",
            "  inflating: /content/dataset/images/train/97ab0905-Ch120250119143758_learning_learning.jpg  \n",
            "  inflating: /content/dataset/images/train/97ad6bde-Ch120240927165357.png  \n",
            "  inflating: /content/dataset/images/train/97b425d1-Ch120250128094049.jpg  \n",
            "  inflating: /content/dataset/images/train/97f46e66-Ch120241021100609.png  \n",
            "  inflating: /content/dataset/images/train/98207bc3-Ch120241203103514.png  \n",
            "  inflating: /content/dataset/images/train/982a2f11-Ch120250120114723_learning.jpg  \n",
            "  inflating: /content/dataset/images/train/98300d81-Ch120241226103022.png  \n",
            "  inflating: /content/dataset/images/train/984d841b-Ch120250130094236.jpg  \n",
            "  inflating: /content/dataset/images/train/989c5a9e-Ch120241225113452.png  \n",
            "  inflating: /content/dataset/images/train/991106eb-Ch120250202103520.jpg  \n",
            "  inflating: /content/dataset/images/train/994576a7-Ch120250119143926_learning_learning.jpg  \n",
            "  inflating: /content/dataset/images/train/999a2fe4-Ch120241225113451.png  \n",
            "  inflating: /content/dataset/images/train/999db5ab-Ch120250115104705.png  \n",
            "  inflating: /content/dataset/images/train/99b07aae-Ch120250121102646.jpg  \n",
            "  inflating: /content/dataset/images/train/99bf12d6-Ch120250202103609.jpg  \n",
            "  inflating: /content/dataset/images/train/99d2f122-Ch120241227151316.png  \n",
            "  inflating: /content/dataset/images/train/9a1d5695-Ch120250202102432.jpg  \n",
            "  inflating: /content/dataset/images/train/9a2cfab7-Ch120250206103746.jpg  \n",
            "  inflating: /content/dataset/images/train/9aa7e1a2-Ch120241226102711.png  \n",
            "  inflating: /content/dataset/images/train/9ac76b84-Ch120250118103216_learning.jpg  \n",
            "  inflating: /content/dataset/images/train/9af0783e-Ch120241227151048.png  \n",
            "  inflating: /content/dataset/images/train/9af45620-Ch120250121153019.jpg  \n",
            "  inflating: /content/dataset/images/train/9b01e91e-Ch120250111161638.png  \n",
            "  inflating: /content/dataset/images/train/9b0dbc5e-Ch120240927115727.png  \n",
            "  inflating: /content/dataset/images/train/9b1aff1a-Ch120241226150400.png  \n",
            "  inflating: /content/dataset/images/train/9b1f59c4-Ch120250113104756.png  \n",
            "  inflating: /content/dataset/images/train/9b28b2b1-Ch120241021182328.png  \n",
            "  inflating: /content/dataset/images/train/9b4775cd-Ch120250302174904.jpg  \n",
            "  inflating: /content/dataset/images/train/9b63cef3-Ch120241226102913.png  \n",
            "  inflating: /content/dataset/images/train/9b97efac-Ch120250303095902.jpg  \n",
            "  inflating: /content/dataset/images/train/9bae35c5-Ch120250202102229.jpg  \n",
            "  inflating: /content/dataset/images/train/9bb344d6-Ch120250131100022.jpg  \n",
            "  inflating: /content/dataset/images/train/9c0a49d8-Ch120241225112927.png  \n",
            "  inflating: /content/dataset/images/train/9c120716-Ch120250111161904.png  \n",
            "  inflating: /content/dataset/images/train/9c3360eb-Ch120250217104430.jpg  \n",
            "  inflating: /content/dataset/images/train/9d26dfd9-Ch120250121155711.jpg  \n",
            "  inflating: /content/dataset/images/train/9d599e67-Ch120250115112651.png  \n",
            "  inflating: /content/dataset/images/train/9d8b145f-Ch120241021182416.png  \n",
            "  inflating: /content/dataset/images/train/9d92e7de-Ch120250202102223.jpg  \n",
            "  inflating: /content/dataset/images/train/9daeb3fe-Ch120250113104437.png  \n",
            "  inflating: /content/dataset/images/train/9df25a6f-Ch120250202102250.jpg  \n",
            "  inflating: /content/dataset/images/train/9e0fd9a8-Ch120250111161615.png  \n",
            "  inflating: /content/dataset/images/train/9e2b6aef-Ch120250202103752.jpg  \n",
            "  inflating: /content/dataset/images/train/9e4ddb60-Ch120250206104243.jpg  \n",
            "  inflating: /content/dataset/images/train/9e89b773-Ch120250115112726.png  \n",
            "  inflating: /content/dataset/images/train/9e9deced-Ch120250115113348.png  \n",
            "  inflating: /content/dataset/images/train/9ebd4818-Ch120241225114409.png  \n",
            "  inflating: /content/dataset/images/train/9ec20924-Ch120241225104216.png  \n",
            "  inflating: /content/dataset/images/train/9ec5b5c7-Ch120250111161012.png  \n",
            "  inflating: /content/dataset/images/train/9ecb2bc0-Ch120241227151313.png  \n",
            "  inflating: /content/dataset/images/train/9ed00033-Ch120250217104405.jpg  \n",
            "  inflating: /content/dataset/images/train/9f0405e1-Ch120250202103645.jpg  \n",
            "  inflating: /content/dataset/images/train/9f076d5d-Ch120250116143451.jpg  \n",
            "  inflating: /content/dataset/images/train/9f077f00-Ch120241203103329.png  \n",
            "  inflating: /content/dataset/images/train/9f27407a-Ch120250115113655.png  \n",
            "  inflating: /content/dataset/images/train/9f41e338-Ch120241226150841.png  \n",
            "  inflating: /content/dataset/images/train/9f614901-Ch120241226102739.png  \n",
            "  inflating: /content/dataset/images/train/9f6566bb-Ch120241225113537.png  \n",
            "  inflating: /content/dataset/images/train/9f8666ce-Ch120241227145423.png  \n",
            "  inflating: /content/dataset/images/train/9fc4fe56-Ch120250113104515.png  \n",
            "  inflating: /content/dataset/images/train/9fc65185-Ch120250116143719.jpg  \n",
            "  inflating: /content/dataset/images/train/9ff8898f-Ch120241227151420.png  \n",
            "  inflating: /content/dataset/images/train/a00eaee7-Ch120250128094250.jpg  \n",
            "  inflating: /content/dataset/images/train/a01a16ac-Ch120250118103718_learning_learning.jpg  \n",
            "  inflating: /content/dataset/images/train/a0481422-Ch120250129100228.jpg  \n",
            "  inflating: /content/dataset/images/train/a09dc2e7-Ch120241226102737.png  \n",
            "  inflating: /content/dataset/images/train/a0eeedc6-Ch120240927165328.png  \n",
            "  inflating: /content/dataset/images/train/a100f770-Ch120241227151107.png  \n",
            "  inflating: /content/dataset/images/train/a1023f47-Ch120250130094550.jpg  \n",
            "  inflating: /content/dataset/images/train/a1501520-Ch120250130094111.jpg  \n",
            "  inflating: /content/dataset/images/train/a165a7f0-Ch120250303095929.jpg  \n",
            "  inflating: /content/dataset/images/train/a168dc61-Ch120250202104335.jpg  \n",
            "  inflating: /content/dataset/images/train/a17d11da-Ch120241225104247.png  \n",
            "  inflating: /content/dataset/images/train/a1d3be10-Ch120241203103206.png  \n",
            "  inflating: /content/dataset/images/train/a1d785f8-Ch120250206103413.jpg  \n",
            "  inflating: /content/dataset/images/train/a23e9286-Ch120241227145444.png  \n",
            "  inflating: /content/dataset/images/train/a26c85c4-Ch120241226150436.png  \n",
            "  inflating: /content/dataset/images/train/a27a7acc-Ch120250302103847.jpg  \n",
            "  inflating: /content/dataset/images/train/a2c7eb76-Ch120250129100209.jpg  \n",
            "  inflating: /content/dataset/images/train/a2da440c-Ch120250118103324_learning.jpg  \n",
            "  inflating: /content/dataset/images/train/a2fc95d3-Ch120240927115717.png  \n",
            "  inflating: /content/dataset/images/train/a31e1feb-Ch120250129095719.jpg  \n",
            "  inflating: /content/dataset/images/train/a34a7ffc-Ch120250116143420.jpg  \n",
            "  inflating: /content/dataset/images/train/a35c8624-Ch120250119143348_learning_learning.jpg  \n",
            "  inflating: /content/dataset/images/train/a37cc514-Ch120250119143027_learning.jpg  \n",
            "  inflating: /content/dataset/images/train/a3c88da2-Ch120241226103028.png  \n",
            "  inflating: /content/dataset/images/train/a3ca5eed-Ch120250203095203.jpg  \n",
            "  inflating: /content/dataset/images/train/a4097b1d-Ch120250118111418_learning_learning.jpg  \n",
            "  inflating: /content/dataset/images/train/a433cc8f-Ch120250130094418.jpg  \n",
            "  inflating: /content/dataset/images/train/a447d75e-Ch120250115113724.png  \n",
            "  inflating: /content/dataset/images/train/a449356d-Ch120250126104550.jpg  \n",
            "  inflating: /content/dataset/images/train/a46c5952-Ch120241225112936.png  \n",
            "  inflating: /content/dataset/images/train/a49ac06d-Ch120250111110721.png  \n",
            "  inflating: /content/dataset/images/train/a4b48ddc-Ch120241226150257.png  \n",
            "  inflating: /content/dataset/images/train/a4c95c56-Ch120241203103107.png  \n",
            "  inflating: /content/dataset/images/train/a4d03bfb-Ch120241226145823.png  \n",
            "  inflating: /content/dataset/images/train/a5185a78-Ch120241225104207.png  \n",
            "  inflating: /content/dataset/images/train/a541f824-Ch120241225104218.png  \n",
            "  inflating: /content/dataset/images/train/a599d8bf-Ch120240927115857.png  \n",
            "  inflating: /content/dataset/images/train/a5bde8c6-Ch120241225104305.png  \n",
            "  inflating: /content/dataset/images/train/a5ceb6e8-Ch120250115113312.png  \n",
            "  inflating: /content/dataset/images/train/a5d311cc-Ch120250309113044652.jpg  \n",
            "  inflating: /content/dataset/images/train/a64c83f9-Ch120241021182359.png  \n",
            "  inflating: /content/dataset/images/train/a64f3fa7-Ch120241203103240.png  \n",
            "  inflating: /content/dataset/images/train/a69a9a90-Ch120250120114139_learning.jpg  \n",
            "  inflating: /content/dataset/images/train/a6a125b8-Ch120250119143458_learning_learning.jpg  \n",
            "  inflating: /content/dataset/images/train/a6c085f1-Ch120241225104409.png  \n",
            "  inflating: /content/dataset/images/train/a6e19819-Ch120240927115634.png  \n",
            "  inflating: /content/dataset/images/train/a6e1b9e3-Ch120250309110830815.jpg  \n",
            "  inflating: /content/dataset/images/train/a6eb1d36-Ch120241203103433.png  \n",
            "  inflating: /content/dataset/images/train/a6f01f00-Ch120250120115103_learning.jpg  \n",
            "  inflating: /content/dataset/images/train/a6f79a85-Ch120241226103027.png  \n",
            "  inflating: /content/dataset/images/train/a75720da-Ch120250126111639.jpg  \n",
            "  inflating: /content/dataset/images/train/a779fec7-Ch120250116143557.jpg  \n",
            "  inflating: /content/dataset/images/train/a7c45e12-Ch120250120114902_learning.jpg  \n",
            "  inflating: /content/dataset/images/train/a814e61b-Ch120250111161911.png  \n",
            "  inflating: /content/dataset/images/train/a83209ab-Ch120250128094239.jpg  \n",
            "  inflating: /content/dataset/images/train/a83ac808-Ch120241021160605.png  \n",
            "  inflating: /content/dataset/images/train/a87799e0-Ch120250125120723.jpg  \n",
            "  inflating: /content/dataset/images/train/a89ec99c-Ch120250303095124.jpg  \n",
            "  inflating: /content/dataset/images/train/a8c2bc4c-Ch120250203095632.jpg  \n",
            "  inflating: /content/dataset/images/train/a8cfd99e-Ch120241225113116.png  \n",
            "  inflating: /content/dataset/images/train/a8d55376-Ch120250116143429.jpg  \n",
            "  inflating: /content/dataset/images/train/a8e1dfa8-Ch120241227151115.png  \n",
            "  inflating: /content/dataset/images/train/a928f1d3-Ch120250118095724_learning.jpg  \n",
            "  inflating: /content/dataset/images/train/a93da253-Ch120250311104400471.jpg  \n",
            "  inflating: /content/dataset/images/train/a984285e-Ch120250120105236_learning.jpg  \n",
            "  inflating: /content/dataset/images/train/a9b4480e-Ch120241203103153.png  \n",
            "  inflating: /content/dataset/images/train/a9ca5913-Ch120241226150105.png  \n",
            "  inflating: /content/dataset/images/train/a9d7c594-Ch120241021182335.png  \n",
            "  inflating: /content/dataset/images/train/a9dd798f-Ch120250116142901.jpg  \n",
            "  inflating: /content/dataset/images/train/a9e4808f-Ch120241227151449.png  \n",
            "  inflating: /content/dataset/images/train/aa393a0e-Ch120250203095454.jpg  \n",
            "  inflating: /content/dataset/images/train/aa444cbe-Ch120241021100453.png  \n",
            "  inflating: /content/dataset/images/train/aa6116e8-Ch120250118104808_learning_learning.jpg  \n",
            "  inflating: /content/dataset/images/train/aa6b27b4-Ch120250202102306.jpg  \n",
            "  inflating: /content/dataset/images/train/aa77635b-Ch120250130094146.jpg  \n",
            "  inflating: /content/dataset/images/train/aa85ba65-Ch120250130094347.jpg  \n",
            "  inflating: /content/dataset/images/train/aa97b55d-Ch120250111161529.png  \n",
            "  inflating: /content/dataset/images/train/aae65709-Ch120250115104659.png  \n",
            "  inflating: /content/dataset/images/train/ab1adf39-Ch120241226103146.png  \n",
            "  inflating: /content/dataset/images/train/ab252cb8-Ch120241226103147.png  \n",
            "  inflating: /content/dataset/images/train/ab2d6a47-Ch120241021160606.png  \n",
            "  inflating: /content/dataset/images/train/ab83dcd1-Ch120250115144747.png  \n",
            "  inflating: /content/dataset/images/train/ab8589ac-Ch120241226102809.png  \n",
            "  inflating: /content/dataset/images/train/abc242d7-Ch120250120115117_learning.jpg  \n",
            "  inflating: /content/dataset/images/train/abec4f0b-Ch120241021100626.png  \n",
            "  inflating: /content/dataset/images/train/ac1eb0b6-Ch120250202102337.jpg  \n",
            "  inflating: /content/dataset/images/train/ac4231a7-Ch120250129095758.jpg  \n",
            "  inflating: /content/dataset/images/train/ac6654fc-Ch120241225113506.png  \n",
            "  inflating: /content/dataset/images/train/ac786519-Ch120241121101136.png  \n",
            "  inflating: /content/dataset/images/train/ac8ebead-Ch120241227151345.png  \n",
            "  inflating: /content/dataset/images/train/acd4b874-Ch120241225112932.png  \n",
            "  inflating: /content/dataset/images/train/acdd36dc-Ch120241121101706.png  \n",
            "  inflating: /content/dataset/images/train/ad1ed05b-Ch120241225114521.png  \n",
            "  inflating: /content/dataset/images/train/ad280e3d-Ch120250111161602.png  \n",
            "  inflating: /content/dataset/images/train/ad2ca21c-Ch120241021160603.png  \n",
            "  inflating: /content/dataset/images/train/ad39486e-Ch120240927115749.png  \n",
            "  inflating: /content/dataset/images/train/ad3b1aaf-Ch120241225113459.png  \n",
            "  inflating: /content/dataset/images/train/ad487922-Ch120250129095953.jpg  \n",
            "  inflating: /content/dataset/images/train/ad6e9c4d-Ch120240927165416.png  \n",
            "  inflating: /content/dataset/images/train/ad9fd9bc-Ch120250202103243.jpg  \n",
            "  inflating: /content/dataset/images/train/ada56953-Ch120250202103653.jpg  \n",
            "  inflating: /content/dataset/images/train/adade335-Ch120250202102534.jpg  \n",
            "  inflating: /content/dataset/images/train/ade1f8c5-Ch120241225104351.png  \n",
            "  inflating: /content/dataset/images/train/adf02e6e-Ch120250115104747.png  \n",
            "  inflating: /content/dataset/images/train/adf3f553-Ch120250202104917.jpg  \n",
            "  inflating: /content/dataset/images/train/adff10aa-Ch120241225104422.png  \n",
            "  inflating: /content/dataset/images/train/ae06e665-Ch120250120104112_learning.jpg  \n",
            "  inflating: /content/dataset/images/train/ae115ec6-Ch120250129100221.jpg  \n",
            "  inflating: /content/dataset/images/train/ae1ab7e7-Ch120250130094116.jpg  \n",
            "  inflating: /content/dataset/images/train/ae37d749-Ch120240927115944.png  \n",
            "  inflating: /content/dataset/images/train/ae3ffa2c-Ch120240927165124.png  \n",
            "  inflating: /content/dataset/images/train/ae4de185-Ch120250228104519.jpg  \n",
            "  inflating: /content/dataset/images/train/ae63076d-Ch120241021100659.png  \n",
            "  inflating: /content/dataset/images/train/ae6f5ba9-Ch120250130094326.jpg  \n",
            "  inflating: /content/dataset/images/train/ae80038c-Ch120250111160918.png  \n",
            "  inflating: /content/dataset/images/train/ae82add3-Ch120250120105817_learning.jpg  \n",
            "  inflating: /content/dataset/images/train/aeb1d4c6-Ch120241227151423.png  \n",
            "  inflating: /content/dataset/images/train/aec3b331-Ch120241225113410.png  \n",
            "  inflating: /content/dataset/images/train/aefeab81-Ch120241226150353.png  \n",
            "  inflating: /content/dataset/images/train/af0f978e-Ch120241225114433.png  \n",
            "  inflating: /content/dataset/images/train/af1929aa-Ch120240927165441.png  \n",
            "  inflating: /content/dataset/images/train/af2fface-Ch120241226103004.png  \n",
            "  inflating: /content/dataset/images/train/af59a046-Ch120241226145851.png  \n",
            "  inflating: /content/dataset/images/train/af8a33d5-Ch120241225104344.png  \n",
            "  inflating: /content/dataset/images/train/af96f877-Ch120250128094245.jpg  \n",
            "  inflating: /content/dataset/images/train/afaaa936-Ch120240927115828.png  \n",
            "  inflating: /content/dataset/images/train/b002c77b-Ch120241203102849.png  \n",
            "  inflating: /content/dataset/images/train/b01fac79-Ch120250131095951.jpg  \n",
            "  inflating: /content/dataset/images/train/b0457123-Ch120250129100116.jpg  \n",
            "  inflating: /content/dataset/images/train/b0917a51-Ch120241226103025.png  \n",
            "  inflating: /content/dataset/images/train/b097e9a1-Ch120250116143740.jpg  \n",
            "  inflating: /content/dataset/images/train/b0ba1055-Ch120241226102659.png  \n",
            "  inflating: /content/dataset/images/train/b0fdfe73-Ch120240927165155.png  \n",
            "  inflating: /content/dataset/images/train/b129bb2d-Ch120250126104645.jpg  \n",
            "  inflating: /content/dataset/images/train/b1627baf-Ch120250126112532.jpg  \n",
            "  inflating: /content/dataset/images/train/b165ff66-Ch120241021160636.png  \n",
            "  inflating: /content/dataset/images/train/b1995428-Ch120250203095234.jpg  \n",
            "  inflating: /content/dataset/images/train/b1cecc05-Ch120250111161604.png  \n",
            "  inflating: /content/dataset/images/train/b20a0a3f-Ch120250128094127.jpg  \n",
            "  inflating: /content/dataset/images/train/b23a570f-Ch120241225104300.png  \n",
            "  inflating: /content/dataset/images/train/b245ac36-Ch120250111160909.png  \n",
            "  inflating: /content/dataset/images/train/b260464f-Ch120241226102712.png  \n",
            "  inflating: /content/dataset/images/train/b27a1a2b-Ch120250115113009.png  \n",
            "  inflating: /content/dataset/images/train/b283f610-Ch120241021182415.png  \n",
            "  inflating: /content/dataset/images/train/b2a0ed69-Ch120250128094012.jpg  \n",
            "  inflating: /content/dataset/images/train/b2a3297d-Ch120250120114020_learning.jpg  \n",
            "  inflating: /content/dataset/images/train/b2bf2b0b-Ch120250308095856873.jpg  \n",
            "  inflating: /content/dataset/images/train/b2d75206-Ch120241227151243.png  \n",
            "  inflating: /content/dataset/images/train/b2dfb2a5-Ch120250202103447.jpg  \n",
            "  inflating: /content/dataset/images/train/b336c4d9-Ch120240927165743.png  \n",
            "  inflating: /content/dataset/images/train/b33f5ea7-Ch120241227151106.png  \n",
            "  inflating: /content/dataset/images/train/b34510cd-Ch120241225114459.png  \n",
            "  inflating: /content/dataset/images/train/b357402f-Ch120241227151259.png  \n",
            "  inflating: /content/dataset/images/train/b35b19f4-Ch120250129095723.jpg  \n",
            "  inflating: /content/dataset/images/train/b36d1a1d-Ch120250202102547.jpg  \n",
            "  inflating: /content/dataset/images/train/b37883f0-Ch120241021101025.png  \n",
            "  inflating: /content/dataset/images/train/b3ce5f94-Ch120241227145416.png  \n",
            "  inflating: /content/dataset/images/train/b404b0c7-Ch120240927115640.png  \n",
            "  inflating: /content/dataset/images/train/b432c0fd-Ch120241227145506.png  \n",
            "  inflating: /content/dataset/images/train/b442f4ba-Ch120241227151409.png  \n",
            "  inflating: /content/dataset/images/train/b4b0c4e7-Ch120250120143950_learning.jpg  \n",
            "  inflating: /content/dataset/images/train/b4b89c47-Ch120241021100654.png  \n",
            "  inflating: /content/dataset/images/train/b4c9dd0c-Ch120250311104040281.jpg  \n",
            "  inflating: /content/dataset/images/train/b4e55a6f-Ch120250206104506.jpg  \n",
            "  inflating: /content/dataset/images/train/b4fd6de5-Ch120241021100507.png  \n",
            "  inflating: /content/dataset/images/train/b5126b3a-Ch120241121101036.png  \n",
            "  inflating: /content/dataset/images/train/b5800dab-Ch120250228105204.jpg  \n",
            "  inflating: /content/dataset/images/train/b595d293-Ch120250115113725.png  \n",
            "  inflating: /content/dataset/images/train/b5a7c99a-Ch120240927115853.png  \n",
            "  inflating: /content/dataset/images/train/b5b476c3-Ch120241203103323.png  \n",
            "  inflating: /content/dataset/images/train/b5e66820-Ch120240927115650.png  \n",
            "  inflating: /content/dataset/images/train/b614350e-Ch120250202103808.jpg  \n",
            "  inflating: /content/dataset/images/train/b62615e5-Ch120241225114526.png  \n",
            "  inflating: /content/dataset/images/train/b6593444-Ch120241227145446.png  \n",
            "  inflating: /content/dataset/images/train/b661b6ba-Ch120250118103313_learning.jpg  \n",
            "  inflating: /content/dataset/images/train/b6688bc8-Ch120250115112758.png  \n",
            "  inflating: /content/dataset/images/train/b6bde0ff-Ch120250115113333.png  \n",
            "  inflating: /content/dataset/images/train/b6cd1657-Ch120250202103305.jpg  \n",
            "  inflating: /content/dataset/images/train/b6d73fe3-Ch120250118103846_learning_learning.jpg  \n",
            "  inflating: /content/dataset/images/train/b6d7d72b-Ch120250111161344.png  \n",
            "  inflating: /content/dataset/images/train/b719d3ad-Ch120241021100822.png  \n",
            "  inflating: /content/dataset/images/train/b71fba41-Ch120250119142902_learning.jpg  \n",
            "  inflating: /content/dataset/images/train/b73f97ef-Ch120241227150949.png  \n",
            "  inflating: /content/dataset/images/train/b749cf9c-Ch120241203103410.png  \n",
            "  inflating: /content/dataset/images/train/b7716e10-Ch120241225113509.png  \n",
            "  inflating: /content/dataset/images/train/b7a7150e-Ch120241121101404.png  \n",
            "  inflating: /content/dataset/images/train/b7ad9365-Ch120250228100857.jpg  \n",
            "  inflating: /content/dataset/images/train/b7d75cac-Ch120241226150819.png  \n",
            "  inflating: /content/dataset/images/train/b7ef2b0d-Ch120250206103350.jpg  \n",
            "  inflating: /content/dataset/images/train/b825d744-Ch120241225114258.png  \n",
            "  inflating: /content/dataset/images/train/b82840cf-Ch120250202100544.jpg  \n",
            "  inflating: /content/dataset/images/train/b82923d1-Ch120250202104229.jpg  \n",
            "  inflating: /content/dataset/images/train/b84722ab-Ch120250125120717.jpg  \n",
            "  inflating: /content/dataset/images/train/b854848b-Ch120250228110641.jpg  \n",
            "  inflating: /content/dataset/images/train/b88043c1-Ch120250118105659_learning_learning.jpg  \n",
            "  inflating: /content/dataset/images/train/b888614d-Ch120250116143703.jpg  \n",
            "  inflating: /content/dataset/images/train/b8a87445-Ch120241226151146.png  \n",
            "  inflating: /content/dataset/images/train/b8d8bb12-Ch120241225113440.png  \n",
            "  inflating: /content/dataset/images/train/b8dc6da8-Ch120250203095159.jpg  \n",
            "  inflating: /content/dataset/images/train/b8f9fe5e-Ch120250228105347.jpg  \n",
            "  inflating: /content/dataset/images/train/b922da92-Ch120241121101643.png  \n",
            "  inflating: /content/dataset/images/train/b93b7789-Ch120240927120007.png  \n",
            "  inflating: /content/dataset/images/train/b93fba1b-Ch120241226150922.png  \n",
            "  inflating: /content/dataset/images/train/b955feb0-Ch120241121101658.png  \n",
            "  inflating: /content/dataset/images/train/b960fd1f-Ch120241203103226.png  \n",
            "  inflating: /content/dataset/images/train/b97d32a6-Ch120241121101011.png  \n",
            "  inflating: /content/dataset/images/train/b9a85ee0-Ch120241227151053.png  \n",
            "  inflating: /content/dataset/images/train/b9b679e4-Ch120250115105107.png  \n",
            "  inflating: /content/dataset/images/train/b9ed6ddf-Ch120241225112918.png  \n",
            "  inflating: /content/dataset/images/train/ba32bc3b-Ch120241021100625.png  \n",
            "  inflating: /content/dataset/images/train/ba41f29f-Ch120250309113445925.jpg  \n",
            "  inflating: /content/dataset/images/train/ba4b8534-Ch120250128094113.jpg  \n",
            "  inflating: /content/dataset/images/train/ba617bf7-Ch120241223130950.png  \n",
            "  inflating: /content/dataset/images/train/ba6b0ef2-Ch120250111161732.png  \n",
            "  inflating: /content/dataset/images/train/ba79da94-Ch120241225104204.png  \n",
            "  inflating: /content/dataset/images/train/ba8828d4-Ch120250115104816.png  \n",
            "  inflating: /content/dataset/images/train/ba946c7e-Ch120240927120047.png  \n",
            "  inflating: /content/dataset/images/train/ba98e283-Ch120250111161425.png  \n",
            "  inflating: /content/dataset/images/train/baab5e1e-Ch120250302103817.jpg  \n",
            "  inflating: /content/dataset/images/train/baaed90e-Ch120250111161547.png  \n",
            "  inflating: /content/dataset/images/train/bab5de3b-Ch120241225104419.png  \n",
            "  inflating: /content/dataset/images/train/baf7c4be-Ch120250120105640_learning.jpg  \n",
            "  inflating: /content/dataset/images/train/bb3867be-Ch120250120105640_learning.jpg  \n",
            "  inflating: /content/dataset/images/train/bb66aef4-Ch120241021100543.png  \n",
            "  inflating: /content/dataset/images/train/bb70a3c3-Ch120250128094045.jpg  \n",
            "  inflating: /content/dataset/images/train/bb795a1d-Ch120250129095502.jpg  \n",
            "  inflating: /content/dataset/images/train/bc280451-Ch120241225114330.png  \n",
            "  inflating: /content/dataset/images/train/bc29bbb4-Ch120250125121045.jpg  \n",
            "  inflating: /content/dataset/images/train/bc3db868-Ch120241225114508.png  \n",
            "  inflating: /content/dataset/images/train/bc40b4ab-Ch120250115113135.png  \n",
            "  inflating: /content/dataset/images/train/bc65c599-Ch120241227151317.png  \n",
            "  inflating: /content/dataset/images/train/bc6fd7c5-Ch120250302105840.jpg  \n",
            "  inflating: /content/dataset/images/train/bc816a0a-Ch120240927115755.png  \n",
            "  inflating: /content/dataset/images/train/bca3b531-Ch120240927165342.png  \n",
            "  inflating: /content/dataset/images/train/bccec693-Ch120250111161137.png  \n",
            "  inflating: /content/dataset/images/train/bcdc8cc4-Ch120250120104831_learning.jpg  \n",
            "  inflating: /content/dataset/images/train/bcf40914-Ch120241203103253.png  \n",
            "  inflating: /content/dataset/images/train/bd5c6a96-Ch120241021101005.png  \n",
            "  inflating: /content/dataset/images/train/bd60b30f-Ch120241021182618.png  \n",
            "  inflating: /content/dataset/images/train/bd6c0814-Ch120241021160616.png  \n",
            "  inflating: /content/dataset/images/train/bd6c2bbd-Ch120241226145811.png  \n",
            "  inflating: /content/dataset/images/train/bd76a62d-Ch120240927115638.png  \n",
            "  inflating: /content/dataset/images/train/bd82da3e-Ch120250111161635.png  \n",
            "  inflating: /content/dataset/images/train/bd872d6c-Ch120241121101353.png  \n",
            "  inflating: /content/dataset/images/train/bd9bce35-Ch120250120114704_learning.jpg  \n",
            "  inflating: /content/dataset/images/train/bda13ade-Ch120241227151012.png  \n",
            "  inflating: /content/dataset/images/train/be1535b7-Ch120241225104412.png  \n",
            "  inflating: /content/dataset/images/train/be4bc357-Ch120241225114303.png  \n",
            "  inflating: /content/dataset/images/train/be65a899-Ch120241226103003.png  \n",
            "  inflating: /content/dataset/images/train/be812bd4-Ch120241225112909.png  \n",
            "  inflating: /content/dataset/images/train/be98671c-Ch120250118103521_learning.jpg  \n",
            "  inflating: /content/dataset/images/train/be9a2fa1-Ch120240927165640.png  \n",
            "  inflating: /content/dataset/images/train/bea0c607-Ch120241225114502.png  \n",
            "  inflating: /content/dataset/images/train/bebab976-Ch120241225114503.png  \n",
            "  inflating: /content/dataset/images/train/bec7d874-Ch120250115150144.png  \n",
            "  inflating: /content/dataset/images/train/beeb7657-Ch120250115112659.png  \n",
            "  inflating: /content/dataset/images/train/bf181a91-Ch120250119143212_learning.jpg  \n",
            "  inflating: /content/dataset/images/train/bf5dfefb-Ch120250228110058.jpg  \n",
            "  inflating: /content/dataset/images/train/bf5e48af-Ch120241021182357.png  \n",
            "  inflating: /content/dataset/images/train/bf8fd790-Ch120241227145507.png  \n",
            "  inflating: /content/dataset/images/train/c0361915-Ch120250311095406223.jpg  \n",
            "  inflating: /content/dataset/images/train/c03cc8c2-Ch120250202103040.jpg  \n",
            "  inflating: /content/dataset/images/train/c06b1ba4-Ch120241021100831.png  \n",
            "  inflating: /content/dataset/images/train/c0a1bce2-Ch120241121101320.png  \n",
            "  inflating: /content/dataset/images/train/c0e24c1f-Ch120250228101452.jpg  \n",
            "  inflating: /content/dataset/images/train/c0eb78d3-Ch120241225113035.png  \n",
            "  inflating: /content/dataset/images/train/c0ed1296-Ch120241226102852.png  \n",
            "  inflating: /content/dataset/images/train/c0f31597-Ch120250203095401.jpg  \n",
            "  inflating: /content/dataset/images/train/c0f49688-Ch120250111161244.png  \n",
            "  inflating: /content/dataset/images/train/c1195c72-Ch120250118100016_learning.jpg  \n",
            "  inflating: /content/dataset/images/train/c12907d6-Ch120250202102910.jpg  \n",
            "  inflating: /content/dataset/images/train/c12fcf4d-Ch120250118104802_learning_learning.jpg  \n",
            "  inflating: /content/dataset/images/train/c1307e24-Ch120250202105340.jpg  \n",
            "  inflating: /content/dataset/images/train/c13b2972-Ch120250121102406.jpg  \n",
            "  inflating: /content/dataset/images/train/c1428485-Ch120241203103011.png  \n",
            "  inflating: /content/dataset/images/train/c15af5a8-Ch120241226102806.png  \n",
            "  inflating: /content/dataset/images/train/c16f55b7-Ch120241226102732.png  \n",
            "  inflating: /content/dataset/images/train/c17ede78-Ch120250111110149.png  \n",
            "  inflating: /content/dataset/images/train/c191cd69-Ch120241225114554.png  \n",
            "  inflating: /content/dataset/images/train/c1ae7a98-Ch120250311110046085.jpg  \n",
            "  inflating: /content/dataset/images/train/c1b38d8f-Ch120250202103244.jpg  \n",
            "  inflating: /content/dataset/images/train/c2975de7-Ch120250120143331_learning.jpg  \n",
            "  inflating: /content/dataset/images/train/c2ac2b67-Ch120250126102438.jpg  \n",
            "  inflating: /content/dataset/images/train/c2b32ca8-Ch120250116143505.jpg  \n",
            "  inflating: /content/dataset/images/train/c2d7c12a-Ch120241225104319.png  \n",
            "  inflating: /content/dataset/images/train/c2eaa697-Ch120250129100010.jpg  \n",
            "  inflating: /content/dataset/images/train/c2f6baa6-Ch120250111161918.png  \n",
            "  inflating: /content/dataset/images/train/c32e07e6-Ch120241021100959.png  \n",
            "  inflating: /content/dataset/images/train/c3636e9c-Ch120250128094030.jpg  \n",
            "  inflating: /content/dataset/images/train/c39b3538-Ch120241225114411.png  \n",
            "  inflating: /content/dataset/images/train/c3b404fc-Ch120250116143407.jpg  \n",
            "  inflating: /content/dataset/images/train/c3cf4afa-Ch120241226102723.png  \n",
            "  inflating: /content/dataset/images/train/c3d9c777-Ch120250118095332_learning.jpg  \n",
            "  inflating: /content/dataset/images/train/c3f29ae2-Ch120250202102801.jpg  \n",
            "  inflating: /content/dataset/images/train/c41429ea-Ch120241225113513.png  \n",
            "  inflating: /content/dataset/images/train/c4317c06-Ch120250125120547.jpg  \n",
            "  inflating: /content/dataset/images/train/c4746436-Ch120250303095849.jpg  \n",
            "  inflating: /content/dataset/images/train/c47b276f-Ch120250202103420.jpg  \n",
            "  inflating: /content/dataset/images/train/c4a0b58c-Ch120241227145508.png  \n",
            "  inflating: /content/dataset/images/train/c4a0eebc-Ch120240927115704.png  \n",
            "  inflating: /content/dataset/images/train/c50925c8-Ch120241203103239.png  \n",
            "  inflating: /content/dataset/images/train/c531df54-Ch120250119143811_learning_learning.jpg  \n",
            "  inflating: /content/dataset/images/train/c5359d13-Ch120250202102705.jpg  \n",
            "  inflating: /content/dataset/images/train/c53602be-Ch120250111161343.png  \n",
            "  inflating: /content/dataset/images/train/c5605203-Ch120240927165113.png  \n",
            "  inflating: /content/dataset/images/train/c5bb57ca-Ch120240927165131.png  \n",
            "  inflating: /content/dataset/images/train/c5dec285-Ch120250128094301.jpg  \n",
            "  inflating: /content/dataset/images/train/c600efd1-Ch120240927165434.png  \n",
            "  inflating: /content/dataset/images/train/c62b0f72-Ch120250202102604.jpg  \n",
            "  inflating: /content/dataset/images/train/c651b271-Ch120241203102927.png  \n",
            "  inflating: /content/dataset/images/train/c67204ba-Ch120241021101044.png  \n",
            "  inflating: /content/dataset/images/train/c6d468ca-Ch120250118104904_learning_learning.jpg  \n",
            "  inflating: /content/dataset/images/train/c6d691b9-Ch120241227151055.png  \n",
            "  inflating: /content/dataset/images/train/c6e86bbe-Ch120250111161249.png  \n",
            "  inflating: /content/dataset/images/train/c6fefeca-Ch120250111161019.png  \n",
            "  inflating: /content/dataset/images/train/c735b79e-Ch120241121101135.png  \n",
            "  inflating: /content/dataset/images/train/c78ac6a0-Ch120250206103318.jpg  \n",
            "  inflating: /content/dataset/images/train/c78c24b1-Ch120250128094218.jpg  \n",
            "  inflating: /content/dataset/images/train/c790023e-Ch120250111161345.png  \n",
            "  inflating: /content/dataset/images/train/c7bcb394-Ch120250129100217.jpg  \n",
            "  inflating: /content/dataset/images/train/c7d10645-Ch120250120144925_learning.jpg  \n",
            "  inflating: /content/dataset/images/train/c7ee77d0-Ch120241227151310.png  \n",
            "  inflating: /content/dataset/images/train/c8078357-Ch120241225113010.png  \n",
            "  inflating: /content/dataset/images/train/c8088063-Ch120250119143208_learning.jpg  \n",
            "  inflating: /content/dataset/images/train/c8506a7e-Ch120250129100124.jpg  \n",
            "  inflating: /content/dataset/images/train/c85605b9-Ch120241226102934.png  \n",
            "  inflating: /content/dataset/images/train/c873a90a-Ch120250130094259.jpg  \n",
            "  inflating: /content/dataset/images/train/c883b2ef-Ch120250128094252.jpg  \n",
            "  inflating: /content/dataset/images/train/c8b2a04e-Ch120250131100054.jpg  \n",
            "  inflating: /content/dataset/images/train/c8bcb21a-Ch120240927115504.png  \n",
            "  inflating: /content/dataset/images/train/c8e0e654-Ch120250228100831.jpg  \n",
            "  inflating: /content/dataset/images/train/c8e9255d-Ch120240927115503.png  \n",
            "  inflating: /content/dataset/images/train/c9265f55-Ch120250202103318.jpg  \n",
            "  inflating: /content/dataset/images/train/c9653ac6-Ch120241227151441.png  \n",
            "  inflating: /content/dataset/images/train/c99f9fe1-Ch120241121101351.png  \n",
            "  inflating: /content/dataset/images/train/c9a61dbf-Ch120241227145458.png  \n",
            "  inflating: /content/dataset/images/train/c9f4908a-Ch120240927165338.png  \n",
            "  inflating: /content/dataset/images/train/ca330a44-Ch120241225113505.png  \n",
            "  inflating: /content/dataset/images/train/ca4efea4-Ch120241226150002.png  \n",
            "  inflating: /content/dataset/images/train/ca503cbc-Ch120250111161453.png  \n",
            "  inflating: /content/dataset/images/train/ca706ca3-Ch120241203103148.png  \n",
            "  inflating: /content/dataset/images/train/ca70f656-Ch120250128094212.jpg  \n",
            "  inflating: /content/dataset/images/train/ca7b16fe-Ch120241021101014.png  \n",
            "  inflating: /content/dataset/images/train/ca913fe1-Ch120241021100741.png  \n",
            "  inflating: /content/dataset/images/train/cab274c6-Ch120241021174813.png  \n",
            "  inflating: /content/dataset/images/train/cacb2ea7-Ch120250129095838.jpg  \n",
            "  inflating: /content/dataset/images/train/cae82979-Ch120240927115512.png  \n",
            "  inflating: /content/dataset/images/train/caf85304-Ch120250120110450_learning.jpg  \n",
            "  inflating: /content/dataset/images/train/cb07cd1b-Ch120250119143650_learning_learning.jpg  \n",
            "  inflating: /content/dataset/images/train/cb3c99ff-Ch120250111161225.png  \n",
            "  inflating: /content/dataset/images/train/cb41c940-Ch120241121101246.png  \n",
            "  inflating: /content/dataset/images/train/cb4a198f-Ch120250202102329.jpg  \n",
            "  inflating: /content/dataset/images/train/cbc77044-Ch120250228101119.jpg  \n",
            "  inflating: /content/dataset/images/train/cbd26876-Ch120241121101612.png  \n",
            "  inflating: /content/dataset/images/train/cc601379-Ch120241225113125.png  \n",
            "  inflating: /content/dataset/images/train/cc680eca-Ch120241021100910.png  \n",
            "  inflating: /content/dataset/images/train/cc9e35d2-Ch120250129095508.jpg  \n",
            "  inflating: /content/dataset/images/train/ccbfab7f-Ch120250217104512.jpg  \n",
            "  inflating: /content/dataset/images/train/cd1eb200-Ch120241203102952.png  \n",
            "  inflating: /content/dataset/images/train/cd389482-Ch120250116142640.jpg  \n",
            "  inflating: /content/dataset/images/train/cd7bd1eb-Ch120241203102918.png  \n",
            "  inflating: /content/dataset/images/train/cdc2ce1b-Ch120250118095915_learning.jpg  \n",
            "  inflating: /content/dataset/images/train/cdecd923-Ch120241225114401.png  \n",
            "  inflating: /content/dataset/images/train/ce3f39ee-Ch120241225114309.png  \n",
            "  inflating: /content/dataset/images/train/ce52265c-Ch120241227145417.png  \n",
            "  inflating: /content/dataset/images/train/ce677b37-Ch120241021160710.png  \n",
            "  inflating: /content/dataset/images/train/ce7a0439-Ch120240927165127.png  \n",
            "  inflating: /content/dataset/images/train/ce8d6dce-Ch120240927165340.png  \n",
            "  inflating: /content/dataset/images/train/ceb79133-Ch120250111161255.png  \n",
            "  inflating: /content/dataset/images/train/cebbd63f-Ch120250119143338_learning_learning.jpg  \n",
            "  inflating: /content/dataset/images/train/cee656a6-Ch120250118100109_learning.jpg  \n",
            "  inflating: /content/dataset/images/train/cee87382-Ch120241226102832.png  \n",
            "  inflating: /content/dataset/images/train/cf2f5fbf-Ch120241226145647.png  \n",
            "  inflating: /content/dataset/images/train/cf5ba92f-Ch120241225114542.png  \n",
            "  inflating: /content/dataset/images/train/cf60e9c8-Ch120250118100001_learning.jpg  \n",
            "  inflating: /content/dataset/images/train/cf6828d6-Ch120241226145450.png  \n",
            "  inflating: /content/dataset/images/train/cf78793f-Ch120240927115906.png  \n",
            "  inflating: /content/dataset/images/train/cf9f531d-Ch120241226150637.png  \n",
            "  inflating: /content/dataset/images/train/cfacf69c-Ch120241021182410.png  \n",
            "  inflating: /content/dataset/images/train/cff29bfd-Ch120250115145626.png  \n",
            "  inflating: /content/dataset/images/train/d02a88ab-Ch120241225113102.png  \n",
            "  inflating: /content/dataset/images/train/d05c57a5-Ch120241225113017.png  \n",
            "  inflating: /content/dataset/images/train/d061ff05-Ch120240927120000.png  \n",
            "  inflating: /content/dataset/images/train/d07b5baa-Ch120241226145852.png  \n",
            "  inflating: /content/dataset/images/train/d092ef9e-Ch120250115145036.png  \n",
            "  inflating: /content/dataset/images/train/d0bc4f83-Ch120241226102835.png  \n",
            "  inflating: /content/dataset/images/train/d0e6557a-Ch120250130094137.jpg  \n",
            "  inflating: /content/dataset/images/train/d0fc4985-Ch120250202102525.jpg  \n",
            "  inflating: /content/dataset/images/train/d1117fdb-Ch120241227145510.png  \n",
            "  inflating: /content/dataset/images/train/d137a07b-Ch120240927115744.png  \n",
            "  inflating: /content/dataset/images/train/d142fb85-Ch120250125121024.jpg  \n",
            "  inflating: /content/dataset/images/train/d14ae4a8-Ch120250129100225.jpg  \n",
            "  inflating: /content/dataset/images/train/d165a332-Ch120241226150244.png  \n",
            "  inflating: /content/dataset/images/train/d16dfa4d-Ch120241021100755.png  \n",
            "  inflating: /content/dataset/images/train/d17a0015-Ch120241227145431.png  \n",
            "  inflating: /content/dataset/images/train/d1c4b1a9-Ch120241021100754.png  \n",
            "  inflating: /content/dataset/images/train/d204aaeb-Ch120250113103558.png  \n",
            "  inflating: /content/dataset/images/train/d20dadb6-Ch120241225114456.png  \n",
            "  inflating: /content/dataset/images/train/d2175860-Ch120241121101459.png  \n",
            "  inflating: /content/dataset/images/train/d275e4a1-Ch120241223130803.png  \n",
            "  inflating: /content/dataset/images/train/d2f0d7a2-Ch120250130094208.jpg  \n",
            "  inflating: /content/dataset/images/train/d3086f3b-Ch120250111161251.png  \n",
            "  inflating: /content/dataset/images/train/d342f4cf-Ch120240927115703.png  \n",
            "  inflating: /content/dataset/images/train/d366d57d-Ch120250202104708.jpg  \n",
            "  inflating: /content/dataset/images/train/d3861481-Ch120241227151002.png  \n",
            "  inflating: /content/dataset/images/train/d3a7d322-Ch120250120114801_learning.jpg  \n",
            "  inflating: /content/dataset/images/train/d3ccea1f-Ch120241121101252.png  \n",
            "  inflating: /content/dataset/images/train/d41c4c11-Ch120250202102824.jpg  \n",
            "  inflating: /content/dataset/images/train/d4409b51-Ch120250111161850.png  \n",
            "  inflating: /content/dataset/images/train/d44c0db2-Ch120241226102722.png  \n",
            "  inflating: /content/dataset/images/train/d46555db-Ch120241225114505.png  \n",
            "  inflating: /content/dataset/images/train/d46c3025-Ch120250202102425.jpg  \n",
            "  inflating: /content/dataset/images/train/d476cf7c-Ch120241121101446.png  \n",
            "  inflating: /content/dataset/images/train/d4d03c96-Ch120241203103400.png  \n",
            "  inflating: /content/dataset/images/train/d4e77e92-Ch120240927115726.png  \n",
            "  inflating: /content/dataset/images/train/d52d4abc-Ch120241225114322.png  \n",
            "  inflating: /content/dataset/images/train/d538ed6a-Ch120250206102545.jpg  \n",
            "  inflating: /content/dataset/images/train/d553b244-Ch120241225113133.png  \n",
            "  inflating: /content/dataset/images/train/d57b3e22-Ch120250202102812.jpg  \n",
            "  inflating: /content/dataset/images/train/d5975255-Ch120240927165202.png  \n",
            "  inflating: /content/dataset/images/train/d5a7867f-Ch120250202103341.jpg  \n",
            "  inflating: /content/dataset/images/train/d6353758-Ch120241227150957.png  \n",
            "  inflating: /content/dataset/images/train/d643e1f9-Ch120241227151356.png  \n",
            "  inflating: /content/dataset/images/train/d6643542-Ch120250202103333.jpg  \n",
            "  inflating: /content/dataset/images/train/d687f872-Ch120241227145420.png  \n",
            "  inflating: /content/dataset/images/train/d68aca9f-Ch120241225114444.png  \n",
            "  inflating: /content/dataset/images/train/d6b013a5-Ch120240927165614.png  \n",
            "  inflating: /content/dataset/images/train/d6d21f81-Ch120250129100054.jpg  \n",
            "  inflating: /content/dataset/images/train/d6d945d1-Ch120250115113326.png  \n",
            "  inflating: /content/dataset/images/train/d6dcb14e-Ch120250111161556.png  \n",
            "  inflating: /content/dataset/images/train/d6f332b0-Ch120241227151239.png  \n",
            "  inflating: /content/dataset/images/train/d7107233-Ch120250126102149.jpg  \n",
            "  inflating: /content/dataset/images/train/d73bdef6-Ch120250115145456.png  \n",
            "  inflating: /content/dataset/images/train/d7503baa-Ch120241225113029.png  \n",
            "  inflating: /content/dataset/images/train/d7840a6e-Ch120241021182423.png  \n",
            "  inflating: /content/dataset/images/train/d7884821-Ch120250120143555_learning.jpg  \n",
            "  inflating: /content/dataset/images/train/d7e02157-Ch120250311104218683.jpg  \n",
            "  inflating: /content/dataset/images/train/d81d068c-Ch120250228103739.jpg  \n",
            "  inflating: /content/dataset/images/train/d823ed09-Ch120250120114329_learning.jpg  \n",
            "  inflating: /content/dataset/images/train/d82c50ba-Ch120241225112846.png  \n",
            "  inflating: /content/dataset/images/train/d82d5e4c-Ch120250202103411.jpg  \n",
            "  inflating: /content/dataset/images/train/d873f69c-Ch120250111161130.png  \n",
            "  inflating: /content/dataset/images/train/d88140cb-Ch120241121101555.png  \n",
            "  inflating: /content/dataset/images/train/d88b25d4-Ch120241226145649.png  \n",
            "  inflating: /content/dataset/images/train/d8b36b83-Ch120250126103532.jpg  \n",
            "  inflating: /content/dataset/images/train/d8b7e052-Ch120250111161844.png  \n",
            "  inflating: /content/dataset/images/train/d8ba4316-Ch120241203103118.png  \n",
            "  inflating: /content/dataset/images/train/d8c7610c-Ch120250203095519.jpg  \n",
            "  inflating: /content/dataset/images/train/d8f12a8f-Ch120250111161625.png  \n",
            "  inflating: /content/dataset/images/train/d908637f-Ch120241226150616.png  \n",
            "  inflating: /content/dataset/images/train/d936d479-Ch120250206103009.jpg  \n",
            "  inflating: /content/dataset/images/train/d937d8e0-Ch120250129095739.jpg  \n",
            "  inflating: /content/dataset/images/train/d954fcb7-Ch120250111110018.png  \n",
            "  inflating: /content/dataset/images/train/d990c78d-Ch120250119144158_learning_learning.jpg  \n",
            "  inflating: /content/dataset/images/train/d9b0b17e-Ch120250126103911.jpg  \n",
            "  inflating: /content/dataset/images/train/d9ba53c5-Ch120250202102533.jpg  \n",
            "  inflating: /content/dataset/images/train/d9fe52a3-Ch120250302113436.jpg  \n",
            "  inflating: /content/dataset/images/train/da4a0c8a-Ch120250131100005.jpg  \n",
            "  inflating: /content/dataset/images/train/da5d373e-Ch120250111160944.png  \n",
            "  inflating: /content/dataset/images/train/dac95e32-Ch120250228103712.jpg  \n",
            "  inflating: /content/dataset/images/train/dacb5d60-Ch120250118104231_learning_learning.jpg  \n",
            "  inflating: /content/dataset/images/train/dae3950d-Ch120250118104142_learning_learning.jpg  \n",
            "  inflating: /content/dataset/images/train/db452f5b-Ch120250120144528_learning.jpg  \n",
            "  inflating: /content/dataset/images/train/db9964ba-Ch120250206104804.jpg  \n",
            "  inflating: /content/dataset/images/train/dbb54176-Ch120250115104926.png  \n",
            "  inflating: /content/dataset/images/train/dc0e7d33-Ch120241225104250.png  \n",
            "  inflating: /content/dataset/images/train/dc3f142d-Ch120250228102004.jpg  \n",
            "  inflating: /content/dataset/images/train/dc747e10-Ch120241225114339.png  \n",
            "  inflating: /content/dataset/images/train/dc7a8dbb-Ch120250116143042.jpg  \n",
            "  inflating: /content/dataset/images/train/dc849bc1-Ch120250111110006.png  \n",
            "  inflating: /content/dataset/images/train/dca0c079-Ch120241226102940.png  \n",
            "  inflating: /content/dataset/images/train/dcb57a2b-Ch120250111161622.png  \n",
            "  inflating: /content/dataset/images/train/dce4c29d-Ch120240927165444.png  \n",
            "  inflating: /content/dataset/images/train/dce572c1-Ch120250120114943_learning.jpg  \n",
            "  inflating: /content/dataset/images/train/dd471266-Ch120241225114506.png  \n",
            "  inflating: /content/dataset/images/train/dd8215fb-Ch120250115105013.png  \n",
            "  inflating: /content/dataset/images/train/dd95c688-Ch120240927115849.png  \n",
            "  inflating: /content/dataset/images/train/ddb74daa-Ch120241225114310.png  \n",
            "  inflating: /content/dataset/images/train/ddba693a-Ch120250130094331.jpg  \n",
            "  inflating: /content/dataset/images/train/dde03769-Ch120250116143822.jpg  \n",
            "  inflating: /content/dataset/images/train/ddee593f-Ch120241225114325.png  \n",
            "  inflating: /content/dataset/images/train/de0ad792-Ch120250128094308.jpg  \n",
            "  inflating: /content/dataset/images/train/de1fe442-Ch120241021100655.png  \n",
            "  inflating: /content/dataset/images/train/de6183f3-Ch120241225113409.png  \n",
            "  inflating: /content/dataset/images/train/de9c6360-Ch120250111161640.png  \n",
            "  inflating: /content/dataset/images/train/deacbd52-Ch120250120144641_learning.jpg  \n",
            "  inflating: /content/dataset/images/train/deadd3bc-Ch120250202103721.jpg  \n",
            "  inflating: /content/dataset/images/train/ded89100-Ch120250115145042.png  \n",
            "  inflating: /content/dataset/images/train/dee9d1b4-Ch120250111161846.png  \n",
            "  inflating: /content/dataset/images/train/df217858-Ch120241226150307.png  \n",
            "  inflating: /content/dataset/images/train/df2d066e-Ch120241226151008.png  \n",
            "  inflating: /content/dataset/images/train/df2e5e26-Ch120250118103839_learning_learning.jpg  \n",
            "  inflating: /content/dataset/images/train/df42b1dd-Ch120250203095259.jpg  \n",
            "  inflating: /content/dataset/images/train/df7de463-Ch120250130094151.jpg  \n",
            "  inflating: /content/dataset/images/train/dfa11d06-Ch120241226151002.png  \n",
            "  inflating: /content/dataset/images/train/dfe67d5b-Ch120241021100832.png  \n",
            "  inflating: /content/dataset/images/train/e04a71ea-Ch120241203103004.png  \n",
            "  inflating: /content/dataset/images/train/e07012cd-Ch120241203103330.png  \n",
            "  inflating: /content/dataset/images/train/e099129b-Ch120240927165628.png  \n",
            "  inflating: /content/dataset/images/train/e0a9251e-Ch120241227151223.png  \n",
            "  inflating: /content/dataset/images/train/e0b5b620-Ch120250111161430.png  \n",
            "  inflating: /content/dataset/images/train/e0d37413-Ch120250111160945.png  \n",
            "  inflating: /content/dataset/images/train/e0e5c996-Ch120241226103020.png  \n",
            "  inflating: /content/dataset/images/train/e1041131-Ch120241121101051.png  \n",
            "  inflating: /content/dataset/images/train/e11aaafa-Ch120241226150149.png  \n",
            "  inflating: /content/dataset/images/train/e11e8012-Ch120250115113308.png  \n",
            "  inflating: /content/dataset/images/train/e12c46cb-Ch120241203103420.png  \n",
            "  inflating: /content/dataset/images/train/e14839e8-Ch120241021100621.png  \n",
            "  inflating: /content/dataset/images/train/e159fcbe-Ch120250303095745.jpg  \n",
            "  inflating: /content/dataset/images/train/e166d081-Ch120241227145500.png  \n",
            "  inflating: /content/dataset/images/train/e1747a5d-Ch120250126113048.jpg  \n",
            "  inflating: /content/dataset/images/train/e1797602-Ch120241227151230.png  \n",
            "  inflating: /content/dataset/images/train/e1863e8b-Ch120240927165203.png  \n",
            "  inflating: /content/dataset/images/train/e1ca51c3-Ch120241226145633.png  \n",
            "  inflating: /content/dataset/images/train/e1cdd645-Ch120250131100133.jpg  \n",
            "  inflating: /content/dataset/images/train/e1d6e70d-Ch120241225113132.png  \n",
            "  inflating: /content/dataset/images/train/e1e44b07-Ch120250121102338.jpg  \n",
            "  inflating: /content/dataset/images/train/e1edbaee-Ch120241021182419.png  \n",
            "  inflating: /content/dataset/images/train/e2041613-Ch120241021100523.png  \n",
            "  inflating: /content/dataset/images/train/e23e1324-Ch120241121101429.png  \n",
            "  inflating: /content/dataset/images/train/e2400dfe-Ch120241225114457.png  \n",
            "  inflating: /content/dataset/images/train/e28d564f-Ch120241227151250.png  \n",
            "  inflating: /content/dataset/images/train/e2d9ba88-Ch120241225113016.png  \n",
            "  inflating: /content/dataset/images/train/e2eda133-Ch120250111160904.png  \n",
            "  inflating: /content/dataset/images/train/e2f1f130-Ch120250116142727.jpg  \n",
            "  inflating: /content/dataset/images/train/e2f32ef7-Ch120241121101456.png  \n",
            "  inflating: /content/dataset/images/train/e3043204-Ch120250116142825.jpg  \n",
            "  inflating: /content/dataset/images/train/e3144258-Ch120250128094336.jpg  \n",
            "  inflating: /content/dataset/images/train/e320ee21-Ch120241226103040.png  \n",
            "  inflating: /content/dataset/images/train/e3218688-Ch120250202103536.jpg  \n",
            "  inflating: /content/dataset/images/train/e323cb95-Ch120250118103228_learning.jpg  \n",
            "  inflating: /content/dataset/images/train/e348b90a-Ch120250125121050.jpg  \n",
            "  inflating: /content/dataset/images/train/e37dffe5-Ch120241226150003.png  \n",
            "  inflating: /content/dataset/images/train/e3859e93-Ch120250202102305.jpg  \n",
            "  inflating: /content/dataset/images/train/e3ad17a2-Ch120241203103235.png  \n",
            "  inflating: /content/dataset/images/train/e3f44500-Ch120250129095929.jpg  \n",
            "  inflating: /content/dataset/images/train/e4139de1-Ch120241225104259.png  \n",
            "  inflating: /content/dataset/images/train/e41cc92f-Ch120241225114357.png  \n",
            "  inflating: /content/dataset/images/train/e4328ad6-Ch120240927115500.png  \n",
            "  inflating: /content/dataset/images/train/e46d69fe-Ch120241227151232.png  \n",
            "  inflating: /content/dataset/images/train/e46eab55-Ch120250203095132.jpg  \n",
            "  inflating: /content/dataset/images/train/e4825184-Ch120240927165327.png  \n",
            "  inflating: /content/dataset/images/train/e4a257ce-Ch120250130094157.jpg  \n",
            "  inflating: /content/dataset/images/train/e4aacb60-Ch120241227151303.png  \n",
            "  inflating: /content/dataset/images/train/e50873bc-Ch120241225104400.png  \n",
            "  inflating: /content/dataset/images/train/e5184f73-Ch120241227151245.png  \n",
            "  inflating: /content/dataset/images/train/e53e685a-Ch120241225114531.png  \n",
            "  inflating: /content/dataset/images/train/e5705e4a-Ch120241227151102.png  \n",
            "  inflating: /content/dataset/images/train/e5aaee68-Ch120250203095416.jpg  \n",
            "  inflating: /content/dataset/images/train/e5c3a271-Ch120241203102912.png  \n",
            "  inflating: /content/dataset/images/train/e5f6cbee-Ch120250202100431.jpg  \n",
            "  inflating: /content/dataset/images/train/e618cf42-Ch120241203103237.png  \n",
            "  inflating: /content/dataset/images/train/e636e040-Ch120241225114507.png  \n",
            "  inflating: /content/dataset/images/train/e6798c70-Ch120250217104352.jpg  \n",
            "  inflating: /content/dataset/images/train/e69243c9-Ch120250203095409.jpg  \n",
            "  inflating: /content/dataset/images/train/e697a1fb-Ch120250130094251.jpg  \n",
            "  inflating: /content/dataset/images/train/e6c343db-Ch120250118095248_learning.jpg  \n",
            "  inflating: /content/dataset/images/train/e6d42d9a-Ch120241225114516.png  \n",
            "  inflating: /content/dataset/images/train/e6da78ea-Ch120240927165138.png  \n",
            "  inflating: /content/dataset/images/train/e6ddba16-Ch120241225114544.png  \n",
            "  inflating: /content/dataset/images/train/e73a3d7c-Ch120250116143714.jpg  \n",
            "  inflating: /content/dataset/images/train/e74660d8-Ch120241121101228.png  \n",
            "  inflating: /content/dataset/images/train/e7553dda-Ch120240927165754.png  \n",
            "  inflating: /content/dataset/images/train/e75a2b4f-Ch120250110111440.png  \n",
            "  inflating: /content/dataset/images/train/e770b068-Ch120250130094522.jpg  \n",
            "  inflating: /content/dataset/images/train/e7752819-Ch120241203102934.png  \n",
            "  inflating: /content/dataset/images/train/e779ec4c-Ch120241226102930.png  \n",
            "  inflating: /content/dataset/images/train/e7a081c3-Ch120250120114511_learning.jpg  \n",
            "  inflating: /content/dataset/images/train/e7ab324d-Ch120250116142654.jpg  \n",
            "  inflating: /content/dataset/images/train/e7b8635b-Ch120250206103201.jpg  \n",
            "  inflating: /content/dataset/images/train/e7c8604c-Ch120250206105454.jpg  \n",
            "  inflating: /content/dataset/images/train/e80136ec-Ch120241227145503.png  \n",
            "  inflating: /content/dataset/images/train/e8025b59-Ch120250202102546.jpg  \n",
            "  inflating: /content/dataset/images/train/e8115739-Ch120241226102834.png  \n",
            "  inflating: /content/dataset/images/train/e835ae65-Ch120241225114308.png  \n",
            "  inflating: /content/dataset/images/train/e861bf85-Ch120241225113414.png  \n",
            "  inflating: /content/dataset/images/train/e87f2253-Ch120250111161558.png  \n",
            "  inflating: /content/dataset/images/train/e8967449-Ch120250217104218.jpg  \n",
            "  inflating: /content/dataset/images/train/e8a8dfef-Ch120240927165642.png  \n",
            "  inflating: /content/dataset/images/train/e8e09565-Ch120250119143844_learning_learning.jpg  \n",
            "  inflating: /content/dataset/images/train/e8e7d7fc-Ch120250110111443.png  \n",
            "  inflating: /content/dataset/images/train/e912b143-Ch120250202102934.jpg  \n",
            "  inflating: /content/dataset/images/train/e912c14f-Ch120240927165739.png  \n",
            "  inflating: /content/dataset/images/train/e9237bb3-Ch120250115113008.png  \n",
            "  inflating: /content/dataset/images/train/e9245f96-Ch120241225112908.png  \n",
            "  inflating: /content/dataset/images/train/e94d9483-Ch120240927115839.png  \n",
            "  inflating: /content/dataset/images/train/e9a122ef-Ch120250206105142.jpg  \n",
            "  inflating: /content/dataset/images/train/e9bf7c1f-Ch120250111161418.png  \n",
            "  inflating: /content/dataset/images/train/e9e17f23-Ch120241203103018.png  \n",
            "  inflating: /content/dataset/images/train/e9eb5e81-Ch120241226151143.png  \n",
            "  inflating: /content/dataset/images/train/e9ebb456-Ch120241225114315.png  \n",
            "  inflating: /content/dataset/images/train/ea28bd86-Ch120241227145437.png  \n",
            "  inflating: /content/dataset/images/train/ea55176c-Ch120241203102953.png  \n",
            "  inflating: /content/dataset/images/train/ea64055d-Ch120241021160646.png  \n",
            "  inflating: /content/dataset/images/train/ea6741b7-Ch120250202100540.jpg  \n",
            "  inflating: /content/dataset/images/train/ea8ab7c1-Ch120241226103048.png  \n",
            "  inflating: /content/dataset/images/train/eabe2823-Ch120241225114342.png  \n",
            "  inflating: /content/dataset/images/train/eac5d5bb-Ch120241225114324.png  \n",
            "  inflating: /content/dataset/images/train/eac5f748-Ch120241021182324.png  \n",
            "  inflating: /content/dataset/images/train/ead973ce-Ch120241226102851.png  \n",
            "  inflating: /content/dataset/images/train/eaea761e-Ch120250119144130_learning_learning.jpg  \n",
            "  inflating: /content/dataset/images/train/eb093935-Ch120250129100008.jpg  \n",
            "  inflating: /content/dataset/images/train/eb2dac13-Ch120250217104548.jpg  \n",
            "  inflating: /content/dataset/images/train/eb35f4fc-Ch120250217104452.jpg  \n",
            "  inflating: /content/dataset/images/train/eb829128-Ch120250111161837.png  \n",
            "  inflating: /content/dataset/images/train/eb9f7ba2-Ch120240927120043.png  \n",
            "  inflating: /content/dataset/images/train/ebb4bb14-Ch120250111161614.png  \n",
            "  inflating: /content/dataset/images/train/ebc87b39-Ch120250311095124105.jpg  \n",
            "  inflating: /content/dataset/images/train/ebf1d02c-Ch120250121102604.jpg  \n",
            "  inflating: /content/dataset/images/train/ebf76a9f-Ch120250120144116_learning.jpg  \n",
            "  inflating: /content/dataset/images/train/ec25a825-Ch120250111161136.png  \n",
            "  inflating: /content/dataset/images/train/ec331b49-Ch120250115113405.png  \n",
            "  inflating: /content/dataset/images/train/ec398005-Ch120250115113610.png  \n",
            "  inflating: /content/dataset/images/train/ec402f4b-Ch120241227150958.png  \n",
            "  inflating: /content/dataset/images/train/ec4a7de5-Ch120241225113507.png  \n",
            "  inflating: /content/dataset/images/train/ec4ba70a-Ch120241021100535.png  \n",
            "  inflating: /content/dataset/images/train/ec938f54-Ch120241227151435.png  \n",
            "  inflating: /content/dataset/images/train/ecc4c16e-Ch120241121101239.png  \n",
            "  inflating: /content/dataset/images/train/ecf4a524-Ch120241225114410.png  \n",
            "  inflating: /content/dataset/images/train/ecfbd4ca-Ch120250130094511.jpg  \n",
            "  inflating: /content/dataset/images/train/ed204e59-Ch120250302102329.jpg  \n",
            "  inflating: /content/dataset/images/train/ed541427-Ch120250206105340.jpg  \n",
            "  inflating: /content/dataset/images/train/edc8a658-Ch120241121101403.png  \n",
            "  inflating: /content/dataset/images/train/edcd7e9a-Ch120240927165325.png  \n",
            "  inflating: /content/dataset/images/train/ee298446-Ch120241225113413.png  \n",
            "  inflating: /content/dataset/images/train/ee2a9c2d-Ch120241227151051.png  \n",
            "  inflating: /content/dataset/images/train/ee3bb7fc-Ch120241121101125.png  \n",
            "  inflating: /content/dataset/images/train/ee5a9ea9-Ch120250302101700.jpg  \n",
            "  inflating: /content/dataset/images/train/ee6144e5-Ch120250111161018.png  \n",
            "  inflating: /content/dataset/images/train/ee6a6f4c-Ch120240927115716.png  \n",
            "  inflating: /content/dataset/images/train/ee7fc4e6-Ch120250126103750.jpg  \n",
            "  inflating: /content/dataset/images/train/ee979159-Ch120250206103224.jpg  \n",
            "  inflating: /content/dataset/images/train/eea3beec-Ch120241021100602.png  \n",
            "  inflating: /content/dataset/images/train/eebf18e3-Ch120241021182321.png  \n",
            "  inflating: /content/dataset/images/train/eec1cbcb-Ch120241021182349.png  \n",
            "  inflating: /content/dataset/images/train/eec312cb-Ch120241225114304.png  \n",
            "  inflating: /content/dataset/images/train/eecb13aa-Ch120241225113135.png  \n",
            "  inflating: /content/dataset/images/train/eee87720-Ch120250128094020.jpg  \n",
            "  inflating: /content/dataset/images/train/ef18e2d5-Ch120241121101229.png  \n",
            "  inflating: /content/dataset/images/train/ef5d1233-Ch120250111160908.png  \n",
            "  inflating: /content/dataset/images/train/ef77faa2-Ch120250202103711.jpg  \n",
            "  inflating: /content/dataset/images/train/efdbc581-Ch120241225112857.png  \n",
            "  inflating: /content/dataset/images/train/eff2c526-Ch120241121101346.png  \n",
            "  inflating: /content/dataset/images/train/f06cd28f-Ch120241227145442.png  \n",
            "  inflating: /content/dataset/images/train/f0917300-Ch120250112105259.png  \n",
            "  inflating: /content/dataset/images/train/f10d41cc-Ch120250202102518.jpg  \n",
            "  inflating: /content/dataset/images/train/f11f9669-Ch120241225113038.png  \n",
            "  inflating: /content/dataset/images/train/f1229469-Ch120241227151432.png  \n",
            "  inflating: /content/dataset/images/train/f138ad29-Ch120250111161256.png  \n",
            "  inflating: /content/dataset/images/train/f156a5a3-Ch120250118100119_learning.jpg  \n",
            "  inflating: /content/dataset/images/train/f162cfae-Ch120250120105236_learning.jpg  \n",
            "  inflating: /content/dataset/images/train/f199d12d-Ch120250111110749.png  \n",
            "  inflating: /content/dataset/images/train/f1d13196-Ch120240927115705.png  \n",
            "  inflating: /content/dataset/images/train/f1d9146c-Ch120250303094831.jpg  \n",
            "  inflating: /content/dataset/images/train/f1e0aa02-Ch120250118095715_learning.jpg  \n",
            "  inflating: /content/dataset/images/train/f1ed33c2-Ch120241203103143.png  \n",
            "  inflating: /content/dataset/images/train/f1ff4254-Ch120250111161919.png  \n",
            "  inflating: /content/dataset/images/train/f200852b-Ch120250115105503.png  \n",
            "  inflating: /content/dataset/images/train/f2078114-Ch120250112104223.png  \n",
            "  inflating: /content/dataset/images/train/f229459e-Ch120250311104111547.jpg  \n",
            "  inflating: /content/dataset/images/train/f22ed561-Ch120241226102907.png  \n",
            "  inflating: /content/dataset/images/train/f235f67d-Ch120241225114442.png  \n",
            "  inflating: /content/dataset/images/train/f268ae14-Ch120241121101245.png  \n",
            "  inflating: /content/dataset/images/train/f28cfdee-Ch120250111161508.png  \n",
            "  inflating: /content/dataset/images/train/f28f0039-Ch120241121101659.png  \n",
            "  inflating: /content/dataset/images/train/f2b6c82e-Ch120250126103650.jpg  \n",
            "  inflating: /content/dataset/images/train/f2bbd806-Ch120241226102741.png  \n",
            "  inflating: /content/dataset/images/train/f2c25a79-Ch120250111161628.png  \n",
            "  inflating: /content/dataset/images/train/f2db2746-Ch120250111161646.png  \n",
            "  inflating: /content/dataset/images/train/f3085330-Ch120250110111945.png  \n",
            "  inflating: /content/dataset/images/train/f344e63a-Ch120250115113453.png  \n",
            "  inflating: /content/dataset/images/train/f36a9f4c-Ch120241021100536.png  \n",
            "  inflating: /content/dataset/images/train/f38f051b-Ch120250115112838.png  \n",
            "  inflating: /content/dataset/images/train/f392e650-Ch120250217104332.jpg  \n",
            "  inflating: /content/dataset/images/train/f39750ac-Ch120250309110848770.jpg  \n",
            "  inflating: /content/dataset/images/train/f39d6df7-Ch120241021160633.png  \n",
            "  inflating: /content/dataset/images/train/f3db9820-Ch120240927165159.png  \n",
            "  inflating: /content/dataset/images/train/f3e72add-Ch120241223130957.png  \n",
            "  inflating: /content/dataset/images/train/f3f8ebe2-Ch120240927115938.png  \n",
            "  inflating: /content/dataset/images/train/f40cb59a-Ch120241121101330.png  \n",
            "  inflating: /content/dataset/images/train/f45a0772-Ch120241225112920.png  \n",
            "  inflating: /content/dataset/images/train/f469dd92-Ch120250120110911_learning.jpg  \n",
            "  inflating: /content/dataset/images/train/f4930578-Ch120250116142806.jpg  \n",
            "  inflating: /content/dataset/images/train/f4abca0f-Ch120241021160631.png  \n",
            "  inflating: /content/dataset/images/train/f4c0314a-Ch120241021100633.png  \n",
            "  inflating: /content/dataset/images/train/f50e0ca1-Ch120241226102942.png  \n",
            "  inflating: /content/dataset/images/train/f513384e-Ch120250126101900.jpg  \n",
            "  inflating: /content/dataset/images/train/f55efe53-Ch120241225114253.png  \n",
            "  inflating: /content/dataset/images/train/f5c211eb-Ch120241225114447.png  \n",
            "  inflating: /content/dataset/images/train/f5c9154b-Ch120241225113404.png  \n",
            "  inflating: /content/dataset/images/train/f5d72b5f-Ch120250111161433.png  \n",
            "  inflating: /content/dataset/images/train/f5dfe1f2-Ch120250111161332.png  \n",
            "  inflating: /content/dataset/images/train/f5eacf7a-Ch120250202102347.jpg  \n",
            "  inflating: /content/dataset/images/train/f60e72aa-Ch120250111161349.png  \n",
            "  inflating: /content/dataset/images/train/f6d88f52-Ch120241225104236.png  \n",
            "  inflating: /content/dataset/images/train/f6da027d-Ch120241227151427.png  \n",
            "  inflating: /content/dataset/images/train/f748453f-Ch120241021100452.png  \n",
            "  inflating: /content/dataset/images/train/f782ac62-Ch120241227151016.png  \n",
            "  inflating: /content/dataset/images/train/f7877823-Ch120241225114426.png  \n",
            "  inflating: /content/dataset/images/train/f7940acd-Ch120250203095326.jpg  \n",
            "  inflating: /content/dataset/images/train/f7a0b5fc-Ch120241226150500.png  \n",
            "  inflating: /content/dataset/images/train/f7b2349d-Ch120250120105954_learning.jpg  \n",
            "  inflating: /content/dataset/images/train/f7dd5514-Ch120241226150047.png  \n",
            "  inflating: /content/dataset/images/train/f803ad77-Ch120250111110045.png  \n",
            "  inflating: /content/dataset/images/train/f8393a62-Ch120240927115801.png  \n",
            "  inflating: /content/dataset/images/train/f852be36-Ch120250121102858.jpg  \n",
            "  inflating: /content/dataset/images/train/f87b795d-Ch120241121101648.png  \n",
            "  inflating: /content/dataset/images/train/f93a044f-Ch120250126102405.jpg  \n",
            "  inflating: /content/dataset/images/train/f9744b3e-Ch120241225114452.png  \n",
            "  inflating: /content/dataset/images/train/f9c53eb2-Ch120250131100115.jpg  \n",
            "  inflating: /content/dataset/images/train/f9e3f7ff-Ch120240927115649.png  \n",
            "  inflating: /content/dataset/images/train/f9f6b42c-Ch120250203095156.jpg  \n",
            "  inflating: /content/dataset/images/train/f9fd05ca-Ch120250228103527.jpg  \n",
            "  inflating: /content/dataset/images/train/fa01d3bf-Ch120250131100109.jpg  \n",
            "  inflating: /content/dataset/images/train/fa05b63d-Ch120250128094120.jpg  \n",
            "  inflating: /content/dataset/images/train/fa25cea6-Ch120250111161917.png  \n",
            "  inflating: /content/dataset/images/train/fa41b6f8-Ch120250131100202.jpg  \n",
            "  inflating: /content/dataset/images/train/fa8cb8ca-Ch120241225104407.png  \n",
            "  inflating: /content/dataset/images/train/fab58f5f-Ch120241226102931.png  \n",
            "  inflating: /content/dataset/images/train/fb03aabe-Ch120250131100121.jpg  \n",
            "  inflating: /content/dataset/images/train/fb0e7339-Ch120241225113449.png  \n",
            "  inflating: /content/dataset/images/train/fb457829-Ch120250116143134.jpg  \n",
            "  inflating: /content/dataset/images/train/fb458430-Ch120241225104413.png  \n",
            "  inflating: /content/dataset/images/train/fb475ac6-Ch120250202103147.jpg  \n",
            "  inflating: /content/dataset/images/train/fb4bea59-Ch120250303095224.jpg  \n",
            "  inflating: /content/dataset/images/train/fb66d23e-Ch120250118103317_learning.jpg  \n",
            "  inflating: /content/dataset/images/train/fbf36325-Ch120241227151110.png  \n",
            "  inflating: /content/dataset/images/train/fc0f6c84-Ch120241121101144.png  \n",
            "  inflating: /content/dataset/images/train/fc15ef9f-Ch120250116143536.jpg  \n",
            "  inflating: /content/dataset/images/train/fc1b86dc-Ch120250120142643_learning.jpg  \n",
            "  inflating: /content/dataset/images/train/fc2a95be-Ch120250311104129824.jpg  \n",
            "  inflating: /content/dataset/images/train/fc2ade07-Ch120250111161410.png  \n",
            "  inflating: /content/dataset/images/train/fc58ab71-Ch120250130094409.jpg  \n",
            "  inflating: /content/dataset/images/train/fc9d0031-Ch120250206103325.jpg  \n",
            "  inflating: /content/dataset/images/train/fca92d53-Ch120240927165154.png  \n",
            "  inflating: /content/dataset/images/train/fcc78339-Ch120250202104348.jpg  \n",
            "  inflating: /content/dataset/images/train/fd045c56-Ch120250115112937.png  \n",
            "  inflating: /content/dataset/images/train/fd14cf1e-Ch120241226150555.png  \n",
            "  inflating: /content/dataset/images/train/fd27aa95-Ch120250309113335759.jpg  \n",
            "  inflating: /content/dataset/images/train/fd2cfcbe-Ch120240927165345.png  \n",
            "  inflating: /content/dataset/images/train/fd2f7c43-Ch120241121101628.png  \n",
            "  inflating: /content/dataset/images/train/fd66c6c4-Ch120250206103326.jpg  \n",
            "  inflating: /content/dataset/images/train/fd67d0eb-Ch120250111161907.png  \n",
            "  inflating: /content/dataset/images/train/fd764796-Ch120241121101439.png  \n",
            "  inflating: /content/dataset/images/train/fd861f6f-Ch120250202103731.jpg  \n",
            "  inflating: /content/dataset/images/train/fd91b187-Ch120241203103211.png  \n",
            "  inflating: /content/dataset/images/train/fdcecb53-Ch120241021100556.png  \n",
            "  inflating: /content/dataset/images/train/fdcfd588-Ch120250202102241.jpg  \n",
            "  inflating: /content/dataset/images/train/fde8992f-Ch120241121101417.png  \n",
            "  inflating: /content/dataset/images/train/fdf68a3c-Ch120250118095954_learning.jpg  \n",
            "  inflating: /content/dataset/images/train/fe22698d-Ch120250118103806_learning_learning.jpg  \n",
            "  inflating: /content/dataset/images/train/fe3fff1f-Ch120241227150955.png  \n",
            "  inflating: /content/dataset/images/train/fe4a0fbb-Ch120241226150435.png  \n",
            "  inflating: /content/dataset/images/train/fe768094-Ch120250202103103.jpg  \n",
            "  inflating: /content/dataset/images/train/fe9c386f-Ch120241225114537.png  \n",
            "  inflating: /content/dataset/images/train/fedb9bde-Ch120240927165424.png  \n",
            "  inflating: /content/dataset/images/train/fee47207-Ch120241226150407.png  \n",
            "  inflating: /content/dataset/images/train/feeefd8f-Ch120250120105716_learning.jpg  \n",
            "  inflating: /content/dataset/images/train/ff221d54-Ch120241225104336.png  \n",
            "  inflating: /content/dataset/images/train/ff2c7b38-Ch120250119143955_learning_learning.jpg  \n",
            "  inflating: /content/dataset/images/train/ff3972b3-Ch120250116142854.jpg  \n",
            "  inflating: /content/dataset/images/train/ff92ca45-Ch120250128094319.jpg  \n",
            "  inflating: /content/dataset/images/train/ffa4f8ba-Ch120250202103256.jpg  \n",
            "  inflating: /content/dataset/images/train/ffbfaf87-Ch120250111161347.png  \n",
            "  inflating: /content/dataset/images/train/ffd211dd-Ch120250228102722.jpg  \n",
            "   creating: /content/dataset/images/val/\n",
            "  inflating: /content/dataset/images/val/0042bc44-Ch120241226145821.png  \n",
            "  inflating: /content/dataset/images/val/00615313-Ch120250115112744.png  \n",
            "  inflating: /content/dataset/images/val/00792cbf-Ch120250202103543.jpg  \n",
            "  inflating: /content/dataset/images/val/009fdf91-Ch120241227151101.png  \n",
            "  inflating: /content/dataset/images/val/00b20551-Ch120250130094536.jpg  \n",
            "  inflating: /content/dataset/images/val/01178b8d-Ch120241227151253.png  \n",
            "  inflating: /content/dataset/images/val/0126ac60-Ch120250202103012.jpg  \n",
            "  inflating: /content/dataset/images/val/014572a4-Ch120250111161415.png  \n",
            "  inflating: /content/dataset/images/val/01abf85d-Ch120241225112853.png  \n",
            "  inflating: /content/dataset/images/val/03cafc76-Ch120241227151359.png  \n",
            "  inflating: /content/dataset/images/val/04135600-Ch120250131100206.jpg  \n",
            "  inflating: /content/dataset/images/val/04cbd534-Ch120250311104032944.jpg  \n",
            "  inflating: /content/dataset/images/val/054099fa-Ch120250120114709_learning.jpg  \n",
            "  inflating: /content/dataset/images/val/055d46af-Ch120241226102812.png  \n",
            "  inflating: /content/dataset/images/val/05bcc0c4-Ch120250125120748.jpg  \n",
            "  inflating: /content/dataset/images/val/064d2212-Ch120250116142801.jpg  \n",
            "  inflating: /content/dataset/images/val/06f8f36e-Ch120241121101614.png  \n",
            "  inflating: /content/dataset/images/val/0705e977-Ch120241227145448.png  \n",
            "  inflating: /content/dataset/images/val/07fd6ec4-Ch120241021160654.png  \n",
            "  inflating: /content/dataset/images/val/0813de66-Ch120250120110849_learning.jpg  \n",
            "  inflating: /content/dataset/images/val/083935e5-Ch120250303100127.jpg  \n",
            "  inflating: /content/dataset/images/val/08a8a638-Ch120240927115743.png  \n",
            "  inflating: /content/dataset/images/val/090cadb4-Ch120250203095123.jpg  \n",
            "  inflating: /content/dataset/images/val/095d7075-Ch120250118095145_learning.jpg  \n",
            "  inflating: /content/dataset/images/val/09cd5fb5-Ch120241021101052.png  \n",
            "  inflating: /content/dataset/images/val/0a627f22-Ch120241225113446.png  \n",
            "  inflating: /content/dataset/images/val/0ace87a2-Ch120250228102539.jpg  \n",
            "  inflating: /content/dataset/images/val/0b2b88ab-Ch120241227151440.png  \n",
            "  inflating: /content/dataset/images/val/0b2ba556-Ch120241225114445.png  \n",
            "  inflating: /content/dataset/images/val/0bd75d64-Ch120250118103146_learning.jpg  \n",
            "  inflating: /content/dataset/images/val/0be6c294-Ch120250130094501.jpg  \n",
            "  inflating: /content/dataset/images/val/0cc9aec6-Ch120241203103042.png  \n",
            "  inflating: /content/dataset/images/val/0dc18f30-Ch120241225114255.png  \n",
            "  inflating: /content/dataset/images/val/0e07ac72-Ch120250111161413.png  \n",
            "  inflating: /content/dataset/images/val/0e47621c-Ch120241225113536.png  \n",
            "  inflating: /content/dataset/images/val/0e5453b6-Ch120250115104822.png  \n",
            "  inflating: /content/dataset/images/val/0ecfc01d-Ch120241225104335.png  \n",
            "  inflating: /content/dataset/images/val/0f0b5a7a-Ch120241227151252.png  \n",
            "  inflating: /content/dataset/images/val/0f6c20df-Ch120250203095521.jpg  \n",
            "  inflating: /content/dataset/images/val/10fbec8c-Ch120250120105815_learning.jpg  \n",
            "  inflating: /content/dataset/images/val/1148c5e4-Ch120240927165616.png  \n",
            "  inflating: /content/dataset/images/val/118c3986-Ch120241225104301.png  \n",
            "  inflating: /content/dataset/images/val/122c793e-Ch120250115113048.png  \n",
            "  inflating: /content/dataset/images/val/12f83bda-Ch120241225113118.png  \n",
            "  inflating: /content/dataset/images/val/1303faae-Ch120250115113134.png  \n",
            "  inflating: /content/dataset/images/val/1374a1c1-Ch120241021182338.png  \n",
            "  inflating: /content/dataset/images/val/137e4300-Ch120241021182613.png  \n",
            "  inflating: /content/dataset/images/val/13e2090d-Ch120250130094255.jpg  \n",
            "  inflating: /content/dataset/images/val/13f958c9-Ch120250120105238_learning.jpg  \n",
            "  inflating: /content/dataset/images/val/148027f9-Ch120241226103046.png  \n",
            "  inflating: /content/dataset/images/val/14c5295c-Ch120241203103128.png  \n",
            "  inflating: /content/dataset/images/val/152a2712-Ch120241227151408.png  \n",
            "  inflating: /content/dataset/images/val/1558b7c0-Ch120240927115934.png  \n",
            "  inflating: /content/dataset/images/val/15639807-Ch120241227151059.png  \n",
            "  inflating: /content/dataset/images/val/15bc78e6-Ch120241121101434.png  \n",
            "  inflating: /content/dataset/images/val/15cbe0c8-Ch120241121101235.png  \n",
            "  inflating: /content/dataset/images/val/15f07e58-Ch120241226102740.png  \n",
            "  inflating: /content/dataset/images/val/1625071a-Ch120241226102900.png  \n",
            "  inflating: /content/dataset/images/val/16a1dadc-Ch120250118103221_learning.jpg  \n",
            "  inflating: /content/dataset/images/val/16f3c1cf-Ch120250202102431.jpg  \n",
            "  inflating: /content/dataset/images/val/1788e9ad-Ch120250202100543.jpg  \n",
            "  inflating: /content/dataset/images/val/18248004-Ch120250302101346.jpg  \n",
            "  inflating: /content/dataset/images/val/18ce671a-Ch120241227151308.png  \n",
            "  inflating: /content/dataset/images/val/18f9c0a3-Ch120250202103644.jpg  \n",
            "  inflating: /content/dataset/images/val/19054847-Ch120250120104025_learning.jpg  \n",
            "  inflating: /content/dataset/images/val/19393201-Ch120250302101336.jpg  \n",
            "  inflating: /content/dataset/images/val/198142c6-Ch120250115104821.png  \n",
            "  inflating: /content/dataset/images/val/19ac21c3-Ch120250111161605.png  \n",
            "  inflating: /content/dataset/images/val/19d51251-Ch120250126103048.jpg  \n",
            "  inflating: /content/dataset/images/val/1ac4e77c-Ch120241021101040.png  \n",
            "  inflating: /content/dataset/images/val/1b160cb8-Ch120241226150534.png  \n",
            "  inflating: /content/dataset/images/val/1db96cf2-Ch120250203095633.jpg  \n",
            "  inflating: /content/dataset/images/val/1dd6f647-Ch120241225113445.png  \n",
            "  inflating: /content/dataset/images/val/1ea06ee6-Ch120241225112938.png  \n",
            "  inflating: /content/dataset/images/val/1eb3e94a-Ch120241225112941.png  \n",
            "  inflating: /content/dataset/images/val/1f7bbaa3-Ch120241225113453.png  \n",
            "  inflating: /content/dataset/images/val/1fea424c-Ch120241226151009.png  \n",
            "  inflating: /content/dataset/images/val/201b79cf-Ch120241227151312.png  \n",
            "  inflating: /content/dataset/images/val/2041e183-Ch120240927115633.png  \n",
            "  inflating: /content/dataset/images/val/20487ad7-Ch120250115113717.png  \n",
            "  inflating: /content/dataset/images/val/212dfc07-Ch120241021182350.png  \n",
            "  inflating: /content/dataset/images/val/21382987-Ch120241021182342.png  \n",
            "  inflating: /content/dataset/images/val/2413b4b6-Ch120250111161350.png  \n",
            "  inflating: /content/dataset/images/val/24caade4-Ch120250128094201.jpg  \n",
            "  inflating: /content/dataset/images/val/2520e612-Ch120241226102933.png  \n",
            "  inflating: /content/dataset/images/val/25689fa7-Ch120241227151403.png  \n",
            "  inflating: /content/dataset/images/val/25e9518b-Ch120241225114314.png  \n",
            "  inflating: /content/dataset/images/val/262311e5-Ch120240927165146.png  \n",
            "  inflating: /content/dataset/images/val/2686ebde-Ch120240927165115.png  \n",
            "  inflating: /content/dataset/images/val/26eaeaa7-Ch120241226102928.png  \n",
            "  inflating: /content/dataset/images/val/2870dd45-Ch120250228103731.jpg  \n",
            "  inflating: /content/dataset/images/val/28d08380-Ch120241121101251.png  \n",
            "  inflating: /content/dataset/images/val/2908df45-Ch120250125120803.jpg  \n",
            "  inflating: /content/dataset/images/val/29cf976a-Ch120241225112856.png  \n",
            "  inflating: /content/dataset/images/val/2a38dd3a-Ch120250118104205_learning_learning.jpg  \n",
            "  inflating: /content/dataset/images/val/2a7d63ab-Ch120241021100726.png  \n",
            "  inflating: /content/dataset/images/val/2a8905e8-Ch120250202103528.jpg  \n",
            "  inflating: /content/dataset/images/val/2b3406d7-Ch120250118105145_learning_learning.jpg  \n",
            "  inflating: /content/dataset/images/val/2c1d62c6-Ch120241227151229.png  \n",
            "  inflating: /content/dataset/images/val/2da48244-Ch120240927115802.png  \n",
            "  inflating: /content/dataset/images/val/2db04504-Ch120241227145450.png  \n",
            "  inflating: /content/dataset/images/val/2dd92c3f-Ch120250126104131.jpg  \n",
            "  inflating: /content/dataset/images/val/2ef66e4b-Ch120250111161003.png  \n",
            "  inflating: /content/dataset/images/val/2f1fed04-Ch120241225114529.png  \n",
            "  inflating: /content/dataset/images/val/2f3e6e09-Ch120250119143234_learning_learning.jpg  \n",
            "  inflating: /content/dataset/images/val/2ff3cc2f-Ch120240927165421.png  \n",
            "  inflating: /content/dataset/images/val/2ffd53b9-Ch120250228100932.jpg  \n",
            "  inflating: /content/dataset/images/val/3015209b-Ch120250116142753.jpg  \n",
            "  inflating: /content/dataset/images/val/30405ce7-Ch120241227151446.png  \n",
            "  inflating: /content/dataset/images/val/30fdcd13-Ch120241225114428.png  \n",
            "  inflating: /content/dataset/images/val/3171ed65-Ch120241226150056.png  \n",
            "  inflating: /content/dataset/images/val/31868916-Ch120250202103237.jpg  \n",
            "  inflating: /content/dataset/images/val/31a0379a-Ch120250119144052_learning_learning.jpg  \n",
            "  inflating: /content/dataset/images/val/31e25fe5-Ch120250115112711.png  \n",
            "  inflating: /content/dataset/images/val/321e5ee5-Ch120241225114513.png  \n",
            "  inflating: /content/dataset/images/val/33caef39-Ch120250130094248.jpg  \n",
            "  inflating: /content/dataset/images/val/33d3eeef-Ch120250202104932.jpg  \n",
            "  inflating: /content/dataset/images/val/33f0e12c-Ch120241225113515.png  \n",
            "  inflating: /content/dataset/images/val/346764f2-Ch120250121102859.jpg  \n",
            "  inflating: /content/dataset/images/val/348e556a-Ch120241203103230.png  \n",
            "  inflating: /content/dataset/images/val/3491bdf6-Ch120241225114406.png  \n",
            "  inflating: /content/dataset/images/val/356aaa10-Ch120250120114704_learning.jpg  \n",
            "  inflating: /content/dataset/images/val/36153285-Ch120241225104420.png  \n",
            "  inflating: /content/dataset/images/val/378878bc-Ch120250203095222.jpg  \n",
            "  inflating: /content/dataset/images/val/37c68001-Ch120250302103159.jpg  \n",
            "  inflating: /content/dataset/images/val/38a0ff53-Ch120250206105036.jpg  \n",
            "  inflating: /content/dataset/images/val/3a08a54f-Ch120240927115756.png  \n",
            "  inflating: /content/dataset/images/val/3b4bc3b9-Ch120250202102353.jpg  \n",
            "  inflating: /content/dataset/images/val/3bb46ca0-Ch120250125120700.jpg  \n",
            "  inflating: /content/dataset/images/val/3bcfeda7-Ch120250202103111.jpg  \n",
            "  inflating: /content/dataset/images/val/3be46975-Ch120250130094341.jpg  \n",
            "  inflating: /content/dataset/images/val/3c1ef433-Ch120241225112943.png  \n",
            "  inflating: /content/dataset/images/val/3c423cab-Ch120250115105005.png  \n",
            "  inflating: /content/dataset/images/val/3c5b86c9-Ch120240927165333.png  \n",
            "  inflating: /content/dataset/images/val/3ce7f125-Ch120241226145646.png  \n",
            "  inflating: /content/dataset/images/val/3d90c7ee-Ch120250228104609.jpg  \n",
            "  inflating: /content/dataset/images/val/3dfde80d-Ch120241121101354.png  \n",
            "  inflating: /content/dataset/images/val/3f6df2ff-Ch120250111161849.png  \n",
            "  inflating: /content/dataset/images/val/404587f9-Ch120241227151116.png  \n",
            "  inflating: /content/dataset/images/val/409dd4bc-Ch120250217100042.jpg  \n",
            "  inflating: /content/dataset/images/val/409ffff3-Ch120241021182346.png  \n",
            "  inflating: /content/dataset/images/val/41e507e3-Ch120250130094357.jpg  \n",
            "  inflating: /content/dataset/images/val/430baa1f-Ch120250119143734_learning_learning.jpg  \n",
            "  inflating: /content/dataset/images/val/4319b94f-Ch120250128094235.jpg  \n",
            "  inflating: /content/dataset/images/val/43873969-Ch120240927115728.png  \n",
            "  inflating: /content/dataset/images/val/43dcb97e-Ch120250131100039.jpg  \n",
            "  inflating: /content/dataset/images/val/43df50d0-Ch120250202095953.jpg  \n",
            "  inflating: /content/dataset/images/val/4426f8c5-Ch120241203103335.png  \n",
            "  inflating: /content/dataset/images/val/445ee4bd-Ch120241121101505.png  \n",
            "  inflating: /content/dataset/images/val/44666dea-Ch120250217104555.jpg  \n",
            "  inflating: /content/dataset/images/val/447001df-Ch120241225113050.png  \n",
            "  inflating: /content/dataset/images/val/45980028-Ch120241121101615.png  \n",
            "  inflating: /content/dataset/images/val/4760d26a-Ch120241226150630.png  \n",
            "  inflating: /content/dataset/images/val/48dc4562-Ch120241225114407.png  \n",
            "  inflating: /content/dataset/images/val/4919030e-Ch120250228101617.jpg  \n",
            "  inflating: /content/dataset/images/val/49986c39-Ch120241021160706.png  \n",
            "  inflating: /content/dataset/images/val/49a8f5af-Ch120241021160645.png  \n",
            "  inflating: /content/dataset/images/val/49bc45c0-Ch120241121101350.png  \n",
            "  inflating: /content/dataset/images/val/49f739a0-Ch120241227151433.png  \n",
            "  inflating: /content/dataset/images/val/4a58be10-Ch120250203095444.jpg  \n",
            "  inflating: /content/dataset/images/val/4abef47b-Ch120241203102911.png  \n",
            "  inflating: /content/dataset/images/val/4b3fbe13-Ch120241226150352.png  \n",
            "  inflating: /content/dataset/images/val/4ca6e8e9-Ch120250206103306.jpg  \n",
            "  inflating: /content/dataset/images/val/4cf05333-Ch120250202103503.jpg  \n",
            "  inflating: /content/dataset/images/val/4cfbb0dd-Ch120241121101642.png  \n",
            "  inflating: /content/dataset/images/val/4d93dbba-Ch120250118103745_learning_learning.jpg  \n",
            "  inflating: /content/dataset/images/val/4d9a99bf-Ch120241121101133.png  \n",
            "  inflating: /content/dataset/images/val/4e284588-Ch120250228102609.jpg  \n",
            "  inflating: /content/dataset/images/val/4e945266-Ch120241021101051.png  \n",
            "  inflating: /content/dataset/images/val/4ef2e36d-Ch120250129100121.jpg  \n",
            "  inflating: /content/dataset/images/val/4efd3389-Ch120250302181216.jpg  \n",
            "  inflating: /content/dataset/images/val/5097d0c4-Ch120250111161353.png  \n",
            "  inflating: /content/dataset/images/val/51537fb1-Ch120250129095959.jpg  \n",
            "  inflating: /content/dataset/images/val/5164ec0b-Ch120241226102800.png  \n",
            "  inflating: /content/dataset/images/val/5262a880-Ch120250129100212.jpg  \n",
            "  inflating: /content/dataset/images/val/5268592c-Ch120241021100648.png  \n",
            "  inflating: /content/dataset/images/val/53a551d6-Ch120240927115754.png  \n",
            "  inflating: /content/dataset/images/val/53ba0386-Ch120241226102914.png  \n",
            "  inflating: /content/dataset/images/val/550d275a-Ch120241227151237.png  \n",
            "  inflating: /content/dataset/images/val/5515392f-Ch120241225112935.png  \n",
            "  inflating: /content/dataset/images/val/554828cd-Ch120250118110002_learning_learning.jpg  \n",
            "  inflating: /content/dataset/images/val/555ef1b1-Ch120250116143520.jpg  \n",
            "  inflating: /content/dataset/images/val/5573e3d7-Ch120240927115507.png  \n",
            "  inflating: /content/dataset/images/val/55f9cf96-Ch120250202103637.jpg  \n",
            "  inflating: /content/dataset/images/val/55fae9ba-Ch120250129095935.jpg  \n",
            "  inflating: /content/dataset/images/val/560dfb99-Ch120250202102231.jpg  \n",
            "  inflating: /content/dataset/images/val/5623950a-Ch120250115145419.png  \n",
            "  inflating: /content/dataset/images/val/5624c1cf-Ch120241021160617.png  \n",
            "  inflating: /content/dataset/images/val/5640db17-Ch120241203103212.png  \n",
            "  inflating: /content/dataset/images/val/565ae6e9-Ch120241226102710.png  \n",
            "  inflating: /content/dataset/images/val/56fddf89-Ch120250119143948_learning_learning.jpg  \n",
            "  inflating: /content/dataset/images/val/57d1c928-Ch120241227151242.png  \n",
            "  inflating: /content/dataset/images/val/58501a12-Ch120241021182421.png  \n",
            "  inflating: /content/dataset/images/val/58b84f9e-Ch120240927165747.png  \n",
            "  inflating: /content/dataset/images/val/58f0a406-Ch120250111161504.png  \n",
            "  inflating: /content/dataset/images/val/59119fa2-Ch120241021160618.png  \n",
            "  inflating: /content/dataset/images/val/5a7f1fd5-Ch120250111161525.png  \n",
            "  inflating: /content/dataset/images/val/5aa1e10a-Ch120241227145453.png  \n",
            "  inflating: /content/dataset/images/val/5ab554d8-Ch120241226150556.png  \n",
            "  inflating: /content/dataset/images/val/5ac7c353-Ch120241227151008.png  \n",
            "  inflating: /content/dataset/images/val/5ad90774-Ch120241227145433.png  \n",
            "  inflating: /content/dataset/images/val/5b037249-Ch120250110112054.png  \n",
            "  inflating: /content/dataset/images/val/5b385a5b-Ch120250118095328_learning.jpg  \n",
            "  inflating: /content/dataset/images/val/5b3e3b4f-Ch120250130094203.jpg  \n",
            "  inflating: /content/dataset/images/val/5ba83d78-Ch120250202103014.jpg  \n",
            "  inflating: /content/dataset/images/val/5bb5da56-Ch120240927120032.png  \n",
            "  inflating: /content/dataset/images/val/5c0c346d-Ch120241225104341.png  \n",
            "  inflating: /content/dataset/images/val/5c8ed3c0-Ch120250206103635.jpg  \n",
            "  inflating: /content/dataset/images/val/5cbcf1ae-Ch120250302101627.jpg  \n",
            "  inflating: /content/dataset/images/val/5cd206fe-Ch120250311095232872.jpg  \n",
            "  inflating: /content/dataset/images/val/5ce07326-Ch120250120114706_learning.jpg  \n",
            "  inflating: /content/dataset/images/val/5d857408-Ch120250126113124.jpg  \n",
            "  inflating: /content/dataset/images/val/5d934cca-Ch120250202103038.jpg  \n",
            "  inflating: /content/dataset/images/val/5db8b0cf-Ch120241021182353.png  \n",
            "  inflating: /content/dataset/images/val/5dc508ad-Ch120241227151231.png  \n",
            "  inflating: /content/dataset/images/val/5e29b086-Ch120241227151213.png  \n",
            "  inflating: /content/dataset/images/val/5e4f73aa-Ch120250111161010.png  \n",
            "  inflating: /content/dataset/images/val/5f9d09ef-Ch120250202103054.jpg  \n",
            "  inflating: /content/dataset/images/val/60c2b890-Ch120240927165414.png  \n",
            "  inflating: /content/dataset/images/val/60cd0f5f-Ch120250311104546742.jpg  \n",
            "  inflating: /content/dataset/images/val/613cf64b-Ch120240927165454.png  \n",
            "  inflating: /content/dataset/images/val/6226e214-Ch120250120114743_learning.jpg  \n",
            "  inflating: /content/dataset/images/val/63aec24c-Ch120250302104244.jpg  \n",
            "  inflating: /content/dataset/images/val/63bbc1c8-Ch120241226145623.png  \n",
            "  inflating: /content/dataset/images/val/63d04a09-Ch120241225114427.png  \n",
            "  inflating: /content/dataset/images/val/6423b232-Ch120240927115939.png  \n",
            "  inflating: /content/dataset/images/val/642d642a-Ch120250202103701.jpg  \n",
            "  inflating: /content/dataset/images/val/64649eef-Ch120250203095252.jpg  \n",
            "  inflating: /content/dataset/images/val/6475bdf8-Ch120250129100148.jpg  \n",
            "  inflating: /content/dataset/images/val/65bd495c-Ch120250111161629.png  \n",
            "  inflating: /content/dataset/images/val/66e09ff9-Ch120250130094313.jpg  \n",
            "  inflating: /content/dataset/images/val/6727ab8d-Ch120250118104735_learning_learning.jpg  \n",
            "  inflating: /content/dataset/images/val/676d6289-Ch120250202100307.jpg  \n",
            "  inflating: /content/dataset/images/val/689fe367-Ch120241225114338.png  \n",
            "  inflating: /content/dataset/images/val/6998f550-Ch120250309113108592.jpg  \n",
            "  inflating: /content/dataset/images/val/69b26534-Ch120240927115501.png  \n",
            "  inflating: /content/dataset/images/val/69b9aa0c-Ch120241021100445.png  \n",
            "  inflating: /content/dataset/images/val/6a5d4aab-Ch120250202102259.jpg  \n",
            "  inflating: /content/dataset/images/val/6b04a62b-Ch120250115105412.png  \n",
            "  inflating: /content/dataset/images/val/6b69efb2-Ch120241226150027.png  \n",
            "  inflating: /content/dataset/images/val/6bf07958-Ch120250202102629.jpg  \n",
            "  inflating: /content/dataset/images/val/6c5c9387-Ch120241021160624.png  \n",
            "  inflating: /content/dataset/images/val/6cbe24c4-Ch120250119144113_learning_learning.jpg  \n",
            "  inflating: /content/dataset/images/val/6d9e3da0-Ch120241225112923.png  \n",
            "  inflating: /content/dataset/images/val/6e3cecd8-Ch120250111161422.png  \n",
            "  inflating: /content/dataset/images/val/6e8d2437-Ch120250202103559.jpg  \n",
            "  inflating: /content/dataset/images/val/6e9fdbf9-Ch120250128094101.jpg  \n",
            "  inflating: /content/dataset/images/val/6fd8f2a1-Ch120241225112841.png  \n",
            "  inflating: /content/dataset/images/val/701450e7-Ch120241227151350.png  \n",
            "  inflating: /content/dataset/images/val/70efa035-Ch120250202103751.jpg  \n",
            "  inflating: /content/dataset/images/val/719aa94b-Ch120241203103432.png  \n",
            "  inflating: /content/dataset/images/val/721261dd-Ch120250202102330.jpg  \n",
            "  inflating: /content/dataset/images/val/73067c4e-Ch120250119143426_learning_learning.jpg  \n",
            "  inflating: /content/dataset/images/val/732d50d7-Ch120241121101154.png  \n",
            "  inflating: /content/dataset/images/val/738f6d62-Ch120250120105952_learning.jpg  \n",
            "  inflating: /content/dataset/images/val/73be0994-Ch120241021100800.png  \n",
            "  inflating: /content/dataset/images/val/73d1191f-Ch120241121101556.png  \n",
            "  inflating: /content/dataset/images/val/742d50fc-Ch120241227151422.png  \n",
            "  inflating: /content/dataset/images/val/745cf860-Ch120250126102944.jpg  \n",
            "  inflating: /content/dataset/images/val/74dfbdc5-Ch120241226102833.png  \n",
            "  inflating: /content/dataset/images/val/74ed8b79-Ch120250130094537.jpg  \n",
            "  inflating: /content/dataset/images/val/750226ae-Ch120250206104118.jpg  \n",
            "  inflating: /content/dataset/images/val/760d39c1-Ch120250202104440.jpg  \n",
            "  inflating: /content/dataset/images/val/76713436-Ch120250130094401.jpg  \n",
            "  inflating: /content/dataset/images/val/770d77a3-Ch120250217102947.jpg  \n",
            "  inflating: /content/dataset/images/val/7749de51-Ch120250111161813.png  \n",
            "  inflating: /content/dataset/images/val/79beb980-Ch120241021182619.png  \n",
            "  inflating: /content/dataset/images/val/7a0a6f6e-Ch120250129095952.jpg  \n",
            "  inflating: /content/dataset/images/val/7ad97629-Ch120250115105541.png  \n",
            "  inflating: /content/dataset/images/val/7ae86371-Ch120241121101413.png  \n",
            "  inflating: /content/dataset/images/val/7bb12d02-Ch120250202102314.jpg  \n",
            "  inflating: /content/dataset/images/val/7c7c4863-Ch120240927115841.png  \n",
            "  inflating: /content/dataset/images/val/7ce27bc7-Ch120250119143848_learning_learning.jpg  \n",
            "  inflating: /content/dataset/images/val/7d0e2e54-Ch120241203103304.png  \n",
            "  inflating: /content/dataset/images/val/7d6f411a-Ch120250118110934_learning_learning.jpg  \n",
            "  inflating: /content/dataset/images/val/7e1ae1b3-Ch120241021160657.png  \n",
            "  inflating: /content/dataset/images/val/7e6bb087-Ch120250118095210_learning.jpg  \n",
            "  inflating: /content/dataset/images/val/7e92e9e7-Ch120250202103030.jpg  \n",
            "  inflating: /content/dataset/images/val/7f6bb16f-Ch120250206104051.jpg  \n",
            "  inflating: /content/dataset/images/val/7facbe78-Ch120241227151437.png  \n",
            "  inflating: /content/dataset/images/val/7fd65a88-Ch120241226102701.png  \n",
            "  inflating: /content/dataset/images/val/7fd68911-Ch120241021160620.png  \n",
            "  inflating: /content/dataset/images/val/7ff7a001-Ch120241227151256.png  \n",
            "  inflating: /content/dataset/images/val/80361a57-Ch120250111161531.png  \n",
            "  inflating: /content/dataset/images/val/806e7c48-Ch120250130094337.jpg  \n",
            "  inflating: /content/dataset/images/val/817b06f8-Ch120241021182617.png  \n",
            "  inflating: /content/dataset/images/val/8214f690-Ch120250121102208.jpg  \n",
            "  inflating: /content/dataset/images/val/82df2e3a-Ch120250116143735.jpg  \n",
            "  inflating: /content/dataset/images/val/82fee346-Ch120250126103354.jpg  \n",
            "  inflating: /content/dataset/images/val/83291453-Ch120250116142702.jpg  \n",
            "  inflating: /content/dataset/images/val/83e1c540-Ch120250115112811.png  \n",
            "  inflating: /content/dataset/images/val/84dedd41-Ch120241203103257.png  \n",
            "  inflating: /content/dataset/images/val/85248e2b-Ch120241021182411.png  \n",
            "  inflating: /content/dataset/images/val/85d4634f-Ch120250118104103_learning_learning.jpg  \n",
            "  inflating: /content/dataset/images/val/85f3e761-Ch120241203103225.png  \n",
            "  inflating: /content/dataset/images/val/8620c90e-Ch120250119143817_learning_learning.jpg  \n",
            "  inflating: /content/dataset/images/val/8628f1ff-Ch120241225113443.png  \n",
            "  inflating: /content/dataset/images/val/865aaf62-Ch120241021182422.png  \n",
            "  inflating: /content/dataset/images/val/86d73a9f-Ch120250115150025.png  \n",
            "  inflating: /content/dataset/images/val/86ff7138-Ch120250118104706_learning_learning.jpg  \n",
            "  inflating: /content/dataset/images/val/8762eb83-Ch120250116143827.jpg  \n",
            "  inflating: /content/dataset/images/val/87a4a46b-Ch120250120111146_learning.jpg  \n",
            "  inflating: /content/dataset/images/val/87fa3840-Ch120250115113414.png  \n",
            "  inflating: /content/dataset/images/val/880acec6-Ch120250115113635.png  \n",
            "  inflating: /content/dataset/images/val/88382b32-Ch120241021100516.png  \n",
            "  inflating: /content/dataset/images/val/88482de7-Ch120250116143619.jpg  \n",
            "  inflating: /content/dataset/images/val/88a81292-Ch120250206103305.jpg  \n",
            "  inflating: /content/dataset/images/val/88d92393-Ch120241227145432.png  \n",
            "  inflating: /content/dataset/images/val/890826ad-Ch120241225113526.png  \n",
            "  inflating: /content/dataset/images/val/89a7f31e-Ch120241227151425.png  \n",
            "  inflating: /content/dataset/images/val/8c135022-Ch120241021101024.png  \n",
            "  inflating: /content/dataset/images/val/8c22148c-Ch120241225104334.png  \n",
            "  inflating: /content/dataset/images/val/8c7762e0-Ch120241225114458.png  \n",
            "  inflating: /content/dataset/images/val/8cb9a082-Ch120250119143443_learning_learning.jpg  \n",
            "  inflating: /content/dataset/images/val/8d600934-Ch120250202103626.jpg  \n",
            "  inflating: /content/dataset/images/val/8e23f7e6-Ch120240927165630.png  \n",
            "  inflating: /content/dataset/images/val/8ecc4ef1-Ch120241227151402.png  \n",
            "  inflating: /content/dataset/images/val/8ee318a2-Ch120241227145438.png  \n",
            "  inflating: /content/dataset/images/val/8ff4fc0d-Ch120250111110507.png  \n",
            "  inflating: /content/dataset/images/val/90456bf3-Ch120250121155451.jpg  \n",
            "  inflating: /content/dataset/images/val/905ecffe-Ch120250116144041.jpg  \n",
            "  inflating: /content/dataset/images/val/9082a3e2-Ch120250129100038.jpg  \n",
            "  inflating: /content/dataset/images/val/9177d005-Ch120250131100104.jpg  \n",
            "  inflating: /content/dataset/images/val/919ed3cf-Ch120250111161125.png  \n",
            "  inflating: /content/dataset/images/val/927d6f88-Ch120250309110853465.jpg  \n",
            "  inflating: /content/dataset/images/val/92f16729-Ch120250118105114_learning_learning.jpg  \n",
            "  inflating: /content/dataset/images/val/9336d566-Ch120241225104449.png  \n",
            "  inflating: /content/dataset/images/val/93b18d99-Ch120241121101042.png  \n",
            "  inflating: /content/dataset/images/val/94337714-Ch120250111161148.png  \n",
            "  inflating: /content/dataset/images/val/94550c58-Ch120250126103853.jpg  \n",
            "  inflating: /content/dataset/images/val/94658844-Ch120250116142603.jpg  \n",
            "  inflating: /content/dataset/images/val/94e953ee-Ch120240927115901.png  \n",
            "  inflating: /content/dataset/images/val/9552e4c0-Ch120250111161506.png  \n",
            "  inflating: /content/dataset/images/val/95a93751-Ch120250206105303.jpg  \n",
            "  inflating: /content/dataset/images/val/96ad41a9-Ch120241021160637.png  \n",
            "  inflating: /content/dataset/images/val/97355b9c-Ch120250111161655.png  \n",
            "  inflating: /content/dataset/images/val/98078eff-Ch120241121101035.png  \n",
            "  inflating: /content/dataset/images/val/982c90db-Ch120240927165503.png  \n",
            "  inflating: /content/dataset/images/val/98b05a94-Ch120241227145505.png  \n",
            "  inflating: /content/dataset/images/val/98cfa9b0-Ch120241225113033.png  \n",
            "  inflating: /content/dataset/images/val/98d6eb7d-Ch120241021100512.png  \n",
            "  inflating: /content/dataset/images/val/98dbed6e-Ch120241203102905.png  \n",
            "  inflating: /content/dataset/images/val/9997311d-Ch120250115112647.png  \n",
            "  inflating: /content/dataset/images/val/99c362be-Ch120241121101358.png  \n",
            "  inflating: /content/dataset/images/val/9a2641fc-Ch120241227151406.png  \n",
            "  inflating: /content/dataset/images/val/9a2a2aab-Ch120241225114415.png  \n",
            "  inflating: /content/dataset/images/val/9aa11f08-Ch120241021160556.png  \n",
            "  inflating: /content/dataset/images/val/9af4ab16-Ch120250118103928_learning_learning.jpg  \n",
            "  inflating: /content/dataset/images/val/9bb0f1f3-Ch120250130094514.jpg  \n",
            "  inflating: /content/dataset/images/val/9d5fd818-Ch120241225104357.png  \n",
            "  inflating: /content/dataset/images/val/9d6606d5-Ch120250311095332236.jpg  \n",
            "  inflating: /content/dataset/images/val/9dc203c2-Ch120250202103712.jpg  \n",
            "  inflating: /content/dataset/images/val/9df74cf8-Ch120241225113030.png  \n",
            "  inflating: /content/dataset/images/val/9e4680b7-Ch120250111161937.png  \n",
            "  inflating: /content/dataset/images/val/9ee104be-Ch120240927115805.png  \n",
            "  inflating: /content/dataset/images/val/9fc23823-Ch120250118105128_learning_learning.jpg  \n",
            "  inflating: /content/dataset/images/val/9ff57cc5-Ch120250111161523.png  \n",
            "  inflating: /content/dataset/images/val/9ff700ff-Ch120241226145911.png  \n",
            "  inflating: /content/dataset/images/val/a0cd0d8f-Ch120241021101100.png  \n",
            "  inflating: /content/dataset/images/val/a0d11b5e-Ch120250118103633_learning.jpg  \n",
            "  inflating: /content/dataset/images/val/a113b187-Ch120250311095224168.jpg  \n",
            "  inflating: /content/dataset/images/val/a151126a-Ch120250202102423.jpg  \n",
            "  inflating: /content/dataset/images/val/a1f5d9c9-Ch120250116143447.jpg  \n",
            "  inflating: /content/dataset/images/val/a26cffd6-Ch120250228103847.jpg  \n",
            "  inflating: /content/dataset/images/val/a2aee4d0-Ch120250126113050.jpg  \n",
            "  inflating: /content/dataset/images/val/a2f3d091-Ch120241225113500.png  \n",
            "  inflating: /content/dataset/images/val/a4228b22-Ch120250119143419_learning_learning.jpg  \n",
            "  inflating: /content/dataset/images/val/a60c7c28-Ch120241225113447.png  \n",
            "  inflating: /content/dataset/images/val/a6d7a9e4-Ch120241021160604.png  \n",
            "  inflating: /content/dataset/images/val/a853548b-Ch120240927115806.png  \n",
            "  inflating: /content/dataset/images/val/a853daa4-Ch120250202103511.jpg  \n",
            "  inflating: /content/dataset/images/val/a8a06cb5-Ch120241226102944.png  \n",
            "  inflating: /content/dataset/images/val/a8c18a5d-Ch120241021182322.png  \n",
            "  inflating: /content/dataset/images/val/a8cbc03d-Ch120241226102954.png  \n",
            "  inflating: /content/dataset/images/val/a944abd7-Ch120250119143635_learning_learning.jpg  \n",
            "  inflating: /content/dataset/images/val/aa03041e-Ch120241021160610.png  \n",
            "  inflating: /content/dataset/images/val/aa99ad5b-Ch120241226102803.png  \n",
            "  inflating: /content/dataset/images/val/ab9fc00f-Ch120241021182334.png  \n",
            "  inflating: /content/dataset/images/val/abec931b-Ch120250113104507.png  \n",
            "  inflating: /content/dataset/images/val/ac4eb8fc-Ch120241021100749.png  \n",
            "  inflating: /content/dataset/images/val/ad172144-Ch120250121160702.jpg  \n",
            "  inflating: /content/dataset/images/val/ada8ac05-Ch120241021160627.png  \n",
            "  inflating: /content/dataset/images/val/adba6f46-Ch120250115113621.png  \n",
            "  inflating: /content/dataset/images/val/adde3e05-Ch120241226102744.png  \n",
            "  inflating: /content/dataset/images/val/ae183db9-Ch120250202103719.jpg  \n",
            "  inflating: /content/dataset/images/val/ae69c1fb-Ch120250202102935.jpg  \n",
            "  inflating: /content/dataset/images/val/aec56123-Ch120241226150657.png  \n",
            "  inflating: /content/dataset/images/val/aecff459-Ch120250119143106_learning.jpg  \n",
            "  inflating: /content/dataset/images/val/afb30a56-Ch120250119143250_learning_learning.jpg  \n",
            "  inflating: /content/dataset/images/val/b06c0dc4-Ch120241225112919.png  \n",
            "  inflating: /content/dataset/images/val/b091e6a6-Ch120250119142947_learning.jpg  \n",
            "  inflating: /content/dataset/images/val/b0ae84ce-Ch120250111161753.png  \n",
            "  inflating: /content/dataset/images/val/b0d8ecc8-Ch120250302104154.jpg  \n",
            "  inflating: /content/dataset/images/val/b135eb28-Ch120250125121258.jpg  \n",
            "  inflating: /content/dataset/images/val/b16adfd3-Ch120241225113011.png  \n",
            "  inflating: /content/dataset/images/val/b1bacc83-Ch120250228101101.jpg  \n",
            "  inflating: /content/dataset/images/val/b29e7fcb-Ch120241203102942.png  \n",
            "  inflating: /content/dataset/images/val/b2ab29e0-Ch120250129095908.jpg  \n",
            "  inflating: /content/dataset/images/val/b2dcd5f1-Ch120241225114340.png  \n",
            "  inflating: /content/dataset/images/val/b34d4f84-Ch120240927120022.png  \n",
            "  inflating: /content/dataset/images/val/b4191d5e-Ch120241225114408.png  \n",
            "  inflating: /content/dataset/images/val/b45d1b1d-Ch120241021100522.png  \n",
            "  inflating: /content/dataset/images/val/b46fa295-Ch120241225113408.png  \n",
            "  inflating: /content/dataset/images/val/b48fd075-Ch120250118104504_learning_learning.jpg  \n",
            "  inflating: /content/dataset/images/val/b5be6d9e-Ch120241226145918.png  \n",
            "  inflating: /content/dataset/images/val/b5c74364-Ch120241226103150.png  \n",
            "  inflating: /content/dataset/images/val/b7608094-Ch120241226150012.png  \n",
            "  inflating: /content/dataset/images/val/b80e2ab5-Ch120241227145509.png  \n",
            "  inflating: /content/dataset/images/val/b81ddff3-Ch120250206103713.jpg  \n",
            "  inflating: /content/dataset/images/val/b8a4a22c-Ch120250120114035_learning.jpg  \n",
            "  inflating: /content/dataset/images/val/baba1d93-Ch120241226103034.png  \n",
            "  inflating: /content/dataset/images/val/baf22ff4-Ch120250116142613.jpg  \n",
            "  inflating: /content/dataset/images/val/bb9fc46a-Ch120250202103022.jpg  \n",
            "  inflating: /content/dataset/images/val/bbf93084-Ch120250311104109884.jpg  \n",
            "  inflating: /content/dataset/images/val/bd45c588-Ch120241121101212.png  \n",
            "  inflating: /content/dataset/images/val/bd6d7ed3-Ch120241225114425.png  \n",
            "  inflating: /content/dataset/images/val/bd7b4501-Ch120241021100712.png  \n",
            "  inflating: /content/dataset/images/val/bdd14c63-Ch120250116142849.jpg  \n",
            "  inflating: /content/dataset/images/val/be1bf35a-Ch120241203103201.png  \n",
            "  inflating: /content/dataset/images/val/be77f75b-Ch120241021182408.png  \n",
            "  inflating: /content/dataset/images/val/bf422a3e-Ch120240927115637.png  \n",
            "  inflating: /content/dataset/images/val/c093a0f6-Ch120241226150724.png  \n",
            "  inflating: /content/dataset/images/val/c1a608b2-Ch120250302105919.jpg  \n",
            "  inflating: /content/dataset/images/val/c20f9285-Ch120241121101455.png  \n",
            "  inflating: /content/dataset/images/val/c383eb94-Ch120250115113257.png  \n",
            "  inflating: /content/dataset/images/val/c42df4ea-Ch120250203095340.jpg  \n",
            "  inflating: /content/dataset/images/val/c44e26f1-Ch120241203103043.png  \n",
            "  inflating: /content/dataset/images/val/c48f9171-Ch120250129095918.jpg  \n",
            "  inflating: /content/dataset/images/val/c4fb93c7-Ch120241203103258.png  \n",
            "  inflating: /content/dataset/images/val/c5644f21-Ch120250115105143.png  \n",
            "  inflating: /content/dataset/images/val/c612644f-Ch120250116143548.jpg  \n",
            "  inflating: /content/dataset/images/val/c6a3204f-Ch120250130094318.jpg  \n",
            "  inflating: /content/dataset/images/val/c770c504-Ch120250111161742.png  \n",
            "  inflating: /content/dataset/images/val/c78f097e-Ch120250302103901.jpg  \n",
            "  inflating: /content/dataset/images/val/c95e6d1c-Ch120250110111816.png  \n",
            "  inflating: /content/dataset/images/val/c9716a25-Ch120250115105144.png  \n",
            "  inflating: /content/dataset/images/val/c9e16a34-Ch120241227151354.png  \n",
            "  inflating: /content/dataset/images/val/ca2fa9a4-Ch120250126101935.jpg  \n",
            "  inflating: /content/dataset/images/val/ca520f5d-Ch120250111161320.png  \n",
            "  inflating: /content/dataset/images/val/cae83ed2-Ch120250115113400.png  \n",
            "  inflating: /content/dataset/images/val/cb2590a7-Ch120250202102958.jpg  \n",
            "  inflating: /content/dataset/images/val/cb512bcf-Ch120250228101333.jpg  \n",
            "  inflating: /content/dataset/images/val/cb8016b9-Ch120241223131004.png  \n",
            "  inflating: /content/dataset/images/val/cb9aa4a3-Ch120241225113103.png  \n",
            "  inflating: /content/dataset/images/val/cbaa3833-Ch120250311095223247.jpg  \n",
            "  inflating: /content/dataset/images/val/cc433b03-Ch120250111161916.png  \n",
            "  inflating: /content/dataset/images/val/cc5a8f62-Ch120250202103550.jpg  \n",
            "  inflating: /content/dataset/images/val/cc78fb32-Ch120241203103003.png  \n",
            "  inflating: /content/dataset/images/val/ccb6b8ad-Ch120250119143729_learning_learning.jpg  \n",
            "  inflating: /content/dataset/images/val/ccbd6a8f-Ch120241225113501.png  \n",
            "  inflating: /content/dataset/images/val/ccc6ec5b-Ch120241225112842.png  \n",
            "  inflating: /content/dataset/images/val/cccdd989-Ch120241227145504.png  \n",
            "  inflating: /content/dataset/images/val/cd471096-Ch120241021182404.png  \n",
            "  inflating: /content/dataset/images/val/cdf5273e-Ch120250302105615.jpg  \n",
            "  inflating: /content/dataset/images/val/ce70555e-Ch120241225113014.png  \n",
            "  inflating: /content/dataset/images/val/cefe3225-Ch120241021100911.png  \n",
            "  inflating: /content/dataset/images/val/cfa330df-Ch120241227145415.png  \n",
            "  inflating: /content/dataset/images/val/d004f659-Ch120250121155128.jpg  \n",
            "  inflating: /content/dataset/images/val/d01a1e4e-Ch120250228101327.jpg  \n",
            "  inflating: /content/dataset/images/val/d0ca1c73-Ch120241226102700.png  \n",
            "  inflating: /content/dataset/images/val/d12d0c67-Ch120250120144904_learning.jpg  \n",
            "  inflating: /content/dataset/images/val/d1506661-Ch120240927115736.png  \n",
            "  inflating: /content/dataset/images/val/d1f72efc-Ch120241225113508.png  \n",
            "  inflating: /content/dataset/images/val/d2bd5143-Ch120241227151019.png  \n",
            "  inflating: /content/dataset/images/val/d3504547-Ch120241225113006.png  \n",
            "  inflating: /content/dataset/images/val/d3b5f7f9-Ch120241121101634.png  \n",
            "  inflating: /content/dataset/images/val/d4020b33-Ch120250118103748_learning_learning.jpg  \n",
            "  inflating: /content/dataset/images/val/d684b768-Ch120240927115953.png  \n",
            "  inflating: /content/dataset/images/val/d816ed6f-Ch120250202103118.jpg  \n",
            "  inflating: /content/dataset/images/val/d8e427b2-Ch120241226150135.png  \n",
            "  inflating: /content/dataset/images/val/d8fca377-Ch120241225104421.png  \n",
            "  inflating: /content/dataset/images/val/d910f361-Ch120241226150011.png  \n",
            "  inflating: /content/dataset/images/val/d9615d1b-Ch120250120143301_learning.jpg  \n",
            "  inflating: /content/dataset/images/val/d96f047e-Ch120241203103032.png  \n",
            "  inflating: /content/dataset/images/val/d986e9a2-Ch120241227150956.png  \n",
            "  inflating: /content/dataset/images/val/d9d5e4eb-Ch120241225114301.png  \n",
            "  inflating: /content/dataset/images/val/db534e18-Ch120240927115706.png  \n",
            "  inflating: /content/dataset/images/val/dbf85466-Ch120241226102738.png  \n",
            "  inflating: /content/dataset/images/val/dc064f11-Ch120241225114538.png  \n",
            "  inflating: /content/dataset/images/val/dc170a8b-Ch120241021100643.png  \n",
            "  inflating: /content/dataset/images/val/dc33c2cb-Ch120241021182616.png  \n",
            "  inflating: /content/dataset/images/val/dd407694-Ch120250120144053_learning.jpg  \n",
            "  inflating: /content/dataset/images/val/dd631583-Ch120241225114501.png  \n",
            "  inflating: /content/dataset/images/val/dd78e7ab-Ch120250111161133.png  \n",
            "  inflating: /content/dataset/images/val/dd7ac40c-Ch120241225112954.png  \n",
            "  inflating: /content/dataset/images/val/ddc2a547-Ch120250120103905_learning.jpg  \n",
            "  inflating: /content/dataset/images/val/e00d6d7b-Ch120241226102720.png  \n",
            "  inflating: /content/dataset/images/val/e062c7ff-Ch120241225104208.png  \n",
            "  inflating: /content/dataset/images/val/e1521eab-Ch120241225113434.png  \n",
            "  inflating: /content/dataset/images/val/e17115a4-Ch120241225104352.png  \n",
            "  inflating: /content/dataset/images/val/e21ed4c4-Ch120250228100846.jpg  \n",
            "  inflating: /content/dataset/images/val/e25fa5d6-Ch120241225114520.png  \n",
            "  inflating: /content/dataset/images/val/e2758cce-Ch120241227151246.png  \n",
            "  inflating: /content/dataset/images/val/e2bbfa3f-Ch120241225113134.png  \n",
            "  inflating: /content/dataset/images/val/e2c4493b-Ch120241021160622.png  \n",
            "  inflating: /content/dataset/images/val/e369c289-Ch120250228102641.jpg  \n",
            "  inflating: /content/dataset/images/val/e4db3fb5-Ch120250111161557.png  \n",
            "  inflating: /content/dataset/images/val/e5205758-Ch120250228100519.jpg  \n",
            "  inflating: /content/dataset/images/val/e5c9ae7a-Ch120250217102739.jpg  \n",
            "  inflating: /content/dataset/images/val/e5e8511c-Ch120240927115811.png  \n",
            "  inflating: /content/dataset/images/val/e67ca082-Ch120250309113235206.jpg  \n",
            "  inflating: /content/dataset/images/val/e6fcd86d-Ch120241227151047.png  \n",
            "  inflating: /content/dataset/images/val/e807bbee-Ch120241225114328.png  \n",
            "  inflating: /content/dataset/images/val/e80e17f3-Ch120250130094121.jpg  \n",
            "  inflating: /content/dataset/images/val/e8905af3-Ch120241227151009.png  \n",
            "  inflating: /content/dataset/images/val/e8ff4ce3-Ch120250111161011.png  \n",
            "  inflating: /content/dataset/images/val/ea0fe322-Ch120241227151304.png  \n",
            "  inflating: /content/dataset/images/val/ea942042-Ch120250202103357.jpg  \n",
            "  inflating: /content/dataset/images/val/eb3b0aa2-Ch120240927115656.png  \n",
            "  inflating: /content/dataset/images/val/eb455b5b-Ch120240927165335.png  \n",
            "  inflating: /content/dataset/images/val/ebd46b0e-Ch120240927115644.png  \n",
            "  inflating: /content/dataset/images/val/ebe6200c-Ch120250130094336.jpg  \n",
            "  inflating: /content/dataset/images/val/ec2db1fd-Ch120250110111959.png  \n",
            "  inflating: /content/dataset/images/val/ec4c1d54-Ch120241121101200.png  \n",
            "  inflating: /content/dataset/images/val/ec8fbcce-Ch120241021160649.png  \n",
            "  inflating: /content/dataset/images/val/ecd67f90-Ch120241227151349.png  \n",
            "  inflating: /content/dataset/images/val/ed3ff2d6-Ch120241225104448.png  \n",
            "  inflating: /content/dataset/images/val/ed481367-Ch120241021160630.png  \n",
            "  inflating: /content/dataset/images/val/ee316198-Ch120241227151351.png  \n",
            "  inflating: /content/dataset/images/val/ee32c4f3-Ch120241021100950.png  \n",
            "  inflating: /content/dataset/images/val/ee493b24-Ch120250111161606.png  \n",
            "  inflating: /content/dataset/images/val/ef71ee89-Ch120250111110722.png  \n",
            "  inflating: /content/dataset/images/val/efb2f60d-Ch120250311104832404.jpg  \n",
            "  inflating: /content/dataset/images/val/f01af1f2-Ch120241225114418.png  \n",
            "  inflating: /content/dataset/images/val/f09b792d-Ch120250111161912.png  \n",
            "  inflating: /content/dataset/images/val/f0b4d255-Ch120250217095955.jpg  \n",
            "  inflating: /content/dataset/images/val/f0bd3439-Ch120250202104757.jpg  \n",
            "  inflating: /content/dataset/images/val/f0cf441c-Ch120240927115508.png  \n",
            "  inflating: /content/dataset/images/val/f10ea640-Ch120250120143839_learning.jpg  \n",
            "  inflating: /content/dataset/images/val/f1fe08f3-Ch120241121101308.png  \n",
            "  inflating: /content/dataset/images/val/f2351e2b-Ch120250311104327391.jpg  \n",
            "  inflating: /content/dataset/images/val/f33cb11d-Ch120250125120553.jpg  \n",
            "  inflating: /content/dataset/images/val/f3417a16-Ch120250120115117_learning.jpg  \n",
            "  inflating: /content/dataset/images/val/f341ad3c-Ch120250129095857.jpg  \n",
            "  inflating: /content/dataset/images/val/f39f88b3-Ch120250202100108.jpg  \n",
            "  inflating: /content/dataset/images/val/f3d8f034-Ch120241021100517.png  \n",
            "  inflating: /content/dataset/images/val/f40b1695-Ch120241227151257.png  \n",
            "  inflating: /content/dataset/images/val/f43b8617-Ch120241226102721.png  \n",
            "  inflating: /content/dataset/images/val/f4f00625-Ch120241226102747.png  \n",
            "  inflating: /content/dataset/images/val/f50c4776-Ch120250116143744.jpg  \n",
            "  inflating: /content/dataset/images/val/f61f74f0-Ch120250302102349.jpg  \n",
            "  inflating: /content/dataset/images/val/f6c0be9d-Ch120250111161317.png  \n",
            "  inflating: /content/dataset/images/val/f6eb0583-Ch120250118103222_learning.jpg  \n",
            "  inflating: /content/dataset/images/val/f717528a-Ch120250120114040_learning.jpg  \n",
            "  inflating: /content/dataset/images/val/f77783f5-Ch120250119143548_learning_learning.jpg  \n",
            "  inflating: /content/dataset/images/val/f792100f-Ch120250130094127.jpg  \n",
            "  inflating: /content/dataset/images/val/f98884ab-Ch120250115113404.png  \n",
            "  inflating: /content/dataset/images/val/fa3866c5-Ch120250131100127.jpg  \n",
            "  inflating: /content/dataset/images/val/faf0f640-Ch120250202100546.jpg  \n",
            "  inflating: /content/dataset/images/val/fb05096c-Ch120250302103252.jpg  \n",
            "  inflating: /content/dataset/images/val/fb8d4b43-Ch120240927165155.png  \n",
            "  inflating: /content/dataset/images/val/fbae8cb3-Ch120250206103057.jpg  \n",
            "  inflating: /content/dataset/images/val/fce80754-Ch120240927165635.png  \n",
            "  inflating: /content/dataset/images/val/fd015ad8-Ch120241226102929.png  \n",
            "  inflating: /content/dataset/images/val/fd9127fd-Ch120241227151355.png  \n",
            "  inflating: /content/dataset/images/val/fddc703c-Ch120240927115509.png  \n",
            "  inflating: /content/dataset/images/val/fe44b3e4-Ch120240927165356.png  \n",
            "  inflating: /content/dataset/images/val/fe94d105-Ch120241225113438.png  \n",
            "  inflating: /content/dataset/images/val/feb51bf9-Ch120241121101440.png  \n",
            "  inflating: /content/dataset/images/val/feeb6e1d-Ch120250118095445_learning.jpg  \n",
            "  inflating: /content/dataset/images/val/ff596a4c-Ch120250120105943_learning.jpg  \n",
            "  inflating: /content/dataset/images/val/ff6d0578-Ch120241021100642.png  \n",
            "  inflating: /content/dataset/images/val/ffe1337e-Ch120241225112840.png  \n",
            "   creating: /content/dataset/labels/\n",
            "   creating: /content/dataset/labels/test/\n",
            "  inflating: /content/dataset/labels/test/02caff5f-Ch120250130094221.txt  \n",
            "  inflating: /content/dataset/labels/test/03bca9c8-Ch120241226103202.txt  \n",
            "  inflating: /content/dataset/labels/test/0416e5ca-Ch120250111161330.txt  \n",
            "  inflating: /content/dataset/labels/test/05071054-Ch120250115105525.txt  \n",
            "  inflating: /content/dataset/labels/test/0702ef2e-Ch120250302105628.txt  \n",
            "  inflating: /content/dataset/labels/test/078f1b07-Ch120241021100436.txt  \n",
            "  inflating: /content/dataset/labels/test/07f918bc-Ch120241021100823.txt  \n",
            "  inflating: /content/dataset/labels/test/0c3ca1c7-Ch120240927165427.txt  \n",
            "  inflating: /content/dataset/labels/test/0c517aa5-Ch120250129100031.txt  \n",
            "  inflating: /content/dataset/labels/test/0d539ab9-Ch120250128094318.txt  \n",
            "  inflating: /content/dataset/labels/test/0dececeb-Ch120250120114723_learning.txt  \n",
            "  inflating: /content/dataset/labels/test/0e2e1d34-Ch120250115145346.txt  \n",
            "  inflating: /content/dataset/labels/test/0e7a8e0f-Ch120250119144118_learning_learning.txt  \n",
            "  inflating: /content/dataset/labels/test/0f84b8b1-Ch120250115112727.txt  \n",
            "  inflating: /content/dataset/labels/test/0fd3788a-Ch120250120143756_learning.txt  \n",
            "  inflating: /content/dataset/labels/test/12a0afe9-Ch120241225114252.txt  \n",
            "  inflating: /content/dataset/labels/test/12a75eb3-Ch120240927115959.txt  \n",
            "  inflating: /content/dataset/labels/test/1481ad83-Ch120241225113448.txt  \n",
            "  inflating: /content/dataset/labels/test/16e0d8ab-Ch120241226150046.txt  \n",
            "  inflating: /content/dataset/labels/test/192e9d81-Ch120250111161230.txt  \n",
            "  inflating: /content/dataset/labels/test/1a3b024c-Ch120241021160628.txt  \n",
            "  inflating: /content/dataset/labels/test/1a9ead56-Ch120250126102823.txt  \n",
            "  inflating: /content/dataset/labels/test/1ab02ada-Ch120250125121348.txt  \n",
            "  inflating: /content/dataset/labels/test/1af8a16a-Ch120241227151346.txt  \n",
            "  inflating: /content/dataset/labels/test/1b8dd522-Ch120250202102743.txt  \n",
            "  inflating: /content/dataset/labels/test/1cdab8a8-Ch120240927115825.txt  \n",
            "  inflating: /content/dataset/labels/test/1db9ad30-Ch120250112104401.txt  \n",
            "  inflating: /content/dataset/labels/test/1dda6092-Ch120250206103747.txt  \n",
            "  inflating: /content/dataset/labels/test/1eb15e25-Ch120250203095204.txt  \n",
            "  inflating: /content/dataset/labels/test/207199a8-Ch120250111161054.txt  \n",
            "  inflating: /content/dataset/labels/test/21991693-Ch120250217100135.txt  \n",
            "  inflating: /content/dataset/labels/test/22b5b371-Ch120240927165631.txt  \n",
            "  inflating: /content/dataset/labels/test/25808da1-Ch120250120143640_learning.txt  \n",
            "  inflating: /content/dataset/labels/test/26b6a390-Ch120250111161636.txt  \n",
            "  inflating: /content/dataset/labels/test/2776a871-Ch120250119143529_learning_learning.txt  \n",
            "  inflating: /content/dataset/labels/test/28f7a7ce-Ch120250202103311.txt  \n",
            "  inflating: /content/dataset/labels/test/29390fe2-Ch120241225113528.txt  \n",
            "  inflating: /content/dataset/labels/test/2f8f52d2-Ch120241225113503.txt  \n",
            "  inflating: /content/dataset/labels/test/3221b3a1-Ch120241225113126.txt  \n",
            "  inflating: /content/dataset/labels/test/330cba3a-Ch120240927165437.txt  \n",
            "  inflating: /content/dataset/labels/test/338e8816-Ch120250311104401393.txt  \n",
            "  inflating: /content/dataset/labels/test/3565761b-Ch120250217104228.txt  \n",
            "  inflating: /content/dataset/labels/test/36ce6193-Ch120250111161653.txt  \n",
            "  inflating: /content/dataset/labels/test/377afd8b-Ch120240927120005.txt  \n",
            "  inflating: /content/dataset/labels/test/3a3c0504-Ch120250111161426.txt  \n",
            "  inflating: /content/dataset/labels/test/3a51150c-Ch120240927165313.txt  \n",
            "  inflating: /content/dataset/labels/test/3beebcb2-Ch120250118103225_learning.txt  \n",
            "  inflating: /content/dataset/labels/test/3bf398ed-Ch120250302104219.txt  \n",
            "  inflating: /content/dataset/labels/test/3d3bda69-Ch120241021160655.txt  \n",
            "  inflating: /content/dataset/labels/test/3e22d1f8-Ch120241225113514.txt  \n",
            "  inflating: /content/dataset/labels/test/3feb6645-Ch120250202102252.txt  \n",
            "  inflating: /content/dataset/labels/test/4080b663-Ch120240927115636.txt  \n",
            "  inflating: /content/dataset/labels/test/4094a4d4-Ch120250302104048.txt  \n",
            "  inflating: /content/dataset/labels/test/40f37c36-Ch120240927115834.txt  \n",
            "  inflating: /content/dataset/labels/test/44a7e497-Ch120241226145853.txt  \n",
            "  inflating: /content/dataset/labels/test/461b39a2-Ch120241203103241.txt  \n",
            "  inflating: /content/dataset/labels/test/46c8b032-Ch120250131095957.txt  \n",
            "  inflating: /content/dataset/labels/test/4716d5e5-Ch120241021100550.txt  \n",
            "  inflating: /content/dataset/labels/test/47af1654-Ch120250121160524.txt  \n",
            "  inflating: /content/dataset/labels/test/483a93ae-Ch120240927115912.txt  \n",
            "  inflating: /content/dataset/labels/test/4a462342-Ch120241227145445.txt  \n",
            "  inflating: /content/dataset/labels/test/4b70444c-Ch120241226145816.txt  \n",
            "  inflating: /content/dataset/labels/test/4bcffbae-Ch120241021182420.txt  \n",
            "  inflating: /content/dataset/labels/test/4ddada53-Ch120241203103411.txt  \n",
            "  inflating: /content/dataset/labels/test/4e5a6bfb-Ch120250203095208.txt  \n",
            "  inflating: /content/dataset/labels/test/4eecf9c1-Ch120250115112646.txt  \n",
            "  inflating: /content/dataset/labels/test/4f84ffef-Ch120241227150951.txt  \n",
            "  inflating: /content/dataset/labels/test/50024d42-Ch120250121102722.txt  \n",
            "  inflating: /content/dataset/labels/test/50081ea2-Ch120241225112830.txt  \n",
            "  inflating: /content/dataset/labels/test/50128ca1-Ch120241227145435.txt  \n",
            "  inflating: /content/dataset/labels/test/50bc014b-Ch120241121101707.txt  \n",
            "  inflating: /content/dataset/labels/test/5201bcce-Ch120250120104831_learning.txt  \n",
            "  inflating: /content/dataset/labels/test/52d5641a-Ch120241203102857.txt  \n",
            "  inflating: /content/dataset/labels/test/534c28be-Ch120250116142629.txt  \n",
            "  inflating: /content/dataset/labels/test/54ec065d-Ch120250202103403.txt  \n",
            "  inflating: /content/dataset/labels/test/54fbefcc-Ch120241021101006.txt  \n",
            "  inflating: /content/dataset/labels/test/55ca5051-Ch120250113104814.txt  \n",
            "  inflating: /content/dataset/labels/test/5619ce70-Ch120250206104205.txt  \n",
            "  inflating: /content/dataset/labels/test/56c4a61a-Ch120241227151434.txt  \n",
            "  inflating: /content/dataset/labels/test/587b6b00-Ch120250121102448.txt  \n",
            "  inflating: /content/dataset/labels/test/599084bf-Ch120241226150811.txt  \n",
            "  inflating: /content/dataset/labels/test/5a14a709-Ch120241225114500.txt  \n",
            "  inflating: /content/dataset/labels/test/5d10f20b-Ch120250202103636.txt  \n",
            "  inflating: /content/dataset/labels/test/5fbba674-Ch120241227151400.txt  \n",
            "  inflating: /content/dataset/labels/test/6003b1d0-Ch120240927165157.txt  \n",
            "  inflating: /content/dataset/labels/test/6024c10e-Ch120241225114305.txt  \n",
            "  inflating: /content/dataset/labels/test/60c06135-Ch120241225114514.txt  \n",
            "  inflating: /content/dataset/labels/test/62a1e392-Ch120250115150025.txt  \n",
            "  inflating: /content/dataset/labels/test/62d7c6a5-Ch120241226103024.txt  \n",
            "  inflating: /content/dataset/labels/test/63002727-Ch120240927165207.txt  \n",
            "  inflating: /content/dataset/labels/test/631cee57-Ch120241021100839.txt  \n",
            "  inflating: /content/dataset/labels/test/641331ea-Ch120250128094207.txt  \n",
            "  inflating: /content/dataset/labels/test/6527d0d4-Ch120241225104321.txt  \n",
            "  inflating: /content/dataset/labels/test/653666c2-Ch120250129100027.txt  \n",
            "  inflating: /content/dataset/labels/test/65e4c453-Ch120241021182427.txt  \n",
            "  inflating: /content/dataset/labels/test/6616986d-Ch120250129095827.txt  \n",
            "  inflating: /content/dataset/labels/test/66326001-Ch120250119143404_learning_learning.txt  \n",
            "  inflating: /content/dataset/labels/test/6792eca2-Ch120250111161801.txt  \n",
            "  inflating: /content/dataset/labels/test/688654d0-Ch120250129095647.txt  \n",
            "  inflating: /content/dataset/labels/test/68e1e3b3-Ch120250202100140.txt  \n",
            "  inflating: /content/dataset/labels/test/68e424c7-Ch120241021100637.txt  \n",
            "  inflating: /content/dataset/labels/test/69ca09be-Ch120241227145426.txt  \n",
            "  inflating: /content/dataset/labels/test/6abacb53-Ch120250206103529.txt  \n",
            "  inflating: /content/dataset/labels/test/6b66b5fc-Ch120240927165439.txt  \n",
            "  inflating: /content/dataset/labels/test/6bdb2db5-Ch120241203103236.txt  \n",
            "  inflating: /content/dataset/labels/test/6d596ac4-Ch120250128094036.txt  \n",
            "  inflating: /content/dataset/labels/test/6d8c2d67-Ch120241226150308.txt  \n",
            "  inflating: /content/dataset/labels/test/6dfcb4a0-Ch120250128094035.txt  \n",
            "  inflating: /content/dataset/labels/test/6e6fcb95-Ch120250203095245.txt  \n",
            "  inflating: /content/dataset/labels/test/708183af-Ch120250128094042.txt  \n",
            "  inflating: /content/dataset/labels/test/709825c5-Ch120250130094214.txt  \n",
            "  inflating: /content/dataset/labels/test/70c6fc3b-Ch120250111110321.txt  \n",
            "  inflating: /content/dataset/labels/test/70c828ff-Ch120250118103503_learning.txt  \n",
            "  inflating: /content/dataset/labels/test/73ce62fe-Ch120250116143557.txt  \n",
            "  inflating: /content/dataset/labels/test/73e68d70-Ch120250118095104_learning.txt  \n",
            "  inflating: /content/dataset/labels/test/7533027e-Ch120250116143553.txt  \n",
            "  inflating: /content/dataset/labels/test/75c5a29a-Ch120250303095824.txt  \n",
            "  inflating: /content/dataset/labels/test/75ccba26-Ch120240927120003.txt  \n",
            "  inflating: /content/dataset/labels/test/767de205-Ch120241203103324.txt  \n",
            "  inflating: /content/dataset/labels/test/7699dfcd-Ch120241021100427.txt  \n",
            "  inflating: /content/dataset/labels/test/790bb893-Ch120250128094017.txt  \n",
            "  inflating: /content/dataset/labels/test/7b366574-Ch120241227151228.txt  \n",
            "  inflating: /content/dataset/labels/test/7bc7b3f7-Ch120250111161610.txt  \n",
            "  inflating: /content/dataset/labels/test/7c00a59c-Ch120250112104908.txt  \n",
            "  inflating: /content/dataset/labels/test/7d269fe1-Ch120250120104205_learning.txt  \n",
            "  inflating: /content/dataset/labels/test/7d6ea90c-Ch120250111161559.txt  \n",
            "  inflating: /content/dataset/labels/test/7f311af0-Ch120241227151049.txt  \n",
            "  inflating: /content/dataset/labels/test/7f372864-Ch120250111161109.txt  \n",
            "  inflating: /content/dataset/labels/test/7fba647e-Ch120250202103625.txt  \n",
            "  inflating: /content/dataset/labels/test/805c4790-Ch120250119143224_learning.txt  \n",
            "  inflating: /content/dataset/labels/test/8086f79c-Ch120250217104440.txt  \n",
            "  inflating: /content/dataset/labels/test/80e91bc1-Ch120250128094109.txt  \n",
            "  inflating: /content/dataset/labels/test/81d3bb81-Ch120240927165157.txt  \n",
            "  inflating: /content/dataset/labels/test/82306172-Ch120240927165506.txt  \n",
            "  inflating: /content/dataset/labels/test/823b463c-Ch120240927115725.txt  \n",
            "  inflating: /content/dataset/labels/test/832a0d56-Ch120250126111830.txt  \n",
            "  inflating: /content/dataset/labels/test/8342a2ed-Ch120241227151249.txt  \n",
            "  inflating: /content/dataset/labels/test/83fbee8c-Ch120250116143532.txt  \n",
            "  inflating: /content/dataset/labels/test/84016d09-Ch120250206103317.txt  \n",
            "  inflating: /content/dataset/labels/test/84af85f1-Ch120250111161527.txt  \n",
            "  inflating: /content/dataset/labels/test/85e05b81-Ch120250129100050.txt  \n",
            "  inflating: /content/dataset/labels/test/8674232f-Ch120241225104238.txt  \n",
            "  inflating: /content/dataset/labels/test/8679fd7b-Ch120250111161857.txt  \n",
            "  inflating: /content/dataset/labels/test/86f1a1fc-Ch120241121101149.txt  \n",
            "  inflating: /content/dataset/labels/test/881179cf-Ch120250130094436.txt  \n",
            "  inflating: /content/dataset/labels/test/8984f2e7-Ch120250116143655.txt  \n",
            "  inflating: /content/dataset/labels/test/89a777e1-Ch120250129095947.txt  \n",
            "  inflating: /content/dataset/labels/test/89ac9f8d-Ch120240927165639.txt  \n",
            "  inflating: /content/dataset/labels/test/8ae74163-Ch120241225112955.txt  \n",
            "  inflating: /content/dataset/labels/test/8b6be27d-Ch120241226102935.txt  \n",
            "  inflating: /content/dataset/labels/test/8c36a723-Ch120241227151227.txt  \n",
            "  inflating: /content/dataset/labels/test/8c8058b6-Ch120250115113441.txt  \n",
            "  inflating: /content/dataset/labels/test/8d45e174-Ch120241021100420.txt  \n",
            "  inflating: /content/dataset/labels/test/8dc0b966-Ch120250119143219_learning.txt  \n",
            "  inflating: /content/dataset/labels/test/8e0b7005-Ch120240927165125.txt  \n",
            "  inflating: /content/dataset/labels/test/8f940251-Ch120241226150150.txt  \n",
            "  inflating: /content/dataset/labels/test/8ff17833-Ch120241226145909.txt  \n",
            "  inflating: /content/dataset/labels/test/92235cab-Ch120241121101620.txt  \n",
            "  inflating: /content/dataset/labels/test/92dec31c-Ch120250228110339.txt  \n",
            "  inflating: /content/dataset/labels/test/9301edd3-Ch120250118105419_learning_learning.txt  \n",
            "  inflating: /content/dataset/labels/test/93bb9e5f-Ch120250119143202_learning.txt  \n",
            "  inflating: /content/dataset/labels/test/94bbd757-Ch120250115113049.txt  \n",
            "  inflating: /content/dataset/labels/test/957d700d-Ch120250202100127.txt  \n",
            "  inflating: /content/dataset/labels/test/96e0150a-Ch120241227151314.txt  \n",
            "  inflating: /content/dataset/labels/test/98a65a5b-Ch120240927115646.txt  \n",
            "  inflating: /content/dataset/labels/test/99d0f96a-Ch120250203095505.txt  \n",
            "  inflating: /content/dataset/labels/test/99d791f1-Ch120240927165626.txt  \n",
            "  inflating: /content/dataset/labels/test/99daf1e1-Ch120250202103146.txt  \n",
            "  inflating: /content/dataset/labels/test/9acaa465-Ch120241227151309.txt  \n",
            "  inflating: /content/dataset/labels/test/9ace0ada-Ch120250120105943_learning.txt  \n",
            "  inflating: /content/dataset/labels/test/9ae5a0de-Ch120240927165206.txt  \n",
            "  inflating: /content/dataset/labels/test/9bcce5c1-Ch120250217104301.txt  \n",
            "  inflating: /content/dataset/labels/test/9c5721df-Ch120250129095708.txt  \n",
            "  inflating: /content/dataset/labels/test/9d52d89e-Ch120241227151234.txt  \n",
            "  inflating: /content/dataset/labels/test/9e69b181-Ch120250203095313.txt  \n",
            "  inflating: /content/dataset/labels/test/9f919c5c-Ch120250118111320_learning_learning.txt  \n",
            "  inflating: /content/dataset/labels/test/9fc0999f-Ch120241203103010.txt  \n",
            "  inflating: /content/dataset/labels/test/9fc2a8ad-Ch120250202103343.txt  \n",
            "  inflating: /content/dataset/labels/test/a0599cf6-Ch120240927120026.txt  \n",
            "  inflating: /content/dataset/labels/test/a07a3098-Ch120241203103229.txt  \n",
            "  inflating: /content/dataset/labels/test/a0c6693f-Ch120250217104341.txt  \n",
            "  inflating: /content/dataset/labels/test/a2602c13-Ch120250115113040.txt  \n",
            "  inflating: /content/dataset/labels/test/a441f188-Ch120250119143437_learning_learning.txt  \n",
            "  inflating: /content/dataset/labels/test/a4e33da9-Ch120250119143314_learning_learning.txt  \n",
            "  inflating: /content/dataset/labels/test/a5e265a3-Ch120241225104219.txt  \n",
            "  inflating: /content/dataset/labels/test/a6739d7e-Ch120250119142917_learning.txt  \n",
            "  inflating: /content/dataset/labels/test/a6b22b37-Ch120241226102808.txt  \n",
            "  inflating: /content/dataset/labels/test/a72c4f6c-Ch120241225112832.txt  \n",
            "  inflating: /content/dataset/labels/test/a76163f0-Ch120240927165426.txt  \n",
            "  inflating: /content/dataset/labels/test/a85f8482-Ch120250202102439.txt  \n",
            "  inflating: /content/dataset/labels/test/a8f03eca-Ch120250116142819.txt  \n",
            "  inflating: /content/dataset/labels/test/a962ad5c-Ch120250118105201_learning_learning.txt  \n",
            "  inflating: /content/dataset/labels/test/a9d2f1fe-Ch120241227151428.txt  \n",
            "  inflating: /content/dataset/labels/test/aa5b6d06-Ch120250115113618.txt  \n",
            "  inflating: /content/dataset/labels/test/aacc8ae5-Ch120250118104052_learning_learning.txt  \n",
            "  inflating: /content/dataset/labels/test/aad9cf86-Ch120241223130848.txt  \n",
            "  inflating: /content/dataset/labels/test/ab102908-Ch120240927165119.txt  \n",
            "  inflating: /content/dataset/labels/test/ab67c30c-Ch120241225113504.txt  \n",
            "  inflating: /content/dataset/labels/test/ab88f95c-Ch120250126112129.txt  \n",
            "  inflating: /content/dataset/labels/test/abae1263-Ch120241226103005.txt  \n",
            "  inflating: /content/dataset/labels/test/abc83a8a-Ch120240927115921.txt  \n",
            "  inflating: /content/dataset/labels/test/ac8643d4-Ch120250111161520.txt  \n",
            "  inflating: /content/dataset/labels/test/ad179863-Ch120250111161352.txt  \n",
            "  inflating: /content/dataset/labels/test/ad84038a-Ch120241227145449.txt  \n",
            "  inflating: /content/dataset/labels/test/ada592aa-Ch120250111161056.txt  \n",
            "  inflating: /content/dataset/labels/test/aecfc246-Ch120240927165351.txt  \n",
            "  inflating: /content/dataset/labels/test/af1731a3-Ch120250118110635_learning_learning.txt  \n",
            "  inflating: /content/dataset/labels/test/b1a68fd4-Ch120240927165315.txt  \n",
            "  inflating: /content/dataset/labels/test/b4e5968c-Ch120250111161351.txt  \n",
            "  inflating: /content/dataset/labels/test/b55371b7-Ch120250202103004.txt  \n",
            "  inflating: /content/dataset/labels/test/b6553b58-Ch120241225112834.txt  \n",
            "  inflating: /content/dataset/labels/test/b89f162f-Ch120250118104339_learning_learning.txt  \n",
            "  inflating: /content/dataset/labels/test/b90d18e3-Ch120250111160917.txt  \n",
            "  inflating: /content/dataset/labels/test/b92937a2-Ch120241021100720.txt  \n",
            "  inflating: /content/dataset/labels/test/b9c59457-Ch120250118104215_learning_learning.txt  \n",
            "  inflating: /content/dataset/labels/test/ba259e0f-Ch120250125121508.txt  \n",
            "  inflating: /content/dataset/labels/test/bd12c58e-Ch120241021100413.txt  \n",
            "  inflating: /content/dataset/labels/test/bd4a4eb0-Ch120250302181228.txt  \n",
            "  inflating: /content/dataset/labels/test/bea4676b-Ch120250119143228_learning.txt  \n",
            "  inflating: /content/dataset/labels/test/c0a31311-Ch120241021182413.txt  \n",
            "  inflating: /content/dataset/labels/test/c3333f6e-Ch120250120143345_learning.txt  \n",
            "  inflating: /content/dataset/labels/test/c4bb0704-Ch120250111161804.txt  \n",
            "  inflating: /content/dataset/labels/test/c4d39b2b-Ch120241226102702.txt  \n",
            "  inflating: /content/dataset/labels/test/c5386af3-Ch120241203103027.txt  \n",
            "  inflating: /content/dataset/labels/test/c5b89787-Ch120240927115951.txt  \n",
            "  inflating: /content/dataset/labels/test/c5dca238-Ch120250120114511_learning.txt  \n",
            "  inflating: /content/dataset/labels/test/c916cc81-Ch120241227145427.txt  \n",
            "  inflating: /content/dataset/labels/test/ca357020-Ch120250120104112_learning.txt  \n",
            "  inflating: /content/dataset/labels/test/cab3435d-Ch120241225114430.txt  \n",
            "  inflating: /content/dataset/labels/test/cac16992-Ch120241227150953.txt  \n",
            "  inflating: /content/dataset/labels/test/cc1842d3-Ch120241121101619.txt  \n",
            "  inflating: /content/dataset/labels/test/cc49531b-Ch120250203095348.txt  \n",
            "  inflating: /content/dataset/labels/test/ce0f4db2-Ch120250119143122_learning.txt  \n",
            "  inflating: /content/dataset/labels/test/cfa944de-Ch120250115145420.txt  \n",
            "  inflating: /content/dataset/labels/test/cfb0bbe7-Ch120241121101326.txt  \n",
            "  inflating: /content/dataset/labels/test/d108e627-Ch120250111161627.txt  \n",
            "  inflating: /content/dataset/labels/test/d2173c2d-Ch120250121160940.txt  \n",
            "  inflating: /content/dataset/labels/test/d2b613c7-Ch120241226151059.txt  \n",
            "  inflating: /content/dataset/labels/test/d46ecb15-Ch120241203103028.txt  \n",
            "  inflating: /content/dataset/labels/test/d49335fb-Ch120241121101315.txt  \n",
            "  inflating: /content/dataset/labels/test/d49c0ab3-Ch120250203095423.txt  \n",
            "  inflating: /content/dataset/labels/test/d8a1ba92-Ch120241225113417.txt  \n",
            "  inflating: /content/dataset/labels/test/d932d543-Ch120241223130927.txt  \n",
            "  inflating: /content/dataset/labels/test/d961fac1-Ch120250202102540.txt  \n",
            "  inflating: /content/dataset/labels/test/da336edc-Ch120250202102403.txt  \n",
            "  inflating: /content/dataset/labels/test/da838a99-Ch120250115113430.txt  \n",
            "  inflating: /content/dataset/labels/test/daeab99e-Ch120250125121617.txt  \n",
            "  inflating: /content/dataset/labels/test/dc635f4b-Ch120250129100004.txt  \n",
            "  inflating: /content/dataset/labels/test/dd145c56-Ch120241203103219.txt  \n",
            "  inflating: /content/dataset/labels/test/dd88904d-Ch120241226150256.txt  \n",
            "  inflating: /content/dataset/labels/test/deee5d3c-Ch120250121155445.txt  \n",
            "  inflating: /content/dataset/labels/test/df8561b3-Ch120241223131053.txt  \n",
            "  inflating: /content/dataset/labels/test/e00cf30b-Ch120241203103031.txt  \n",
            "  inflating: /content/dataset/labels/test/e02e9e59-Ch120241227151431.txt  \n",
            "  inflating: /content/dataset/labels/test/e15716ab-Ch120241225104306.txt  \n",
            "  inflating: /content/dataset/labels/test/e170534d-Ch120250111161308.txt  \n",
            "  inflating: /content/dataset/labels/test/e1b4a00c-Ch120241226150940.txt  \n",
            "  inflating: /content/dataset/labels/test/e277046e-Ch120250111161617.txt  \n",
            "  inflating: /content/dataset/labels/test/e3c31f18-Ch120240927165359.txt  \n",
            "  inflating: /content/dataset/labels/test/e5a3c487-Ch120241121101414.txt  \n",
            "  inflating: /content/dataset/labels/test/e663a69c-Ch120250228102631.txt  \n",
            "  inflating: /content/dataset/labels/test/e802af69-Ch120250303095056.txt  \n",
            "  inflating: /content/dataset/labels/test/e82b4df8-Ch120250128094054.txt  \n",
            "  inflating: /content/dataset/labels/test/ea89b66d-Ch120250111160914.txt  \n",
            "  inflating: /content/dataset/labels/test/eaf37b06-Ch120250119144126_learning_learning.txt  \n",
            "  inflating: /content/dataset/labels/test/eb9f6380-Ch120241225114345.txt  \n",
            "  inflating: /content/dataset/labels/test/ec17c933-Ch120241226103021.txt  \n",
            "  inflating: /content/dataset/labels/test/eeb44a08-Ch120240927115656.txt  \n",
            "  inflating: /content/dataset/labels/test/ef1af5de-Ch120250130094456.txt  \n",
            "  inflating: /content/dataset/labels/test/ef328cc8-Ch120241225112833.txt  \n",
            "  inflating: /content/dataset/labels/test/ef807c91-Ch120241226150358.txt  \n",
            "  inflating: /content/dataset/labels/test/f2709fed-Ch120241021160608.txt  \n",
            "  inflating: /content/dataset/labels/test/f27e7a3a-Ch120250202095723.txt  \n",
            "  inflating: /content/dataset/labels/test/f2aed794-Ch120241203103135.txt  \n",
            "  inflating: /content/dataset/labels/test/f2e38781-Ch120241225113444.txt  \n",
            "  inflating: /content/dataset/labels/test/f4f1ff4c-Ch120241227151235.txt  \n",
            "  inflating: /content/dataset/labels/test/f56d1ca8-Ch120250228103906.txt  \n",
            "  inflating: /content/dataset/labels/test/f71ec070-Ch120250302103621.txt  \n",
            "  inflating: /content/dataset/labels/test/f798598c-Ch120250120105738_learning.txt  \n",
            "  inflating: /content/dataset/labels/test/fd228c78-Ch120241225114515.txt  \n",
            "  inflating: /content/dataset/labels/test/fdedde10-Ch120241021100908.txt  \n",
            "  inflating: /content/dataset/labels/test/fe49d538-Ch120241227151052.txt  \n",
            "  inflating: /content/dataset/labels/test/fffd618f-Ch120241227145425.txt  \n",
            "   creating: /content/dataset/labels/train/\n",
            "  inflating: /content/dataset/labels/train/001dcc8f-Ch120241121101056.txt  \n",
            "  inflating: /content/dataset/labels/train/0026b910-Ch120250118095938_learning.txt  \n",
            "  inflating: /content/dataset/labels/train/00645145-Ch120240927115718.txt  \n",
            "  inflating: /content/dataset/labels/train/00649946-Ch120250111161252.txt  \n",
            "  inflating: /content/dataset/labels/train/00829018-Ch120241225114405.txt  \n",
            "  inflating: /content/dataset/labels/train/009e431f-Ch120250115104958.txt  \n",
            "  inflating: /content/dataset/labels/train/00ba1e4e-Ch120250120111156_learning.txt  \n",
            "  inflating: /content/dataset/labels/train/00dff312-Ch120250111161055.txt  \n",
            "  inflating: /content/dataset/labels/train/0102a6e4-Ch120250302105634.txt  \n",
            "  inflating: /content/dataset/labels/train/01111ea2-Ch120241226102657.txt  \n",
            "  inflating: /content/dataset/labels/train/011c55f8-Ch120241203103353.txt  \n",
            "  inflating: /content/dataset/labels/train/01589129-Ch120250111161329.txt  \n",
            "  inflating: /content/dataset/labels/train/01853160-Ch120250202100343.txt  \n",
            "  inflating: /content/dataset/labels/train/0189e6e2-Ch120250202102354.txt  \n",
            "  inflating: /content/dataset/labels/train/0289e1ae-Ch120250129100106.txt  \n",
            "  inflating: /content/dataset/labels/train/02b02c6b-Ch120250302102355.txt  \n",
            "  inflating: /content/dataset/labels/train/02b8fc3a-Ch120250126104552.txt  \n",
            "  inflating: /content/dataset/labels/train/02bc5b0c-Ch120241225113527.txt  \n",
            "  inflating: /content/dataset/labels/train/02c29d4e-Ch120250129095924.txt  \n",
            "  inflating: /content/dataset/labels/train/02e9424f-Ch120250129100030.txt  \n",
            "  inflating: /content/dataset/labels/train/0329c877-Ch120250115113359.txt  \n",
            "  inflating: /content/dataset/labels/train/03425806-Ch120240927165418.txt  \n",
            "  inflating: /content/dataset/labels/train/0365670f-Ch120241225104209.txt  \n",
            "  inflating: /content/dataset/labels/train/039d61cc-Ch120250118104842_learning_learning.txt  \n",
            "  inflating: /content/dataset/labels/train/03e5c610-Ch120250202095908.txt  \n",
            "  inflating: /content/dataset/labels/train/03eac2c1-Ch120241223130928.txt  \n",
            "  inflating: /content/dataset/labels/train/0418e55f-Ch120241226102811.txt  \n",
            "  inflating: /content/dataset/labels/train/04443d9b-Ch120250116143603.txt  \n",
            "  inflating: /content/dataset/labels/train/045fc159-Ch120250217104503.txt  \n",
            "  inflating: /content/dataset/labels/train/04781bbd-Ch120241021160607.txt  \n",
            "  inflating: /content/dataset/labels/train/0478c2bb-Ch120241121101240.txt  \n",
            "  inflating: /content/dataset/labels/train/04c6f3b1-Ch120241121101606.txt  \n",
            "  inflating: /content/dataset/labels/train/050869b2-Ch120250118095802_learning.txt  \n",
            "  inflating: /content/dataset/labels/train/050e2777-Ch120250116143348.txt  \n",
            "  inflating: /content/dataset/labels/train/05c3df7a-Ch120241121101445.txt  \n",
            "  inflating: /content/dataset/labels/train/05ff3a3c-Ch120241203103124.txt  \n",
            "  inflating: /content/dataset/labels/train/06136b42-Ch120241121101108.txt  \n",
            "  inflating: /content/dataset/labels/train/0618e75d-Ch120241227151302.txt  \n",
            "  inflating: /content/dataset/labels/train/065a6446-Ch120241226150639.txt  \n",
            "  inflating: /content/dataset/labels/train/06b068f4-Ch120250311104100712.txt  \n",
            "  inflating: /content/dataset/labels/train/06b2d162-Ch120250125120608.txt  \n",
            "  inflating: /content/dataset/labels/train/06fcf07f-Ch120250311104518280.txt  \n",
            "  inflating: /content/dataset/labels/train/070629ec-Ch120250130094408.txt  \n",
            "  inflating: /content/dataset/labels/train/0723eca9-Ch120241121101428.txt  \n",
            "  inflating: /content/dataset/labels/train/0787af49-Ch120250113104453.txt  \n",
            "  inflating: /content/dataset/labels/train/078f8e99-Ch120250126113100.txt  \n",
            "  inflating: /content/dataset/labels/train/0796de23-Ch120240927120048.txt  \n",
            "  inflating: /content/dataset/labels/train/07efe7d6-Ch120240927115639.txt  \n",
            "  inflating: /content/dataset/labels/train/07f6d65e-Ch120241225114446.txt  \n",
            "  inflating: /content/dataset/labels/train/087d35c0-Ch120250126102300.txt  \n",
            "  inflating: /content/dataset/labels/train/08845b8e-Ch120241226102854.txt  \n",
            "  inflating: /content/dataset/labels/train/08bb66cc-Ch120250311104108119.txt  \n",
            "  inflating: /content/dataset/labels/train/08bc4ef5-Ch120250206103241.txt  \n",
            "  inflating: /content/dataset/labels/train/08ca8e16-Ch120250111161619.txt  \n",
            "  inflating: /content/dataset/labels/train/08cbce1c-Ch120250202103436.txt  \n",
            "  inflating: /content/dataset/labels/train/08def070-Ch120250111161900.txt  \n",
            "  inflating: /content/dataset/labels/train/0900a999-Ch120250118103642_learning.txt  \n",
            "  inflating: /content/dataset/labels/train/09234fbf-Ch120250309113307709.txt  \n",
            "  inflating: /content/dataset/labels/train/0985a6a2-Ch120250121155039.txt  \n",
            "  inflating: /content/dataset/labels/train/098babd4-Ch120241225113405.txt  \n",
            "  inflating: /content/dataset/labels/train/09a4a290-Ch120250203095354.txt  \n",
            "  inflating: /content/dataset/labels/train/09af08df-Ch120241227151347.txt  \n",
            "  inflating: /content/dataset/labels/train/09c54995-Ch120241225113458.txt  \n",
            "  inflating: /content/dataset/labels/train/09ce4bdb-Ch120250202102346.txt  \n",
            "  inflating: /content/dataset/labels/train/09ddf435-Ch120240927165144.txt  \n",
            "  inflating: /content/dataset/labels/train/09fdcc7a-Ch120241121101435.txt  \n",
            "  inflating: /content/dataset/labels/train/0a0f163e-Ch120250111161246.txt  \n",
            "  inflating: /content/dataset/labels/train/0a6b415a-Ch120240927165455.txt  \n",
            "  inflating: /content/dataset/labels/train/0a6b7095-Ch120250116143438.txt  \n",
            "  inflating: /content/dataset/labels/train/0a87ebda-Ch120241021182610.txt  \n",
            "  inflating: /content/dataset/labels/train/0a8def5b-Ch120240927165737.txt  \n",
            "  inflating: /content/dataset/labels/train/0a9b87c3-Ch120250111161821.txt  \n",
            "  inflating: /content/dataset/labels/train/0aab0c20-Ch120250131100020.txt  \n",
            "  inflating: /content/dataset/labels/train/0aad741e-Ch120250125121303.txt  \n",
            "  inflating: /content/dataset/labels/train/0ac0a7ed-Ch120241021160650.txt  \n",
            "  inflating: /content/dataset/labels/train/0ac4e097-Ch120241226145936.txt  \n",
            "  inflating: /content/dataset/labels/train/0b0ad08b-Ch120250118103640_learning.txt  \n",
            "  inflating: /content/dataset/labels/train/0b126bb2-Ch120241225114539.txt  \n",
            "  inflating: /content/dataset/labels/train/0b1ec202-Ch120241227145428.txt  \n",
            "  inflating: /content/dataset/labels/train/0b33b352-Ch120241225104415.txt  \n",
            "  inflating: /content/dataset/labels/train/0b50fad7-Ch120250129095503.txt  \n",
            "  inflating: /content/dataset/labels/train/0b62b746-Ch120250120104009_learning.txt  \n",
            "  inflating: /content/dataset/labels/train/0b683ea7-Ch120241226145634.txt  \n",
            "  inflating: /content/dataset/labels/train/0b820c1a-Ch120241021160702.txt  \n",
            "  inflating: /content/dataset/labels/train/0b88eae9-Ch120241225112940.txt  \n",
            "  inflating: /content/dataset/labels/train/0b8a688b-Ch120250118100118_learning.txt  \n",
            "  inflating: /content/dataset/labels/train/0b999a3a-Ch120250130094602.txt  \n",
            "  inflating: /content/dataset/labels/train/0ba97fb3-Ch120240927120038.txt  \n",
            "  inflating: /content/dataset/labels/train/0bdbc27e-Ch120250115105229.txt  \n",
            "  inflating: /content/dataset/labels/train/0bf19134-Ch120250115113508.txt  \n",
            "  inflating: /content/dataset/labels/train/0c0c14e5-Ch120250111161746.txt  \n",
            "  inflating: /content/dataset/labels/train/0c158cf2-Ch120241225112925.txt  \n",
            "  inflating: /content/dataset/labels/train/0c3de8ef-Ch120241227151001.txt  \n",
            "  inflating: /content/dataset/labels/train/0c6b6f0a-Ch120241203103218.txt  \n",
            "  inflating: /content/dataset/labels/train/0c72a9ff-Ch120241203103037.txt  \n",
            "  inflating: /content/dataset/labels/train/0c7ed101-Ch120241227151226.txt  \n",
            "  inflating: /content/dataset/labels/train/0cb0601e-Ch120240927165137.txt  \n",
            "  inflating: /content/dataset/labels/train/0d346cdc-Ch120250202102322.txt  \n",
            "  inflating: /content/dataset/labels/train/0d90ddb9-Ch120250228100731.txt  \n",
            "  inflating: /content/dataset/labels/train/0d941cd6-Ch120241121101134.txt  \n",
            "  inflating: /content/dataset/labels/train/0de023cc-Ch120241225112828.txt  \n",
            "  inflating: /content/dataset/labels/train/0dfa9e82-Ch120241227151436.txt  \n",
            "  inflating: /content/dataset/labels/train/0e312a5a-Ch120241227151421.txt  \n",
            "  inflating: /content/dataset/labels/train/0e43e617-Ch120250111161731.txt  \n",
            "  inflating: /content/dataset/labels/train/0e4bcc48-Ch120241225112924.txt  \n",
            "  inflating: /content/dataset/labels/train/0e9d5acd-Ch120250118103226_learning.txt  \n",
            "  inflating: /content/dataset/labels/train/0ea094e9-Ch120250119143014_learning.txt  \n",
            "  inflating: /content/dataset/labels/train/0ecf6c9c-Ch120250303095115.txt  \n",
            "  inflating: /content/dataset/labels/train/0ef3df47-Ch120241225114449.txt  \n",
            "  inflating: /content/dataset/labels/train/0efe2910-Ch120240927115643.txt  \n",
            "  inflating: /content/dataset/labels/train/0f139565-Ch120241226102932.txt  \n",
            "  inflating: /content/dataset/labels/train/0f24b558-Ch120241225114402.txt  \n",
            "  inflating: /content/dataset/labels/train/0f3b9702-Ch120241225114423.txt  \n",
            "  inflating: /content/dataset/labels/train/0f3de1ec-Ch120250115112903.txt  \n",
            "  inflating: /content/dataset/labels/train/0f6b0042-Ch120250126112323.txt  \n",
            "  inflating: /content/dataset/labels/train/0fa8ee79-Ch120250116142922.txt  \n",
            "  inflating: /content/dataset/labels/train/0fdb257a-Ch120241021100949.txt  \n",
            "  inflating: /content/dataset/labels/train/0ff59f96-Ch120240927115952.txt  \n",
            "  inflating: /content/dataset/labels/train/107747b0-Ch120250202102630.txt  \n",
            "  inflating: /content/dataset/labels/train/10897b3b-Ch120250131100059.txt  \n",
            "  inflating: /content/dataset/labels/train/10905ad4-Ch120250126104614.txt  \n",
            "  inflating: /content/dataset/labels/train/109e58cc-Ch120250202103228.txt  \n",
            "  inflating: /content/dataset/labels/train/10f95046-Ch120241225114528.txt  \n",
            "  inflating: /content/dataset/labels/train/111db84b-Ch120241021182333.txt  \n",
            "  inflating: /content/dataset/labels/train/1136ba5b-Ch120250118103509_learning.txt  \n",
            "  inflating: /content/dataset/labels/train/11400126-Ch120250217104210.txt  \n",
            "  inflating: /content/dataset/labels/train/115eb896-Ch120250130094517.txt  \n",
            "  inflating: /content/dataset/labels/train/116a5470-Ch120250119143736_learning_learning.txt  \n",
            "  inflating: /content/dataset/labels/train/11aae447-Ch120250118103739_learning_learning.txt  \n",
            "  inflating: /content/dataset/labels/train/11c687cd-Ch120250115104927.txt  \n",
            "  inflating: /content/dataset/labels/train/11cbd703-Ch120240927165139.txt  \n",
            "  inflating: /content/dataset/labels/train/122c9b97-Ch120250202103110.txt  \n",
            "  inflating: /content/dataset/labels/train/12348e5f-Ch120250118103709_learning_learning.txt  \n",
            "  inflating: /content/dataset/labels/train/1236ebfb-Ch120241021100942.txt  \n",
            "  inflating: /content/dataset/labels/train/124aa83e-Ch120241225114519.txt  \n",
            "  inflating: /content/dataset/labels/train/124b28cd-Ch120241226150628.txt  \n",
            "  inflating: /content/dataset/labels/train/125e3613-Ch120250115113336.txt  \n",
            "  inflating: /content/dataset/labels/train/1263888b-Ch120241226145923.txt  \n",
            "  inflating: /content/dataset/labels/train/1263cfa4-Ch120250120114429_learning.txt  \n",
            "  inflating: /content/dataset/labels/train/1272c87d-Ch120240927165748.txt  \n",
            "  inflating: /content/dataset/labels/train/12835b10-Ch120250116143808.txt  \n",
            "  inflating: /content/dataset/labels/train/129a901c-Ch120241225114327.txt  \n",
            "  inflating: /content/dataset/labels/train/12aac7a0-Ch120250130094412.txt  \n",
            "  inflating: /content/dataset/labels/train/12b83e1d-Ch120241203102941.txt  \n",
            "  inflating: /content/dataset/labels/train/12dcaadc-Ch120241227145429.txt  \n",
            "  inflating: /content/dataset/labels/train/12eca0f3-Ch120241226102901.txt  \n",
            "  inflating: /content/dataset/labels/train/12f9d78a-Ch120250118104943_learning_learning.txt  \n",
            "  inflating: /content/dataset/labels/train/130049ba-Ch120250121102459.txt  \n",
            "  inflating: /content/dataset/labels/train/130523e0-Ch120240927115814.txt  \n",
            "  inflating: /content/dataset/labels/train/1315c0e4-Ch120250131100024.txt  \n",
            "  inflating: /content/dataset/labels/train/131c2ef2-Ch120241203103200.txt  \n",
            "  inflating: /content/dataset/labels/train/132807f0-Ch120241021100426.txt  \n",
            "  inflating: /content/dataset/labels/train/132a04f0-Ch120250126102749.txt  \n",
            "  inflating: /content/dataset/labels/train/13ac7335-Ch120240927115832.txt  \n",
            "  inflating: /content/dataset/labels/train/13df3b4a-Ch120250202103332.txt  \n",
            "  inflating: /content/dataset/labels/train/13e4aed5-Ch120241226150240.txt  \n",
            "  inflating: /content/dataset/labels/train/13edc55c-Ch120241203103038.txt  \n",
            "  inflating: /content/dataset/labels/train/14212ab8-Ch120250129095704.txt  \n",
            "  inflating: /content/dataset/labels/train/142f84c1-Ch120250118104618_learning_learning.txt  \n",
            "  inflating: /content/dataset/labels/train/1456323f-Ch120241021100721.txt  \n",
            "  inflating: /content/dataset/labels/train/14743c40-Ch120241225104414.txt  \n",
            "  inflating: /content/dataset/labels/train/148c4b63-Ch120250120115122_learning.txt  \n",
            "  inflating: /content/dataset/labels/train/148f708b-Ch120240927165320.txt  \n",
            "  inflating: /content/dataset/labels/train/14a249fd-Ch120241021160704.txt  \n",
            "  inflating: /content/dataset/labels/train/14c56f06-Ch120241021160600.txt  \n",
            "  inflating: /content/dataset/labels/train/14c73349-Ch120250115104658.txt  \n",
            "  inflating: /content/dataset/labels/train/14d5c486-Ch120241021182425.txt  \n",
            "  inflating: /content/dataset/labels/train/14fc0d11-Ch120240927120006.txt  \n",
            "  inflating: /content/dataset/labels/train/15413790-Ch120241203103515.txt  \n",
            "  inflating: /content/dataset/labels/train/15559b8e-Ch120241121101601.txt  \n",
            "  inflating: /content/dataset/labels/train/1560fb79-Ch120250129095715.txt  \n",
            "  inflating: /content/dataset/labels/train/1566ee67-Ch120241225113411.txt  \n",
            "  inflating: /content/dataset/labels/train/158a21b3-Ch120241227151305.txt  \n",
            "  inflating: /content/dataset/labels/train/1590bddf-Ch120250202103047.txt  \n",
            "  inflating: /content/dataset/labels/train/15bfb8c9-Ch120250202102825.txt  \n",
            "  inflating: /content/dataset/labels/train/15ccf4a1-Ch120241225114313.txt  \n",
            "  inflating: /content/dataset/labels/train/15d2023a-Ch120241226145640.txt  \n",
            "  inflating: /content/dataset/labels/train/15f34d6b-Ch120250131095947.txt  \n",
            "  inflating: /content/dataset/labels/train/1600ec12-Ch120250120114809_learning.txt  \n",
            "  inflating: /content/dataset/labels/train/16108cd9-Ch120240927165752.txt  \n",
            "  inflating: /content/dataset/labels/train/1616d183-Ch120250111161803.txt  \n",
            "  inflating: /content/dataset/labels/train/1679ba70-Ch120241226102850.txt  \n",
            "  inflating: /content/dataset/labels/train/167ad118-Ch120241021160642.txt  \n",
            "  inflating: /content/dataset/labels/train/16b833e7-Ch120250202102258.txt  \n",
            "  inflating: /content/dataset/labels/train/16baa91c-Ch120250203095524.txt  \n",
            "  inflating: /content/dataset/labels/train/16c9eddf-Ch120241121101643.txt  \n",
            "  inflating: /content/dataset/labels/train/16cc502a-Ch120250217104310.txt  \n",
            "  inflating: /content/dataset/labels/train/16d4765a-Ch120241226102912.txt  \n",
            "  inflating: /content/dataset/labels/train/16d56a0d-Ch120250131100150.txt  \n",
            "  inflating: /content/dataset/labels/train/170364e8-Ch120241227151315.txt  \n",
            "  inflating: /content/dataset/labels/train/1749a809-Ch120250130094423.txt  \n",
            "  inflating: /content/dataset/labels/train/177d4de1-Ch120250129095728.txt  \n",
            "  inflating: /content/dataset/labels/train/179d6d73-Ch120250228101849.txt  \n",
            "  inflating: /content/dataset/labels/train/17be5f80-Ch120241226145451.txt  \n",
            "  inflating: /content/dataset/labels/train/18070d84-Ch120250130094139.txt  \n",
            "  inflating: /content/dataset/labels/train/183279c5-Ch120241225114545.txt  \n",
            "  inflating: /content/dataset/labels/train/187827d0-Ch120241226150404.txt  \n",
            "  inflating: /content/dataset/labels/train/18794b7c-Ch120250130094531.txt  \n",
            "  inflating: /content/dataset/labels/train/18af62b5-Ch120240927120033.txt  \n",
            "  inflating: /content/dataset/labels/train/18bf5e33-Ch120250228105322.txt  \n",
            "  inflating: /content/dataset/labels/train/18c16f0e-Ch120250206103634.txt  \n",
            "  inflating: /content/dataset/labels/train/18c6d777-Ch120241225112917.txt  \n",
            "  inflating: /content/dataset/labels/train/18cbdca1-Ch120241225104447.txt  \n",
            "  inflating: /content/dataset/labels/train/192bac6a-Ch120241227145501.txt  \n",
            "  inflating: /content/dataset/labels/train/1952690e-Ch120241225113435.txt  \n",
            "  inflating: /content/dataset/labels/train/19835984-Ch120250125121248.txt  \n",
            "  inflating: /content/dataset/labels/train/19980124-Ch120241021182424.txt  \n",
            "  inflating: /content/dataset/labels/train/19c2e5ea-Ch120241227151015.txt  \n",
            "  inflating: /content/dataset/labels/train/19dac447-Ch120241227151416.txt  \n",
            "  inflating: /content/dataset/labels/train/19f5ac1b-Ch120241226150810.txt  \n",
            "  inflating: /content/dataset/labels/train/1a499c07-Ch120250116143425.txt  \n",
            "  inflating: /content/dataset/labels/train/1a5a2379-Ch120241021182340.txt  \n",
            "  inflating: /content/dataset/labels/train/1a5bc3df-Ch120250130094453.txt  \n",
            "  inflating: /content/dataset/labels/train/1aa137f0-Ch120241227145436.txt  \n",
            "  inflating: /content/dataset/labels/train/1ac6b350-Ch120241225104307.txt  \n",
            "  inflating: /content/dataset/labels/train/1b23bd70-Ch120250116143730.txt  \n",
            "  inflating: /content/dataset/labels/train/1b2d4388-Ch120250111161749.txt  \n",
            "  inflating: /content/dataset/labels/train/1c0776d3-Ch120241121101657.txt  \n",
            "  inflating: /content/dataset/labels/train/1c226979-Ch120250111161648.txt  \n",
            "  inflating: /content/dataset/labels/train/1c3631ac-Ch120250116143147.txt  \n",
            "  inflating: /content/dataset/labels/train/1c4e7a0b-Ch120241226150320.txt  \n",
            "  inflating: /content/dataset/labels/train/1c61bce8-Ch120241225112907.txt  \n",
            "  inflating: /content/dataset/labels/train/1c79f6b7-Ch120241225112956.txt  \n",
            "  inflating: /content/dataset/labels/train/1c9d61dc-Ch120250302103930.txt  \n",
            "  inflating: /content/dataset/labels/train/1cd4c8c5-Ch120250116142621.txt  \n",
            "  inflating: /content/dataset/labels/train/1cffcc97-Ch120250115112625.txt  \n",
            "  inflating: /content/dataset/labels/train/1d5086bf-Ch120241021182615.txt  \n",
            "  inflating: /content/dataset/labels/train/1d5bee08-Ch120241226150642.txt  \n",
            "  inflating: /content/dataset/labels/train/1d613a95-Ch120241227151254.txt  \n",
            "  inflating: /content/dataset/labels/train/1db2a182-Ch120250116143420.txt  \n",
            "  inflating: /content/dataset/labels/train/1db9d8f0-Ch120241225114431.txt  \n",
            "  inflating: /content/dataset/labels/train/1e3c773f-Ch120250115150022.txt  \n",
            "  inflating: /content/dataset/labels/train/1e3ecf39-Ch120250116142833.txt  \n",
            "  inflating: /content/dataset/labels/train/1e50237e-Ch120241225112906.txt  \n",
            "  inflating: /content/dataset/labels/train/1e85ebab-Ch120250202102240.txt  \n",
            "  inflating: /content/dataset/labels/train/1e92525f-Ch120250130094555.txt  \n",
            "  inflating: /content/dataset/labels/train/1edb2e76-Ch120240927165729.txt  \n",
            "  inflating: /content/dataset/labels/train/1f096739-Ch120250121102728.txt  \n",
            "  inflating: /content/dataset/labels/train/1f15ffd0-Ch120240927165404.txt  \n",
            "  inflating: /content/dataset/labels/train/1f278bb6-Ch120250128094326.txt  \n",
            "  inflating: /content/dataset/labels/train/1f4bd536-Ch120241203103437.txt  \n",
            "  inflating: /content/dataset/labels/train/1f576d2f-Ch120241225113407.txt  \n",
            "  inflating: /content/dataset/labels/train/1f63d8f8-Ch120241021100500.txt  \n",
            "  inflating: /content/dataset/labels/train/1f6f2ba5-Ch120250111161902.txt  \n",
            "  inflating: /content/dataset/labels/train/1f71dcc2-Ch120250202102924.txt  \n",
            "  inflating: /content/dataset/labels/train/1f820ca1-Ch120241226103038.txt  \n",
            "  inflating: /content/dataset/labels/train/1fb000a2-Ch120250202103419.txt  \n",
            "  inflating: /content/dataset/labels/train/20157826-Ch120250202102338.txt  \n",
            "  inflating: /content/dataset/labels/train/204f6e6d-Ch120240927115840.txt  \n",
            "  inflating: /content/dataset/labels/train/207190b5-Ch120250202102752.txt  \n",
            "  inflating: /content/dataset/labels/train/20c5a97e-Ch120241226145850.txt  \n",
            "  inflating: /content/dataset/labels/train/20ce7b9e-Ch120241225113008.txt  \n",
            "  inflating: /content/dataset/labels/train/20e33a34-Ch120241226145916.txt  \n",
            "  inflating: /content/dataset/labels/train/20f2f13d-Ch120241121101319.txt  \n",
            "  inflating: /content/dataset/labels/train/210d7422-Ch120250128094134.txt  \n",
            "  inflating: /content/dataset/labels/train/211164e8-Ch120250115105323.txt  \n",
            "  inflating: /content/dataset/labels/train/2119ca80-Ch120241121101022.txt  \n",
            "  inflating: /content/dataset/labels/train/2132b51a-Ch120241227151058.txt  \n",
            "  inflating: /content/dataset/labels/train/213a5717-Ch120241225114400.txt  \n",
            "  inflating: /content/dataset/labels/train/214bbfc9-Ch120250111161119.txt  \n",
            "  inflating: /content/dataset/labels/train/218cc4cb-Ch120250202103350.txt  \n",
            "  inflating: /content/dataset/labels/train/21a9b1c8-Ch120250202102643.txt  \n",
            "  inflating: /content/dataset/labels/train/21b855d5-Ch120250111161842.txt  \n",
            "  inflating: /content/dataset/labels/train/21bfa17d-Ch120250120114809_learning.txt  \n",
            "  inflating: /content/dataset/labels/train/2215ca6b-Ch120250202100359.txt  \n",
            "  inflating: /content/dataset/labels/train/2217d3fc-Ch120250111161451.txt  \n",
            "  inflating: /content/dataset/labels/train/22388d2c-Ch120241121101635.txt  \n",
            "  inflating: /content/dataset/labels/train/22509b54-Ch120250130094354.txt  \n",
            "  inflating: /content/dataset/labels/train/2259292e-Ch120250126113003.txt  \n",
            "  inflating: /content/dataset/labels/train/229a977b-Ch120250120144614_learning.txt  \n",
            "  inflating: /content/dataset/labels/train/22c7e21d-Ch120241227151251.txt  \n",
            "  inflating: /content/dataset/labels/train/22f3972b-Ch120241021100907.txt  \n",
            "  inflating: /content/dataset/labels/train/230064cc-Ch120250112104555.txt  \n",
            "  inflating: /content/dataset/labels/train/235f3077-Ch120250118105020_learning_learning.txt  \n",
            "  inflating: /content/dataset/labels/train/2379ad3b-Ch120241203103305.txt  \n",
            "  inflating: /content/dataset/labels/train/2390d9a6-Ch120250111161120.txt  \n",
            "  inflating: /content/dataset/labels/train/23b44ad4-Ch120240927120017.txt  \n",
            "  inflating: /content/dataset/labels/train/23f90bfa-Ch120241121101217.txt  \n",
            "  inflating: /content/dataset/labels/train/240c8e76-Ch120241226102955.txt  \n",
            "  inflating: /content/dataset/labels/train/241a79f0-Ch120241203102858.txt  \n",
            "  inflating: /content/dataset/labels/train/2428a98d-Ch120250118095340_learning.txt  \n",
            "  inflating: /content/dataset/labels/train/243f1f9f-Ch120241227151109.txt  \n",
            "  inflating: /content/dataset/labels/train/2470dec5-Ch120241226102731.txt  \n",
            "  inflating: /content/dataset/labels/train/248580fb-Ch120241225114320.txt  \n",
            "  inflating: /content/dataset/labels/train/2487255e-Ch120241227145441.txt  \n",
            "  inflating: /content/dataset/labels/train/24a4e8c6-Ch120240927165431.txt  \n",
            "  inflating: /content/dataset/labels/train/24b038fc-Ch120241225113007.txt  \n",
            "  inflating: /content/dataset/labels/train/24fadda3-Ch120250120114645_learning.txt  \n",
            "  inflating: /content/dataset/labels/train/253da8c2-Ch120250202103125.txt  \n",
            "  inflating: /content/dataset/labels/train/254652b7-Ch120250303095836.txt  \n",
            "  inflating: /content/dataset/labels/train/254abcdf-Ch120241203102850.txt  \n",
            "  inflating: /content/dataset/labels/train/2552bdf1-Ch120241021182609.txt  \n",
            "  inflating: /content/dataset/labels/train/257e9b48-Ch120241021182329.txt  \n",
            "  inflating: /content/dataset/labels/train/25885b67-Ch120250115112940.txt  \n",
            "  inflating: /content/dataset/labels/train/25a113ff-Ch120241226102759.txt  \n",
            "  inflating: /content/dataset/labels/train/25b10cdc-Ch120250111161852.txt  \n",
            "  inflating: /content/dataset/labels/train/25c20934-Ch120250128094142.txt  \n",
            "  inflating: /content/dataset/labels/train/25f5e4e8-Ch120241121101205.txt  \n",
            "  inflating: /content/dataset/labels/train/2604654f-Ch120250203095212.txt  \n",
            "  inflating: /content/dataset/labels/train/261af74c-Ch120250125120745.txt  \n",
            "  inflating: /content/dataset/labels/train/26576f42-Ch120250115113107.txt  \n",
            "  inflating: /content/dataset/labels/train/2672c7bf-Ch120250217104534.txt  \n",
            "  inflating: /content/dataset/labels/train/2691d0a9-Ch120241021182611.txt  \n",
            "  inflating: /content/dataset/labels/train/26b871d4-Ch120250125120719.txt  \n",
            "  inflating: /content/dataset/labels/train/26c66cea-Ch120241227150954.txt  \n",
            "  inflating: /content/dataset/labels/train/26ce62be-Ch120241203103142.txt  \n",
            "  inflating: /content/dataset/labels/train/27545e51-Ch120241227151430.txt  \n",
            "  inflating: /content/dataset/labels/train/278de72f-Ch120241225104217.txt  \n",
            "  inflating: /content/dataset/labels/train/27a1f499-Ch120241225114323.txt  \n",
            "  inflating: /content/dataset/labels/train/27da7f39-Ch120241226102859.txt  \n",
            "  inflating: /content/dataset/labels/train/27fc25f3-Ch120241225114300.txt  \n",
            "  inflating: /content/dataset/labels/train/2826d17f-Ch120241226150423.txt  \n",
            "  inflating: /content/dataset/labels/train/282979d1-Ch120250202103617.txt  \n",
            "  inflating: /content/dataset/labels/train/2860a104-Ch120241227145418.txt  \n",
            "  inflating: /content/dataset/labels/train/286b6faf-Ch120250118095146_learning.txt  \n",
            "  inflating: /content/dataset/labels/train/28781722-Ch120241225114321.txt  \n",
            "  inflating: /content/dataset/labels/train/289ed4d7-Ch120250115113507.txt  \n",
            "  inflating: /content/dataset/labels/train/28e99cac-Ch120250111161914.txt  \n",
            "  inflating: /content/dataset/labels/train/291df116-Ch120250118095405_learning.txt  \n",
            "  inflating: /content/dataset/labels/train/294b0cf1-Ch120250115113334.txt  \n",
            "  inflating: /content/dataset/labels/train/296ce521-Ch120241227145430.txt  \n",
            "  inflating: /content/dataset/labels/train/298e4a6e-Ch120250228101756.txt  \n",
            "  inflating: /content/dataset/labels/train/299a495b-Ch120241225113039.txt  \n",
            "  inflating: /content/dataset/labels/train/29f13059-Ch120250116142717.txt  \n",
            "  inflating: /content/dataset/labels/train/29f8b1ae-Ch120241203103057.txt  \n",
            "  inflating: /content/dataset/labels/train/2a02d6f5-Ch120250111161146.txt  \n",
            "  inflating: /content/dataset/labels/train/2a08b999-Ch120241121101115.txt  \n",
            "  inflating: /content/dataset/labels/train/2a2cea70-Ch120241121101211.txt  \n",
            "  inflating: /content/dataset/labels/train/2a5d4437-Ch120250302103654.txt  \n",
            "  inflating: /content/dataset/labels/train/2a76a03f-Ch120250111161424.txt  \n",
            "  inflating: /content/dataset/labels/train/2a7fb05f-Ch120250119143345_learning_learning.txt  \n",
            "  inflating: /content/dataset/labels/train/2af92dff-Ch120250202103600.txt  \n",
            "  inflating: /content/dataset/labels/train/2affa99d-Ch120241203103129.txt  \n",
            "  inflating: /content/dataset/labels/train/2b294cbf-Ch120240927165618.txt  \n",
            "  inflating: /content/dataset/labels/train/2b83d430-Ch120250303100012.txt  \n",
            "  inflating: /content/dataset/labels/train/2ba0d22a-Ch120250111161312.txt  \n",
            "  inflating: /content/dataset/labels/train/2ba401f1-Ch120250202103835.txt  \n",
            "  inflating: /content/dataset/labels/train/2bdaaafc-Ch120241227151100.txt  \n",
            "  inflating: /content/dataset/labels/train/2c1dd7b9-Ch120241226102908.txt  \n",
            "  inflating: /content/dataset/labels/train/2c580b96-Ch120250128094322.txt  \n",
            "  inflating: /content/dataset/labels/train/2c5f4da7-Ch120250113104502.txt  \n",
            "  inflating: /content/dataset/labels/train/2c6f17cc-Ch120241203103056.txt  \n",
            "  inflating: /content/dataset/labels/train/2c8bf954-Ch120241227151018.txt  \n",
            "  inflating: /content/dataset/labels/train/2ca9161c-Ch120250118105343_learning_learning.txt  \n",
            "  inflating: /content/dataset/labels/train/2cd60592-Ch120250111161435.txt  \n",
            "  inflating: /content/dataset/labels/train/2cfbfee2-Ch120241227151123.txt  \n",
            "  inflating: /content/dataset/labels/train/2d78fe5d-Ch120241227151410.txt  \n",
            "  inflating: /content/dataset/labels/train/2d8a27fa-Ch120241121101155.txt  \n",
            "  inflating: /content/dataset/labels/train/2dd63d17-Ch120250121131237.txt  \n",
            "  inflating: /content/dataset/labels/train/2df10b2f-Ch120250203095333.txt  \n",
            "  inflating: /content/dataset/labels/train/2df954c5-Ch120250111161838.txt  \n",
            "  inflating: /content/dataset/labels/train/2e1b4dac-Ch120250128094331.txt  \n",
            "  inflating: /content/dataset/labels/train/2e332e4b-Ch120250119143328_learning_learning.txt  \n",
            "  inflating: /content/dataset/labels/train/2e7a0f96-Ch120250118103117_learning.txt  \n",
            "  inflating: /content/dataset/labels/train/2e89f2b8-Ch120241021100636.txt  \n",
            "  inflating: /content/dataset/labels/train/2eda85b1-Ch120250202103221.txt  \n",
            "  inflating: /content/dataset/labels/train/2eff9c34-Ch120250118105049_learning_learning.txt  \n",
            "  inflating: /content/dataset/labels/train/2f003409-Ch120250202102810.txt  \n",
            "  inflating: /content/dataset/labels/train/2f049f65-Ch120240927165458.txt  \n",
            "  inflating: /content/dataset/labels/train/2f0bc4ed-Ch120250206105059.txt  \n",
            "  inflating: /content/dataset/labels/train/2f3a6e29-Ch120250130094245.txt  \n",
            "  inflating: /content/dataset/labels/train/2f718430-Ch120241203103119.txt  \n",
            "  inflating: /content/dataset/labels/train/2f860d3c-Ch120241225114440.txt  \n",
            "  inflating: /content/dataset/labels/train/2f8d3420-Ch120241225114417.txt  \n",
            "  inflating: /content/dataset/labels/train/2f93dd9e-Ch120240927115843.txt  \n",
            "  inflating: /content/dataset/labels/train/2fa37910-Ch120250111161541.txt  \n",
            "  inflating: /content/dataset/labels/train/2fac2083-Ch120241021101059.txt  \n",
            "  inflating: /content/dataset/labels/train/2feafecb-Ch120250111161854.txt  \n",
            "  inflating: /content/dataset/labels/train/300f2f49-Ch120241225114416.txt  \n",
            "  inflating: /content/dataset/labels/train/302e73a9-Ch120241225114525.txt  \n",
            "  inflating: /content/dataset/labels/train/30383aa0-Ch120241227151311.txt  \n",
            "  inflating: /content/dataset/labels/train/30519d4f-Ch120250112105255.txt  \n",
            "  inflating: /content/dataset/labels/train/305ed9eb-Ch120250111161747.txt  \n",
            "  inflating: /content/dataset/labels/train/30baeedc-Ch120241203103147.txt  \n",
            "  inflating: /content/dataset/labels/train/30bc2a6c-Ch120241225114441.txt  \n",
            "  inflating: /content/dataset/labels/train/30d0d6b7-Ch120250120144443_learning.txt  \n",
            "  inflating: /content/dataset/labels/train/311d703e-Ch120241225114439.txt  \n",
            "  inflating: /content/dataset/labels/train/312faf3e-Ch120250111161819.txt  \n",
            "  inflating: /content/dataset/labels/train/3131bc38-Ch120250119143101_learning.txt  \n",
            "  inflating: /content/dataset/labels/train/3131c484-Ch120250202102917.txt  \n",
            "  inflating: /content/dataset/labels/train/31528643-Ch120241226102704.txt  \n",
            "  inflating: /content/dataset/labels/train/3196db23-Ch120241226150533.txt  \n",
            "  inflating: /content/dataset/labels/train/3198587c-Ch120250116143004.txt  \n",
            "  inflating: /content/dataset/labels/train/31a0e803-Ch120241021101039.txt  \n",
            "  inflating: /content/dataset/labels/train/31cdba90-Ch120250111161438.txt  \n",
            "  inflating: /content/dataset/labels/train/31dd400f-Ch120240927115826.txt  \n",
            "  inflating: /content/dataset/labels/train/31f9cb0e-Ch120241021100700.txt  \n",
            "  inflating: /content/dataset/labels/train/32112609-Ch120250116143216.txt  \n",
            "  inflating: /content/dataset/labels/train/32136ba0-Ch120250116143407.txt  \n",
            "  inflating: /content/dataset/labels/train/323ccdc1-Ch120250115104949.txt  \n",
            "  inflating: /content/dataset/labels/train/3270a0ba-Ch120250228105333.txt  \n",
            "  inflating: /content/dataset/labels/train/32fa2ed9-Ch120250119142909_learning.txt  \n",
            "  inflating: /content/dataset/labels/train/32fc7aaa-Ch120241225112937.txt  \n",
            "  inflating: /content/dataset/labels/train/3307eddb-Ch120241227151407.txt  \n",
            "  inflating: /content/dataset/labels/train/33212f89-Ch120250116142648.txt  \n",
            "  inflating: /content/dataset/labels/train/333c67f8-Ch120250202103759.txt  \n",
            "  inflating: /content/dataset/labels/train/334536c2-Ch120250111161735.txt  \n",
            "  inflating: /content/dataset/labels/train/33b5d2af-Ch120250202102833.txt  \n",
            "  inflating: /content/dataset/labels/train/33bed532-Ch120241225104228.txt  \n",
            "  inflating: /content/dataset/labels/train/33e26543-Ch120250116143524.txt  \n",
            "  inflating: /content/dataset/labels/train/33fbe69f-Ch120250111161217.txt  \n",
            "  inflating: /content/dataset/labels/train/34406db0-Ch120241225114317.txt  \n",
            "  inflating: /content/dataset/labels/train/3483291a-Ch120250130094404.txt  \n",
            "  inflating: /content/dataset/labels/train/34919e65-Ch120240927165212.txt  \n",
            "  inflating: /content/dataset/labels/train/349adbd4-Ch120241203102926.txt  \n",
            "  inflating: /content/dataset/labels/train/35030c17-Ch120250206103426.txt  \n",
            "  inflating: /content/dataset/labels/train/352cd499-Ch120250115113146.txt  \n",
            "  inflating: /content/dataset/labels/train/352d5e8c-Ch120241021100705.txt  \n",
            "  inflating: /content/dataset/labels/train/35606680-Ch120250202095958.txt  \n",
            "  inflating: /content/dataset/labels/train/359ae6de-Ch120241021160557.txt  \n",
            "  inflating: /content/dataset/labels/train/35b04a2f-Ch120241226102922.txt  \n",
            "  inflating: /content/dataset/labels/train/35c47080-Ch120250115113108.txt  \n",
            "  inflating: /content/dataset/labels/train/3638a8cf-Ch120241227151439.txt  \n",
            "  inflating: /content/dataset/labels/train/363cf1b5-Ch120250202103618.txt  \n",
            "  inflating: /content/dataset/labels/train/36ad5948-Ch120241225113040.txt  \n",
            "  inflating: /content/dataset/labels/train/36d4afef-Ch120241225104237.txt  \n",
            "  inflating: /content/dataset/labels/train/36dedcb6-Ch120250115113658.txt  \n",
            "  inflating: /content/dataset/labels/train/36f04f60-Ch120250228101524.txt  \n",
            "  inflating: /content/dataset/labels/train/3707b76a-Ch120250128094300.txt  \n",
            "  inflating: /content/dataset/labels/train/3726c4fe-Ch120241226102745.txt  \n",
            "  inflating: /content/dataset/labels/train/3726d120-Ch120241227145419.txt  \n",
            "  inflating: /content/dataset/labels/train/373f47c2-Ch120241225114259.txt  \n",
            "  inflating: /content/dataset/labels/train/3770d882-Ch120240927115844.txt  \n",
            "  inflating: /content/dataset/labels/train/37945402-Ch120241226150640.txt  \n",
            "  inflating: /content/dataset/labels/train/37afa174-Ch120241225114527.txt  \n",
            "  inflating: /content/dataset/labels/train/37b4683f-Ch120250125120656.txt  \n",
            "  inflating: /content/dataset/labels/train/381de75e-Ch120250130094552.txt  \n",
            "  inflating: /content/dataset/labels/train/388aee82-Ch120241227145451.txt  \n",
            "  inflating: /content/dataset/labels/train/389898c2-Ch120240927120042.txt  \n",
            "  inflating: /content/dataset/labels/train/38a0c78a-Ch120241227151117.txt  \n",
            "  inflating: /content/dataset/labels/train/38abbd56-Ch120241226150820.txt  \n",
            "  inflating: /content/dataset/labels/train/38acc63e-Ch120240927165330.txt  \n",
            "  inflating: /content/dataset/labels/train/38ce4dd6-Ch120250309113521738.txt  \n",
            "  inflating: /content/dataset/labels/train/390381a0-Ch120241227151415.txt  \n",
            "  inflating: /content/dataset/labels/train/391fd6c5-Ch120250115104958.txt  \n",
            "  inflating: /content/dataset/labels/train/394b4412-Ch120241227151426.txt  \n",
            "  inflating: /content/dataset/labels/train/3976b116-Ch120241226145914.txt  \n",
            "  inflating: /content/dataset/labels/train/3991e3ba-Ch120250112104226.txt  \n",
            "  inflating: /content/dataset/labels/train/39c9fc7a-Ch120240927115918.txt  \n",
            "  inflating: /content/dataset/labels/train/39ce95a7-Ch120240927165211.txt  \n",
            "  inflating: /content/dataset/labels/train/39d16cde-Ch120241225112922.txt  \n",
            "  inflating: /content/dataset/labels/train/39da63cd-Ch120250121155920.txt  \n",
            "  inflating: /content/dataset/labels/train/39da660b-Ch120250118103922_learning_learning.txt  \n",
            "  inflating: /content/dataset/labels/train/39dd2682-Ch120241121101111.txt  \n",
            "  inflating: /content/dataset/labels/train/3a063e40-Ch120241225112921.txt  \n",
            "  inflating: /content/dataset/labels/train/3a0774ec-Ch120250111161607.txt  \n",
            "  inflating: /content/dataset/labels/train/3a1049a7-Ch120241021100727.txt  \n",
            "  inflating: /content/dataset/labels/train/3a56dcbb-Ch120241203103054.txt  \n",
            "  inflating: /content/dataset/labels/train/3a8e7511-Ch120250118103337_learning.txt  \n",
            "  inflating: /content/dataset/labels/train/3a9d5331-Ch120250111161231.txt  \n",
            "  inflating: /content/dataset/labels/train/3ac751eb-Ch120250129100101.txt  \n",
            "  inflating: /content/dataset/labels/train/3acbf099-Ch120240927115907.txt  \n",
            "  inflating: /content/dataset/labels/train/3ad4371d-Ch120250116143710.txt  \n",
            "  inflating: /content/dataset/labels/train/3af26ba5-Ch120241226103033.txt  \n",
            "  inflating: /content/dataset/labels/train/3b063285-Ch120250120115038_learning.txt  \n",
            "  inflating: /content/dataset/labels/train/3b25b5d4-Ch120250128094132.txt  \n",
            "  inflating: /content/dataset/labels/train/3b3ad99b-Ch120250118103223_learning.txt  \n",
            "  inflating: /content/dataset/labels/train/3b3eed9a-Ch120250116143603.txt  \n",
            "  inflating: /content/dataset/labels/train/3b578eb0-Ch120250116143722.txt  \n",
            "  inflating: /content/dataset/labels/train/3b724700-Ch120250128094156.txt  \n",
            "  inflating: /content/dataset/labels/train/3b89fb38-Ch120241225104235.txt  \n",
            "  inflating: /content/dataset/labels/train/3ba00928-Ch120241225113406.txt  \n",
            "  inflating: /content/dataset/labels/train/3ba923e6-Ch120250121161008.txt  \n",
            "  inflating: /content/dataset/labels/train/3bcdc5ee-Ch120250120105815_learning.txt  \n",
            "  inflating: /content/dataset/labels/train/3c05fc0b-Ch120241203103354.txt  \n",
            "  inflating: /content/dataset/labels/train/3c10a3c8-Ch120240927115724.txt  \n",
            "  inflating: /content/dataset/labels/train/3c19a504-Ch120241225113305.txt  \n",
            "  inflating: /content/dataset/labels/train/3c43837e-Ch120241121101647.txt  \n",
            "  inflating: /content/dataset/labels/train/3c44fdb1-Ch120240927165350.txt  \n",
            "  inflating: /content/dataset/labels/train/3c593d7f-Ch120250118095200_learning.txt  \n",
            "  inflating: /content/dataset/labels/train/3c951d59-Ch120241021182612.txt  \n",
            "  inflating: /content/dataset/labels/train/3c992986-Ch120250118095929_learning.txt  \n",
            "  inflating: /content/dataset/labels/train/3cbad04b-Ch120250202102734.txt  \n",
            "  inflating: /content/dataset/labels/train/3ccccc3d-Ch120241225114543.txt  \n",
            "  inflating: /content/dataset/labels/train/3cf07209-Ch120250309162728124.txt  \n",
            "  inflating: /content/dataset/labels/train/3d04839b-Ch120250202102556.txt  \n",
            "  inflating: /content/dataset/labels/train/3d098426-Ch120250206105546.txt  \n",
            "  inflating: /content/dataset/labels/train/3d13f523-Ch120241225113433.txt  \n",
            "  inflating: /content/dataset/labels/train/3d1483c3-Ch120240927115510.txt  \n",
            "  inflating: /content/dataset/labels/train/3d314f4c-Ch120241225114530.txt  \n",
            "  inflating: /content/dataset/labels/train/3d4b1abd-Ch120241226150309.txt  \n",
            "  inflating: /content/dataset/labels/train/3d4fc959-Ch120250115113344.txt  \n",
            "  inflating: /content/dataset/labels/train/3d8ddb2d-Ch120241226151110.txt  \n",
            "  inflating: /content/dataset/labels/train/3d954d7d-Ch120241203103336.txt  \n",
            "  inflating: /content/dataset/labels/train/3d957fd0-Ch120250128094147.txt  \n",
            "  inflating: /content/dataset/labels/train/3dd22254-Ch120250131100019.txt  \n",
            "  inflating: /content/dataset/labels/train/3de08dd4-Ch120250116143152.txt  \n",
            "  inflating: /content/dataset/labels/train/3df4d2f6-Ch120250131100030.txt  \n",
            "  inflating: /content/dataset/labels/train/3e021d9d-Ch120250111161124.txt  \n",
            "  inflating: /content/dataset/labels/train/3e05f0ce-Ch120250202103137.txt  \n",
            "  inflating: /content/dataset/labels/train/3e153533-Ch120250206105404.txt  \n",
            "  inflating: /content/dataset/labels/train/3e3488e0-Ch120250115113413.txt  \n",
            "  inflating: /content/dataset/labels/train/3e34969f-Ch120250118095256_learning.txt  \n",
            "  inflating: /content/dataset/labels/train/3e5afda2-Ch120250302101321.txt  \n",
            "  inflating: /content/dataset/labels/train/3e92efe4-Ch120250120105238_learning.txt  \n",
            "  inflating: /content/dataset/labels/train/3ef84ec7-Ch120250130094114.txt  \n",
            "  inflating: /content/dataset/labels/train/3ef8da68-Ch120250115104704.txt  \n",
            "  inflating: /content/dataset/labels/train/3efa54c2-Ch120250116142854.txt  \n",
            "  inflating: /content/dataset/labels/train/3efb031f-Ch120241226150617.txt  \n",
            "  inflating: /content/dataset/labels/train/3f254dec-Ch120250131100046.txt  \n",
            "  inflating: /content/dataset/labels/train/3f874924-Ch120241226150243.txt  \n",
            "  inflating: /content/dataset/labels/train/3f94fc74-Ch120241203102945.txt  \n",
            "  inflating: /content/dataset/labels/train/3fa21037-Ch120250118095936_learning.txt  \n",
            "  inflating: /content/dataset/labels/train/3faa454f-Ch120250119143453_learning_learning.txt  \n",
            "  inflating: /content/dataset/labels/train/3fd98221-Ch120241203103152.txt  \n",
            "  inflating: /content/dataset/labels/train/3fe10a90-Ch120250120104113_learning.txt  \n",
            "  inflating: /content/dataset/labels/train/4002b70e-Ch120250115113313.txt  \n",
            "  inflating: /content/dataset/labels/train/40110263-Ch120250111161936.txt  \n",
            "  inflating: /content/dataset/labels/train/402aeae6-Ch120241226150021.txt  \n",
            "  inflating: /content/dataset/labels/train/4044857e-Ch120250202103208.txt  \n",
            "  inflating: /content/dataset/labels/train/40aa7f52-Ch120241226150022.txt  \n",
            "  inflating: /content/dataset/labels/train/40b1c702-Ch120250115105330.txt  \n",
            "  inflating: /content/dataset/labels/train/40b941bd-Ch120250111161227.txt  \n",
            "  inflating: /content/dataset/labels/train/40c85260-Ch120250302102225.txt  \n",
            "  inflating: /content/dataset/labels/train/40c8d2e4-Ch120241227145434.txt  \n",
            "  inflating: /content/dataset/labels/train/40cd723a-Ch120241225113015.txt  \n",
            "  inflating: /content/dataset/labels/train/40ecc5a4-Ch120241225104227.txt  \n",
            "  inflating: /content/dataset/labels/train/40f84b78-Ch120250115104802.txt  \n",
            "  inflating: /content/dataset/labels/train/40fb7707-Ch120241225112829.txt  \n",
            "  inflating: /content/dataset/labels/train/4118f7ab-Ch120241226102858.txt  \n",
            "  inflating: /content/dataset/labels/train/411e697f-Ch120250120145126_learning.txt  \n",
            "  inflating: /content/dataset/labels/train/419568e8-Ch120241227151344.txt  \n",
            "  inflating: /content/dataset/labels/train/41b54d49-Ch120250115105420.txt  \n",
            "  inflating: /content/dataset/labels/train/423215d7-Ch120250115113115.txt  \n",
            "  inflating: /content/dataset/labels/train/423545cd-Ch120250202103349.txt  \n",
            "  inflating: /content/dataset/labels/train/4239145e-Ch120250202103742.txt  \n",
            "  inflating: /content/dataset/labels/train/42e1de85-Ch120241226102810.txt  \n",
            "  inflating: /content/dataset/labels/train/430b1f27-Ch120250119143509_learning_learning.txt  \n",
            "  inflating: /content/dataset/labels/train/43664e56-Ch120250202102948.txt  \n",
            "  inflating: /content/dataset/labels/train/4377ef17-Ch120250302102311.txt  \n",
            "  inflating: /content/dataset/labels/train/43863b57-Ch120250120143059_learning.txt  \n",
            "  inflating: /content/dataset/labels/train/4394f590-Ch120250202102706.txt  \n",
            "  inflating: /content/dataset/labels/train/43c3d5d7-Ch120250118104300_learning_learning.txt  \n",
            "  inflating: /content/dataset/labels/train/43ddb0cd-Ch120250110112012.txt  \n",
            "  inflating: /content/dataset/labels/train/43ecaafe-Ch120241226103026.txt  \n",
            "  inflating: /content/dataset/labels/train/4410c03c-Ch120250111105809.txt  \n",
            "  inflating: /content/dataset/labels/train/441b7330-Ch120241227151419.txt  \n",
            "  inflating: /content/dataset/labels/train/441fb9ca-Ch120250203095307.txt  \n",
            "  inflating: /content/dataset/labels/train/44262e1a-Ch120250111161613.txt  \n",
            "  inflating: /content/dataset/labels/train/4452ff3c-Ch120250111161845.txt  \n",
            "  inflating: /content/dataset/labels/train/445c3dc0-Ch120241226151128.txt  \n",
            "  inflating: /content/dataset/labels/train/446b0f25-Ch120250111160910.txt  \n",
            "  inflating: /content/dataset/labels/train/447600c6-Ch120250217104238.txt  \n",
            "  inflating: /content/dataset/labels/train/448fadd6-Ch120250302110416.txt  \n",
            "  inflating: /content/dataset/labels/train/44e92271-Ch120250129095804.txt  \n",
            "  inflating: /content/dataset/labels/train/4516795b-Ch120250202103542.txt  \n",
            "  inflating: /content/dataset/labels/train/45565b19-Ch120250120145054_learning.txt  \n",
            "  inflating: /content/dataset/labels/train/455c7d39-Ch120241226103039.txt  \n",
            "  inflating: /content/dataset/labels/train/45f219e9-Ch120250111160911.txt  \n",
            "  inflating: /content/dataset/labels/train/46312233-Ch120241021100713.txt  \n",
            "  inflating: /content/dataset/labels/train/4646c80c-Ch120241121101331.txt  \n",
            "  inflating: /content/dataset/labels/train/464abacb-Ch120250119143240_learning_learning.txt  \n",
            "  inflating: /content/dataset/labels/train/46a77b3c-Ch120250203095523.txt  \n",
            "  inflating: /content/dataset/labels/train/46b754f7-Ch120241225114524.txt  \n",
            "  inflating: /content/dataset/labels/train/46e44d20-Ch120241225104302.txt  \n",
            "  inflating: /content/dataset/labels/train/47206970-Ch120241021101034.txt  \n",
            "  inflating: /content/dataset/labels/train/472cce3c-Ch120250111161408.txt  \n",
            "  inflating: /content/dataset/labels/train/474eada2-Ch120250121102639.txt  \n",
            "  inflating: /content/dataset/labels/train/475c063d-Ch120241226103156.txt  \n",
            "  inflating: /content/dataset/labels/train/47ab4836-Ch120250116143756.txt  \n",
            "  inflating: /content/dataset/labels/train/47df7b13-Ch120241227145440.txt  \n",
            "  inflating: /content/dataset/labels/train/47f9be19-Ch120250111161550.txt  \n",
            "  inflating: /content/dataset/labels/train/4823eb4f-Ch120241225113412.txt  \n",
            "  inflating: /content/dataset/labels/train/485bb32b-Ch120250129100022.txt  \n",
            "  inflating: /content/dataset/labels/train/48719353-Ch120250111161745.txt  \n",
            "  inflating: /content/dataset/labels/train/48916faf-Ch120241226150754.txt  \n",
            "  inflating: /content/dataset/labels/train/48c7c5cf-Ch120241021160648.txt  \n",
            "  inflating: /content/dataset/labels/train/48f2aa0c-Ch120250111110124.txt  \n",
            "  inflating: /content/dataset/labels/train/490aa8c9-Ch120240927115511.txt  \n",
            "  inflating: /content/dataset/labels/train/491b0bb0-Ch120250120144401_learning.txt  \n",
            "  inflating: /content/dataset/labels/train/4929f895-Ch120241121101500.txt  \n",
            "  inflating: /content/dataset/labels/train/495d82b0-Ch120250202103126.txt  \n",
            "  inflating: /content/dataset/labels/train/496e6e5a-Ch120250126102323.txt  \n",
            "  inflating: /content/dataset/labels/train/498dce70-Ch120241121101236.txt  \n",
            "  inflating: /content/dataset/labels/train/49e41e24-Ch120241021100750.txt  \n",
            "  inflating: /content/dataset/labels/train/4a658a39-Ch120241226103047.txt  \n",
            "  inflating: /content/dataset/labels/train/4a9cb7b6-Ch120250202102745.txt  \n",
            "  inflating: /content/dataset/labels/train/4a9d7fb1-Ch120250111161152.txt  \n",
            "  inflating: /content/dataset/labels/train/4aca2821-Ch120250302105833.txt  \n",
            "  inflating: /content/dataset/labels/train/4adb481b-Ch120240927165318.txt  \n",
            "  inflating: /content/dataset/labels/train/4ae81032-Ch120250206103004.txt  \n",
            "  inflating: /content/dataset/labels/train/4af05678-Ch120250128094306.txt  \n",
            "  inflating: /content/dataset/labels/train/4b492c71-Ch120241226150405.txt  \n",
            "  inflating: /content/dataset/labels/train/4b69cb41-Ch120241226102911.txt  \n",
            "  inflating: /content/dataset/labels/train/4b7d7d4f-Ch120250217100218.txt  \n",
            "  inflating: /content/dataset/labels/train/4ba49d94-Ch120250129095718.txt  \n",
            "  inflating: /content/dataset/labels/train/4c1c8ef3-Ch120250129095734.txt  \n",
            "  inflating: /content/dataset/labels/train/4c219bfd-Ch120240927115829.txt  \n",
            "  inflating: /content/dataset/labels/train/4c2d2e6f-Ch120250202105551.txt  \n",
            "  inflating: /content/dataset/labels/train/4c6ee462-Ch120250116143625.txt  \n",
            "  inflating: /content/dataset/labels/train/4c962ec8-Ch120250202102818.txt  \n",
            "  inflating: /content/dataset/labels/train/4c9e092a-Ch120250115105316.txt  \n",
            "  inflating: /content/dataset/labels/train/4d052151-Ch120250228100710.txt  \n",
            "  inflating: /content/dataset/labels/train/4d2a601d-Ch120241021160640.txt  \n",
            "  inflating: /content/dataset/labels/train/4d86d776-Ch120241225104313.txt  \n",
            "  inflating: /content/dataset/labels/train/4d932dae-Ch120250129095652.txt  \n",
            "  inflating: /content/dataset/labels/train/4da2e3e2-Ch120241226102807.txt  \n",
            "  inflating: /content/dataset/labels/train/4db0a439-Ch120241203103438.txt  \n",
            "  inflating: /content/dataset/labels/train/4dd17e02-Ch120241226150106.txt  \n",
            "  inflating: /content/dataset/labels/train/4e011956-Ch120240927115750.txt  \n",
            "  inflating: /content/dataset/labels/train/4e0b8edc-Ch120241225112942.txt  \n",
            "  inflating: /content/dataset/labels/train/4e17ec07-Ch120241225112928.txt  \n",
            "  inflating: /content/dataset/labels/train/4e1d65d5-Ch120250121102836.txt  \n",
            "  inflating: /content/dataset/labels/train/4e4dacea-Ch120240927115738.txt  \n",
            "  inflating: /content/dataset/labels/train/4e6a12b3-Ch120250111161359.txt  \n",
            "  inflating: /content/dataset/labels/train/4e855392-Ch120250129100205.txt  \n",
            "  inflating: /content/dataset/labels/train/4e96d6f9-Ch120241223131012.txt  \n",
            "  inflating: /content/dataset/labels/train/4ebdcb94-Ch120241021100506.txt  \n",
            "  inflating: /content/dataset/labels/train/4ef8ba6d-Ch120241227151255.txt  \n",
            "  inflating: /content/dataset/labels/train/4f3855d6-Ch120241021160613.txt  \n",
            "  inflating: /content/dataset/labels/train/4f3e0ef9-Ch120250120104642_learning.txt  \n",
            "  inflating: /content/dataset/labels/train/4f4f16b8-Ch120250203095429.txt  \n",
            "  inflating: /content/dataset/labels/train/4f7b51ea-Ch120241225113121.txt  \n",
            "  inflating: /content/dataset/labels/train/4fd6d1c9-Ch120240927165500.txt  \n",
            "  inflating: /content/dataset/labels/train/50652b8c-Ch120241203103425.txt  \n",
            "  inflating: /content/dataset/labels/train/507f6991-Ch120241021100632.txt  \n",
            "  inflating: /content/dataset/labels/train/50b68fb5-Ch120250116142907.txt  \n",
            "  inflating: /content/dataset/labels/train/50e23fa4-Ch120241226150543.txt  \n",
            "  inflating: /content/dataset/labels/train/50e3f9bc-Ch120241225113041.txt  \n",
            "  inflating: /content/dataset/labels/train/50e3fd21-Ch120250118095119_learning.txt  \n",
            "  inflating: /content/dataset/labels/train/50fb19a9-Ch120250206105535.txt  \n",
            "  inflating: /content/dataset/labels/train/5173621d-Ch120241225113416.txt  \n",
            "  inflating: /content/dataset/labels/train/51d2c079-Ch120241225113009.txt  \n",
            "  inflating: /content/dataset/labels/train/51fcaf29-Ch120250228100624.txt  \n",
            "  inflating: /content/dataset/labels/train/521281a7-Ch120241021100437.txt  \n",
            "  inflating: /content/dataset/labels/train/5243e3fb-Ch120250202103515.txt  \n",
            "  inflating: /content/dataset/labels/train/52538148-Ch120241225113535.txt  \n",
            "  inflating: /content/dataset/labels/train/52890772-Ch120250111161226.txt  \n",
            "  inflating: /content/dataset/labels/train/5295092e-Ch120250125121726.txt  \n",
            "  inflating: /content/dataset/labels/train/529d6633-Ch120240927165156.txt  \n",
            "  inflating: /content/dataset/labels/train/52f02e95-Ch120241226150115.txt  \n",
            "  inflating: /content/dataset/labels/train/5311b109-Ch120250118104243_learning_learning.txt  \n",
            "  inflating: /content/dataset/labels/train/5330d058-Ch120250111161514.txt  \n",
            "  inflating: /content/dataset/labels/train/535f9cfc-Ch120241203103017.txt  \n",
            "  inflating: /content/dataset/labels/train/5392ba8f-Ch120240927115911.txt  \n",
            "  inflating: /content/dataset/labels/train/539e569c-Ch120250129095713.txt  \n",
            "  inflating: /content/dataset/labels/train/53bc233e-Ch120241021100444.txt  \n",
            "  inflating: /content/dataset/labels/train/53c68a99-Ch120250302104520.txt  \n",
            "  inflating: /content/dataset/labels/train/53d2b978-Ch120250206103332.txt  \n",
            "  inflating: /content/dataset/labels/train/53d66467-Ch120241226150045.txt  \n",
            "  inflating: /content/dataset/labels/train/5402cd55-Ch120241121101057.txt  \n",
            "  inflating: /content/dataset/labels/train/5437b413-Ch120241227151301.txt  \n",
            "  inflating: /content/dataset/labels/train/544c009c-Ch120241223131033.txt  \n",
            "  inflating: /content/dataset/labels/train/545864af-Ch120250206105617.txt  \n",
            "  inflating: /content/dataset/labels/train/54680656-Ch120240927165508.txt  \n",
            "  inflating: /content/dataset/labels/train/548f0b61-Ch120250206105440.txt  \n",
            "  inflating: /content/dataset/labels/train/54bee879-Ch120250125120830.txt  \n",
            "  inflating: /content/dataset/labels/train/54ccbd72-Ch120241021101018.txt  \n",
            "  inflating: /content/dataset/labels/train/54e1a969-Ch120241225104358.txt  \n",
            "  inflating: /content/dataset/labels/train/54f863bf-Ch120250203095319.txt  \n",
            "  inflating: /content/dataset/labels/train/553f4c2c-Ch120250217104321.txt  \n",
            "  inflating: /content/dataset/labels/train/55b744ad-Ch120241226150048.txt  \n",
            "  inflating: /content/dataset/labels/train/55cf5572-Ch120250121160704.txt  \n",
            "  inflating: /content/dataset/labels/train/55d1267a-Ch120241203103123.txt  \n",
            "  inflating: /content/dataset/labels/train/55db645f-Ch120250115113442.txt  \n",
            "  inflating: /content/dataset/labels/train/55e3e67b-Ch120241021100610.txt  \n",
            "  inflating: /content/dataset/labels/train/55f15567-Ch120240927115810.txt  \n",
            "  inflating: /content/dataset/labels/train/55ffb4e9-Ch120241203102917.txt  \n",
            "  inflating: /content/dataset/labels/train/5603a2c8-Ch120241021160703.txt  \n",
            "  inflating: /content/dataset/labels/train/5632370d-Ch120240927165746.txt  \n",
            "  inflating: /content/dataset/labels/train/568e263f-Ch120250116142709.txt  \n",
            "  inflating: /content/dataset/labels/train/56a36c42-Ch120241225114343.txt  \n",
            "  inflating: /content/dataset/labels/train/56bab29c-Ch120241021160705.txt  \n",
            "  inflating: /content/dataset/labels/train/571c19de-Ch120250116143631.txt  \n",
            "  inflating: /content/dataset/labels/train/576b6614-Ch120240927165751.txt  \n",
            "  inflating: /content/dataset/labels/train/579d49bc-Ch120241203103136.txt  \n",
            "  inflating: /content/dataset/labels/train/57eb2132-Ch120241225113034.txt  \n",
            "  inflating: /content/dataset/labels/train/57eb2df0-Ch120240927165733.txt  \n",
            "  inflating: /content/dataset/labels/train/5824df04-Ch120241203103409.txt  \n",
            "  inflating: /content/dataset/labels/train/584cb173-Ch120241227151224.txt  \n",
            "  inflating: /content/dataset/labels/train/584d7a92-Ch120250111161510.txt  \n",
            "  inflating: /content/dataset/labels/train/587df586-Ch120250302103632.txt  \n",
            "  inflating: /content/dataset/labels/train/59037f54-Ch120250118095723_learning.txt  \n",
            "  inflating: /content/dataset/labels/train/59095fd6-Ch120250113104821.txt  \n",
            "  inflating: /content/dataset/labels/train/590af5de-Ch120250120115206_learning.txt  \n",
            "  inflating: /content/dataset/labels/train/594caae7-Ch120250125121618.txt  \n",
            "  inflating: /content/dataset/labels/train/594e3f05-Ch120250129095851.txt  \n",
            "  inflating: /content/dataset/labels/train/5968a15d-Ch120241225112931.txt  \n",
            "  inflating: /content/dataset/labels/train/597bcb7a-Ch120241021182327.txt  \n",
            "  inflating: /content/dataset/labels/train/599fedcc-Ch120241226150142.txt  \n",
            "  inflating: /content/dataset/labels/train/59a4da2a-Ch120241021160601.txt  \n",
            "  inflating: /content/dataset/labels/train/59da9082-Ch120241225104359.txt  \n",
            "  inflating: /content/dataset/labels/train/5a5c75c8-Ch120241227151348.txt  \n",
            "  inflating: /content/dataset/labels/train/5a85e7c2-Ch120241226150457.txt  \n",
            "  inflating: /content/dataset/labels/train/5a869055-Ch120250111161118.txt  \n",
            "  inflating: /content/dataset/labels/train/5a92b395-Ch120250129095822.txt  \n",
            "  inflating: /content/dataset/labels/train/5aa576c5-Ch120250302102401.txt  \n",
            "  inflating: /content/dataset/labels/train/5ab4612a-Ch120250120114438_learning.txt  \n",
            "  inflating: /content/dataset/labels/train/5aea613a-Ch120241021160619.txt  \n",
            "  inflating: /content/dataset/labels/train/5afe86f1-Ch120241021160709.txt  \n",
            "  inflating: /content/dataset/labels/train/5b007119-Ch120241225114311.txt  \n",
            "  inflating: /content/dataset/labels/train/5b1f83f0-Ch120250120111156_learning.txt  \n",
            "  inflating: /content/dataset/labels/train/5b720719-Ch120250111161600.txt  \n",
            "  inflating: /content/dataset/labels/train/5bb06743-Ch120250112105307.txt  \n",
            "  inflating: /content/dataset/labels/train/5bb11db2-Ch120241121101423.txt  \n",
            "  inflating: /content/dataset/labels/train/5bb18b99-Ch120250115145613.txt  \n",
            "  inflating: /content/dataset/labels/train/5bdf0fab-Ch120250202103101.txt  \n",
            "  inflating: /content/dataset/labels/train/5bf2c746-Ch120250115145048.txt  \n",
            "  inflating: /content/dataset/labels/train/5c0299c6-Ch120250129095833.txt  \n",
            "  inflating: /content/dataset/labels/train/5c6b9604-Ch120250111161621.txt  \n",
            "  inflating: /content/dataset/labels/train/5c7c088e-Ch120241226102703.txt  \n",
            "  inflating: /content/dataset/labels/train/5c931833-Ch120241226102943.txt  \n",
            "  inflating: /content/dataset/labels/train/5c9da261-Ch120241225113127.txt  \n",
            "  inflating: /content/dataset/labels/train/5cd95397-Ch120250111161306.txt  \n",
            "  inflating: /content/dataset/labels/train/5d1d6aa3-Ch120250120142524_learning.txt  \n",
            "  inflating: /content/dataset/labels/train/5d26c9d9-Ch120241226102801.txt  \n",
            "  inflating: /content/dataset/labels/train/5d590e43-Ch120241225104408.txt  \n",
            "  inflating: /content/dataset/labels/train/5de03cbc-Ch120250128094225.txt  \n",
            "  inflating: /content/dataset/labels/train/5e06c5ea-Ch120241021101033.txt  \n",
            "  inflating: /content/dataset/labels/train/5e49f085-Ch120241225113051.txt  \n",
            "  inflating: /content/dataset/labels/train/5e5b2ebe-Ch120241021100511.txt  \n",
            "  inflating: /content/dataset/labels/train/5ea3ecec-Ch120241227151225.txt  \n",
            "  inflating: /content/dataset/labels/train/5ebe2320-Ch120240927165310.txt  \n",
            "  inflating: /content/dataset/labels/train/5edcbac1-Ch120250202103437.txt  \n",
            "  inflating: /content/dataset/labels/train/5f0fbaeb-Ch120241021182347.txt  \n",
            "  inflating: /content/dataset/labels/train/5f1b4f71-Ch120241226102804.txt  \n",
            "  inflating: /content/dataset/labels/train/5f500d76-Ch120241021100706.txt  \n",
            "  inflating: /content/dataset/labels/train/5fae74ff-Ch120240927165514.txt  \n",
            "  inflating: /content/dataset/labels/train/5fb62f10-Ch120241225114451.txt  \n",
            "  inflating: /content/dataset/labels/train/5fee8852-Ch120241021100732.txt  \n",
            "  inflating: /content/dataset/labels/train/600a724d-Ch120250130094359.txt  \n",
            "  inflating: /content/dataset/labels/train/60358fc2-Ch120250130094110.txt  \n",
            "  inflating: /content/dataset/labels/train/6036455e-Ch120250112105221.txt  \n",
            "  inflating: /content/dataset/labels/train/606db8dd-Ch120250202102438.txt  \n",
            "  inflating: /content/dataset/labels/train/6097a04f-Ch120241227145457.txt  \n",
            "  inflating: /content/dataset/labels/train/60e88f15-Ch120250311104052332.txt  \n",
            "  inflating: /content/dataset/labels/train/60eda32c-Ch120241121101347.txt  \n",
            "  inflating: /content/dataset/labels/train/60f5fa3d-Ch120250111161140.txt  \n",
            "  inflating: /content/dataset/labels/train/6128b376-Ch120241121101014.txt  \n",
            "  inflating: /content/dataset/labels/train/612db55b-Ch120250118095451_learning.txt  \n",
            "  inflating: /content/dataset/labels/train/6131c298-Ch120241225113049.txt  \n",
            "  inflating: /content/dataset/labels/train/61e77c61-Ch120241225112855.txt  \n",
            "  inflating: /content/dataset/labels/train/61f04f7b-Ch120241021160623.txt  \n",
            "  inflating: /content/dataset/labels/train/620ff8c2-Ch120241226151007.txt  \n",
            "  inflating: /content/dataset/labels/train/62129a91-Ch120250111161733.txt  \n",
            "  inflating: /content/dataset/labels/train/622d50b0-Ch120241203103112.txt  \n",
            "  inflating: /content/dataset/labels/train/628b5384-Ch120241021182620.txt  \n",
            "  inflating: /content/dataset/labels/train/62962533-Ch120250116143441.txt  \n",
            "  inflating: /content/dataset/labels/train/62c25878-Ch120240927120012.txt  \n",
            "  inflating: /content/dataset/labels/train/62cf16c8-Ch120241226150228.txt  \n",
            "  inflating: /content/dataset/labels/train/62eb5b72-Ch120241225113415.txt  \n",
            "  inflating: /content/dataset/labels/train/630c69a1-Ch120250126111915.txt  \n",
            "  inflating: /content/dataset/labels/train/63211105-Ch120241225112926.txt  \n",
            "  inflating: /content/dataset/labels/train/632165f6-Ch120240927120011.txt  \n",
            "  inflating: /content/dataset/labels/train/636d78ca-Ch120241227145439.txt  \n",
            "  inflating: /content/dataset/labels/train/63e76fb8-Ch120250115112856.txt  \n",
            "  inflating: /content/dataset/labels/train/63f1d3f1-Ch120240927115943.txt  \n",
            "  inflating: /content/dataset/labels/train/6406dac4-Ch120241121101044.txt  \n",
            "  inflating: /content/dataset/labels/train/64132063-Ch120241226150456.txt  \n",
            "  inflating: /content/dataset/labels/train/642115b5-Ch120241225114250.txt  \n",
            "  inflating: /content/dataset/labels/train/643c141f-Ch120250116143416.txt  \n",
            "  inflating: /content/dataset/labels/train/6441abaa-Ch120241021160639.txt  \n",
            "  inflating: /content/dataset/labels/train/6442c369-Ch120250125120705.txt  \n",
            "  inflating: /content/dataset/labels/train/6458eeb0-Ch120250202103154.txt  \n",
            "  inflating: /content/dataset/labels/train/646cef5c-Ch120250120104532_learning.txt  \n",
            "  inflating: /content/dataset/labels/train/6495f23d-Ch120241225114249.txt  \n",
            "  inflating: /content/dataset/labels/train/64b47ceb-Ch120241225113120.txt  \n",
            "  inflating: /content/dataset/labels/train/64d18d0d-Ch120250115145637.txt  \n",
            "  inflating: /content/dataset/labels/train/64eb3e05-Ch120250129095941.txt  \n",
            "  inflating: /content/dataset/labels/train/64f118a9-Ch120250206103328.txt  \n",
            "  inflating: /content/dataset/labels/train/6534ec3e-Ch120241021100549.txt  \n",
            "  inflating: /content/dataset/labels/train/6560bc47-Ch120250128094103.txt  \n",
            "  inflating: /content/dataset/labels/train/6568fa07-Ch120250202103319.txt  \n",
            "  inflating: /content/dataset/labels/train/656c232f-Ch120250129095644.txt  \n",
            "  inflating: /content/dataset/labels/train/659d3163-Ch120241225104249.txt  \n",
            "  inflating: /content/dataset/labels/train/65bd50fe-Ch120250206103258.txt  \n",
            "  inflating: /content/dataset/labels/train/65e6e9d1-Ch120250111161232.txt  \n",
            "  inflating: /content/dataset/labels/train/65f450e0-Ch120250119143624_learning_learning.txt  \n",
            "  inflating: /content/dataset/labels/train/65fe697f-Ch120241203103053.txt  \n",
            "  inflating: /content/dataset/labels/train/65fe85fd-Ch120250110112432.txt  \n",
            "  inflating: /content/dataset/labels/train/66160a1b-Ch120250129095816.txt  \n",
            "  inflating: /content/dataset/labels/train/663fa945-Ch120250115113034.txt  \n",
            "  inflating: /content/dataset/labels/train/6651249a-Ch120241226102658.txt  \n",
            "  inflating: /content/dataset/labels/train/6659ece1-Ch120250128094151.txt  \n",
            "  inflating: /content/dataset/labels/train/66843f77-Ch120241226103149.txt  \n",
            "  inflating: /content/dataset/labels/train/668f4004-Ch120250116143642.txt  \n",
            "  inflating: /content/dataset/labels/train/66b0f987-Ch120240927115459.txt  \n",
            "  inflating: /content/dataset/labels/train/670a9aac-Ch120250116143814.txt  \n",
            "  inflating: /content/dataset/labels/train/67143c6a-Ch120250126103128.txt  \n",
            "  inflating: /content/dataset/labels/train/674b79e7-Ch120250228100643.txt  \n",
            "  inflating: /content/dataset/labels/train/674bf1d2-Ch120250129100220.txt  \n",
            "  inflating: /content/dataset/labels/train/6755cc40-Ch120250128094009.txt  \n",
            "  inflating: /content/dataset/labels/train/6790ed5e-Ch120250116143750.txt  \n",
            "  inflating: /content/dataset/labels/train/679ddd6d-Ch120250116143646.txt  \n",
            "  inflating: /content/dataset/labels/train/67b5e693-Ch120241225114356.txt  \n",
            "  inflating: /content/dataset/labels/train/67bd9684-Ch120250120104113_learning.txt  \n",
            "  inflating: /content/dataset/labels/train/67c00a6a-Ch120250111161052.txt  \n",
            "  inflating: /content/dataset/labels/train/67d9c253-Ch120250130094444.txt  \n",
            "  inflating: /content/dataset/labels/train/67eaeecd-Ch120250203095438.txt  \n",
            "  inflating: /content/dataset/labels/train/67f7e197-Ch120250202102942.txt  \n",
            "  inflating: /content/dataset/labels/train/68195185-Ch120250206105556.txt  \n",
            "  inflating: /content/dataset/labels/train/68a54f62-Ch120241203103252.txt  \n",
            "  inflating: /content/dataset/labels/train/68b39a5f-Ch120250111160915.txt  \n",
            "  inflating: /content/dataset/labels/train/69111770-Ch120250311104230999.txt  \n",
            "  inflating: /content/dataset/labels/train/69202ea0-Ch120250202102613.txt  \n",
            "  inflating: /content/dataset/labels/train/6960952b-Ch120250130094303.txt  \n",
            "  inflating: /content/dataset/labels/train/6992e562-Ch120241021160658.txt  \n",
            "  inflating: /content/dataset/labels/train/69aac61f-Ch120250228105947.txt  \n",
            "  inflating: /content/dataset/labels/train/69b6ffd2-Ch120250119143544_learning_learning.txt  \n",
            "  inflating: /content/dataset/labels/train/69e18bd7-Ch120250206104405.txt  \n",
            "  inflating: /content/dataset/labels/train/69eeb816-Ch120240927115502.txt  \n",
            "  inflating: /content/dataset/labels/train/6a115b0f-Ch120241226102746.txt  \n",
            "  inflating: /content/dataset/labels/train/6a2ef6b7-Ch120250116143614.txt  \n",
            "  inflating: /content/dataset/labels/train/6a447d2b-Ch120241021100840.txt  \n",
            "  inflating: /content/dataset/labels/train/6a557c4e-Ch120250120144942_learning.txt  \n",
            "  inflating: /content/dataset/labels/train/6a61b543-Ch120250203095522.txt  \n",
            "  inflating: /content/dataset/labels/train/6a6e01d3-Ch120241226150842.txt  \n",
            "  inflating: /content/dataset/labels/train/6aa3aa57-Ch120250115145604.txt  \n",
            "  inflating: /content/dataset/labels/train/6b056d2d-Ch120250111161645.txt  \n",
            "  inflating: /content/dataset/labels/train/6b19baf3-Ch120250118105034_learning_learning.txt  \n",
            "  inflating: /content/dataset/labels/train/6b1c7d41-Ch120241226150411.txt  \n",
            "  inflating: /content/dataset/labels/train/6b29f550-Ch120250206103509.txt  \n",
            "  inflating: /content/dataset/labels/train/6b3ed762-Ch120250120105817_learning.txt  \n",
            "  inflating: /content/dataset/labels/train/6b5f7281-Ch120241225104258.txt  \n",
            "  inflating: /content/dataset/labels/train/6b614841-Ch120241227151122.txt  \n",
            "  inflating: /content/dataset/labels/train/6b64524b-Ch120250206103323.txt  \n",
            "  inflating: /content/dataset/labels/train/6b96fe91-Ch120241226145935.txt  \n",
            "  inflating: /content/dataset/labels/train/6bb00e74-Ch120241121101206.txt  \n",
            "  inflating: /content/dataset/labels/train/6bb41bdb-Ch120241226145942.txt  \n",
            "  inflating: /content/dataset/labels/train/6bbf8d8f-Ch120250303095921.txt  \n",
            "  inflating: /content/dataset/labels/train/6c05a5ac-Ch120241226102941.txt  \n",
            "  inflating: /content/dataset/labels/train/6c0f462f-Ch120250202103526.txt  \n",
            "  inflating: /content/dataset/labels/train/6c273eb3-Ch120250130094542.txt  \n",
            "  inflating: /content/dataset/labels/train/6c3d06b7-Ch120241225114329.txt  \n",
            "  inflating: /content/dataset/labels/train/6c610509-Ch120250111161522.txt  \n",
            "  inflating: /content/dataset/labels/train/6c9d105e-Ch120250118103357_learning.txt  \n",
            "  inflating: /content/dataset/labels/train/6ca28ef6-Ch120241227145452.txt  \n",
            "  inflating: /content/dataset/labels/train/6ce210dc-Ch120241021100809.txt  \n",
            "  inflating: /content/dataset/labels/train/6ce986db-Ch120241021100731.txt  \n",
            "  inflating: /content/dataset/labels/train/6cf4665c-Ch120250115145607.txt  \n",
            "  inflating: /content/dataset/labels/train/6cf5651e-Ch120250115104908.txt  \n",
            "  inflating: /content/dataset/labels/train/6db8abd0-Ch120250129095753.txt  \n",
            "  inflating: /content/dataset/labels/train/6dbef6f7-Ch120241227151424.txt  \n",
            "  inflating: /content/dataset/labels/train/6dce3013-Ch120250118095035_learning.txt  \n",
            "  inflating: /content/dataset/labels/train/6ddea610-Ch120250202103356.txt  \n",
            "  inflating: /content/dataset/labels/train/6df63d6f-Ch120250125121201.txt  \n",
            "  inflating: /content/dataset/labels/train/6dfb661d-Ch120241227151108.txt  \n",
            "  inflating: /content/dataset/labels/train/6e3d13e5-Ch120240927165353.txt  \n",
            "  inflating: /content/dataset/labels/train/6e4a8f37-Ch120250202102512.txt  \n",
            "  inflating: /content/dataset/labels/train/6e56fb1c-Ch120241225104342.txt  \n",
            "  inflating: /content/dataset/labels/train/6e5b6edd-Ch120241226150717.txt  \n",
            "  inflating: /content/dataset/labels/train/6e7c3830-Ch120241226102952.txt  \n",
            "  inflating: /content/dataset/labels/train/6eaa756f-Ch120240927165450.txt  \n",
            "  inflating: /content/dataset/labels/train/6ec9256a-Ch120250302113459.txt  \n",
            "  inflating: /content/dataset/labels/train/6ecff10b-Ch120250202102644.txt  \n",
            "  inflating: /content/dataset/labels/train/6f074965-Ch120250129100200.txt  \n",
            "  inflating: /content/dataset/labels/train/6f0904c4-Ch120241121101018.txt  \n",
            "  inflating: /content/dataset/labels/train/6f59be46-Ch120250118104358_learning_learning.txt  \n",
            "  inflating: /content/dataset/labels/train/6f68430a-Ch120250111161811.txt  \n",
            "  inflating: /content/dataset/labels/train/6f8a5315-Ch120240927165516.txt  \n",
            "  inflating: /content/dataset/labels/train/700b4c2a-Ch120250119143740_learning_learning.txt  \n",
            "  inflating: /content/dataset/labels/train/7021d9a2-Ch120250118103139_learning.txt  \n",
            "  inflating: /content/dataset/labels/train/7038a8a0-Ch120241227151445.txt  \n",
            "  inflating: /content/dataset/labels/train/705116d2-Ch120250202103502.txt  \n",
            "  inflating: /content/dataset/labels/train/7068cd8b-Ch120241225112845.txt  \n",
            "  inflating: /content/dataset/labels/train/7072fefb-Ch120241121101110.txt  \n",
            "  inflating: /content/dataset/labels/train/707d7794-Ch120250125120609.txt  \n",
            "  inflating: /content/dataset/labels/train/70c452ab-Ch120241227151401.txt  \n",
            "  inflating: /content/dataset/labels/train/70edc3d6-Ch120250125121306.txt  \n",
            "  inflating: /content/dataset/labels/train/70f3a79c-Ch120241227151300.txt  \n",
            "  inflating: /content/dataset/labels/train/71042948-Ch120250206103322.txt  \n",
            "  inflating: /content/dataset/labels/train/714d736c-Ch120241021182337.txt  \n",
            "  inflating: /content/dataset/labels/train/716f8877-Ch120250111161314.txt  \n",
            "  inflating: /content/dataset/labels/train/717adc40-Ch120241225104312.txt  \n",
            "  inflating: /content/dataset/labels/train/718488f6-Ch120250120105737_learning.txt  \n",
            "  inflating: /content/dataset/labels/train/71b4a63a-Ch120250111161507.txt  \n",
            "  inflating: /content/dataset/labels/train/71c805f8-Ch120241227145454.txt  \n",
            "  inflating: /content/dataset/labels/train/71e52874-Ch120241203103414.txt  \n",
            "  inflating: /content/dataset/labels/train/71eb27f0-Ch120240927165145.txt  \n",
            "  inflating: /content/dataset/labels/train/71ec36b4-Ch120241203103224.txt  \n",
            "  inflating: /content/dataset/labels/train/722cfe28-Ch120241227151429.txt  \n",
            "  inflating: /content/dataset/labels/train/72611c46-Ch120250118104044_learning_learning.txt  \n",
            "  inflating: /content/dataset/labels/train/727f56a0-Ch120250115113456.txt  \n",
            "  inflating: /content/dataset/labels/train/728da114-Ch120241227151450.txt  \n",
            "  inflating: /content/dataset/labels/train/72b97bbe-Ch120250111161053.txt  \n",
            "  inflating: /content/dataset/labels/train/72f08014-Ch120250111161913.txt  \n",
            "  inflating: /content/dataset/labels/train/733e2b87-Ch120250111161601.txt  \n",
            "  inflating: /content/dataset/labels/train/735597b4-Ch120250112104554.txt  \n",
            "  inflating: /content/dataset/labels/train/73567a91-Ch120241225114450.txt  \n",
            "  inflating: /content/dataset/labels/train/73690628-Ch120250202103732.txt  \n",
            "  inflating: /content/dataset/labels/train/7375bd9b-Ch120241021182400.txt  \n",
            "  inflating: /content/dataset/labels/train/73adc1d3-Ch120241021100808.txt  \n",
            "  inflating: /content/dataset/labels/train/73b7bbc3-Ch120241225114422.txt  \n",
            "  inflating: /content/dataset/labels/train/73f4541e-Ch120241226150629.txt  \n",
            "  inflating: /content/dataset/labels/train/7433a2bc-Ch120241227151357.txt  \n",
            "  inflating: /content/dataset/labels/train/746902ea-Ch120250115105006.txt  \n",
            "  inflating: /content/dataset/labels/train/74926f4b-Ch120241021101043.txt  \n",
            "  inflating: /content/dataset/labels/train/74bf7fcc-Ch120250202102816.txt  \n",
            "  inflating: /content/dataset/labels/train/74c48635-Ch120241226145613.txt  \n",
            "  inflating: /content/dataset/labels/train/74eae61b-Ch120241226151127.txt  \n",
            "  inflating: /content/dataset/labels/train/74f05df7-Ch120241226150857.txt  \n",
            "  inflating: /content/dataset/labels/train/74fc735d-Ch120241226102909.txt  \n",
            "  inflating: /content/dataset/labels/train/750b0a41-Ch120241121101359.txt  \n",
            "  inflating: /content/dataset/labels/train/751d233a-Ch120250118103537_learning.txt  \n",
            "  inflating: /content/dataset/labels/train/751ee2f8-Ch120241121101605.txt  \n",
            "  inflating: /content/dataset/labels/train/754ec97d-Ch120250111161417.txt  \n",
            "  inflating: /content/dataset/labels/train/7573a053-Ch120250111161903.txt  \n",
            "  inflating: /content/dataset/labels/train/759ed955-Ch120250228102911.txt  \n",
            "  inflating: /content/dataset/labels/train/75b9d637-Ch120250115105100.txt  \n",
            "  inflating: /content/dataset/labels/train/75ca3c3e-Ch120250128094341.txt  \n",
            "  inflating: /content/dataset/labels/train/75f78764-Ch120240927165336.txt  \n",
            "  inflating: /content/dataset/labels/train/76084753-Ch120241227150952.txt  \n",
            "  inflating: /content/dataset/labels/train/7628ff76-Ch120240927115917.txt  \n",
            "  inflating: /content/dataset/labels/train/7691df76-Ch120250111161016.txt  \n",
            "  inflating: /content/dataset/labels/train/76e8b456-Ch120241227151011.txt  \n",
            "  inflating: /content/dataset/labels/train/7719f86f-Ch120250111161354.txt  \n",
            "  inflating: /content/dataset/labels/train/7728405e-Ch120241225104314.txt  \n",
            "  inflating: /content/dataset/labels/train/7739ff88-Ch120250111161657.txt  \n",
            "  inflating: /content/dataset/labels/train/773d0022-Ch120250118095457_learning.txt  \n",
            "  inflating: /content/dataset/labels/train/77406905-Ch120250202102412.txt  \n",
            "  inflating: /content/dataset/labels/train/774a14af-Ch120241226103155.txt  \n",
            "  inflating: /content/dataset/labels/train/77ca9a11-Ch120241227151352.txt  \n",
            "  inflating: /content/dataset/labels/train/77d4dae0-Ch120241225104215.txt  \n",
            "  inflating: /content/dataset/labels/train/77e4e9c5-Ch120241121101150.txt  \n",
            "  inflating: /content/dataset/labels/train/77f6a6fd-Ch120241227151114.txt  \n",
            "  inflating: /content/dataset/labels/train/781e253e-Ch120250119143019_learning.txt  \n",
            "  inflating: /content/dataset/labels/train/782d2ac9-Ch120240927165204.txt  \n",
            "  inflating: /content/dataset/labels/train/7890e0d2-Ch120250111161758.txt  \n",
            "  inflating: /content/dataset/labels/train/791000f3-Ch120250111161326.txt  \n",
            "  inflating: /content/dataset/labels/train/799dff62-Ch120241225114316.txt  \n",
            "  inflating: /content/dataset/labels/train/7a120c90-Ch120241226150955.txt  \n",
            "  inflating: /content/dataset/labels/train/7a6b8019-Ch120250303094855.txt  \n",
            "  inflating: /content/dataset/labels/train/7a920598-Ch120250116143650.txt  \n",
            "  inflating: /content/dataset/labels/train/7ac9dc19-Ch120250130094428.txt  \n",
            "  inflating: /content/dataset/labels/train/7aced160-Ch120241121101611.txt  \n",
            "  inflating: /content/dataset/labels/train/7ad8dca0-Ch120250131095942.txt  \n",
            "  inflating: /content/dataset/labels/train/7ae85112-Ch120241226150134.txt  \n",
            "  inflating: /content/dataset/labels/train/7aeefb26-Ch120241226150541.txt  \n",
            "  inflating: /content/dataset/labels/train/7b24fedc-Ch120250116143542.txt  \n",
            "  inflating: /content/dataset/labels/train/7b7b0996-Ch120240927165402.txt  \n",
            "  inflating: /content/dataset/labels/train/7ba3c046-Ch120250116142849.txt  \n",
            "  inflating: /content/dataset/labels/train/7ba93c25-Ch120241225113512.txt  \n",
            "  inflating: /content/dataset/labels/train/7bec1984-Ch120250311104438880.txt  \n",
            "  inflating: /content/dataset/labels/train/7c16a778-Ch120241227145414.txt  \n",
            "  inflating: /content/dataset/labels/train/7c492681-Ch120241225113439.txt  \n",
            "  inflating: /content/dataset/labels/train/7c503471-Ch120250111161647.txt  \n",
            "  inflating: /content/dataset/labels/train/7c6d2a58-Ch120250202103029.txt  \n",
            "  inflating: /content/dataset/labels/train/7cc2017a-Ch120241225104226.txt  \n",
            "  inflating: /content/dataset/labels/train/7d30bd6d-Ch120250217104414.txt  \n",
            "  inflating: /content/dataset/labels/train/7d3592e4-Ch120241227151054.txt  \n",
            "  inflating: /content/dataset/labels/train/7d41e699-Ch120241226145553.txt  \n",
            "  inflating: /content/dataset/labels/train/7d580dc4-Ch120241203103415.txt  \n",
            "  inflating: /content/dataset/labels/train/7d5bbf4d-Ch120241225104329.txt  \n",
            "  inflating: /content/dataset/labels/train/7d5e8533-Ch120241203103205.txt  \n",
            "  inflating: /content/dataset/labels/train/7d7c66ca-Ch120241121101137.txt  \n",
            "  inflating: /content/dataset/labels/train/7d9d4519-Ch120250202102621.txt  \n",
            "  inflating: /content/dataset/labels/train/7ddbbb43-Ch120241226150424.txt  \n",
            "  inflating: /content/dataset/labels/train/7de5cdc4-Ch120250116143659.txt  \n",
            "  inflating: /content/dataset/labels/train/7e0b7138-Ch120250111161357.txt  \n",
            "  inflating: /content/dataset/labels/train/7e0dc1d0-Ch120250202103429.txt  \n",
            "  inflating: /content/dataset/labels/train/7e184956-Ch120241225114522.txt  \n",
            "  inflating: /content/dataset/labels/train/7e58257d-Ch120241203103120.txt  \n",
            "  inflating: /content/dataset/labels/train/7e9a86aa-Ch120250129095845.txt  \n",
            "  inflating: /content/dataset/labels/train/7e9de433-Ch120250121161103.txt  \n",
            "  inflating: /content/dataset/labels/train/7ea1d2de-Ch120240927120023.txt  \n",
            "  inflating: /content/dataset/labels/train/7eb99f4d-Ch120250116143705.txt  \n",
            "  inflating: /content/dataset/labels/train/7eea980d-Ch120241225114358.txt  \n",
            "  inflating: /content/dataset/labels/train/7ef4b285-Ch120250118103604_learning.txt  \n",
            "  inflating: /content/dataset/labels/train/7f00e370-Ch120250203095249.txt  \n",
            "  inflating: /content/dataset/labels/train/7f088a11-Ch120241021100816.txt  \n",
            "  inflating: /content/dataset/labels/train/7f2aad55-Ch120250202102909.txt  \n",
            "  inflating: /content/dataset/labels/train/7f5eee37-Ch120250113104737.txt  \n",
            "  inflating: /content/dataset/labels/train/7f6ab227-Ch120250111161656.txt  \n",
            "  inflating: /content/dataset/labels/train/7f9271f5-Ch120250111161022.txt  \n",
            "  inflating: /content/dataset/labels/train/7fa13213-Ch120250203095452.txt  \n",
            "  inflating: /content/dataset/labels/train/7fae0373-Ch120241021160700.txt  \n",
            "  inflating: /content/dataset/labels/train/7fbdb765-Ch120250118105626_learning_learning.txt  \n",
            "  inflating: /content/dataset/labels/train/7ff0da87-Ch120240927165114.txt  \n",
            "  inflating: /content/dataset/labels/train/800c90ba-Ch120250126103912.txt  \n",
            "  inflating: /content/dataset/labels/train/80f5e384-Ch120250129100142.txt  \n",
            "  inflating: /content/dataset/labels/train/8103b3f9-Ch120241225112910.txt  \n",
            "  inflating: /content/dataset/labels/train/8111bb89-Ch120241226150956.txt  \n",
            "  inflating: /content/dataset/labels/train/81378794-Ch120241203102906.txt  \n",
            "  inflating: /content/dataset/labels/train/8139c644-Ch120241021100555.txt  \n",
            "  inflating: /content/dataset/labels/train/817b4b49-Ch120241227151121.txt  \n",
            "  inflating: /content/dataset/labels/train/817de0ae-Ch120250206102616.txt  \n",
            "  inflating: /content/dataset/labels/train/818c7d02-Ch120250202102941.txt  \n",
            "  inflating: /content/dataset/labels/train/81a796c8-Ch120250131100143.txt  \n",
            "  inflating: /content/dataset/labels/train/81b54989-Ch120241021101013.txt  \n",
            "  inflating: /content/dataset/labels/train/81c36aeb-Ch120241021100501.txt  \n",
            "  inflating: /content/dataset/labels/train/81ddbd5f-Ch120241226102733.txt  \n",
            "  inflating: /content/dataset/labels/train/81df9b45-Ch120250111161737.txt  \n",
            "  inflating: /content/dataset/labels/train/821da557-Ch120241225113441.txt  \n",
            "  inflating: /content/dataset/labels/train/824906a9-Ch120250118104024_learning_learning.txt  \n",
            "  inflating: /content/dataset/labels/train/824dd391-Ch120250202102926.txt  \n",
            "  inflating: /content/dataset/labels/train/82639244-Ch120250202103117.txt  \n",
            "  inflating: /content/dataset/labels/train/82709ad6-Ch120240927165419.txt  \n",
            "  inflating: /content/dataset/labels/train/82756bd1-Ch120250228102108.txt  \n",
            "  inflating: /content/dataset/labels/train/828b0307-Ch120250116143801.txt  \n",
            "  inflating: /content/dataset/labels/train/8297f6b5-Ch120250116142811.txt  \n",
            "  inflating: /content/dataset/labels/train/829f6260-Ch120241021100647.txt  \n",
            "  inflating: /content/dataset/labels/train/82cbb537-Ch120241121101052.txt  \n",
            "  inflating: /content/dataset/labels/train/8305c820-Ch120250309110829893.txt  \n",
            "  inflating: /content/dataset/labels/train/83305f10-Ch120250130094601.txt  \n",
            "  inflating: /content/dataset/labels/train/83723688-Ch120250111160912.txt  \n",
            "  inflating: /content/dataset/labels/train/83a2901f-Ch120250202104340.txt  \n",
            "  inflating: /content/dataset/labels/train/83b52faa-Ch120241227151358.txt  \n",
            "  inflating: /content/dataset/labels/train/845866b7-Ch120250130094559.txt  \n",
            "  inflating: /content/dataset/labels/train/845afe9b-Ch120250228105304.txt  \n",
            "  inflating: /content/dataset/labels/train/8480f013-Ch120241226151001.txt  \n",
            "  inflating: /content/dataset/labels/train/8487d425-Ch120250228103056.txt  \n",
            "  inflating: /content/dataset/labels/train/84a55b28-Ch120250128094025.txt  \n",
            "  inflating: /content/dataset/labels/train/84b6b588-Ch120241227150950.txt  \n",
            "  inflating: /content/dataset/labels/train/85108cf2-Ch120241225112854.txt  \n",
            "  inflating: /content/dataset/labels/train/852cd463-Ch120241227151215.txt  \n",
            "  inflating: /content/dataset/labels/train/855786fa-Ch120250111161620.txt  \n",
            "  inflating: /content/dataset/labels/train/85590906-Ch120250206103059.txt  \n",
            "  inflating: /content/dataset/labels/train/8566c046-Ch120250116143608.txt  \n",
            "  inflating: /content/dataset/labels/train/8574938a-Ch120250130094448.txt  \n",
            "  inflating: /content/dataset/labels/train/85981585-Ch120250129100015.txt  \n",
            "  inflating: /content/dataset/labels/train/85aa129b-Ch120240927115737.txt  \n",
            "  inflating: /content/dataset/labels/train/85c38406-Ch120250115145557.txt  \n",
            "  inflating: /content/dataset/labels/train/85d5de58-Ch120250228103055.txt  \n",
            "  inflating: /content/dataset/labels/train/85eb561b-Ch120250126104142.txt  \n",
            "  inflating: /content/dataset/labels/train/86139398-Ch120241121101504.txt  \n",
            "  inflating: /content/dataset/labels/train/861cfc90-Ch120250126112026.txt  \n",
            "  inflating: /content/dataset/labels/train/86345fc3-Ch120241021100603.txt  \n",
            "  inflating: /content/dataset/labels/train/86ac13f8-Ch120250111161515.txt  \n",
            "  inflating: /content/dataset/labels/train/86cd7766-Ch120240927165446.txt  \n",
            "  inflating: /content/dataset/labels/train/86cfe683-Ch120250302102748.txt  \n",
            "  inflating: /content/dataset/labels/train/87567709-Ch120241021160632.txt  \n",
            "  inflating: /content/dataset/labels/train/8797f496-Ch120241121101629.txt  \n",
            "  inflating: /content/dataset/labels/train/87c7f500-Ch120250111161609.txt  \n",
            "  inflating: /content/dataset/labels/train/87e8b36e-Ch120250115113256.txt  \n",
            "  inflating: /content/dataset/labels/train/881b47e0-Ch120250116142742.txt  \n",
            "  inflating: /content/dataset/labels/train/881c6b21-Ch120250118103539_learning.txt  \n",
            "  inflating: /content/dataset/labels/train/88572b5f-Ch120241121101222.txt  \n",
            "  inflating: /content/dataset/labels/train/8858b2a7-Ch120241021100414.txt  \n",
            "  inflating: /content/dataset/labels/train/886b6bdf-Ch120241225104248.txt  \n",
            "  inflating: /content/dataset/labels/train/88b4f47b-Ch120250202103611.txt  \n",
            "  inflating: /content/dataset/labels/train/89463663-Ch120240927165400.txt  \n",
            "  inflating: /content/dataset/labels/train/8946c663-Ch120241227151216.txt  \n",
            "  inflating: /content/dataset/labels/train/8968e4aa-Ch120250111161245.txt  \n",
            "  inflating: /content/dataset/labels/train/89860b80-Ch120241203103111.txt  \n",
            "  inflating: /content/dataset/labels/train/89935b86-Ch120241225114344.txt  \n",
            "  inflating: /content/dataset/labels/train/89bf35ab-Ch120250111161805.txt  \n",
            "  inflating: /content/dataset/labels/train/89f79053-Ch120250217104522.txt  \n",
            "  inflating: /content/dataset/labels/train/8a6178e8-Ch120241225113036.txt  \n",
            "  inflating: /content/dataset/labels/train/8a908faf-Ch120250116142914.txt  \n",
            "  inflating: /content/dataset/labels/train/8aa821a3-Ch120250311104621012.txt  \n",
            "  inflating: /content/dataset/labels/train/8acb8e61-Ch120241226150725.txt  \n",
            "  inflating: /content/dataset/labels/train/8aeeb88a-Ch120250202100247.txt  \n",
            "  inflating: /content/dataset/labels/train/8afeec4d-Ch120241021101000.txt  \n",
            "  inflating: /content/dataset/labels/train/8b020456-Ch120250302101617.txt  \n",
            "  inflating: /content/dataset/labels/train/8b07419b-Ch120250115105413.txt  \n",
            "  inflating: /content/dataset/labels/train/8b101b27-Ch120250111161905.txt  \n",
            "  inflating: /content/dataset/labels/train/8b240613-Ch120240927115935.txt  \n",
            "  inflating: /content/dataset/labels/train/8b632b0d-Ch120241121101120.txt  \n",
            "  inflating: /content/dataset/labels/train/8b8e11c3-Ch120241021100620.txt  \n",
            "  inflating: /content/dataset/labels/train/8bc18b10-Ch120250202103817.txt  \n",
            "  inflating: /content/dataset/labels/train/8bcab37e-Ch120241226103031.txt  \n",
            "  inflating: /content/dataset/labels/train/8bf4297e-Ch120250111160948.txt  \n",
            "  inflating: /content/dataset/labels/train/8c2faa96-Ch120250111161528.txt  \n",
            "  inflating: /content/dataset/labels/train/8c367f3d-Ch120241203103359.txt  \n",
            "  inflating: /content/dataset/labels/train/8c37839f-Ch120241203103108.txt  \n",
            "  inflating: /content/dataset/labels/train/8c444cd4-Ch120250228102954.txt  \n",
            "  inflating: /content/dataset/labels/train/8c917b16-Ch120241021100742.txt  \n",
            "  inflating: /content/dataset/labels/train/8c99221b-Ch120250206103743.txt  \n",
            "  inflating: /content/dataset/labels/train/8cf236c1-Ch120250118110554_learning_learning.txt  \n",
            "  inflating: /content/dataset/labels/train/8cfdf2d2-Ch120250118100045_learning.txt  \n",
            "  inflating: /content/dataset/labels/train/8d40c981-Ch120240927165117.txt  \n",
            "  inflating: /content/dataset/labels/train/8d940c48-Ch120241021182402.txt  \n",
            "  inflating: /content/dataset/labels/train/8d9605ab-Ch120241225104343.txt  \n",
            "  inflating: /content/dataset/labels/train/8d9781bf-Ch120240927165406.txt  \n",
            "  inflating: /content/dataset/labels/train/8da22848-Ch120241021160708.txt  \n",
            "  inflating: /content/dataset/labels/train/8dbb0a4e-Ch120240927115824.txt  \n",
            "  inflating: /content/dataset/labels/train/8dbf454c-Ch120241226103148.txt  \n",
            "  inflating: /content/dataset/labels/train/8e032785-Ch120250121102336.txt  \n",
            "  inflating: /content/dataset/labels/train/8e37b7be-Ch120241203102946.txt  \n",
            "  inflating: /content/dataset/labels/train/8e6fcca8-Ch120250228101252.txt  \n",
            "  inflating: /content/dataset/labels/train/8ebe5945-Ch120250129095648.txt  \n",
            "  inflating: /content/dataset/labels/train/8ed21621-Ch120250202103222.txt  \n",
            "  inflating: /content/dataset/labels/train/8f3461b8-Ch120250120111146_learning.txt  \n",
            "  inflating: /content/dataset/labels/train/8f486310-Ch120250129100138.txt  \n",
            "  inflating: /content/dataset/labels/train/8f56ea2b-Ch120250130094424.txt  \n",
            "  inflating: /content/dataset/labels/train/8f6d96f7-Ch120241021100419.txt  \n",
            "  inflating: /content/dataset/labels/train/8fdc5b81-Ch120240927115647.txt  \n",
            "  inflating: /content/dataset/labels/train/90089655-Ch120250111161544.txt  \n",
            "  inflating: /content/dataset/labels/train/9054b674-Ch120240927165412.txt  \n",
            "  inflating: /content/dataset/labels/train/9057b41b-Ch120250116143524.txt  \n",
            "  inflating: /content/dataset/labels/train/905e8f87-Ch120250119143556_learning_learning.txt  \n",
            "  inflating: /content/dataset/labels/train/9094603b-Ch120250302104313.txt  \n",
            "  inflating: /content/dataset/labels/train/90ed95ab-Ch120250129095729.txt  \n",
            "  inflating: /content/dataset/labels/train/9137fc2b-Ch120241225113028.txt  \n",
            "  inflating: /content/dataset/labels/train/915922ec-Ch120241226145648.txt  \n",
            "  inflating: /content/dataset/labels/train/917ecc8e-Ch120241226103032.txt  \n",
            "  inflating: /content/dataset/labels/train/91c9d964-Ch120250129100044.txt  \n",
            "  inflating: /content/dataset/labels/train/91d0b1cf-Ch120250115113419.txt  \n",
            "  inflating: /content/dataset/labels/train/91dafd50-Ch120241227145502.txt  \n",
            "  inflating: /content/dataset/labels/train/91e86656-Ch120250111161741.txt  \n",
            "  inflating: /content/dataset/labels/train/91f353c3-Ch120250202105017.txt  \n",
            "  inflating: /content/dataset/labels/train/92270ad3-Ch120250111161008.txt  \n",
            "  inflating: /content/dataset/labels/train/92337f71-Ch120250202103055.txt  \n",
            "  inflating: /content/dataset/labels/train/92396e6a-Ch120250217130900.txt  \n",
            "  inflating: /content/dataset/labels/train/92505209-Ch120241227151238.txt  \n",
            "  inflating: /content/dataset/labels/train/92652a59-Ch120250120144843_learning.txt  \n",
            "  inflating: /content/dataset/labels/train/926add75-Ch120250111161856.txt  \n",
            "  inflating: /content/dataset/labels/train/9275d690-Ch120241226102805.txt  \n",
            "  inflating: /content/dataset/labels/train/92ac05be-Ch120250111161112.txt  \n",
            "  inflating: /content/dataset/labels/train/92b5ac72-Ch120250311095233778.txt  \n",
            "  inflating: /content/dataset/labels/train/92feabbd-Ch120241021160701.txt  \n",
            "  inflating: /content/dataset/labels/train/92ff122c-Ch120240927165312.txt  \n",
            "  inflating: /content/dataset/labels/train/92ff94c0-Ch120241225113117.txt  \n",
            "  inflating: /content/dataset/labels/train/93231948-Ch120241225104328.txt  \n",
            "  inflating: /content/dataset/labels/train/9329266d-Ch120241121101653.txt  \n",
            "  inflating: /content/dataset/labels/train/932b9ae4-Ch120250202103136.txt  \n",
            "  inflating: /content/dataset/labels/train/9331d0c8-Ch120250130094547.txt  \n",
            "  inflating: /content/dataset/labels/train/9364fde5-Ch120250302105017.txt  \n",
            "  inflating: /content/dataset/labels/train/937fdf78-Ch120250111161412.txt  \n",
            "  inflating: /content/dataset/labels/train/93aaae52-Ch120250202105555.txt  \n",
            "  inflating: /content/dataset/labels/train/9402b1ca-Ch120241227145511.txt  \n",
            "  inflating: /content/dataset/labels/train/943407c9-Ch120250130094309.txt  \n",
            "  inflating: /content/dataset/labels/train/9439f9c1-Ch120241226102831.txt  \n",
            "  inflating: /content/dataset/labels/train/94457348-Ch120241225114432.txt  \n",
            "  inflating: /content/dataset/labels/train/947dda4b-Ch120250120104009_learning.txt  \n",
            "  inflating: /content/dataset/labels/train/9493f441-Ch120250119143710_learning_learning.txt  \n",
            "  inflating: /content/dataset/labels/train/9500cf02-Ch120250118103502_learning.txt  \n",
            "  inflating: /content/dataset/labels/train/95129324-Ch120250129095657.txt  \n",
            "  inflating: /content/dataset/labels/train/95291419-Ch120241121101216.txt  \n",
            "  inflating: /content/dataset/labels/train/9535febb-Ch120250228110124.txt  \n",
            "  inflating: /content/dataset/labels/train/9562ae38-Ch120241226145654.txt  \n",
            "  inflating: /content/dataset/labels/train/9586121f-Ch120250122162337.txt  \n",
            "  inflating: /content/dataset/labels/train/95b1aabd-Ch120250119143031_learning.txt  \n",
            "  inflating: /content/dataset/labels/train/95b8c530-Ch120250110112049.txt  \n",
            "  inflating: /content/dataset/labels/train/95c49096-Ch120241225112930.txt  \n",
            "  inflating: /content/dataset/labels/train/95c799ec-Ch120250115104731.txt  \n",
            "  inflating: /content/dataset/labels/train/95d6b235-Ch120241226103002.txt  \n",
            "  inflating: /content/dataset/labels/train/95d76e7b-Ch120241225104311.txt  \n",
            "  inflating: /content/dataset/labels/train/95e56f68-Ch120241226102853.txt  \n",
            "  inflating: /content/dataset/labels/train/95fea830-Ch120250121102851.txt  \n",
            "  inflating: /content/dataset/labels/train/9626886f-Ch120241227145422.txt  \n",
            "  inflating: /content/dataset/labels/train/963e1f3c-Ch120240927165405.txt  \n",
            "  inflating: /content/dataset/labels/train/964f9ced-Ch120241226150546.txt  \n",
            "  inflating: /content/dataset/labels/train/9687905b-Ch120250206103738.txt  \n",
            "  inflating: /content/dataset/labels/train/968cfa2f-Ch120241021182331.txt  \n",
            "  inflating: /content/dataset/labels/train/96900acb-Ch120250115113420.txt  \n",
            "  inflating: /content/dataset/labels/train/96c9b055-Ch120241225113138.txt  \n",
            "  inflating: /content/dataset/labels/train/96e4957a-Ch120241021100544.txt  \n",
            "  inflating: /content/dataset/labels/train/96efccc3-Ch120241203103246.txt  \n",
            "  inflating: /content/dataset/labels/train/96f652d4-Ch120250130094321.txt  \n",
            "  inflating: /content/dataset/labels/train/96f8d02e-Ch120241225114403.txt  \n",
            "  inflating: /content/dataset/labels/train/9715545a-Ch120241226102719.txt  \n",
            "  inflating: /content/dataset/labels/train/9786e68c-Ch120250126103129.txt  \n",
            "  inflating: /content/dataset/labels/train/978ed57d-Ch120241227151000.txt  \n",
            "  inflating: /content/dataset/labels/train/97ab0905-Ch120250119143758_learning_learning.txt  \n",
            "  inflating: /content/dataset/labels/train/97ad6bde-Ch120240927165357.txt  \n",
            "  inflating: /content/dataset/labels/train/97b425d1-Ch120250128094049.txt  \n",
            "  inflating: /content/dataset/labels/train/97f46e66-Ch120241021100609.txt  \n",
            "  inflating: /content/dataset/labels/train/98207bc3-Ch120241203103514.txt  \n",
            "  inflating: /content/dataset/labels/train/982a2f11-Ch120250120114723_learning.txt  \n",
            "  inflating: /content/dataset/labels/train/98300d81-Ch120241226103022.txt  \n",
            "  inflating: /content/dataset/labels/train/984d841b-Ch120250130094236.txt  \n",
            "  inflating: /content/dataset/labels/train/989c5a9e-Ch120241225113452.txt  \n",
            "  inflating: /content/dataset/labels/train/991106eb-Ch120250202103520.txt  \n",
            "  inflating: /content/dataset/labels/train/994576a7-Ch120250119143926_learning_learning.txt  \n",
            "  inflating: /content/dataset/labels/train/999a2fe4-Ch120241225113451.txt  \n",
            "  inflating: /content/dataset/labels/train/999db5ab-Ch120250115104705.txt  \n",
            "  inflating: /content/dataset/labels/train/99b07aae-Ch120250121102646.txt  \n",
            "  inflating: /content/dataset/labels/train/99bf12d6-Ch120250202103609.txt  \n",
            "  inflating: /content/dataset/labels/train/99d2f122-Ch120241227151316.txt  \n",
            "  inflating: /content/dataset/labels/train/9a1d5695-Ch120250202102432.txt  \n",
            "  inflating: /content/dataset/labels/train/9a2cfab7-Ch120250206103746.txt  \n",
            "  inflating: /content/dataset/labels/train/9aa7e1a2-Ch120241226102711.txt  \n",
            "  inflating: /content/dataset/labels/train/9ac76b84-Ch120250118103216_learning.txt  \n",
            "  inflating: /content/dataset/labels/train/9af0783e-Ch120241227151048.txt  \n",
            "  inflating: /content/dataset/labels/train/9af45620-Ch120250121153019.txt  \n",
            "  inflating: /content/dataset/labels/train/9b01e91e-Ch120250111161638.txt  \n",
            "  inflating: /content/dataset/labels/train/9b0dbc5e-Ch120240927115727.txt  \n",
            "  inflating: /content/dataset/labels/train/9b1aff1a-Ch120241226150400.txt  \n",
            "  inflating: /content/dataset/labels/train/9b1f59c4-Ch120250113104756.txt  \n",
            "  inflating: /content/dataset/labels/train/9b28b2b1-Ch120241021182328.txt  \n",
            "  inflating: /content/dataset/labels/train/9b4775cd-Ch120250302174904.txt  \n",
            "  inflating: /content/dataset/labels/train/9b63cef3-Ch120241226102913.txt  \n",
            "  inflating: /content/dataset/labels/train/9b97efac-Ch120250303095902.txt  \n",
            "  inflating: /content/dataset/labels/train/9bae35c5-Ch120250202102229.txt  \n",
            "  inflating: /content/dataset/labels/train/9bb344d6-Ch120250131100022.txt  \n",
            "  inflating: /content/dataset/labels/train/9c0a49d8-Ch120241225112927.txt  \n",
            "  inflating: /content/dataset/labels/train/9c120716-Ch120250111161904.txt  \n",
            "  inflating: /content/dataset/labels/train/9c3360eb-Ch120250217104430.txt  \n",
            "  inflating: /content/dataset/labels/train/9d26dfd9-Ch120250121155711.txt  \n",
            "  inflating: /content/dataset/labels/train/9d599e67-Ch120250115112651.txt  \n",
            "  inflating: /content/dataset/labels/train/9d8b145f-Ch120241021182416.txt  \n",
            "  inflating: /content/dataset/labels/train/9d92e7de-Ch120250202102223.txt  \n",
            "  inflating: /content/dataset/labels/train/9daeb3fe-Ch120250113104437.txt  \n",
            "  inflating: /content/dataset/labels/train/9df25a6f-Ch120250202102250.txt  \n",
            "  inflating: /content/dataset/labels/train/9e0fd9a8-Ch120250111161615.txt  \n",
            "  inflating: /content/dataset/labels/train/9e2b6aef-Ch120250202103752.txt  \n",
            "  inflating: /content/dataset/labels/train/9e4ddb60-Ch120250206104243.txt  \n",
            "  inflating: /content/dataset/labels/train/9e89b773-Ch120250115112726.txt  \n",
            "  inflating: /content/dataset/labels/train/9e9deced-Ch120250115113348.txt  \n",
            "  inflating: /content/dataset/labels/train/9ebd4818-Ch120241225114409.txt  \n",
            "  inflating: /content/dataset/labels/train/9ec20924-Ch120241225104216.txt  \n",
            "  inflating: /content/dataset/labels/train/9ec5b5c7-Ch120250111161012.txt  \n",
            "  inflating: /content/dataset/labels/train/9ecb2bc0-Ch120241227151313.txt  \n",
            "  inflating: /content/dataset/labels/train/9ed00033-Ch120250217104405.txt  \n",
            "  inflating: /content/dataset/labels/train/9f0405e1-Ch120250202103645.txt  \n",
            "  inflating: /content/dataset/labels/train/9f076d5d-Ch120250116143451.txt  \n",
            "  inflating: /content/dataset/labels/train/9f077f00-Ch120241203103329.txt  \n",
            "  inflating: /content/dataset/labels/train/9f27407a-Ch120250115113655.txt  \n",
            "  inflating: /content/dataset/labels/train/9f41e338-Ch120241226150841.txt  \n",
            "  inflating: /content/dataset/labels/train/9f614901-Ch120241226102739.txt  \n",
            "  inflating: /content/dataset/labels/train/9f6566bb-Ch120241225113537.txt  \n",
            "  inflating: /content/dataset/labels/train/9f8666ce-Ch120241227145423.txt  \n",
            "  inflating: /content/dataset/labels/train/9fc4fe56-Ch120250113104515.txt  \n",
            "  inflating: /content/dataset/labels/train/9fc65185-Ch120250116143719.txt  \n",
            "  inflating: /content/dataset/labels/train/9ff8898f-Ch120241227151420.txt  \n",
            "  inflating: /content/dataset/labels/train/a00eaee7-Ch120250128094250.txt  \n",
            "  inflating: /content/dataset/labels/train/a01a16ac-Ch120250118103718_learning_learning.txt  \n",
            "  inflating: /content/dataset/labels/train/a0481422-Ch120250129100228.txt  \n",
            "  inflating: /content/dataset/labels/train/a09dc2e7-Ch120241226102737.txt  \n",
            "  inflating: /content/dataset/labels/train/a0eeedc6-Ch120240927165328.txt  \n",
            "  inflating: /content/dataset/labels/train/a100f770-Ch120241227151107.txt  \n",
            "  inflating: /content/dataset/labels/train/a1023f47-Ch120250130094550.txt  \n",
            "  inflating: /content/dataset/labels/train/a1501520-Ch120250130094111.txt  \n",
            "  inflating: /content/dataset/labels/train/a165a7f0-Ch120250303095929.txt  \n",
            "  inflating: /content/dataset/labels/train/a168dc61-Ch120250202104335.txt  \n",
            "  inflating: /content/dataset/labels/train/a17d11da-Ch120241225104247.txt  \n",
            "  inflating: /content/dataset/labels/train/a1d3be10-Ch120241203103206.txt  \n",
            "  inflating: /content/dataset/labels/train/a1d785f8-Ch120250206103413.txt  \n",
            "  inflating: /content/dataset/labels/train/a23e9286-Ch120241227145444.txt  \n",
            "  inflating: /content/dataset/labels/train/a26c85c4-Ch120241226150436.txt  \n",
            "  inflating: /content/dataset/labels/train/a27a7acc-Ch120250302103847.txt  \n",
            "  inflating: /content/dataset/labels/train/a2c7eb76-Ch120250129100209.txt  \n",
            "  inflating: /content/dataset/labels/train/a2da440c-Ch120250118103324_learning.txt  \n",
            "  inflating: /content/dataset/labels/train/a2fc95d3-Ch120240927115717.txt  \n",
            "  inflating: /content/dataset/labels/train/a31e1feb-Ch120250129095719.txt  \n",
            "  inflating: /content/dataset/labels/train/a34a7ffc-Ch120250116143420.txt  \n",
            "  inflating: /content/dataset/labels/train/a35c8624-Ch120250119143348_learning_learning.txt  \n",
            "  inflating: /content/dataset/labels/train/a37cc514-Ch120250119143027_learning.txt  \n",
            "  inflating: /content/dataset/labels/train/a3c88da2-Ch120241226103028.txt  \n",
            "  inflating: /content/dataset/labels/train/a3ca5eed-Ch120250203095203.txt  \n",
            "  inflating: /content/dataset/labels/train/a4097b1d-Ch120250118111418_learning_learning.txt  \n",
            "  inflating: /content/dataset/labels/train/a433cc8f-Ch120250130094418.txt  \n",
            "  inflating: /content/dataset/labels/train/a447d75e-Ch120250115113724.txt  \n",
            "  inflating: /content/dataset/labels/train/a449356d-Ch120250126104550.txt  \n",
            "  inflating: /content/dataset/labels/train/a46c5952-Ch120241225112936.txt  \n",
            "  inflating: /content/dataset/labels/train/a49ac06d-Ch120250111110721.txt  \n",
            "  inflating: /content/dataset/labels/train/a4b48ddc-Ch120241226150257.txt  \n",
            "  inflating: /content/dataset/labels/train/a4c95c56-Ch120241203103107.txt  \n",
            "  inflating: /content/dataset/labels/train/a4d03bfb-Ch120241226145823.txt  \n",
            "  inflating: /content/dataset/labels/train/a5185a78-Ch120241225104207.txt  \n",
            "  inflating: /content/dataset/labels/train/a541f824-Ch120241225104218.txt  \n",
            "  inflating: /content/dataset/labels/train/a599d8bf-Ch120240927115857.txt  \n",
            "  inflating: /content/dataset/labels/train/a5bde8c6-Ch120241225104305.txt  \n",
            "  inflating: /content/dataset/labels/train/a5ceb6e8-Ch120250115113312.txt  \n",
            "  inflating: /content/dataset/labels/train/a5d311cc-Ch120250309113044652.txt  \n",
            "  inflating: /content/dataset/labels/train/a64c83f9-Ch120241021182359.txt  \n",
            "  inflating: /content/dataset/labels/train/a64f3fa7-Ch120241203103240.txt  \n",
            "  inflating: /content/dataset/labels/train/a69a9a90-Ch120250120114139_learning.txt  \n",
            "  inflating: /content/dataset/labels/train/a6a125b8-Ch120250119143458_learning_learning.txt  \n",
            "  inflating: /content/dataset/labels/train/a6c085f1-Ch120241225104409.txt  \n",
            "  inflating: /content/dataset/labels/train/a6e19819-Ch120240927115634.txt  \n",
            "  inflating: /content/dataset/labels/train/a6e1b9e3-Ch120250309110830815.txt  \n",
            "  inflating: /content/dataset/labels/train/a6eb1d36-Ch120241203103433.txt  \n",
            "  inflating: /content/dataset/labels/train/a6f01f00-Ch120250120115103_learning.txt  \n",
            "  inflating: /content/dataset/labels/train/a6f79a85-Ch120241226103027.txt  \n",
            "  inflating: /content/dataset/labels/train/a75720da-Ch120250126111639.txt  \n",
            "  inflating: /content/dataset/labels/train/a779fec7-Ch120250116143557.txt  \n",
            "  inflating: /content/dataset/labels/train/a7c45e12-Ch120250120114902_learning.txt  \n",
            "  inflating: /content/dataset/labels/train/a814e61b-Ch120250111161911.txt  \n",
            "  inflating: /content/dataset/labels/train/a83209ab-Ch120250128094239.txt  \n",
            "  inflating: /content/dataset/labels/train/a83ac808-Ch120241021160605.txt  \n",
            "  inflating: /content/dataset/labels/train/a87799e0-Ch120250125120723.txt  \n",
            "  inflating: /content/dataset/labels/train/a89ec99c-Ch120250303095124.txt  \n",
            "  inflating: /content/dataset/labels/train/a8c2bc4c-Ch120250203095632.txt  \n",
            "  inflating: /content/dataset/labels/train/a8cfd99e-Ch120241225113116.txt  \n",
            "  inflating: /content/dataset/labels/train/a8d55376-Ch120250116143429.txt  \n",
            "  inflating: /content/dataset/labels/train/a8e1dfa8-Ch120241227151115.txt  \n",
            "  inflating: /content/dataset/labels/train/a928f1d3-Ch120250118095724_learning.txt  \n",
            "  inflating: /content/dataset/labels/train/a93da253-Ch120250311104400471.txt  \n",
            "  inflating: /content/dataset/labels/train/a984285e-Ch120250120105236_learning.txt  \n",
            "  inflating: /content/dataset/labels/train/a9b4480e-Ch120241203103153.txt  \n",
            "  inflating: /content/dataset/labels/train/a9ca5913-Ch120241226150105.txt  \n",
            "  inflating: /content/dataset/labels/train/a9d7c594-Ch120241021182335.txt  \n",
            "  inflating: /content/dataset/labels/train/a9dd798f-Ch120250116142901.txt  \n",
            "  inflating: /content/dataset/labels/train/a9e4808f-Ch120241227151449.txt  \n",
            "  inflating: /content/dataset/labels/train/aa393a0e-Ch120250203095454.txt  \n",
            "  inflating: /content/dataset/labels/train/aa444cbe-Ch120241021100453.txt  \n",
            "  inflating: /content/dataset/labels/train/aa6116e8-Ch120250118104808_learning_learning.txt  \n",
            "  inflating: /content/dataset/labels/train/aa6b27b4-Ch120250202102306.txt  \n",
            "  inflating: /content/dataset/labels/train/aa77635b-Ch120250130094146.txt  \n",
            "  inflating: /content/dataset/labels/train/aa85ba65-Ch120250130094347.txt  \n",
            "  inflating: /content/dataset/labels/train/aa97b55d-Ch120250111161529.txt  \n",
            "  inflating: /content/dataset/labels/train/aae65709-Ch120250115104659.txt  \n",
            "  inflating: /content/dataset/labels/train/ab1adf39-Ch120241226103146.txt  \n",
            "  inflating: /content/dataset/labels/train/ab252cb8-Ch120241226103147.txt  \n",
            "  inflating: /content/dataset/labels/train/ab2d6a47-Ch120241021160606.txt  \n",
            "  inflating: /content/dataset/labels/train/ab83dcd1-Ch120250115144747.txt  \n",
            "  inflating: /content/dataset/labels/train/ab8589ac-Ch120241226102809.txt  \n",
            "  inflating: /content/dataset/labels/train/abc242d7-Ch120250120115117_learning.txt  \n",
            "  inflating: /content/dataset/labels/train/abec4f0b-Ch120241021100626.txt  \n",
            "  inflating: /content/dataset/labels/train/ac1eb0b6-Ch120250202102337.txt  \n",
            "  inflating: /content/dataset/labels/train/ac4231a7-Ch120250129095758.txt  \n",
            "  inflating: /content/dataset/labels/train/ac6654fc-Ch120241225113506.txt  \n",
            "  inflating: /content/dataset/labels/train/ac786519-Ch120241121101136.txt  \n",
            "  inflating: /content/dataset/labels/train/ac8ebead-Ch120241227151345.txt  \n",
            "  inflating: /content/dataset/labels/train/acd4b874-Ch120241225112932.txt  \n",
            "  inflating: /content/dataset/labels/train/acdd36dc-Ch120241121101706.txt  \n",
            "  inflating: /content/dataset/labels/train/ad1ed05b-Ch120241225114521.txt  \n",
            "  inflating: /content/dataset/labels/train/ad280e3d-Ch120250111161602.txt  \n",
            "  inflating: /content/dataset/labels/train/ad2ca21c-Ch120241021160603.txt  \n",
            "  inflating: /content/dataset/labels/train/ad39486e-Ch120240927115749.txt  \n",
            "  inflating: /content/dataset/labels/train/ad3b1aaf-Ch120241225113459.txt  \n",
            "  inflating: /content/dataset/labels/train/ad487922-Ch120250129095953.txt  \n",
            "  inflating: /content/dataset/labels/train/ad6e9c4d-Ch120240927165416.txt  \n",
            "  inflating: /content/dataset/labels/train/ad9fd9bc-Ch120250202103243.txt  \n",
            "  inflating: /content/dataset/labels/train/ada56953-Ch120250202103653.txt  \n",
            "  inflating: /content/dataset/labels/train/adade335-Ch120250202102534.txt  \n",
            "  inflating: /content/dataset/labels/train/ade1f8c5-Ch120241225104351.txt  \n",
            "  inflating: /content/dataset/labels/train/adf02e6e-Ch120250115104747.txt  \n",
            "  inflating: /content/dataset/labels/train/adf3f553-Ch120250202104917.txt  \n",
            "  inflating: /content/dataset/labels/train/adff10aa-Ch120241225104422.txt  \n",
            "  inflating: /content/dataset/labels/train/ae06e665-Ch120250120104112_learning.txt  \n",
            "  inflating: /content/dataset/labels/train/ae115ec6-Ch120250129100221.txt  \n",
            "  inflating: /content/dataset/labels/train/ae1ab7e7-Ch120250130094116.txt  \n",
            "  inflating: /content/dataset/labels/train/ae37d749-Ch120240927115944.txt  \n",
            "  inflating: /content/dataset/labels/train/ae3ffa2c-Ch120240927165124.txt  \n",
            "  inflating: /content/dataset/labels/train/ae4de185-Ch120250228104519.txt  \n",
            "  inflating: /content/dataset/labels/train/ae63076d-Ch120241021100659.txt  \n",
            "  inflating: /content/dataset/labels/train/ae6f5ba9-Ch120250130094326.txt  \n",
            "  inflating: /content/dataset/labels/train/ae80038c-Ch120250111160918.txt  \n",
            "  inflating: /content/dataset/labels/train/ae82add3-Ch120250120105817_learning.txt  \n",
            "  inflating: /content/dataset/labels/train/aeb1d4c6-Ch120241227151423.txt  \n",
            "  inflating: /content/dataset/labels/train/aec3b331-Ch120241225113410.txt  \n",
            "  inflating: /content/dataset/labels/train/aefeab81-Ch120241226150353.txt  \n",
            "  inflating: /content/dataset/labels/train/af0f978e-Ch120241225114433.txt  \n",
            "  inflating: /content/dataset/labels/train/af1929aa-Ch120240927165441.txt  \n",
            "  inflating: /content/dataset/labels/train/af2fface-Ch120241226103004.txt  \n",
            "  inflating: /content/dataset/labels/train/af59a046-Ch120241226145851.txt  \n",
            "  inflating: /content/dataset/labels/train/af8a33d5-Ch120241225104344.txt  \n",
            "  inflating: /content/dataset/labels/train/af96f877-Ch120250128094245.txt  \n",
            "  inflating: /content/dataset/labels/train/afaaa936-Ch120240927115828.txt  \n",
            "  inflating: /content/dataset/labels/train/b002c77b-Ch120241203102849.txt  \n",
            "  inflating: /content/dataset/labels/train/b01fac79-Ch120250131095951.txt  \n",
            "  inflating: /content/dataset/labels/train/b0457123-Ch120250129100116.txt  \n",
            "  inflating: /content/dataset/labels/train/b0917a51-Ch120241226103025.txt  \n",
            "  inflating: /content/dataset/labels/train/b097e9a1-Ch120250116143740.txt  \n",
            "  inflating: /content/dataset/labels/train/b0ba1055-Ch120241226102659.txt  \n",
            "  inflating: /content/dataset/labels/train/b0fdfe73-Ch120240927165155.txt  \n",
            "  inflating: /content/dataset/labels/train/b129bb2d-Ch120250126104645.txt  \n",
            "  inflating: /content/dataset/labels/train/b1627baf-Ch120250126112532.txt  \n",
            "  inflating: /content/dataset/labels/train/b165ff66-Ch120241021160636.txt  \n",
            "  inflating: /content/dataset/labels/train/b1995428-Ch120250203095234.txt  \n",
            "  inflating: /content/dataset/labels/train/b1cecc05-Ch120250111161604.txt  \n",
            "  inflating: /content/dataset/labels/train/b20a0a3f-Ch120250128094127.txt  \n",
            "  inflating: /content/dataset/labels/train/b23a570f-Ch120241225104300.txt  \n",
            "  inflating: /content/dataset/labels/train/b245ac36-Ch120250111160909.txt  \n",
            "  inflating: /content/dataset/labels/train/b260464f-Ch120241226102712.txt  \n",
            "  inflating: /content/dataset/labels/train/b27a1a2b-Ch120250115113009.txt  \n",
            "  inflating: /content/dataset/labels/train/b283f610-Ch120241021182415.txt  \n",
            "  inflating: /content/dataset/labels/train/b2a0ed69-Ch120250128094012.txt  \n",
            "  inflating: /content/dataset/labels/train/b2a3297d-Ch120250120114020_learning.txt  \n",
            "  inflating: /content/dataset/labels/train/b2bf2b0b-Ch120250308095856873.txt  \n",
            "  inflating: /content/dataset/labels/train/b2d75206-Ch120241227151243.txt  \n",
            "  inflating: /content/dataset/labels/train/b2dfb2a5-Ch120250202103447.txt  \n",
            "  inflating: /content/dataset/labels/train/b336c4d9-Ch120240927165743.txt  \n",
            "  inflating: /content/dataset/labels/train/b33f5ea7-Ch120241227151106.txt  \n",
            "  inflating: /content/dataset/labels/train/b34510cd-Ch120241225114459.txt  \n",
            "  inflating: /content/dataset/labels/train/b357402f-Ch120241227151259.txt  \n",
            "  inflating: /content/dataset/labels/train/b35b19f4-Ch120250129095723.txt  \n",
            "  inflating: /content/dataset/labels/train/b36d1a1d-Ch120250202102547.txt  \n",
            "  inflating: /content/dataset/labels/train/b37883f0-Ch120241021101025.txt  \n",
            "  inflating: /content/dataset/labels/train/b3ce5f94-Ch120241227145416.txt  \n",
            "  inflating: /content/dataset/labels/train/b404b0c7-Ch120240927115640.txt  \n",
            "  inflating: /content/dataset/labels/train/b432c0fd-Ch120241227145506.txt  \n",
            "  inflating: /content/dataset/labels/train/b442f4ba-Ch120241227151409.txt  \n",
            "  inflating: /content/dataset/labels/train/b4b0c4e7-Ch120250120143950_learning.txt  \n",
            "  inflating: /content/dataset/labels/train/b4b89c47-Ch120241021100654.txt  \n",
            "  inflating: /content/dataset/labels/train/b4c9dd0c-Ch120250311104040281.txt  \n",
            "  inflating: /content/dataset/labels/train/b4e55a6f-Ch120250206104506.txt  \n",
            "  inflating: /content/dataset/labels/train/b4fd6de5-Ch120241021100507.txt  \n",
            "  inflating: /content/dataset/labels/train/b5126b3a-Ch120241121101036.txt  \n",
            "  inflating: /content/dataset/labels/train/b5800dab-Ch120250228105204.txt  \n",
            "  inflating: /content/dataset/labels/train/b595d293-Ch120250115113725.txt  \n",
            "  inflating: /content/dataset/labels/train/b5a7c99a-Ch120240927115853.txt  \n",
            "  inflating: /content/dataset/labels/train/b5b476c3-Ch120241203103323.txt  \n",
            "  inflating: /content/dataset/labels/train/b5e66820-Ch120240927115650.txt  \n",
            "  inflating: /content/dataset/labels/train/b614350e-Ch120250202103808.txt  \n",
            "  inflating: /content/dataset/labels/train/b62615e5-Ch120241225114526.txt  \n",
            "  inflating: /content/dataset/labels/train/b6593444-Ch120241227145446.txt  \n",
            "  inflating: /content/dataset/labels/train/b661b6ba-Ch120250118103313_learning.txt  \n",
            "  inflating: /content/dataset/labels/train/b6688bc8-Ch120250115112758.txt  \n",
            "  inflating: /content/dataset/labels/train/b6bde0ff-Ch120250115113333.txt  \n",
            "  inflating: /content/dataset/labels/train/b6cd1657-Ch120250202103305.txt  \n",
            "  inflating: /content/dataset/labels/train/b6d73fe3-Ch120250118103846_learning_learning.txt  \n",
            "  inflating: /content/dataset/labels/train/b6d7d72b-Ch120250111161344.txt  \n",
            "  inflating: /content/dataset/labels/train/b719d3ad-Ch120241021100822.txt  \n",
            "  inflating: /content/dataset/labels/train/b71fba41-Ch120250119142902_learning.txt  \n",
            "  inflating: /content/dataset/labels/train/b73f97ef-Ch120241227150949.txt  \n",
            "  inflating: /content/dataset/labels/train/b749cf9c-Ch120241203103410.txt  \n",
            "  inflating: /content/dataset/labels/train/b7716e10-Ch120241225113509.txt  \n",
            "  inflating: /content/dataset/labels/train/b7a7150e-Ch120241121101404.txt  \n",
            "  inflating: /content/dataset/labels/train/b7ad9365-Ch120250228100857.txt  \n",
            "  inflating: /content/dataset/labels/train/b7d75cac-Ch120241226150819.txt  \n",
            "  inflating: /content/dataset/labels/train/b7ef2b0d-Ch120250206103350.txt  \n",
            "  inflating: /content/dataset/labels/train/b825d744-Ch120241225114258.txt  \n",
            "  inflating: /content/dataset/labels/train/b82840cf-Ch120250202100544.txt  \n",
            "  inflating: /content/dataset/labels/train/b82923d1-Ch120250202104229.txt  \n",
            "  inflating: /content/dataset/labels/train/b84722ab-Ch120250125120717.txt  \n",
            "  inflating: /content/dataset/labels/train/b854848b-Ch120250228110641.txt  \n",
            "  inflating: /content/dataset/labels/train/b88043c1-Ch120250118105659_learning_learning.txt  \n",
            "  inflating: /content/dataset/labels/train/b888614d-Ch120250116143703.txt  \n",
            "  inflating: /content/dataset/labels/train/b8a87445-Ch120241226151146.txt  \n",
            "  inflating: /content/dataset/labels/train/b8d8bb12-Ch120241225113440.txt  \n",
            "  inflating: /content/dataset/labels/train/b8dc6da8-Ch120250203095159.txt  \n",
            "  inflating: /content/dataset/labels/train/b8f9fe5e-Ch120250228105347.txt  \n",
            "  inflating: /content/dataset/labels/train/b922da92-Ch120241121101643.txt  \n",
            "  inflating: /content/dataset/labels/train/b93b7789-Ch120240927120007.txt  \n",
            "  inflating: /content/dataset/labels/train/b93fba1b-Ch120241226150922.txt  \n",
            "  inflating: /content/dataset/labels/train/b955feb0-Ch120241121101658.txt  \n",
            "  inflating: /content/dataset/labels/train/b960fd1f-Ch120241203103226.txt  \n",
            "  inflating: /content/dataset/labels/train/b97d32a6-Ch120241121101011.txt  \n",
            "  inflating: /content/dataset/labels/train/b9a85ee0-Ch120241227151053.txt  \n",
            "  inflating: /content/dataset/labels/train/b9b679e4-Ch120250115105107.txt  \n",
            "  inflating: /content/dataset/labels/train/b9ed6ddf-Ch120241225112918.txt  \n",
            "  inflating: /content/dataset/labels/train/ba32bc3b-Ch120241021100625.txt  \n",
            "  inflating: /content/dataset/labels/train/ba41f29f-Ch120250309113445925.txt  \n",
            "  inflating: /content/dataset/labels/train/ba4b8534-Ch120250128094113.txt  \n",
            "  inflating: /content/dataset/labels/train/ba617bf7-Ch120241223130950.txt  \n",
            "  inflating: /content/dataset/labels/train/ba6b0ef2-Ch120250111161732.txt  \n",
            "  inflating: /content/dataset/labels/train/ba79da94-Ch120241225104204.txt  \n",
            "  inflating: /content/dataset/labels/train/ba8828d4-Ch120250115104816.txt  \n",
            "  inflating: /content/dataset/labels/train/ba946c7e-Ch120240927120047.txt  \n",
            "  inflating: /content/dataset/labels/train/ba98e283-Ch120250111161425.txt  \n",
            "  inflating: /content/dataset/labels/train/baab5e1e-Ch120250302103817.txt  \n",
            "  inflating: /content/dataset/labels/train/baaed90e-Ch120250111161547.txt  \n",
            "  inflating: /content/dataset/labels/train/bab5de3b-Ch120241225104419.txt  \n",
            "  inflating: /content/dataset/labels/train/baf7c4be-Ch120250120105640_learning.txt  \n",
            "  inflating: /content/dataset/labels/train/bb3867be-Ch120250120105640_learning.txt  \n",
            "  inflating: /content/dataset/labels/train/bb66aef4-Ch120241021100543.txt  \n",
            "  inflating: /content/dataset/labels/train/bb70a3c3-Ch120250128094045.txt  \n",
            "  inflating: /content/dataset/labels/train/bb795a1d-Ch120250129095502.txt  \n",
            "  inflating: /content/dataset/labels/train/bc280451-Ch120241225114330.txt  \n",
            "  inflating: /content/dataset/labels/train/bc29bbb4-Ch120250125121045.txt  \n",
            "  inflating: /content/dataset/labels/train/bc3db868-Ch120241225114508.txt  \n",
            "  inflating: /content/dataset/labels/train/bc40b4ab-Ch120250115113135.txt  \n",
            "  inflating: /content/dataset/labels/train/bc65c599-Ch120241227151317.txt  \n",
            "  inflating: /content/dataset/labels/train/bc6fd7c5-Ch120250302105840.txt  \n",
            "  inflating: /content/dataset/labels/train/bc816a0a-Ch120240927115755.txt  \n",
            "  inflating: /content/dataset/labels/train/bca3b531-Ch120240927165342.txt  \n",
            "  inflating: /content/dataset/labels/train/bccec693-Ch120250111161137.txt  \n",
            "  inflating: /content/dataset/labels/train/bcdc8cc4-Ch120250120104831_learning.txt  \n",
            "  inflating: /content/dataset/labels/train/bcf40914-Ch120241203103253.txt  \n",
            "  inflating: /content/dataset/labels/train/bd5c6a96-Ch120241021101005.txt  \n",
            "  inflating: /content/dataset/labels/train/bd60b30f-Ch120241021182618.txt  \n",
            "  inflating: /content/dataset/labels/train/bd6c0814-Ch120241021160616.txt  \n",
            "  inflating: /content/dataset/labels/train/bd6c2bbd-Ch120241226145811.txt  \n",
            "  inflating: /content/dataset/labels/train/bd76a62d-Ch120240927115638.txt  \n",
            "  inflating: /content/dataset/labels/train/bd82da3e-Ch120250111161635.txt  \n",
            "  inflating: /content/dataset/labels/train/bd872d6c-Ch120241121101353.txt  \n",
            "  inflating: /content/dataset/labels/train/bd9bce35-Ch120250120114704_learning.txt  \n",
            "  inflating: /content/dataset/labels/train/bda13ade-Ch120241227151012.txt  \n",
            "  inflating: /content/dataset/labels/train/be1535b7-Ch120241225104412.txt  \n",
            "  inflating: /content/dataset/labels/train/be4bc357-Ch120241225114303.txt  \n",
            "  inflating: /content/dataset/labels/train/be65a899-Ch120241226103003.txt  \n",
            "  inflating: /content/dataset/labels/train/be812bd4-Ch120241225112909.txt  \n",
            "  inflating: /content/dataset/labels/train/be98671c-Ch120250118103521_learning.txt  \n",
            "  inflating: /content/dataset/labels/train/be9a2fa1-Ch120240927165640.txt  \n",
            "  inflating: /content/dataset/labels/train/bea0c607-Ch120241225114502.txt  \n",
            "  inflating: /content/dataset/labels/train/bebab976-Ch120241225114503.txt  \n",
            "  inflating: /content/dataset/labels/train/bec7d874-Ch120250115150144.txt  \n",
            "  inflating: /content/dataset/labels/train/beeb7657-Ch120250115112659.txt  \n",
            "  inflating: /content/dataset/labels/train/bf181a91-Ch120250119143212_learning.txt  \n",
            "  inflating: /content/dataset/labels/train/bf5dfefb-Ch120250228110058.txt  \n",
            "  inflating: /content/dataset/labels/train/bf5e48af-Ch120241021182357.txt  \n",
            "  inflating: /content/dataset/labels/train/bf8fd790-Ch120241227145507.txt  \n",
            "  inflating: /content/dataset/labels/train/c0361915-Ch120250311095406223.txt  \n",
            "  inflating: /content/dataset/labels/train/c03cc8c2-Ch120250202103040.txt  \n",
            "  inflating: /content/dataset/labels/train/c06b1ba4-Ch120241021100831.txt  \n",
            "  inflating: /content/dataset/labels/train/c0a1bce2-Ch120241121101320.txt  \n",
            "  inflating: /content/dataset/labels/train/c0e24c1f-Ch120250228101452.txt  \n",
            "  inflating: /content/dataset/labels/train/c0eb78d3-Ch120241225113035.txt  \n",
            "  inflating: /content/dataset/labels/train/c0ed1296-Ch120241226102852.txt  \n",
            "  inflating: /content/dataset/labels/train/c0f31597-Ch120250203095401.txt  \n",
            "  inflating: /content/dataset/labels/train/c0f49688-Ch120250111161244.txt  \n",
            "  inflating: /content/dataset/labels/train/c1195c72-Ch120250118100016_learning.txt  \n",
            "  inflating: /content/dataset/labels/train/c12907d6-Ch120250202102910.txt  \n",
            "  inflating: /content/dataset/labels/train/c12fcf4d-Ch120250118104802_learning_learning.txt  \n",
            "  inflating: /content/dataset/labels/train/c1307e24-Ch120250202105340.txt  \n",
            "  inflating: /content/dataset/labels/train/c13b2972-Ch120250121102406.txt  \n",
            "  inflating: /content/dataset/labels/train/c1428485-Ch120241203103011.txt  \n",
            "  inflating: /content/dataset/labels/train/c15af5a8-Ch120241226102806.txt  \n",
            "  inflating: /content/dataset/labels/train/c16f55b7-Ch120241226102732.txt  \n",
            "  inflating: /content/dataset/labels/train/c17ede78-Ch120250111110149.txt  \n",
            "  inflating: /content/dataset/labels/train/c191cd69-Ch120241225114554.txt  \n",
            "  inflating: /content/dataset/labels/train/c1ae7a98-Ch120250311110046085.txt  \n",
            "  inflating: /content/dataset/labels/train/c1b38d8f-Ch120250202103244.txt  \n",
            "  inflating: /content/dataset/labels/train/c2975de7-Ch120250120143331_learning.txt  \n",
            "  inflating: /content/dataset/labels/train/c2ac2b67-Ch120250126102438.txt  \n",
            "  inflating: /content/dataset/labels/train/c2b32ca8-Ch120250116143505.txt  \n",
            "  inflating: /content/dataset/labels/train/c2d7c12a-Ch120241225104319.txt  \n",
            "  inflating: /content/dataset/labels/train/c2eaa697-Ch120250129100010.txt  \n",
            "  inflating: /content/dataset/labels/train/c2f6baa6-Ch120250111161918.txt  \n",
            "  inflating: /content/dataset/labels/train/c32e07e6-Ch120241021100959.txt  \n",
            "  inflating: /content/dataset/labels/train/c3636e9c-Ch120250128094030.txt  \n",
            "  inflating: /content/dataset/labels/train/c39b3538-Ch120241225114411.txt  \n",
            "  inflating: /content/dataset/labels/train/c3b404fc-Ch120250116143407.txt  \n",
            "  inflating: /content/dataset/labels/train/c3cf4afa-Ch120241226102723.txt  \n",
            "  inflating: /content/dataset/labels/train/c3d9c777-Ch120250118095332_learning.txt  \n",
            "  inflating: /content/dataset/labels/train/c3f29ae2-Ch120250202102801.txt  \n",
            "  inflating: /content/dataset/labels/train/c41429ea-Ch120241225113513.txt  \n",
            "  inflating: /content/dataset/labels/train/c4317c06-Ch120250125120547.txt  \n",
            "  inflating: /content/dataset/labels/train/c4746436-Ch120250303095849.txt  \n",
            "  inflating: /content/dataset/labels/train/c47b276f-Ch120250202103420.txt  \n",
            "  inflating: /content/dataset/labels/train/c4a0b58c-Ch120241227145508.txt  \n",
            "  inflating: /content/dataset/labels/train/c4a0eebc-Ch120240927115704.txt  \n",
            "  inflating: /content/dataset/labels/train/c50925c8-Ch120241203103239.txt  \n",
            "  inflating: /content/dataset/labels/train/c531df54-Ch120250119143811_learning_learning.txt  \n",
            "  inflating: /content/dataset/labels/train/c5359d13-Ch120250202102705.txt  \n",
            "  inflating: /content/dataset/labels/train/c53602be-Ch120250111161343.txt  \n",
            "  inflating: /content/dataset/labels/train/c5605203-Ch120240927165113.txt  \n",
            "  inflating: /content/dataset/labels/train/c5bb57ca-Ch120240927165131.txt  \n",
            "  inflating: /content/dataset/labels/train/c5dec285-Ch120250128094301.txt  \n",
            "  inflating: /content/dataset/labels/train/c600efd1-Ch120240927165434.txt  \n",
            "  inflating: /content/dataset/labels/train/c62b0f72-Ch120250202102604.txt  \n",
            "  inflating: /content/dataset/labels/train/c651b271-Ch120241203102927.txt  \n",
            "  inflating: /content/dataset/labels/train/c67204ba-Ch120241021101044.txt  \n",
            "  inflating: /content/dataset/labels/train/c6d468ca-Ch120250118104904_learning_learning.txt  \n",
            "  inflating: /content/dataset/labels/train/c6d691b9-Ch120241227151055.txt  \n",
            "  inflating: /content/dataset/labels/train/c6e86bbe-Ch120250111161249.txt  \n",
            "  inflating: /content/dataset/labels/train/c6fefeca-Ch120250111161019.txt  \n",
            "  inflating: /content/dataset/labels/train/c735b79e-Ch120241121101135.txt  \n",
            "  inflating: /content/dataset/labels/train/c78ac6a0-Ch120250206103318.txt  \n",
            "  inflating: /content/dataset/labels/train/c78c24b1-Ch120250128094218.txt  \n",
            "  inflating: /content/dataset/labels/train/c790023e-Ch120250111161345.txt  \n",
            "  inflating: /content/dataset/labels/train/c7bcb394-Ch120250129100217.txt  \n",
            "  inflating: /content/dataset/labels/train/c7d10645-Ch120250120144925_learning.txt  \n",
            "  inflating: /content/dataset/labels/train/c7ee77d0-Ch120241227151310.txt  \n",
            "  inflating: /content/dataset/labels/train/c8078357-Ch120241225113010.txt  \n",
            "  inflating: /content/dataset/labels/train/c8088063-Ch120250119143208_learning.txt  \n",
            "  inflating: /content/dataset/labels/train/c8506a7e-Ch120250129100124.txt  \n",
            "  inflating: /content/dataset/labels/train/c85605b9-Ch120241226102934.txt  \n",
            "  inflating: /content/dataset/labels/train/c873a90a-Ch120250130094259.txt  \n",
            "  inflating: /content/dataset/labels/train/c883b2ef-Ch120250128094252.txt  \n",
            "  inflating: /content/dataset/labels/train/c8b2a04e-Ch120250131100054.txt  \n",
            "  inflating: /content/dataset/labels/train/c8bcb21a-Ch120240927115504.txt  \n",
            "  inflating: /content/dataset/labels/train/c8e0e654-Ch120250228100831.txt  \n",
            "  inflating: /content/dataset/labels/train/c8e9255d-Ch120240927115503.txt  \n",
            "  inflating: /content/dataset/labels/train/c9265f55-Ch120250202103318.txt  \n",
            "  inflating: /content/dataset/labels/train/c9653ac6-Ch120241227151441.txt  \n",
            "  inflating: /content/dataset/labels/train/c99f9fe1-Ch120241121101351.txt  \n",
            "  inflating: /content/dataset/labels/train/c9a61dbf-Ch120241227145458.txt  \n",
            "  inflating: /content/dataset/labels/train/c9f4908a-Ch120240927165338.txt  \n",
            "  inflating: /content/dataset/labels/train/ca330a44-Ch120241225113505.txt  \n",
            "  inflating: /content/dataset/labels/train/ca4efea4-Ch120241226150002.txt  \n",
            "  inflating: /content/dataset/labels/train/ca503cbc-Ch120250111161453.txt  \n",
            "  inflating: /content/dataset/labels/train/ca706ca3-Ch120241203103148.txt  \n",
            "  inflating: /content/dataset/labels/train/ca70f656-Ch120250128094212.txt  \n",
            "  inflating: /content/dataset/labels/train/ca7b16fe-Ch120241021101014.txt  \n",
            "  inflating: /content/dataset/labels/train/ca913fe1-Ch120241021100741.txt  \n",
            "  inflating: /content/dataset/labels/train/cab274c6-Ch120241021174813.txt  \n",
            "  inflating: /content/dataset/labels/train/cacb2ea7-Ch120250129095838.txt  \n",
            "  inflating: /content/dataset/labels/train/cae82979-Ch120240927115512.txt  \n",
            "  inflating: /content/dataset/labels/train/caf85304-Ch120250120110450_learning.txt  \n",
            "  inflating: /content/dataset/labels/train/cb07cd1b-Ch120250119143650_learning_learning.txt  \n",
            "  inflating: /content/dataset/labels/train/cb3c99ff-Ch120250111161225.txt  \n",
            "  inflating: /content/dataset/labels/train/cb41c940-Ch120241121101246.txt  \n",
            "  inflating: /content/dataset/labels/train/cb4a198f-Ch120250202102329.txt  \n",
            "  inflating: /content/dataset/labels/train/cbc77044-Ch120250228101119.txt  \n",
            "  inflating: /content/dataset/labels/train/cbd26876-Ch120241121101612.txt  \n",
            "  inflating: /content/dataset/labels/train/cc601379-Ch120241225113125.txt  \n",
            "  inflating: /content/dataset/labels/train/cc680eca-Ch120241021100910.txt  \n",
            "  inflating: /content/dataset/labels/train/cc9e35d2-Ch120250129095508.txt  \n",
            "  inflating: /content/dataset/labels/train/ccbfab7f-Ch120250217104512.txt  \n",
            "  inflating: /content/dataset/labels/train/cd1eb200-Ch120241203102952.txt  \n",
            "  inflating: /content/dataset/labels/train/cd389482-Ch120250116142640.txt  \n",
            "  inflating: /content/dataset/labels/train/cd7bd1eb-Ch120241203102918.txt  \n",
            "  inflating: /content/dataset/labels/train/cdc2ce1b-Ch120250118095915_learning.txt  \n",
            "  inflating: /content/dataset/labels/train/cdecd923-Ch120241225114401.txt  \n",
            "  inflating: /content/dataset/labels/train/ce3f39ee-Ch120241225114309.txt  \n",
            "  inflating: /content/dataset/labels/train/ce52265c-Ch120241227145417.txt  \n",
            "  inflating: /content/dataset/labels/train/ce677b37-Ch120241021160710.txt  \n",
            "  inflating: /content/dataset/labels/train/ce7a0439-Ch120240927165127.txt  \n",
            "  inflating: /content/dataset/labels/train/ce8d6dce-Ch120240927165340.txt  \n",
            "  inflating: /content/dataset/labels/train/ceb79133-Ch120250111161255.txt  \n",
            "  inflating: /content/dataset/labels/train/cebbd63f-Ch120250119143338_learning_learning.txt  \n",
            "  inflating: /content/dataset/labels/train/cee656a6-Ch120250118100109_learning.txt  \n",
            "  inflating: /content/dataset/labels/train/cee87382-Ch120241226102832.txt  \n",
            "  inflating: /content/dataset/labels/train/cf2f5fbf-Ch120241226145647.txt  \n",
            "  inflating: /content/dataset/labels/train/cf5ba92f-Ch120241225114542.txt  \n",
            "  inflating: /content/dataset/labels/train/cf60e9c8-Ch120250118100001_learning.txt  \n",
            "  inflating: /content/dataset/labels/train/cf6828d6-Ch120241226145450.txt  \n",
            "  inflating: /content/dataset/labels/train/cf78793f-Ch120240927115906.txt  \n",
            "  inflating: /content/dataset/labels/train/cf9f531d-Ch120241226150637.txt  \n",
            "  inflating: /content/dataset/labels/train/cfacf69c-Ch120241021182410.txt  \n",
            "  inflating: /content/dataset/labels/train/cff29bfd-Ch120250115145626.txt  \n",
            "  inflating: /content/dataset/labels/train/d02a88ab-Ch120241225113102.txt  \n",
            "  inflating: /content/dataset/labels/train/d05c57a5-Ch120241225113017.txt  \n",
            "  inflating: /content/dataset/labels/train/d061ff05-Ch120240927120000.txt  \n",
            "  inflating: /content/dataset/labels/train/d07b5baa-Ch120241226145852.txt  \n",
            "  inflating: /content/dataset/labels/train/d092ef9e-Ch120250115145036.txt  \n",
            "  inflating: /content/dataset/labels/train/d0bc4f83-Ch120241226102835.txt  \n",
            "  inflating: /content/dataset/labels/train/d0e6557a-Ch120250130094137.txt  \n",
            "  inflating: /content/dataset/labels/train/d0fc4985-Ch120250202102525.txt  \n",
            "  inflating: /content/dataset/labels/train/d1117fdb-Ch120241227145510.txt  \n",
            "  inflating: /content/dataset/labels/train/d137a07b-Ch120240927115744.txt  \n",
            "  inflating: /content/dataset/labels/train/d142fb85-Ch120250125121024.txt  \n",
            "  inflating: /content/dataset/labels/train/d14ae4a8-Ch120250129100225.txt  \n",
            "  inflating: /content/dataset/labels/train/d165a332-Ch120241226150244.txt  \n",
            "  inflating: /content/dataset/labels/train/d16dfa4d-Ch120241021100755.txt  \n",
            "  inflating: /content/dataset/labels/train/d17a0015-Ch120241227145431.txt  \n",
            "  inflating: /content/dataset/labels/train/d1c4b1a9-Ch120241021100754.txt  \n",
            "  inflating: /content/dataset/labels/train/d204aaeb-Ch120250113103558.txt  \n",
            "  inflating: /content/dataset/labels/train/d20dadb6-Ch120241225114456.txt  \n",
            "  inflating: /content/dataset/labels/train/d2175860-Ch120241121101459.txt  \n",
            "  inflating: /content/dataset/labels/train/d275e4a1-Ch120241223130803.txt  \n",
            "  inflating: /content/dataset/labels/train/d2f0d7a2-Ch120250130094208.txt  \n",
            "  inflating: /content/dataset/labels/train/d3086f3b-Ch120250111161251.txt  \n",
            "  inflating: /content/dataset/labels/train/d342f4cf-Ch120240927115703.txt  \n",
            "  inflating: /content/dataset/labels/train/d366d57d-Ch120250202104708.txt  \n",
            "  inflating: /content/dataset/labels/train/d3861481-Ch120241227151002.txt  \n",
            "  inflating: /content/dataset/labels/train/d3a7d322-Ch120250120114801_learning.txt  \n",
            "  inflating: /content/dataset/labels/train/d3ccea1f-Ch120241121101252.txt  \n",
            "  inflating: /content/dataset/labels/train/d41c4c11-Ch120250202102824.txt  \n",
            "  inflating: /content/dataset/labels/train/d4409b51-Ch120250111161850.txt  \n",
            "  inflating: /content/dataset/labels/train/d44c0db2-Ch120241226102722.txt  \n",
            "  inflating: /content/dataset/labels/train/d46555db-Ch120241225114505.txt  \n",
            "  inflating: /content/dataset/labels/train/d46c3025-Ch120250202102425.txt  \n",
            "  inflating: /content/dataset/labels/train/d476cf7c-Ch120241121101446.txt  \n",
            "  inflating: /content/dataset/labels/train/d4d03c96-Ch120241203103400.txt  \n",
            "  inflating: /content/dataset/labels/train/d4e77e92-Ch120240927115726.txt  \n",
            "  inflating: /content/dataset/labels/train/d52d4abc-Ch120241225114322.txt  \n",
            "  inflating: /content/dataset/labels/train/d538ed6a-Ch120250206102545.txt  \n",
            "  inflating: /content/dataset/labels/train/d553b244-Ch120241225113133.txt  \n",
            "  inflating: /content/dataset/labels/train/d57b3e22-Ch120250202102812.txt  \n",
            "  inflating: /content/dataset/labels/train/d5975255-Ch120240927165202.txt  \n",
            "  inflating: /content/dataset/labels/train/d5a7867f-Ch120250202103341.txt  \n",
            "  inflating: /content/dataset/labels/train/d6353758-Ch120241227150957.txt  \n",
            "  inflating: /content/dataset/labels/train/d643e1f9-Ch120241227151356.txt  \n",
            "  inflating: /content/dataset/labels/train/d6643542-Ch120250202103333.txt  \n",
            "  inflating: /content/dataset/labels/train/d687f872-Ch120241227145420.txt  \n",
            "  inflating: /content/dataset/labels/train/d68aca9f-Ch120241225114444.txt  \n",
            "  inflating: /content/dataset/labels/train/d6b013a5-Ch120240927165614.txt  \n",
            "  inflating: /content/dataset/labels/train/d6d21f81-Ch120250129100054.txt  \n",
            "  inflating: /content/dataset/labels/train/d6d945d1-Ch120250115113326.txt  \n",
            "  inflating: /content/dataset/labels/train/d6dcb14e-Ch120250111161556.txt  \n",
            "  inflating: /content/dataset/labels/train/d6f332b0-Ch120241227151239.txt  \n",
            "  inflating: /content/dataset/labels/train/d7107233-Ch120250126102149.txt  \n",
            "  inflating: /content/dataset/labels/train/d73bdef6-Ch120250115145456.txt  \n",
            "  inflating: /content/dataset/labels/train/d7503baa-Ch120241225113029.txt  \n",
            "  inflating: /content/dataset/labels/train/d7840a6e-Ch120241021182423.txt  \n",
            "  inflating: /content/dataset/labels/train/d7884821-Ch120250120143555_learning.txt  \n",
            "  inflating: /content/dataset/labels/train/d7e02157-Ch120250311104218683.txt  \n",
            "  inflating: /content/dataset/labels/train/d81d068c-Ch120250228103739.txt  \n",
            "  inflating: /content/dataset/labels/train/d823ed09-Ch120250120114329_learning.txt  \n",
            "  inflating: /content/dataset/labels/train/d82c50ba-Ch120241225112846.txt  \n",
            "  inflating: /content/dataset/labels/train/d82d5e4c-Ch120250202103411.txt  \n",
            "  inflating: /content/dataset/labels/train/d873f69c-Ch120250111161130.txt  \n",
            "  inflating: /content/dataset/labels/train/d88140cb-Ch120241121101555.txt  \n",
            "  inflating: /content/dataset/labels/train/d88b25d4-Ch120241226145649.txt  \n",
            "  inflating: /content/dataset/labels/train/d8b36b83-Ch120250126103532.txt  \n",
            "  inflating: /content/dataset/labels/train/d8b7e052-Ch120250111161844.txt  \n",
            "  inflating: /content/dataset/labels/train/d8ba4316-Ch120241203103118.txt  \n",
            "  inflating: /content/dataset/labels/train/d8c7610c-Ch120250203095519.txt  \n",
            "  inflating: /content/dataset/labels/train/d8f12a8f-Ch120250111161625.txt  \n",
            "  inflating: /content/dataset/labels/train/d908637f-Ch120241226150616.txt  \n",
            "  inflating: /content/dataset/labels/train/d936d479-Ch120250206103009.txt  \n",
            "  inflating: /content/dataset/labels/train/d937d8e0-Ch120250129095739.txt  \n",
            "  inflating: /content/dataset/labels/train/d954fcb7-Ch120250111110018.txt  \n",
            "  inflating: /content/dataset/labels/train/d990c78d-Ch120250119144158_learning_learning.txt  \n",
            "  inflating: /content/dataset/labels/train/d9b0b17e-Ch120250126103911.txt  \n",
            "  inflating: /content/dataset/labels/train/d9ba53c5-Ch120250202102533.txt  \n",
            "  inflating: /content/dataset/labels/train/d9fe52a3-Ch120250302113436.txt  \n",
            "  inflating: /content/dataset/labels/train/da4a0c8a-Ch120250131100005.txt  \n",
            "  inflating: /content/dataset/labels/train/da5d373e-Ch120250111160944.txt  \n",
            "  inflating: /content/dataset/labels/train/dac95e32-Ch120250228103712.txt  \n",
            "  inflating: /content/dataset/labels/train/dacb5d60-Ch120250118104231_learning_learning.txt  \n",
            "  inflating: /content/dataset/labels/train/dae3950d-Ch120250118104142_learning_learning.txt  \n",
            "  inflating: /content/dataset/labels/train/db452f5b-Ch120250120144528_learning.txt  \n",
            "  inflating: /content/dataset/labels/train/db9964ba-Ch120250206104804.txt  \n",
            "  inflating: /content/dataset/labels/train/dbb54176-Ch120250115104926.txt  \n",
            "  inflating: /content/dataset/labels/train/dc0e7d33-Ch120241225104250.txt  \n",
            "  inflating: /content/dataset/labels/train/dc3f142d-Ch120250228102004.txt  \n",
            "  inflating: /content/dataset/labels/train/dc747e10-Ch120241225114339.txt  \n",
            "  inflating: /content/dataset/labels/train/dc7a8dbb-Ch120250116143042.txt  \n",
            "  inflating: /content/dataset/labels/train/dc849bc1-Ch120250111110006.txt  \n",
            "  inflating: /content/dataset/labels/train/dca0c079-Ch120241226102940.txt  \n",
            "  inflating: /content/dataset/labels/train/dcb57a2b-Ch120250111161622.txt  \n",
            "  inflating: /content/dataset/labels/train/dce4c29d-Ch120240927165444.txt  \n",
            "  inflating: /content/dataset/labels/train/dce572c1-Ch120250120114943_learning.txt  \n",
            "  inflating: /content/dataset/labels/train/dd471266-Ch120241225114506.txt  \n",
            "  inflating: /content/dataset/labels/train/dd8215fb-Ch120250115105013.txt  \n",
            "  inflating: /content/dataset/labels/train/dd95c688-Ch120240927115849.txt  \n",
            "  inflating: /content/dataset/labels/train/ddb74daa-Ch120241225114310.txt  \n",
            "  inflating: /content/dataset/labels/train/ddba693a-Ch120250130094331.txt  \n",
            "  inflating: /content/dataset/labels/train/dde03769-Ch120250116143822.txt  \n",
            "  inflating: /content/dataset/labels/train/ddee593f-Ch120241225114325.txt  \n",
            "  inflating: /content/dataset/labels/train/de0ad792-Ch120250128094308.txt  \n",
            "  inflating: /content/dataset/labels/train/de1fe442-Ch120241021100655.txt  \n",
            "  inflating: /content/dataset/labels/train/de6183f3-Ch120241225113409.txt  \n",
            "  inflating: /content/dataset/labels/train/de9c6360-Ch120250111161640.txt  \n",
            "  inflating: /content/dataset/labels/train/deacbd52-Ch120250120144641_learning.txt  \n",
            "  inflating: /content/dataset/labels/train/deadd3bc-Ch120250202103721.txt  \n",
            "  inflating: /content/dataset/labels/train/ded89100-Ch120250115145042.txt  \n",
            "  inflating: /content/dataset/labels/train/dee9d1b4-Ch120250111161846.txt  \n",
            "  inflating: /content/dataset/labels/train/df217858-Ch120241226150307.txt  \n",
            "  inflating: /content/dataset/labels/train/df2d066e-Ch120241226151008.txt  \n",
            "  inflating: /content/dataset/labels/train/df2e5e26-Ch120250118103839_learning_learning.txt  \n",
            "  inflating: /content/dataset/labels/train/df42b1dd-Ch120250203095259.txt  \n",
            "  inflating: /content/dataset/labels/train/df7de463-Ch120250130094151.txt  \n",
            "  inflating: /content/dataset/labels/train/dfa11d06-Ch120241226151002.txt  \n",
            "  inflating: /content/dataset/labels/train/dfe67d5b-Ch120241021100832.txt  \n",
            "  inflating: /content/dataset/labels/train/e04a71ea-Ch120241203103004.txt  \n",
            "  inflating: /content/dataset/labels/train/e07012cd-Ch120241203103330.txt  \n",
            "  inflating: /content/dataset/labels/train/e099129b-Ch120240927165628.txt  \n",
            "  inflating: /content/dataset/labels/train/e0a9251e-Ch120241227151223.txt  \n",
            "  inflating: /content/dataset/labels/train/e0b5b620-Ch120250111161430.txt  \n",
            "  inflating: /content/dataset/labels/train/e0d37413-Ch120250111160945.txt  \n",
            "  inflating: /content/dataset/labels/train/e0e5c996-Ch120241226103020.txt  \n",
            "  inflating: /content/dataset/labels/train/e1041131-Ch120241121101051.txt  \n",
            "  inflating: /content/dataset/labels/train/e11aaafa-Ch120241226150149.txt  \n",
            "  inflating: /content/dataset/labels/train/e11e8012-Ch120250115113308.txt  \n",
            "  inflating: /content/dataset/labels/train/e12c46cb-Ch120241203103420.txt  \n",
            "  inflating: /content/dataset/labels/train/e14839e8-Ch120241021100621.txt  \n",
            "  inflating: /content/dataset/labels/train/e159fcbe-Ch120250303095745.txt  \n",
            "  inflating: /content/dataset/labels/train/e166d081-Ch120241227145500.txt  \n",
            "  inflating: /content/dataset/labels/train/e1747a5d-Ch120250126113048.txt  \n",
            "  inflating: /content/dataset/labels/train/e1797602-Ch120241227151230.txt  \n",
            "  inflating: /content/dataset/labels/train/e1863e8b-Ch120240927165203.txt  \n",
            "  inflating: /content/dataset/labels/train/e1ca51c3-Ch120241226145633.txt  \n",
            "  inflating: /content/dataset/labels/train/e1cdd645-Ch120250131100133.txt  \n",
            "  inflating: /content/dataset/labels/train/e1d6e70d-Ch120241225113132.txt  \n",
            "  inflating: /content/dataset/labels/train/e1e44b07-Ch120250121102338.txt  \n",
            "  inflating: /content/dataset/labels/train/e1edbaee-Ch120241021182419.txt  \n",
            "  inflating: /content/dataset/labels/train/e2041613-Ch120241021100523.txt  \n",
            "  inflating: /content/dataset/labels/train/e23e1324-Ch120241121101429.txt  \n",
            "  inflating: /content/dataset/labels/train/e2400dfe-Ch120241225114457.txt  \n",
            "  inflating: /content/dataset/labels/train/e28d564f-Ch120241227151250.txt  \n",
            "  inflating: /content/dataset/labels/train/e2d9ba88-Ch120241225113016.txt  \n",
            "  inflating: /content/dataset/labels/train/e2eda133-Ch120250111160904.txt  \n",
            "  inflating: /content/dataset/labels/train/e2f1f130-Ch120250116142727.txt  \n",
            "  inflating: /content/dataset/labels/train/e2f32ef7-Ch120241121101456.txt  \n",
            "  inflating: /content/dataset/labels/train/e3043204-Ch120250116142825.txt  \n",
            "  inflating: /content/dataset/labels/train/e3144258-Ch120250128094336.txt  \n",
            "  inflating: /content/dataset/labels/train/e320ee21-Ch120241226103040.txt  \n",
            "  inflating: /content/dataset/labels/train/e3218688-Ch120250202103536.txt  \n",
            "  inflating: /content/dataset/labels/train/e323cb95-Ch120250118103228_learning.txt  \n",
            "  inflating: /content/dataset/labels/train/e348b90a-Ch120250125121050.txt  \n",
            "  inflating: /content/dataset/labels/train/e37dffe5-Ch120241226150003.txt  \n",
            "  inflating: /content/dataset/labels/train/e3859e93-Ch120250202102305.txt  \n",
            "  inflating: /content/dataset/labels/train/e3ad17a2-Ch120241203103235.txt  \n",
            "  inflating: /content/dataset/labels/train/e3f44500-Ch120250129095929.txt  \n",
            "  inflating: /content/dataset/labels/train/e4139de1-Ch120241225104259.txt  \n",
            "  inflating: /content/dataset/labels/train/e41cc92f-Ch120241225114357.txt  \n",
            "  inflating: /content/dataset/labels/train/e4328ad6-Ch120240927115500.txt  \n",
            "  inflating: /content/dataset/labels/train/e46d69fe-Ch120241227151232.txt  \n",
            "  inflating: /content/dataset/labels/train/e46eab55-Ch120250203095132.txt  \n",
            "  inflating: /content/dataset/labels/train/e4825184-Ch120240927165327.txt  \n",
            "  inflating: /content/dataset/labels/train/e4a257ce-Ch120250130094157.txt  \n",
            "  inflating: /content/dataset/labels/train/e4aacb60-Ch120241227151303.txt  \n",
            "  inflating: /content/dataset/labels/train/e50873bc-Ch120241225104400.txt  \n",
            "  inflating: /content/dataset/labels/train/e5184f73-Ch120241227151245.txt  \n",
            "  inflating: /content/dataset/labels/train/e53e685a-Ch120241225114531.txt  \n",
            "  inflating: /content/dataset/labels/train/e5705e4a-Ch120241227151102.txt  \n",
            "  inflating: /content/dataset/labels/train/e5aaee68-Ch120250203095416.txt  \n",
            "  inflating: /content/dataset/labels/train/e5c3a271-Ch120241203102912.txt  \n",
            "  inflating: /content/dataset/labels/train/e5f6cbee-Ch120250202100431.txt  \n",
            "  inflating: /content/dataset/labels/train/e618cf42-Ch120241203103237.txt  \n",
            "  inflating: /content/dataset/labels/train/e636e040-Ch120241225114507.txt  \n",
            "  inflating: /content/dataset/labels/train/e6798c70-Ch120250217104352.txt  \n",
            "  inflating: /content/dataset/labels/train/e69243c9-Ch120250203095409.txt  \n",
            "  inflating: /content/dataset/labels/train/e697a1fb-Ch120250130094251.txt  \n",
            "  inflating: /content/dataset/labels/train/e6c343db-Ch120250118095248_learning.txt  \n",
            "  inflating: /content/dataset/labels/train/e6d42d9a-Ch120241225114516.txt  \n",
            "  inflating: /content/dataset/labels/train/e6da78ea-Ch120240927165138.txt  \n",
            "  inflating: /content/dataset/labels/train/e6ddba16-Ch120241225114544.txt  \n",
            "  inflating: /content/dataset/labels/train/e73a3d7c-Ch120250116143714.txt  \n",
            "  inflating: /content/dataset/labels/train/e74660d8-Ch120241121101228.txt  \n",
            "  inflating: /content/dataset/labels/train/e7553dda-Ch120240927165754.txt  \n",
            "  inflating: /content/dataset/labels/train/e75a2b4f-Ch120250110111440.txt  \n",
            "  inflating: /content/dataset/labels/train/e770b068-Ch120250130094522.txt  \n",
            "  inflating: /content/dataset/labels/train/e7752819-Ch120241203102934.txt  \n",
            "  inflating: /content/dataset/labels/train/e779ec4c-Ch120241226102930.txt  \n",
            "  inflating: /content/dataset/labels/train/e7a081c3-Ch120250120114511_learning.txt  \n",
            "  inflating: /content/dataset/labels/train/e7ab324d-Ch120250116142654.txt  \n",
            "  inflating: /content/dataset/labels/train/e7b8635b-Ch120250206103201.txt  \n",
            "  inflating: /content/dataset/labels/train/e7c8604c-Ch120250206105454.txt  \n",
            "  inflating: /content/dataset/labels/train/e80136ec-Ch120241227145503.txt  \n",
            "  inflating: /content/dataset/labels/train/e8025b59-Ch120250202102546.txt  \n",
            "  inflating: /content/dataset/labels/train/e8115739-Ch120241226102834.txt  \n",
            "  inflating: /content/dataset/labels/train/e835ae65-Ch120241225114308.txt  \n",
            "  inflating: /content/dataset/labels/train/e861bf85-Ch120241225113414.txt  \n",
            "  inflating: /content/dataset/labels/train/e87f2253-Ch120250111161558.txt  \n",
            "  inflating: /content/dataset/labels/train/e8967449-Ch120250217104218.txt  \n",
            "  inflating: /content/dataset/labels/train/e8a8dfef-Ch120240927165642.txt  \n",
            "  inflating: /content/dataset/labels/train/e8e09565-Ch120250119143844_learning_learning.txt  \n",
            "  inflating: /content/dataset/labels/train/e8e7d7fc-Ch120250110111443.txt  \n",
            "  inflating: /content/dataset/labels/train/e912b143-Ch120250202102934.txt  \n",
            "  inflating: /content/dataset/labels/train/e912c14f-Ch120240927165739.txt  \n",
            "  inflating: /content/dataset/labels/train/e9237bb3-Ch120250115113008.txt  \n",
            "  inflating: /content/dataset/labels/train/e9245f96-Ch120241225112908.txt  \n",
            "  inflating: /content/dataset/labels/train/e94d9483-Ch120240927115839.txt  \n",
            "  inflating: /content/dataset/labels/train/e9a122ef-Ch120250206105142.txt  \n",
            "  inflating: /content/dataset/labels/train/e9bf7c1f-Ch120250111161418.txt  \n",
            "  inflating: /content/dataset/labels/train/e9e17f23-Ch120241203103018.txt  \n",
            "  inflating: /content/dataset/labels/train/e9eb5e81-Ch120241226151143.txt  \n",
            "  inflating: /content/dataset/labels/train/e9ebb456-Ch120241225114315.txt  \n",
            "  inflating: /content/dataset/labels/train/ea28bd86-Ch120241227145437.txt  \n",
            "  inflating: /content/dataset/labels/train/ea55176c-Ch120241203102953.txt  \n",
            "  inflating: /content/dataset/labels/train/ea64055d-Ch120241021160646.txt  \n",
            "  inflating: /content/dataset/labels/train/ea6741b7-Ch120250202100540.txt  \n",
            "  inflating: /content/dataset/labels/train/ea8ab7c1-Ch120241226103048.txt  \n",
            "  inflating: /content/dataset/labels/train/eabe2823-Ch120241225114342.txt  \n",
            "  inflating: /content/dataset/labels/train/eac5d5bb-Ch120241225114324.txt  \n",
            "  inflating: /content/dataset/labels/train/eac5f748-Ch120241021182324.txt  \n",
            "  inflating: /content/dataset/labels/train/ead973ce-Ch120241226102851.txt  \n",
            "  inflating: /content/dataset/labels/train/eaea761e-Ch120250119144130_learning_learning.txt  \n",
            "  inflating: /content/dataset/labels/train/eb093935-Ch120250129100008.txt  \n",
            "  inflating: /content/dataset/labels/train/eb2dac13-Ch120250217104548.txt  \n",
            "  inflating: /content/dataset/labels/train/eb35f4fc-Ch120250217104452.txt  \n",
            "  inflating: /content/dataset/labels/train/eb829128-Ch120250111161837.txt  \n",
            "  inflating: /content/dataset/labels/train/eb9f7ba2-Ch120240927120043.txt  \n",
            "  inflating: /content/dataset/labels/train/ebb4bb14-Ch120250111161614.txt  \n",
            "  inflating: /content/dataset/labels/train/ebc87b39-Ch120250311095124105.txt  \n",
            "  inflating: /content/dataset/labels/train/ebf1d02c-Ch120250121102604.txt  \n",
            "  inflating: /content/dataset/labels/train/ebf76a9f-Ch120250120144116_learning.txt  \n",
            "  inflating: /content/dataset/labels/train/ec25a825-Ch120250111161136.txt  \n",
            "  inflating: /content/dataset/labels/train/ec331b49-Ch120250115113405.txt  \n",
            "  inflating: /content/dataset/labels/train/ec398005-Ch120250115113610.txt  \n",
            "  inflating: /content/dataset/labels/train/ec402f4b-Ch120241227150958.txt  \n",
            "  inflating: /content/dataset/labels/train/ec4a7de5-Ch120241225113507.txt  \n",
            "  inflating: /content/dataset/labels/train/ec4ba70a-Ch120241021100535.txt  \n",
            "  inflating: /content/dataset/labels/train/ec938f54-Ch120241227151435.txt  \n",
            "  inflating: /content/dataset/labels/train/ecc4c16e-Ch120241121101239.txt  \n",
            "  inflating: /content/dataset/labels/train/ecf4a524-Ch120241225114410.txt  \n",
            "  inflating: /content/dataset/labels/train/ecfbd4ca-Ch120250130094511.txt  \n",
            "  inflating: /content/dataset/labels/train/ed204e59-Ch120250302102329.txt  \n",
            "  inflating: /content/dataset/labels/train/ed541427-Ch120250206105340.txt  \n",
            "  inflating: /content/dataset/labels/train/edc8a658-Ch120241121101403.txt  \n",
            "  inflating: /content/dataset/labels/train/edcd7e9a-Ch120240927165325.txt  \n",
            "  inflating: /content/dataset/labels/train/ee298446-Ch120241225113413.txt  \n",
            "  inflating: /content/dataset/labels/train/ee2a9c2d-Ch120241227151051.txt  \n",
            "  inflating: /content/dataset/labels/train/ee3bb7fc-Ch120241121101125.txt  \n",
            "  inflating: /content/dataset/labels/train/ee5a9ea9-Ch120250302101700.txt  \n",
            "  inflating: /content/dataset/labels/train/ee6144e5-Ch120250111161018.txt  \n",
            "  inflating: /content/dataset/labels/train/ee6a6f4c-Ch120240927115716.txt  \n",
            "  inflating: /content/dataset/labels/train/ee7fc4e6-Ch120250126103750.txt  \n",
            "  inflating: /content/dataset/labels/train/ee979159-Ch120250206103224.txt  \n",
            "  inflating: /content/dataset/labels/train/eea3beec-Ch120241021100602.txt  \n",
            "  inflating: /content/dataset/labels/train/eebf18e3-Ch120241021182321.txt  \n",
            "  inflating: /content/dataset/labels/train/eec1cbcb-Ch120241021182349.txt  \n",
            "  inflating: /content/dataset/labels/train/eec312cb-Ch120241225114304.txt  \n",
            "  inflating: /content/dataset/labels/train/eecb13aa-Ch120241225113135.txt  \n",
            "  inflating: /content/dataset/labels/train/eee87720-Ch120250128094020.txt  \n",
            "  inflating: /content/dataset/labels/train/ef18e2d5-Ch120241121101229.txt  \n",
            "  inflating: /content/dataset/labels/train/ef5d1233-Ch120250111160908.txt  \n",
            "  inflating: /content/dataset/labels/train/ef77faa2-Ch120250202103711.txt  \n",
            "  inflating: /content/dataset/labels/train/efdbc581-Ch120241225112857.txt  \n",
            "  inflating: /content/dataset/labels/train/eff2c526-Ch120241121101346.txt  \n",
            "  inflating: /content/dataset/labels/train/f06cd28f-Ch120241227145442.txt  \n",
            "  inflating: /content/dataset/labels/train/f0917300-Ch120250112105259.txt  \n",
            "  inflating: /content/dataset/labels/train/f10d41cc-Ch120250202102518.txt  \n",
            "  inflating: /content/dataset/labels/train/f11f9669-Ch120241225113038.txt  \n",
            "  inflating: /content/dataset/labels/train/f1229469-Ch120241227151432.txt  \n",
            "  inflating: /content/dataset/labels/train/f138ad29-Ch120250111161256.txt  \n",
            "  inflating: /content/dataset/labels/train/f156a5a3-Ch120250118100119_learning.txt  \n",
            "  inflating: /content/dataset/labels/train/f162cfae-Ch120250120105236_learning.txt  \n",
            "  inflating: /content/dataset/labels/train/f199d12d-Ch120250111110749.txt  \n",
            "  inflating: /content/dataset/labels/train/f1d13196-Ch120240927115705.txt  \n",
            "  inflating: /content/dataset/labels/train/f1d9146c-Ch120250303094831.txt  \n",
            "  inflating: /content/dataset/labels/train/f1e0aa02-Ch120250118095715_learning.txt  \n",
            "  inflating: /content/dataset/labels/train/f1ed33c2-Ch120241203103143.txt  \n",
            "  inflating: /content/dataset/labels/train/f1ff4254-Ch120250111161919.txt  \n",
            "  inflating: /content/dataset/labels/train/f200852b-Ch120250115105503.txt  \n",
            "  inflating: /content/dataset/labels/train/f2078114-Ch120250112104223.txt  \n",
            "  inflating: /content/dataset/labels/train/f229459e-Ch120250311104111547.txt  \n",
            "  inflating: /content/dataset/labels/train/f22ed561-Ch120241226102907.txt  \n",
            "  inflating: /content/dataset/labels/train/f235f67d-Ch120241225114442.txt  \n",
            "  inflating: /content/dataset/labels/train/f268ae14-Ch120241121101245.txt  \n",
            "  inflating: /content/dataset/labels/train/f28cfdee-Ch120250111161508.txt  \n",
            "  inflating: /content/dataset/labels/train/f28f0039-Ch120241121101659.txt  \n",
            "  inflating: /content/dataset/labels/train/f2b6c82e-Ch120250126103650.txt  \n",
            "  inflating: /content/dataset/labels/train/f2bbd806-Ch120241226102741.txt  \n",
            "  inflating: /content/dataset/labels/train/f2c25a79-Ch120250111161628.txt  \n",
            "  inflating: /content/dataset/labels/train/f2db2746-Ch120250111161646.txt  \n",
            "  inflating: /content/dataset/labels/train/f3085330-Ch120250110111945.txt  \n",
            "  inflating: /content/dataset/labels/train/f344e63a-Ch120250115113453.txt  \n",
            "  inflating: /content/dataset/labels/train/f36a9f4c-Ch120241021100536.txt  \n",
            "  inflating: /content/dataset/labels/train/f38f051b-Ch120250115112838.txt  \n",
            "  inflating: /content/dataset/labels/train/f392e650-Ch120250217104332.txt  \n",
            "  inflating: /content/dataset/labels/train/f39750ac-Ch120250309110848770.txt  \n",
            "  inflating: /content/dataset/labels/train/f39d6df7-Ch120241021160633.txt  \n",
            "  inflating: /content/dataset/labels/train/f3db9820-Ch120240927165159.txt  \n",
            "  inflating: /content/dataset/labels/train/f3e72add-Ch120241223130957.txt  \n",
            "  inflating: /content/dataset/labels/train/f3f8ebe2-Ch120240927115938.txt  \n",
            "  inflating: /content/dataset/labels/train/f40cb59a-Ch120241121101330.txt  \n",
            "  inflating: /content/dataset/labels/train/f45a0772-Ch120241225112920.txt  \n",
            "  inflating: /content/dataset/labels/train/f469dd92-Ch120250120110911_learning.txt  \n",
            "  inflating: /content/dataset/labels/train/f4930578-Ch120250116142806.txt  \n",
            "  inflating: /content/dataset/labels/train/f4abca0f-Ch120241021160631.txt  \n",
            "  inflating: /content/dataset/labels/train/f4c0314a-Ch120241021100633.txt  \n",
            "  inflating: /content/dataset/labels/train/f50e0ca1-Ch120241226102942.txt  \n",
            "  inflating: /content/dataset/labels/train/f513384e-Ch120250126101900.txt  \n",
            "  inflating: /content/dataset/labels/train/f55efe53-Ch120241225114253.txt  \n",
            "  inflating: /content/dataset/labels/train/f5c211eb-Ch120241225114447.txt  \n",
            "  inflating: /content/dataset/labels/train/f5c9154b-Ch120241225113404.txt  \n",
            "  inflating: /content/dataset/labels/train/f5d72b5f-Ch120250111161433.txt  \n",
            "  inflating: /content/dataset/labels/train/f5dfe1f2-Ch120250111161332.txt  \n",
            "  inflating: /content/dataset/labels/train/f5eacf7a-Ch120250202102347.txt  \n",
            "  inflating: /content/dataset/labels/train/f60e72aa-Ch120250111161349.txt  \n",
            "  inflating: /content/dataset/labels/train/f6d88f52-Ch120241225104236.txt  \n",
            "  inflating: /content/dataset/labels/train/f6da027d-Ch120241227151427.txt  \n",
            "  inflating: /content/dataset/labels/train/f748453f-Ch120241021100452.txt  \n",
            "  inflating: /content/dataset/labels/train/f782ac62-Ch120241227151016.txt  \n",
            "  inflating: /content/dataset/labels/train/f7877823-Ch120241225114426.txt  \n",
            "  inflating: /content/dataset/labels/train/f7940acd-Ch120250203095326.txt  \n",
            "  inflating: /content/dataset/labels/train/f7a0b5fc-Ch120241226150500.txt  \n",
            "  inflating: /content/dataset/labels/train/f7b2349d-Ch120250120105954_learning.txt  \n",
            "  inflating: /content/dataset/labels/train/f7dd5514-Ch120241226150047.txt  \n",
            "  inflating: /content/dataset/labels/train/f803ad77-Ch120250111110045.txt  \n",
            "  inflating: /content/dataset/labels/train/f8393a62-Ch120240927115801.txt  \n",
            "  inflating: /content/dataset/labels/train/f852be36-Ch120250121102858.txt  \n",
            "  inflating: /content/dataset/labels/train/f87b795d-Ch120241121101648.txt  \n",
            "  inflating: /content/dataset/labels/train/f93a044f-Ch120250126102405.txt  \n",
            "  inflating: /content/dataset/labels/train/f9744b3e-Ch120241225114452.txt  \n",
            "  inflating: /content/dataset/labels/train/f9c53eb2-Ch120250131100115.txt  \n",
            "  inflating: /content/dataset/labels/train/f9e3f7ff-Ch120240927115649.txt  \n",
            "  inflating: /content/dataset/labels/train/f9f6b42c-Ch120250203095156.txt  \n",
            "  inflating: /content/dataset/labels/train/f9fd05ca-Ch120250228103527.txt  \n",
            "  inflating: /content/dataset/labels/train/fa01d3bf-Ch120250131100109.txt  \n",
            "  inflating: /content/dataset/labels/train/fa05b63d-Ch120250128094120.txt  \n",
            "  inflating: /content/dataset/labels/train/fa25cea6-Ch120250111161917.txt  \n",
            "  inflating: /content/dataset/labels/train/fa41b6f8-Ch120250131100202.txt  \n",
            "  inflating: /content/dataset/labels/train/fa8cb8ca-Ch120241225104407.txt  \n",
            "  inflating: /content/dataset/labels/train/fab58f5f-Ch120241226102931.txt  \n",
            "  inflating: /content/dataset/labels/train/fb03aabe-Ch120250131100121.txt  \n",
            "  inflating: /content/dataset/labels/train/fb0e7339-Ch120241225113449.txt  \n",
            "  inflating: /content/dataset/labels/train/fb457829-Ch120250116143134.txt  \n",
            "  inflating: /content/dataset/labels/train/fb458430-Ch120241225104413.txt  \n",
            "  inflating: /content/dataset/labels/train/fb475ac6-Ch120250202103147.txt  \n",
            "  inflating: /content/dataset/labels/train/fb4bea59-Ch120250303095224.txt  \n",
            "  inflating: /content/dataset/labels/train/fb66d23e-Ch120250118103317_learning.txt  \n",
            "  inflating: /content/dataset/labels/train/fbf36325-Ch120241227151110.txt  \n",
            "  inflating: /content/dataset/labels/train/fc0f6c84-Ch120241121101144.txt  \n",
            "  inflating: /content/dataset/labels/train/fc15ef9f-Ch120250116143536.txt  \n",
            "  inflating: /content/dataset/labels/train/fc1b86dc-Ch120250120142643_learning.txt  \n",
            "  inflating: /content/dataset/labels/train/fc2a95be-Ch120250311104129824.txt  \n",
            "  inflating: /content/dataset/labels/train/fc2ade07-Ch120250111161410.txt  \n",
            "  inflating: /content/dataset/labels/train/fc58ab71-Ch120250130094409.txt  \n",
            "  inflating: /content/dataset/labels/train/fc9d0031-Ch120250206103325.txt  \n",
            "  inflating: /content/dataset/labels/train/fca92d53-Ch120240927165154.txt  \n",
            "  inflating: /content/dataset/labels/train/fcc78339-Ch120250202104348.txt  \n",
            "  inflating: /content/dataset/labels/train/fd045c56-Ch120250115112937.txt  \n",
            "  inflating: /content/dataset/labels/train/fd14cf1e-Ch120241226150555.txt  \n",
            "  inflating: /content/dataset/labels/train/fd27aa95-Ch120250309113335759.txt  \n",
            "  inflating: /content/dataset/labels/train/fd2cfcbe-Ch120240927165345.txt  \n",
            "  inflating: /content/dataset/labels/train/fd2f7c43-Ch120241121101628.txt  \n",
            "  inflating: /content/dataset/labels/train/fd66c6c4-Ch120250206103326.txt  \n",
            "  inflating: /content/dataset/labels/train/fd67d0eb-Ch120250111161907.txt  \n",
            "  inflating: /content/dataset/labels/train/fd764796-Ch120241121101439.txt  \n",
            "  inflating: /content/dataset/labels/train/fd861f6f-Ch120250202103731.txt  \n",
            "  inflating: /content/dataset/labels/train/fd91b187-Ch120241203103211.txt  \n",
            "  inflating: /content/dataset/labels/train/fdcecb53-Ch120241021100556.txt  \n",
            "  inflating: /content/dataset/labels/train/fdcfd588-Ch120250202102241.txt  \n",
            "  inflating: /content/dataset/labels/train/fde8992f-Ch120241121101417.txt  \n",
            "  inflating: /content/dataset/labels/train/fdf68a3c-Ch120250118095954_learning.txt  \n",
            "  inflating: /content/dataset/labels/train/fe22698d-Ch120250118103806_learning_learning.txt  \n",
            "  inflating: /content/dataset/labels/train/fe3fff1f-Ch120241227150955.txt  \n",
            "  inflating: /content/dataset/labels/train/fe4a0fbb-Ch120241226150435.txt  \n",
            "  inflating: /content/dataset/labels/train/fe768094-Ch120250202103103.txt  \n",
            "  inflating: /content/dataset/labels/train/fe9c386f-Ch120241225114537.txt  \n",
            "  inflating: /content/dataset/labels/train/fedb9bde-Ch120240927165424.txt  \n",
            "  inflating: /content/dataset/labels/train/fee47207-Ch120241226150407.txt  \n",
            "  inflating: /content/dataset/labels/train/feeefd8f-Ch120250120105716_learning.txt  \n",
            "  inflating: /content/dataset/labels/train/ff221d54-Ch120241225104336.txt  \n",
            "  inflating: /content/dataset/labels/train/ff2c7b38-Ch120250119143955_learning_learning.txt  \n",
            "  inflating: /content/dataset/labels/train/ff3972b3-Ch120250116142854.txt  \n",
            "  inflating: /content/dataset/labels/train/ff92ca45-Ch120250128094319.txt  \n",
            "  inflating: /content/dataset/labels/train/ffa4f8ba-Ch120250202103256.txt  \n",
            "  inflating: /content/dataset/labels/train/ffbfaf87-Ch120250111161347.txt  \n",
            "  inflating: /content/dataset/labels/train/ffd211dd-Ch120250228102722.txt  \n",
            "   creating: /content/dataset/labels/val/\n",
            "  inflating: /content/dataset/labels/val/0042bc44-Ch120241226145821.txt  \n",
            "  inflating: /content/dataset/labels/val/00615313-Ch120250115112744.txt  \n",
            "  inflating: /content/dataset/labels/val/00792cbf-Ch120250202103543.txt  \n",
            "  inflating: /content/dataset/labels/val/009fdf91-Ch120241227151101.txt  \n",
            "  inflating: /content/dataset/labels/val/00b20551-Ch120250130094536.txt  \n",
            "  inflating: /content/dataset/labels/val/01178b8d-Ch120241227151253.txt  \n",
            "  inflating: /content/dataset/labels/val/0126ac60-Ch120250202103012.txt  \n",
            "  inflating: /content/dataset/labels/val/014572a4-Ch120250111161415.txt  \n",
            "  inflating: /content/dataset/labels/val/01abf85d-Ch120241225112853.txt  \n",
            "  inflating: /content/dataset/labels/val/03cafc76-Ch120241227151359.txt  \n",
            "  inflating: /content/dataset/labels/val/04135600-Ch120250131100206.txt  \n",
            "  inflating: /content/dataset/labels/val/04cbd534-Ch120250311104032944.txt  \n",
            "  inflating: /content/dataset/labels/val/054099fa-Ch120250120114709_learning.txt  \n",
            "  inflating: /content/dataset/labels/val/055d46af-Ch120241226102812.txt  \n",
            "  inflating: /content/dataset/labels/val/05bcc0c4-Ch120250125120748.txt  \n",
            "  inflating: /content/dataset/labels/val/064d2212-Ch120250116142801.txt  \n",
            "  inflating: /content/dataset/labels/val/06f8f36e-Ch120241121101614.txt  \n",
            "  inflating: /content/dataset/labels/val/0705e977-Ch120241227145448.txt  \n",
            "  inflating: /content/dataset/labels/val/07fd6ec4-Ch120241021160654.txt  \n",
            "  inflating: /content/dataset/labels/val/0813de66-Ch120250120110849_learning.txt  \n",
            "  inflating: /content/dataset/labels/val/083935e5-Ch120250303100127.txt  \n",
            "  inflating: /content/dataset/labels/val/08a8a638-Ch120240927115743.txt  \n",
            "  inflating: /content/dataset/labels/val/090cadb4-Ch120250203095123.txt  \n",
            "  inflating: /content/dataset/labels/val/095d7075-Ch120250118095145_learning.txt  \n",
            "  inflating: /content/dataset/labels/val/09cd5fb5-Ch120241021101052.txt  \n",
            "  inflating: /content/dataset/labels/val/0a627f22-Ch120241225113446.txt  \n",
            "  inflating: /content/dataset/labels/val/0ace87a2-Ch120250228102539.txt  \n",
            "  inflating: /content/dataset/labels/val/0b2b88ab-Ch120241227151440.txt  \n",
            "  inflating: /content/dataset/labels/val/0b2ba556-Ch120241225114445.txt  \n",
            "  inflating: /content/dataset/labels/val/0bd75d64-Ch120250118103146_learning.txt  \n",
            "  inflating: /content/dataset/labels/val/0be6c294-Ch120250130094501.txt  \n",
            "  inflating: /content/dataset/labels/val/0cc9aec6-Ch120241203103042.txt  \n",
            "  inflating: /content/dataset/labels/val/0dc18f30-Ch120241225114255.txt  \n",
            "  inflating: /content/dataset/labels/val/0e07ac72-Ch120250111161413.txt  \n",
            "  inflating: /content/dataset/labels/val/0e47621c-Ch120241225113536.txt  \n",
            "  inflating: /content/dataset/labels/val/0e5453b6-Ch120250115104822.txt  \n",
            "  inflating: /content/dataset/labels/val/0ecfc01d-Ch120241225104335.txt  \n",
            "  inflating: /content/dataset/labels/val/0f0b5a7a-Ch120241227151252.txt  \n",
            "  inflating: /content/dataset/labels/val/0f6c20df-Ch120250203095521.txt  \n",
            "  inflating: /content/dataset/labels/val/10fbec8c-Ch120250120105815_learning.txt  \n",
            "  inflating: /content/dataset/labels/val/1148c5e4-Ch120240927165616.txt  \n",
            "  inflating: /content/dataset/labels/val/118c3986-Ch120241225104301.txt  \n",
            "  inflating: /content/dataset/labels/val/122c793e-Ch120250115113048.txt  \n",
            "  inflating: /content/dataset/labels/val/12f83bda-Ch120241225113118.txt  \n",
            "  inflating: /content/dataset/labels/val/1303faae-Ch120250115113134.txt  \n",
            "  inflating: /content/dataset/labels/val/1374a1c1-Ch120241021182338.txt  \n",
            "  inflating: /content/dataset/labels/val/137e4300-Ch120241021182613.txt  \n",
            "  inflating: /content/dataset/labels/val/13e2090d-Ch120250130094255.txt  \n",
            "  inflating: /content/dataset/labels/val/13f958c9-Ch120250120105238_learning.txt  \n",
            "  inflating: /content/dataset/labels/val/148027f9-Ch120241226103046.txt  \n",
            "  inflating: /content/dataset/labels/val/14c5295c-Ch120241203103128.txt  \n",
            "  inflating: /content/dataset/labels/val/152a2712-Ch120241227151408.txt  \n",
            "  inflating: /content/dataset/labels/val/1558b7c0-Ch120240927115934.txt  \n",
            "  inflating: /content/dataset/labels/val/15639807-Ch120241227151059.txt  \n",
            "  inflating: /content/dataset/labels/val/15bc78e6-Ch120241121101434.txt  \n",
            "  inflating: /content/dataset/labels/val/15cbe0c8-Ch120241121101235.txt  \n",
            "  inflating: /content/dataset/labels/val/15f07e58-Ch120241226102740.txt  \n",
            "  inflating: /content/dataset/labels/val/1625071a-Ch120241226102900.txt  \n",
            "  inflating: /content/dataset/labels/val/16a1dadc-Ch120250118103221_learning.txt  \n",
            "  inflating: /content/dataset/labels/val/16f3c1cf-Ch120250202102431.txt  \n",
            "  inflating: /content/dataset/labels/val/1788e9ad-Ch120250202100543.txt  \n",
            "  inflating: /content/dataset/labels/val/18248004-Ch120250302101346.txt  \n",
            "  inflating: /content/dataset/labels/val/18ce671a-Ch120241227151308.txt  \n",
            "  inflating: /content/dataset/labels/val/18f9c0a3-Ch120250202103644.txt  \n",
            "  inflating: /content/dataset/labels/val/19054847-Ch120250120104025_learning.txt  \n",
            "  inflating: /content/dataset/labels/val/19393201-Ch120250302101336.txt  \n",
            "  inflating: /content/dataset/labels/val/198142c6-Ch120250115104821.txt  \n",
            "  inflating: /content/dataset/labels/val/19ac21c3-Ch120250111161605.txt  \n",
            "  inflating: /content/dataset/labels/val/19d51251-Ch120250126103048.txt  \n",
            "  inflating: /content/dataset/labels/val/1ac4e77c-Ch120241021101040.txt  \n",
            "  inflating: /content/dataset/labels/val/1b160cb8-Ch120241226150534.txt  \n",
            "  inflating: /content/dataset/labels/val/1db96cf2-Ch120250203095633.txt  \n",
            "  inflating: /content/dataset/labels/val/1dd6f647-Ch120241225113445.txt  \n",
            "  inflating: /content/dataset/labels/val/1ea06ee6-Ch120241225112938.txt  \n",
            "  inflating: /content/dataset/labels/val/1eb3e94a-Ch120241225112941.txt  \n",
            "  inflating: /content/dataset/labels/val/1f7bbaa3-Ch120241225113453.txt  \n",
            "  inflating: /content/dataset/labels/val/1fea424c-Ch120241226151009.txt  \n",
            "  inflating: /content/dataset/labels/val/201b79cf-Ch120241227151312.txt  \n",
            "  inflating: /content/dataset/labels/val/2041e183-Ch120240927115633.txt  \n",
            "  inflating: /content/dataset/labels/val/20487ad7-Ch120250115113717.txt  \n",
            "  inflating: /content/dataset/labels/val/212dfc07-Ch120241021182350.txt  \n",
            "  inflating: /content/dataset/labels/val/21382987-Ch120241021182342.txt  \n",
            "  inflating: /content/dataset/labels/val/2413b4b6-Ch120250111161350.txt  \n",
            "  inflating: /content/dataset/labels/val/24caade4-Ch120250128094201.txt  \n",
            "  inflating: /content/dataset/labels/val/2520e612-Ch120241226102933.txt  \n",
            "  inflating: /content/dataset/labels/val/25689fa7-Ch120241227151403.txt  \n",
            "  inflating: /content/dataset/labels/val/25e9518b-Ch120241225114314.txt  \n",
            "  inflating: /content/dataset/labels/val/262311e5-Ch120240927165146.txt  \n",
            "  inflating: /content/dataset/labels/val/2686ebde-Ch120240927165115.txt  \n",
            "  inflating: /content/dataset/labels/val/26eaeaa7-Ch120241226102928.txt  \n",
            "  inflating: /content/dataset/labels/val/2870dd45-Ch120250228103731.txt  \n",
            "  inflating: /content/dataset/labels/val/28d08380-Ch120241121101251.txt  \n",
            "  inflating: /content/dataset/labels/val/2908df45-Ch120250125120803.txt  \n",
            "  inflating: /content/dataset/labels/val/29cf976a-Ch120241225112856.txt  \n",
            "  inflating: /content/dataset/labels/val/2a38dd3a-Ch120250118104205_learning_learning.txt  \n",
            "  inflating: /content/dataset/labels/val/2a7d63ab-Ch120241021100726.txt  \n",
            "  inflating: /content/dataset/labels/val/2a8905e8-Ch120250202103528.txt  \n",
            "  inflating: /content/dataset/labels/val/2b3406d7-Ch120250118105145_learning_learning.txt  \n",
            "  inflating: /content/dataset/labels/val/2c1d62c6-Ch120241227151229.txt  \n",
            "  inflating: /content/dataset/labels/val/2da48244-Ch120240927115802.txt  \n",
            "  inflating: /content/dataset/labels/val/2db04504-Ch120241227145450.txt  \n",
            "  inflating: /content/dataset/labels/val/2dd92c3f-Ch120250126104131.txt  \n",
            "  inflating: /content/dataset/labels/val/2ef66e4b-Ch120250111161003.txt  \n",
            "  inflating: /content/dataset/labels/val/2f1fed04-Ch120241225114529.txt  \n",
            "  inflating: /content/dataset/labels/val/2f3e6e09-Ch120250119143234_learning_learning.txt  \n",
            "  inflating: /content/dataset/labels/val/2ff3cc2f-Ch120240927165421.txt  \n",
            "  inflating: /content/dataset/labels/val/2ffd53b9-Ch120250228100932.txt  \n",
            "  inflating: /content/dataset/labels/val/3015209b-Ch120250116142753.txt  \n",
            "  inflating: /content/dataset/labels/val/30405ce7-Ch120241227151446.txt  \n",
            "  inflating: /content/dataset/labels/val/30fdcd13-Ch120241225114428.txt  \n",
            "  inflating: /content/dataset/labels/val/3171ed65-Ch120241226150056.txt  \n",
            "  inflating: /content/dataset/labels/val/31868916-Ch120250202103237.txt  \n",
            "  inflating: /content/dataset/labels/val/31a0379a-Ch120250119144052_learning_learning.txt  \n",
            "  inflating: /content/dataset/labels/val/31e25fe5-Ch120250115112711.txt  \n",
            "  inflating: /content/dataset/labels/val/321e5ee5-Ch120241225114513.txt  \n",
            "  inflating: /content/dataset/labels/val/33caef39-Ch120250130094248.txt  \n",
            "  inflating: /content/dataset/labels/val/33d3eeef-Ch120250202104932.txt  \n",
            "  inflating: /content/dataset/labels/val/33f0e12c-Ch120241225113515.txt  \n",
            "  inflating: /content/dataset/labels/val/346764f2-Ch120250121102859.txt  \n",
            "  inflating: /content/dataset/labels/val/348e556a-Ch120241203103230.txt  \n",
            "  inflating: /content/dataset/labels/val/3491bdf6-Ch120241225114406.txt  \n",
            "  inflating: /content/dataset/labels/val/356aaa10-Ch120250120114704_learning.txt  \n",
            "  inflating: /content/dataset/labels/val/36153285-Ch120241225104420.txt  \n",
            "  inflating: /content/dataset/labels/val/378878bc-Ch120250203095222.txt  \n",
            "  inflating: /content/dataset/labels/val/37c68001-Ch120250302103159.txt  \n",
            "  inflating: /content/dataset/labels/val/38a0ff53-Ch120250206105036.txt  \n",
            "  inflating: /content/dataset/labels/val/3a08a54f-Ch120240927115756.txt  \n",
            "  inflating: /content/dataset/labels/val/3b4bc3b9-Ch120250202102353.txt  \n",
            "  inflating: /content/dataset/labels/val/3bb46ca0-Ch120250125120700.txt  \n",
            "  inflating: /content/dataset/labels/val/3bcfeda7-Ch120250202103111.txt  \n",
            "  inflating: /content/dataset/labels/val/3be46975-Ch120250130094341.txt  \n",
            "  inflating: /content/dataset/labels/val/3c1ef433-Ch120241225112943.txt  \n",
            "  inflating: /content/dataset/labels/val/3c423cab-Ch120250115105005.txt  \n",
            "  inflating: /content/dataset/labels/val/3c5b86c9-Ch120240927165333.txt  \n",
            "  inflating: /content/dataset/labels/val/3ce7f125-Ch120241226145646.txt  \n",
            "  inflating: /content/dataset/labels/val/3d90c7ee-Ch120250228104609.txt  \n",
            "  inflating: /content/dataset/labels/val/3dfde80d-Ch120241121101354.txt  \n",
            "  inflating: /content/dataset/labels/val/3f6df2ff-Ch120250111161849.txt  \n",
            "  inflating: /content/dataset/labels/val/404587f9-Ch120241227151116.txt  \n",
            "  inflating: /content/dataset/labels/val/409dd4bc-Ch120250217100042.txt  \n",
            "  inflating: /content/dataset/labels/val/409ffff3-Ch120241021182346.txt  \n",
            "  inflating: /content/dataset/labels/val/41e507e3-Ch120250130094357.txt  \n",
            "  inflating: /content/dataset/labels/val/430baa1f-Ch120250119143734_learning_learning.txt  \n",
            "  inflating: /content/dataset/labels/val/4319b94f-Ch120250128094235.txt  \n",
            "  inflating: /content/dataset/labels/val/43873969-Ch120240927115728.txt  \n",
            "  inflating: /content/dataset/labels/val/43dcb97e-Ch120250131100039.txt  \n",
            "  inflating: /content/dataset/labels/val/43df50d0-Ch120250202095953.txt  \n",
            "  inflating: /content/dataset/labels/val/4426f8c5-Ch120241203103335.txt  \n",
            "  inflating: /content/dataset/labels/val/445ee4bd-Ch120241121101505.txt  \n",
            "  inflating: /content/dataset/labels/val/44666dea-Ch120250217104555.txt  \n",
            "  inflating: /content/dataset/labels/val/447001df-Ch120241225113050.txt  \n",
            "  inflating: /content/dataset/labels/val/45980028-Ch120241121101615.txt  \n",
            "  inflating: /content/dataset/labels/val/4760d26a-Ch120241226150630.txt  \n",
            "  inflating: /content/dataset/labels/val/48dc4562-Ch120241225114407.txt  \n",
            "  inflating: /content/dataset/labels/val/4919030e-Ch120250228101617.txt  \n",
            "  inflating: /content/dataset/labels/val/49986c39-Ch120241021160706.txt  \n",
            "  inflating: /content/dataset/labels/val/49a8f5af-Ch120241021160645.txt  \n",
            "  inflating: /content/dataset/labels/val/49bc45c0-Ch120241121101350.txt  \n",
            "  inflating: /content/dataset/labels/val/49f739a0-Ch120241227151433.txt  \n",
            "  inflating: /content/dataset/labels/val/4a58be10-Ch120250203095444.txt  \n",
            "  inflating: /content/dataset/labels/val/4abef47b-Ch120241203102911.txt  \n",
            "  inflating: /content/dataset/labels/val/4b3fbe13-Ch120241226150352.txt  \n",
            "  inflating: /content/dataset/labels/val/4ca6e8e9-Ch120250206103306.txt  \n",
            "  inflating: /content/dataset/labels/val/4cf05333-Ch120250202103503.txt  \n",
            "  inflating: /content/dataset/labels/val/4cfbb0dd-Ch120241121101642.txt  \n",
            "  inflating: /content/dataset/labels/val/4d93dbba-Ch120250118103745_learning_learning.txt  \n",
            "  inflating: /content/dataset/labels/val/4d9a99bf-Ch120241121101133.txt  \n",
            "  inflating: /content/dataset/labels/val/4e284588-Ch120250228102609.txt  \n",
            "  inflating: /content/dataset/labels/val/4e945266-Ch120241021101051.txt  \n",
            "  inflating: /content/dataset/labels/val/4ef2e36d-Ch120250129100121.txt  \n",
            "  inflating: /content/dataset/labels/val/4efd3389-Ch120250302181216.txt  \n",
            "  inflating: /content/dataset/labels/val/5097d0c4-Ch120250111161353.txt  \n",
            "  inflating: /content/dataset/labels/val/51537fb1-Ch120250129095959.txt  \n",
            "  inflating: /content/dataset/labels/val/5164ec0b-Ch120241226102800.txt  \n",
            "  inflating: /content/dataset/labels/val/5262a880-Ch120250129100212.txt  \n",
            "  inflating: /content/dataset/labels/val/5268592c-Ch120241021100648.txt  \n",
            "  inflating: /content/dataset/labels/val/53a551d6-Ch120240927115754.txt  \n",
            "  inflating: /content/dataset/labels/val/53ba0386-Ch120241226102914.txt  \n",
            "  inflating: /content/dataset/labels/val/550d275a-Ch120241227151237.txt  \n",
            "  inflating: /content/dataset/labels/val/5515392f-Ch120241225112935.txt  \n",
            "  inflating: /content/dataset/labels/val/554828cd-Ch120250118110002_learning_learning.txt  \n",
            "  inflating: /content/dataset/labels/val/555ef1b1-Ch120250116143520.txt  \n",
            "  inflating: /content/dataset/labels/val/5573e3d7-Ch120240927115507.txt  \n",
            "  inflating: /content/dataset/labels/val/55f9cf96-Ch120250202103637.txt  \n",
            "  inflating: /content/dataset/labels/val/55fae9ba-Ch120250129095935.txt  \n",
            "  inflating: /content/dataset/labels/val/560dfb99-Ch120250202102231.txt  \n",
            "  inflating: /content/dataset/labels/val/5623950a-Ch120250115145419.txt  \n",
            "  inflating: /content/dataset/labels/val/5624c1cf-Ch120241021160617.txt  \n",
            "  inflating: /content/dataset/labels/val/5640db17-Ch120241203103212.txt  \n",
            "  inflating: /content/dataset/labels/val/565ae6e9-Ch120241226102710.txt  \n",
            "  inflating: /content/dataset/labels/val/56fddf89-Ch120250119143948_learning_learning.txt  \n",
            "  inflating: /content/dataset/labels/val/57d1c928-Ch120241227151242.txt  \n",
            "  inflating: /content/dataset/labels/val/58501a12-Ch120241021182421.txt  \n",
            "  inflating: /content/dataset/labels/val/58b84f9e-Ch120240927165747.txt  \n",
            "  inflating: /content/dataset/labels/val/58f0a406-Ch120250111161504.txt  \n",
            "  inflating: /content/dataset/labels/val/59119fa2-Ch120241021160618.txt  \n",
            "  inflating: /content/dataset/labels/val/5a7f1fd5-Ch120250111161525.txt  \n",
            "  inflating: /content/dataset/labels/val/5aa1e10a-Ch120241227145453.txt  \n",
            "  inflating: /content/dataset/labels/val/5ab554d8-Ch120241226150556.txt  \n",
            "  inflating: /content/dataset/labels/val/5ac7c353-Ch120241227151008.txt  \n",
            "  inflating: /content/dataset/labels/val/5ad90774-Ch120241227145433.txt  \n",
            "  inflating: /content/dataset/labels/val/5b037249-Ch120250110112054.txt  \n",
            "  inflating: /content/dataset/labels/val/5b385a5b-Ch120250118095328_learning.txt  \n",
            "  inflating: /content/dataset/labels/val/5b3e3b4f-Ch120250130094203.txt  \n",
            "  inflating: /content/dataset/labels/val/5ba83d78-Ch120250202103014.txt  \n",
            "  inflating: /content/dataset/labels/val/5bb5da56-Ch120240927120032.txt  \n",
            "  inflating: /content/dataset/labels/val/5c0c346d-Ch120241225104341.txt  \n",
            "  inflating: /content/dataset/labels/val/5c8ed3c0-Ch120250206103635.txt  \n",
            "  inflating: /content/dataset/labels/val/5cbcf1ae-Ch120250302101627.txt  \n",
            "  inflating: /content/dataset/labels/val/5cd206fe-Ch120250311095232872.txt  \n",
            "  inflating: /content/dataset/labels/val/5ce07326-Ch120250120114706_learning.txt  \n",
            "  inflating: /content/dataset/labels/val/5d857408-Ch120250126113124.txt  \n",
            "  inflating: /content/dataset/labels/val/5d934cca-Ch120250202103038.txt  \n",
            "  inflating: /content/dataset/labels/val/5db8b0cf-Ch120241021182353.txt  \n",
            "  inflating: /content/dataset/labels/val/5dc508ad-Ch120241227151231.txt  \n",
            "  inflating: /content/dataset/labels/val/5e29b086-Ch120241227151213.txt  \n",
            "  inflating: /content/dataset/labels/val/5e4f73aa-Ch120250111161010.txt  \n",
            "  inflating: /content/dataset/labels/val/5f9d09ef-Ch120250202103054.txt  \n",
            "  inflating: /content/dataset/labels/val/60c2b890-Ch120240927165414.txt  \n",
            "  inflating: /content/dataset/labels/val/60cd0f5f-Ch120250311104546742.txt  \n",
            "  inflating: /content/dataset/labels/val/613cf64b-Ch120240927165454.txt  \n",
            "  inflating: /content/dataset/labels/val/6226e214-Ch120250120114743_learning.txt  \n",
            "  inflating: /content/dataset/labels/val/63aec24c-Ch120250302104244.txt  \n",
            "  inflating: /content/dataset/labels/val/63bbc1c8-Ch120241226145623.txt  \n",
            "  inflating: /content/dataset/labels/val/63d04a09-Ch120241225114427.txt  \n",
            "  inflating: /content/dataset/labels/val/6423b232-Ch120240927115939.txt  \n",
            "  inflating: /content/dataset/labels/val/642d642a-Ch120250202103701.txt  \n",
            "  inflating: /content/dataset/labels/val/64649eef-Ch120250203095252.txt  \n",
            "  inflating: /content/dataset/labels/val/6475bdf8-Ch120250129100148.txt  \n",
            "  inflating: /content/dataset/labels/val/65bd495c-Ch120250111161629.txt  \n",
            "  inflating: /content/dataset/labels/val/66e09ff9-Ch120250130094313.txt  \n",
            "  inflating: /content/dataset/labels/val/6727ab8d-Ch120250118104735_learning_learning.txt  \n",
            "  inflating: /content/dataset/labels/val/676d6289-Ch120250202100307.txt  \n",
            "  inflating: /content/dataset/labels/val/689fe367-Ch120241225114338.txt  \n",
            "  inflating: /content/dataset/labels/val/6998f550-Ch120250309113108592.txt  \n",
            "  inflating: /content/dataset/labels/val/69b26534-Ch120240927115501.txt  \n",
            "  inflating: /content/dataset/labels/val/69b9aa0c-Ch120241021100445.txt  \n",
            "  inflating: /content/dataset/labels/val/6a5d4aab-Ch120250202102259.txt  \n",
            "  inflating: /content/dataset/labels/val/6b04a62b-Ch120250115105412.txt  \n",
            "  inflating: /content/dataset/labels/val/6b69efb2-Ch120241226150027.txt  \n",
            "  inflating: /content/dataset/labels/val/6bf07958-Ch120250202102629.txt  \n",
            "  inflating: /content/dataset/labels/val/6c5c9387-Ch120241021160624.txt  \n",
            "  inflating: /content/dataset/labels/val/6cbe24c4-Ch120250119144113_learning_learning.txt  \n",
            "  inflating: /content/dataset/labels/val/6d9e3da0-Ch120241225112923.txt  \n",
            "  inflating: /content/dataset/labels/val/6e3cecd8-Ch120250111161422.txt  \n",
            "  inflating: /content/dataset/labels/val/6e8d2437-Ch120250202103559.txt  \n",
            "  inflating: /content/dataset/labels/val/6e9fdbf9-Ch120250128094101.txt  \n",
            "  inflating: /content/dataset/labels/val/6fd8f2a1-Ch120241225112841.txt  \n",
            "  inflating: /content/dataset/labels/val/701450e7-Ch120241227151350.txt  \n",
            "  inflating: /content/dataset/labels/val/70efa035-Ch120250202103751.txt  \n",
            "  inflating: /content/dataset/labels/val/719aa94b-Ch120241203103432.txt  \n",
            "  inflating: /content/dataset/labels/val/721261dd-Ch120250202102330.txt  \n",
            "  inflating: /content/dataset/labels/val/73067c4e-Ch120250119143426_learning_learning.txt  \n",
            "  inflating: /content/dataset/labels/val/732d50d7-Ch120241121101154.txt  \n",
            "  inflating: /content/dataset/labels/val/738f6d62-Ch120250120105952_learning.txt  \n",
            "  inflating: /content/dataset/labels/val/73be0994-Ch120241021100800.txt  \n",
            "  inflating: /content/dataset/labels/val/73d1191f-Ch120241121101556.txt  \n",
            "  inflating: /content/dataset/labels/val/742d50fc-Ch120241227151422.txt  \n",
            "  inflating: /content/dataset/labels/val/745cf860-Ch120250126102944.txt  \n",
            "  inflating: /content/dataset/labels/val/74dfbdc5-Ch120241226102833.txt  \n",
            "  inflating: /content/dataset/labels/val/74ed8b79-Ch120250130094537.txt  \n",
            "  inflating: /content/dataset/labels/val/750226ae-Ch120250206104118.txt  \n",
            "  inflating: /content/dataset/labels/val/760d39c1-Ch120250202104440.txt  \n",
            "  inflating: /content/dataset/labels/val/76713436-Ch120250130094401.txt  \n",
            "  inflating: /content/dataset/labels/val/770d77a3-Ch120250217102947.txt  \n",
            "  inflating: /content/dataset/labels/val/7749de51-Ch120250111161813.txt  \n",
            "  inflating: /content/dataset/labels/val/79beb980-Ch120241021182619.txt  \n",
            "  inflating: /content/dataset/labels/val/7a0a6f6e-Ch120250129095952.txt  \n",
            "  inflating: /content/dataset/labels/val/7ad97629-Ch120250115105541.txt  \n",
            "  inflating: /content/dataset/labels/val/7ae86371-Ch120241121101413.txt  \n",
            "  inflating: /content/dataset/labels/val/7bb12d02-Ch120250202102314.txt  \n",
            "  inflating: /content/dataset/labels/val/7c7c4863-Ch120240927115841.txt  \n",
            "  inflating: /content/dataset/labels/val/7ce27bc7-Ch120250119143848_learning_learning.txt  \n",
            "  inflating: /content/dataset/labels/val/7d0e2e54-Ch120241203103304.txt  \n",
            "  inflating: /content/dataset/labels/val/7d6f411a-Ch120250118110934_learning_learning.txt  \n",
            "  inflating: /content/dataset/labels/val/7e1ae1b3-Ch120241021160657.txt  \n",
            "  inflating: /content/dataset/labels/val/7e6bb087-Ch120250118095210_learning.txt  \n",
            "  inflating: /content/dataset/labels/val/7e92e9e7-Ch120250202103030.txt  \n",
            "  inflating: /content/dataset/labels/val/7f6bb16f-Ch120250206104051.txt  \n",
            "  inflating: /content/dataset/labels/val/7facbe78-Ch120241227151437.txt  \n",
            "  inflating: /content/dataset/labels/val/7fd65a88-Ch120241226102701.txt  \n",
            "  inflating: /content/dataset/labels/val/7fd68911-Ch120241021160620.txt  \n",
            "  inflating: /content/dataset/labels/val/7ff7a001-Ch120241227151256.txt  \n",
            "  inflating: /content/dataset/labels/val/80361a57-Ch120250111161531.txt  \n",
            "  inflating: /content/dataset/labels/val/806e7c48-Ch120250130094337.txt  \n",
            "  inflating: /content/dataset/labels/val/817b06f8-Ch120241021182617.txt  \n",
            "  inflating: /content/dataset/labels/val/8214f690-Ch120250121102208.txt  \n",
            "  inflating: /content/dataset/labels/val/82df2e3a-Ch120250116143735.txt  \n",
            "  inflating: /content/dataset/labels/val/82fee346-Ch120250126103354.txt  \n",
            "  inflating: /content/dataset/labels/val/83291453-Ch120250116142702.txt  \n",
            "  inflating: /content/dataset/labels/val/83e1c540-Ch120250115112811.txt  \n",
            "  inflating: /content/dataset/labels/val/84dedd41-Ch120241203103257.txt  \n",
            "  inflating: /content/dataset/labels/val/85248e2b-Ch120241021182411.txt  \n",
            "  inflating: /content/dataset/labels/val/85d4634f-Ch120250118104103_learning_learning.txt  \n",
            "  inflating: /content/dataset/labels/val/85f3e761-Ch120241203103225.txt  \n",
            "  inflating: /content/dataset/labels/val/8620c90e-Ch120250119143817_learning_learning.txt  \n",
            "  inflating: /content/dataset/labels/val/8628f1ff-Ch120241225113443.txt  \n",
            "  inflating: /content/dataset/labels/val/865aaf62-Ch120241021182422.txt  \n",
            "  inflating: /content/dataset/labels/val/86d73a9f-Ch120250115150025.txt  \n",
            "  inflating: /content/dataset/labels/val/86ff7138-Ch120250118104706_learning_learning.txt  \n",
            "  inflating: /content/dataset/labels/val/8762eb83-Ch120250116143827.txt  \n",
            "  inflating: /content/dataset/labels/val/87a4a46b-Ch120250120111146_learning.txt  \n",
            "  inflating: /content/dataset/labels/val/87fa3840-Ch120250115113414.txt  \n",
            "  inflating: /content/dataset/labels/val/880acec6-Ch120250115113635.txt  \n",
            "  inflating: /content/dataset/labels/val/88382b32-Ch120241021100516.txt  \n",
            "  inflating: /content/dataset/labels/val/88482de7-Ch120250116143619.txt  \n",
            "  inflating: /content/dataset/labels/val/88a81292-Ch120250206103305.txt  \n",
            "  inflating: /content/dataset/labels/val/88d92393-Ch120241227145432.txt  \n",
            "  inflating: /content/dataset/labels/val/890826ad-Ch120241225113526.txt  \n",
            "  inflating: /content/dataset/labels/val/89a7f31e-Ch120241227151425.txt  \n",
            "  inflating: /content/dataset/labels/val/8c135022-Ch120241021101024.txt  \n",
            "  inflating: /content/dataset/labels/val/8c22148c-Ch120241225104334.txt  \n",
            "  inflating: /content/dataset/labels/val/8c7762e0-Ch120241225114458.txt  \n",
            "  inflating: /content/dataset/labels/val/8cb9a082-Ch120250119143443_learning_learning.txt  \n",
            "  inflating: /content/dataset/labels/val/8d600934-Ch120250202103626.txt  \n",
            "  inflating: /content/dataset/labels/val/8e23f7e6-Ch120240927165630.txt  \n",
            "  inflating: /content/dataset/labels/val/8ecc4ef1-Ch120241227151402.txt  \n",
            "  inflating: /content/dataset/labels/val/8ee318a2-Ch120241227145438.txt  \n",
            "  inflating: /content/dataset/labels/val/8ff4fc0d-Ch120250111110507.txt  \n",
            "  inflating: /content/dataset/labels/val/90456bf3-Ch120250121155451.txt  \n",
            "  inflating: /content/dataset/labels/val/905ecffe-Ch120250116144041.txt  \n",
            "  inflating: /content/dataset/labels/val/9082a3e2-Ch120250129100038.txt  \n",
            "  inflating: /content/dataset/labels/val/9177d005-Ch120250131100104.txt  \n",
            "  inflating: /content/dataset/labels/val/919ed3cf-Ch120250111161125.txt  \n",
            "  inflating: /content/dataset/labels/val/927d6f88-Ch120250309110853465.txt  \n",
            "  inflating: /content/dataset/labels/val/92f16729-Ch120250118105114_learning_learning.txt  \n",
            "  inflating: /content/dataset/labels/val/9336d566-Ch120241225104449.txt  \n",
            "  inflating: /content/dataset/labels/val/93b18d99-Ch120241121101042.txt  \n",
            "  inflating: /content/dataset/labels/val/94337714-Ch120250111161148.txt  \n",
            "  inflating: /content/dataset/labels/val/94550c58-Ch120250126103853.txt  \n",
            "  inflating: /content/dataset/labels/val/94658844-Ch120250116142603.txt  \n",
            "  inflating: /content/dataset/labels/val/94e953ee-Ch120240927115901.txt  \n",
            "  inflating: /content/dataset/labels/val/9552e4c0-Ch120250111161506.txt  \n",
            "  inflating: /content/dataset/labels/val/95a93751-Ch120250206105303.txt  \n",
            "  inflating: /content/dataset/labels/val/96ad41a9-Ch120241021160637.txt  \n",
            "  inflating: /content/dataset/labels/val/97355b9c-Ch120250111161655.txt  \n",
            "  inflating: /content/dataset/labels/val/98078eff-Ch120241121101035.txt  \n",
            "  inflating: /content/dataset/labels/val/982c90db-Ch120240927165503.txt  \n",
            "  inflating: /content/dataset/labels/val/98b05a94-Ch120241227145505.txt  \n",
            "  inflating: /content/dataset/labels/val/98cfa9b0-Ch120241225113033.txt  \n",
            "  inflating: /content/dataset/labels/val/98d6eb7d-Ch120241021100512.txt  \n",
            "  inflating: /content/dataset/labels/val/98dbed6e-Ch120241203102905.txt  \n",
            "  inflating: /content/dataset/labels/val/9997311d-Ch120250115112647.txt  \n",
            "  inflating: /content/dataset/labels/val/99c362be-Ch120241121101358.txt  \n",
            "  inflating: /content/dataset/labels/val/9a2641fc-Ch120241227151406.txt  \n",
            "  inflating: /content/dataset/labels/val/9a2a2aab-Ch120241225114415.txt  \n",
            "  inflating: /content/dataset/labels/val/9aa11f08-Ch120241021160556.txt  \n",
            "  inflating: /content/dataset/labels/val/9af4ab16-Ch120250118103928_learning_learning.txt  \n",
            "  inflating: /content/dataset/labels/val/9bb0f1f3-Ch120250130094514.txt  \n",
            "  inflating: /content/dataset/labels/val/9d5fd818-Ch120241225104357.txt  \n",
            "  inflating: /content/dataset/labels/val/9d6606d5-Ch120250311095332236.txt  \n",
            "  inflating: /content/dataset/labels/val/9dc203c2-Ch120250202103712.txt  \n",
            "  inflating: /content/dataset/labels/val/9df74cf8-Ch120241225113030.txt  \n",
            "  inflating: /content/dataset/labels/val/9e4680b7-Ch120250111161937.txt  \n",
            "  inflating: /content/dataset/labels/val/9ee104be-Ch120240927115805.txt  \n",
            "  inflating: /content/dataset/labels/val/9fc23823-Ch120250118105128_learning_learning.txt  \n",
            "  inflating: /content/dataset/labels/val/9ff57cc5-Ch120250111161523.txt  \n",
            "  inflating: /content/dataset/labels/val/9ff700ff-Ch120241226145911.txt  \n",
            "  inflating: /content/dataset/labels/val/a0cd0d8f-Ch120241021101100.txt  \n",
            "  inflating: /content/dataset/labels/val/a0d11b5e-Ch120250118103633_learning.txt  \n",
            "  inflating: /content/dataset/labels/val/a113b187-Ch120250311095224168.txt  \n",
            "  inflating: /content/dataset/labels/val/a151126a-Ch120250202102423.txt  \n",
            "  inflating: /content/dataset/labels/val/a1f5d9c9-Ch120250116143447.txt  \n",
            "  inflating: /content/dataset/labels/val/a26cffd6-Ch120250228103847.txt  \n",
            "  inflating: /content/dataset/labels/val/a2aee4d0-Ch120250126113050.txt  \n",
            "  inflating: /content/dataset/labels/val/a2f3d091-Ch120241225113500.txt  \n",
            "  inflating: /content/dataset/labels/val/a4228b22-Ch120250119143419_learning_learning.txt  \n",
            "  inflating: /content/dataset/labels/val/a60c7c28-Ch120241225113447.txt  \n",
            "  inflating: /content/dataset/labels/val/a6d7a9e4-Ch120241021160604.txt  \n",
            "  inflating: /content/dataset/labels/val/a853548b-Ch120240927115806.txt  \n",
            "  inflating: /content/dataset/labels/val/a853daa4-Ch120250202103511.txt  \n",
            "  inflating: /content/dataset/labels/val/a8a06cb5-Ch120241226102944.txt  \n",
            "  inflating: /content/dataset/labels/val/a8c18a5d-Ch120241021182322.txt  \n",
            "  inflating: /content/dataset/labels/val/a8cbc03d-Ch120241226102954.txt  \n",
            "  inflating: /content/dataset/labels/val/a944abd7-Ch120250119143635_learning_learning.txt  \n",
            "  inflating: /content/dataset/labels/val/aa03041e-Ch120241021160610.txt  \n",
            "  inflating: /content/dataset/labels/val/aa99ad5b-Ch120241226102803.txt  \n",
            "  inflating: /content/dataset/labels/val/ab9fc00f-Ch120241021182334.txt  \n",
            "  inflating: /content/dataset/labels/val/abec931b-Ch120250113104507.txt  \n",
            "  inflating: /content/dataset/labels/val/ac4eb8fc-Ch120241021100749.txt  \n",
            "  inflating: /content/dataset/labels/val/ad172144-Ch120250121160702.txt  \n",
            "  inflating: /content/dataset/labels/val/ada8ac05-Ch120241021160627.txt  \n",
            "  inflating: /content/dataset/labels/val/adba6f46-Ch120250115113621.txt  \n",
            "  inflating: /content/dataset/labels/val/adde3e05-Ch120241226102744.txt  \n",
            "  inflating: /content/dataset/labels/val/ae183db9-Ch120250202103719.txt  \n",
            "  inflating: /content/dataset/labels/val/ae69c1fb-Ch120250202102935.txt  \n",
            "  inflating: /content/dataset/labels/val/aec56123-Ch120241226150657.txt  \n",
            "  inflating: /content/dataset/labels/val/aecff459-Ch120250119143106_learning.txt  \n",
            "  inflating: /content/dataset/labels/val/afb30a56-Ch120250119143250_learning_learning.txt  \n",
            "  inflating: /content/dataset/labels/val/b06c0dc4-Ch120241225112919.txt  \n",
            "  inflating: /content/dataset/labels/val/b091e6a6-Ch120250119142947_learning.txt  \n",
            "  inflating: /content/dataset/labels/val/b0ae84ce-Ch120250111161753.txt  \n",
            "  inflating: /content/dataset/labels/val/b0d8ecc8-Ch120250302104154.txt  \n",
            "  inflating: /content/dataset/labels/val/b135eb28-Ch120250125121258.txt  \n",
            "  inflating: /content/dataset/labels/val/b16adfd3-Ch120241225113011.txt  \n",
            "  inflating: /content/dataset/labels/val/b1bacc83-Ch120250228101101.txt  \n",
            "  inflating: /content/dataset/labels/val/b29e7fcb-Ch120241203102942.txt  \n",
            "  inflating: /content/dataset/labels/val/b2ab29e0-Ch120250129095908.txt  \n",
            "  inflating: /content/dataset/labels/val/b2dcd5f1-Ch120241225114340.txt  \n",
            "  inflating: /content/dataset/labels/val/b34d4f84-Ch120240927120022.txt  \n",
            "  inflating: /content/dataset/labels/val/b4191d5e-Ch120241225114408.txt  \n",
            "  inflating: /content/dataset/labels/val/b45d1b1d-Ch120241021100522.txt  \n",
            "  inflating: /content/dataset/labels/val/b46fa295-Ch120241225113408.txt  \n",
            "  inflating: /content/dataset/labels/val/b48fd075-Ch120250118104504_learning_learning.txt  \n",
            "  inflating: /content/dataset/labels/val/b5be6d9e-Ch120241226145918.txt  \n",
            "  inflating: /content/dataset/labels/val/b5c74364-Ch120241226103150.txt  \n",
            "  inflating: /content/dataset/labels/val/b7608094-Ch120241226150012.txt  \n",
            "  inflating: /content/dataset/labels/val/b80e2ab5-Ch120241227145509.txt  \n",
            "  inflating: /content/dataset/labels/val/b81ddff3-Ch120250206103713.txt  \n",
            "  inflating: /content/dataset/labels/val/b8a4a22c-Ch120250120114035_learning.txt  \n",
            "  inflating: /content/dataset/labels/val/baba1d93-Ch120241226103034.txt  \n",
            "  inflating: /content/dataset/labels/val/baf22ff4-Ch120250116142613.txt  \n",
            "  inflating: /content/dataset/labels/val/bb9fc46a-Ch120250202103022.txt  \n",
            "  inflating: /content/dataset/labels/val/bbf93084-Ch120250311104109884.txt  \n",
            "  inflating: /content/dataset/labels/val/bd45c588-Ch120241121101212.txt  \n",
            "  inflating: /content/dataset/labels/val/bd6d7ed3-Ch120241225114425.txt  \n",
            "  inflating: /content/dataset/labels/val/bd7b4501-Ch120241021100712.txt  \n",
            "  inflating: /content/dataset/labels/val/bdd14c63-Ch120250116142849.txt  \n",
            "  inflating: /content/dataset/labels/val/be1bf35a-Ch120241203103201.txt  \n",
            "  inflating: /content/dataset/labels/val/be77f75b-Ch120241021182408.txt  \n",
            "  inflating: /content/dataset/labels/val/bf422a3e-Ch120240927115637.txt  \n",
            "  inflating: /content/dataset/labels/val/c093a0f6-Ch120241226150724.txt  \n",
            "  inflating: /content/dataset/labels/val/c1a608b2-Ch120250302105919.txt  \n",
            "  inflating: /content/dataset/labels/val/c20f9285-Ch120241121101455.txt  \n",
            "  inflating: /content/dataset/labels/val/c383eb94-Ch120250115113257.txt  \n",
            "  inflating: /content/dataset/labels/val/c42df4ea-Ch120250203095340.txt  \n",
            "  inflating: /content/dataset/labels/val/c44e26f1-Ch120241203103043.txt  \n",
            "  inflating: /content/dataset/labels/val/c48f9171-Ch120250129095918.txt  \n",
            "  inflating: /content/dataset/labels/val/c4fb93c7-Ch120241203103258.txt  \n",
            "  inflating: /content/dataset/labels/val/c5644f21-Ch120250115105143.txt  \n",
            "  inflating: /content/dataset/labels/val/c612644f-Ch120250116143548.txt  \n",
            "  inflating: /content/dataset/labels/val/c6a3204f-Ch120250130094318.txt  \n",
            "  inflating: /content/dataset/labels/val/c770c504-Ch120250111161742.txt  \n",
            "  inflating: /content/dataset/labels/val/c78f097e-Ch120250302103901.txt  \n",
            "  inflating: /content/dataset/labels/val/c95e6d1c-Ch120250110111816.txt  \n",
            "  inflating: /content/dataset/labels/val/c9716a25-Ch120250115105144.txt  \n",
            "  inflating: /content/dataset/labels/val/c9e16a34-Ch120241227151354.txt  \n",
            "  inflating: /content/dataset/labels/val/ca2fa9a4-Ch120250126101935.txt  \n",
            "  inflating: /content/dataset/labels/val/ca520f5d-Ch120250111161320.txt  \n",
            "  inflating: /content/dataset/labels/val/cae83ed2-Ch120250115113400.txt  \n",
            "  inflating: /content/dataset/labels/val/cb2590a7-Ch120250202102958.txt  \n",
            "  inflating: /content/dataset/labels/val/cb512bcf-Ch120250228101333.txt  \n",
            "  inflating: /content/dataset/labels/val/cb8016b9-Ch120241223131004.txt  \n",
            "  inflating: /content/dataset/labels/val/cb9aa4a3-Ch120241225113103.txt  \n",
            "  inflating: /content/dataset/labels/val/cbaa3833-Ch120250311095223247.txt  \n",
            "  inflating: /content/dataset/labels/val/cc433b03-Ch120250111161916.txt  \n",
            "  inflating: /content/dataset/labels/val/cc5a8f62-Ch120250202103550.txt  \n",
            "  inflating: /content/dataset/labels/val/cc78fb32-Ch120241203103003.txt  \n",
            "  inflating: /content/dataset/labels/val/ccb6b8ad-Ch120250119143729_learning_learning.txt  \n",
            "  inflating: /content/dataset/labels/val/ccbd6a8f-Ch120241225113501.txt  \n",
            "  inflating: /content/dataset/labels/val/ccc6ec5b-Ch120241225112842.txt  \n",
            "  inflating: /content/dataset/labels/val/cccdd989-Ch120241227145504.txt  \n",
            "  inflating: /content/dataset/labels/val/cd471096-Ch120241021182404.txt  \n",
            "  inflating: /content/dataset/labels/val/cdf5273e-Ch120250302105615.txt  \n",
            "  inflating: /content/dataset/labels/val/ce70555e-Ch120241225113014.txt  \n",
            "  inflating: /content/dataset/labels/val/cefe3225-Ch120241021100911.txt  \n",
            "  inflating: /content/dataset/labels/val/cfa330df-Ch120241227145415.txt  \n",
            "  inflating: /content/dataset/labels/val/d004f659-Ch120250121155128.txt  \n",
            "  inflating: /content/dataset/labels/val/d01a1e4e-Ch120250228101327.txt  \n",
            "  inflating: /content/dataset/labels/val/d0ca1c73-Ch120241226102700.txt  \n",
            "  inflating: /content/dataset/labels/val/d12d0c67-Ch120250120144904_learning.txt  \n",
            "  inflating: /content/dataset/labels/val/d1506661-Ch120240927115736.txt  \n",
            "  inflating: /content/dataset/labels/val/d1f72efc-Ch120241225113508.txt  \n",
            "  inflating: /content/dataset/labels/val/d2bd5143-Ch120241227151019.txt  \n",
            "  inflating: /content/dataset/labels/val/d3504547-Ch120241225113006.txt  \n",
            "  inflating: /content/dataset/labels/val/d3b5f7f9-Ch120241121101634.txt  \n",
            "  inflating: /content/dataset/labels/val/d4020b33-Ch120250118103748_learning_learning.txt  \n",
            "  inflating: /content/dataset/labels/val/d684b768-Ch120240927115953.txt  \n",
            "  inflating: /content/dataset/labels/val/d816ed6f-Ch120250202103118.txt  \n",
            "  inflating: /content/dataset/labels/val/d8e427b2-Ch120241226150135.txt  \n",
            "  inflating: /content/dataset/labels/val/d8fca377-Ch120241225104421.txt  \n",
            "  inflating: /content/dataset/labels/val/d910f361-Ch120241226150011.txt  \n",
            "  inflating: /content/dataset/labels/val/d9615d1b-Ch120250120143301_learning.txt  \n",
            "  inflating: /content/dataset/labels/val/d96f047e-Ch120241203103032.txt  \n",
            "  inflating: /content/dataset/labels/val/d986e9a2-Ch120241227150956.txt  \n",
            "  inflating: /content/dataset/labels/val/d9d5e4eb-Ch120241225114301.txt  \n",
            "  inflating: /content/dataset/labels/val/db534e18-Ch120240927115706.txt  \n",
            "  inflating: /content/dataset/labels/val/dbf85466-Ch120241226102738.txt  \n",
            "  inflating: /content/dataset/labels/val/dc064f11-Ch120241225114538.txt  \n",
            "  inflating: /content/dataset/labels/val/dc170a8b-Ch120241021100643.txt  \n",
            "  inflating: /content/dataset/labels/val/dc33c2cb-Ch120241021182616.txt  \n",
            "  inflating: /content/dataset/labels/val/dd407694-Ch120250120144053_learning.txt  \n",
            "  inflating: /content/dataset/labels/val/dd631583-Ch120241225114501.txt  \n",
            "  inflating: /content/dataset/labels/val/dd78e7ab-Ch120250111161133.txt  \n",
            "  inflating: /content/dataset/labels/val/dd7ac40c-Ch120241225112954.txt  \n",
            "  inflating: /content/dataset/labels/val/ddc2a547-Ch120250120103905_learning.txt  \n",
            "  inflating: /content/dataset/labels/val/e00d6d7b-Ch120241226102720.txt  \n",
            "  inflating: /content/dataset/labels/val/e062c7ff-Ch120241225104208.txt  \n",
            "  inflating: /content/dataset/labels/val/e1521eab-Ch120241225113434.txt  \n",
            "  inflating: /content/dataset/labels/val/e17115a4-Ch120241225104352.txt  \n",
            "  inflating: /content/dataset/labels/val/e21ed4c4-Ch120250228100846.txt  \n",
            "  inflating: /content/dataset/labels/val/e25fa5d6-Ch120241225114520.txt  \n",
            "  inflating: /content/dataset/labels/val/e2758cce-Ch120241227151246.txt  \n",
            "  inflating: /content/dataset/labels/val/e2bbfa3f-Ch120241225113134.txt  \n",
            "  inflating: /content/dataset/labels/val/e2c4493b-Ch120241021160622.txt  \n",
            "  inflating: /content/dataset/labels/val/e369c289-Ch120250228102641.txt  \n",
            "  inflating: /content/dataset/labels/val/e4db3fb5-Ch120250111161557.txt  \n",
            "  inflating: /content/dataset/labels/val/e5205758-Ch120250228100519.txt  \n",
            "  inflating: /content/dataset/labels/val/e5c9ae7a-Ch120250217102739.txt  \n",
            "  inflating: /content/dataset/labels/val/e5e8511c-Ch120240927115811.txt  \n",
            "  inflating: /content/dataset/labels/val/e67ca082-Ch120250309113235206.txt  \n",
            "  inflating: /content/dataset/labels/val/e6fcd86d-Ch120241227151047.txt  \n",
            "  inflating: /content/dataset/labels/val/e807bbee-Ch120241225114328.txt  \n",
            "  inflating: /content/dataset/labels/val/e80e17f3-Ch120250130094121.txt  \n",
            "  inflating: /content/dataset/labels/val/e8905af3-Ch120241227151009.txt  \n",
            "  inflating: /content/dataset/labels/val/e8ff4ce3-Ch120250111161011.txt  \n",
            "  inflating: /content/dataset/labels/val/ea0fe322-Ch120241227151304.txt  \n",
            "  inflating: /content/dataset/labels/val/ea942042-Ch120250202103357.txt  \n",
            "  inflating: /content/dataset/labels/val/eb3b0aa2-Ch120240927115656.txt  \n",
            "  inflating: /content/dataset/labels/val/eb455b5b-Ch120240927165335.txt  \n",
            "  inflating: /content/dataset/labels/val/ebd46b0e-Ch120240927115644.txt  \n",
            "  inflating: /content/dataset/labels/val/ebe6200c-Ch120250130094336.txt  \n",
            "  inflating: /content/dataset/labels/val/ec2db1fd-Ch120250110111959.txt  \n",
            "  inflating: /content/dataset/labels/val/ec4c1d54-Ch120241121101200.txt  \n",
            "  inflating: /content/dataset/labels/val/ec8fbcce-Ch120241021160649.txt  \n",
            "  inflating: /content/dataset/labels/val/ecd67f90-Ch120241227151349.txt  \n",
            "  inflating: /content/dataset/labels/val/ed3ff2d6-Ch120241225104448.txt  \n",
            "  inflating: /content/dataset/labels/val/ed481367-Ch120241021160630.txt  \n",
            "  inflating: /content/dataset/labels/val/ee316198-Ch120241227151351.txt  \n",
            "  inflating: /content/dataset/labels/val/ee32c4f3-Ch120241021100950.txt  \n",
            "  inflating: /content/dataset/labels/val/ee493b24-Ch120250111161606.txt  \n",
            "  inflating: /content/dataset/labels/val/ef71ee89-Ch120250111110722.txt  \n",
            "  inflating: /content/dataset/labels/val/efb2f60d-Ch120250311104832404.txt  \n",
            "  inflating: /content/dataset/labels/val/f01af1f2-Ch120241225114418.txt  \n",
            "  inflating: /content/dataset/labels/val/f09b792d-Ch120250111161912.txt  \n",
            "  inflating: /content/dataset/labels/val/f0b4d255-Ch120250217095955.txt  \n",
            "  inflating: /content/dataset/labels/val/f0bd3439-Ch120250202104757.txt  \n",
            "  inflating: /content/dataset/labels/val/f0cf441c-Ch120240927115508.txt  \n",
            "  inflating: /content/dataset/labels/val/f10ea640-Ch120250120143839_learning.txt  \n",
            "  inflating: /content/dataset/labels/val/f1fe08f3-Ch120241121101308.txt  \n",
            "  inflating: /content/dataset/labels/val/f2351e2b-Ch120250311104327391.txt  \n",
            "  inflating: /content/dataset/labels/val/f33cb11d-Ch120250125120553.txt  \n",
            "  inflating: /content/dataset/labels/val/f3417a16-Ch120250120115117_learning.txt  \n",
            "  inflating: /content/dataset/labels/val/f341ad3c-Ch120250129095857.txt  \n",
            "  inflating: /content/dataset/labels/val/f39f88b3-Ch120250202100108.txt  \n",
            "  inflating: /content/dataset/labels/val/f3d8f034-Ch120241021100517.txt  \n",
            "  inflating: /content/dataset/labels/val/f40b1695-Ch120241227151257.txt  \n",
            "  inflating: /content/dataset/labels/val/f43b8617-Ch120241226102721.txt  \n",
            "  inflating: /content/dataset/labels/val/f4f00625-Ch120241226102747.txt  \n",
            "  inflating: /content/dataset/labels/val/f50c4776-Ch120250116143744.txt  \n",
            "  inflating: /content/dataset/labels/val/f61f74f0-Ch120250302102349.txt  \n",
            "  inflating: /content/dataset/labels/val/f6c0be9d-Ch120250111161317.txt  \n",
            "  inflating: /content/dataset/labels/val/f6eb0583-Ch120250118103222_learning.txt  \n",
            "  inflating: /content/dataset/labels/val/f717528a-Ch120250120114040_learning.txt  \n",
            "  inflating: /content/dataset/labels/val/f77783f5-Ch120250119143548_learning_learning.txt  \n",
            "  inflating: /content/dataset/labels/val/f792100f-Ch120250130094127.txt  \n",
            "  inflating: /content/dataset/labels/val/f98884ab-Ch120250115113404.txt  \n",
            "  inflating: /content/dataset/labels/val/fa3866c5-Ch120250131100127.txt  \n",
            "  inflating: /content/dataset/labels/val/faf0f640-Ch120250202100546.txt  \n",
            "  inflating: /content/dataset/labels/val/fb05096c-Ch120250302103252.txt  \n",
            "  inflating: /content/dataset/labels/val/fb8d4b43-Ch120240927165155.txt  \n",
            "  inflating: /content/dataset/labels/val/fbae8cb3-Ch120250206103057.txt  \n",
            "  inflating: /content/dataset/labels/val/fce80754-Ch120240927165635.txt  \n",
            "  inflating: /content/dataset/labels/val/fd015ad8-Ch120241226102929.txt  \n",
            "  inflating: /content/dataset/labels/val/fd9127fd-Ch120241227151355.txt  \n",
            "  inflating: /content/dataset/labels/val/fddc703c-Ch120240927115509.txt  \n",
            "  inflating: /content/dataset/labels/val/fe44b3e4-Ch120240927165356.txt  \n",
            "  inflating: /content/dataset/labels/val/fe94d105-Ch120241225113438.txt  \n",
            "  inflating: /content/dataset/labels/val/feb51bf9-Ch120241121101440.txt  \n",
            "  inflating: /content/dataset/labels/val/feeb6e1d-Ch120250118095445_learning.txt  \n",
            "  inflating: /content/dataset/labels/val/ff596a4c-Ch120250120105943_learning.txt  \n",
            "  inflating: /content/dataset/labels/val/ff6d0578-Ch120241021100642.txt  \n",
            "  inflating: /content/dataset/labels/val/ffe1337e-Ch120241225112840.txt  \n"
          ]
        }
      ]
    },
    {
      "cell_type": "code",
      "source": [
        "model_path = \"/content/drive/MyDrive/yolov8s.pt\"\n",
        "# YAMLファイルのパス\n",
        "data_yaml = \"/content/dataset/data.yaml\""
      ],
      "metadata": {
        "id": "GbNXDl6W6-Y8"
      },
      "execution_count": 5,
      "outputs": []
    },
    {
      "cell_type": "code",
      "source": [
        "import yaml\n",
        "\n",
        "\n",
        "# YAMLファイルを読み込む\n",
        "with open(data_yaml, \"r\") as file:\n",
        "    data = yaml.safe_load(file)\n",
        "\n",
        "# 変更したいパス\n",
        "data[\"test\"] = \"./images/test\"\n",
        "data[\"train\"] = \"./images/train\"\n",
        "data[\"val\"] = \"./images/val\"\n",
        "\n",
        "# YAMLファイルを書き戻す\n",
        "with open(data_yaml, \"w\") as file:\n",
        "    yaml.safe_dump(data, file, default_flow_style=False)\n",
        "\n",
        "print(\"data.yaml のパスを更新しました。\")"
      ],
      "metadata": {
        "id": "KGcHAX_4i6Z8",
        "colab": {
          "base_uri": "https://localhost:8080/"
        },
        "outputId": "da6b07b0-2d46-4e39-cc96-685e29ff2986"
      },
      "execution_count": 6,
      "outputs": [
        {
          "output_type": "stream",
          "name": "stdout",
          "text": [
            "data.yaml のパスを更新しました。\n"
          ]
        }
      ]
    },
    {
      "cell_type": "code",
      "source": [
        "import os\n",
        "from ultralytics import YOLO\n",
        "import numpy as np\n",
        "\n",
        "\n",
        "def train_yolov8(model_path, data_yaml, epochs, batch_size, img_size, output_dir, iou_threshold, mosaic, mixup):\n",
        "    \"\"\"\n",
        "    Train YOLOv8 model with enhanced settings for small overlapping object detection.\n",
        "    \"\"\"\n",
        "    print(f\"Loading model from {model_path}\")\n",
        "    model = YOLO(model_path)\n",
        "\n",
        "    # Train the model with optimized settings\n",
        "    print(f\"Training YOLOv8 with {epochs} epochs...\")\n",
        "    model.train(\n",
        "        data=data_yaml,\n",
        "        epochs=epochs,\n",
        "        batch=batch_size,\n",
        "        imgsz=img_size,\n",
        "        project=output_dir,\n",
        "        name=\"yolov8_training\",\n",
        "        iou=iou_threshold,  # Adjust IoU threshold for better object separation\n",
        "        mosaic=mosaic,  # Enhance data augmentation with mosaic images\n",
        "        mixup=mixup,  # Mixup augmentation for diverse training\n",
        "        degrees=180,  # Rotation augmentation\n",
        "    )\n",
        "\n",
        "    print(f\"Training complete. Results saved to {output_dir}\")\n",
        "\n",
        "# Colab 用にパラメータを手動で指定\n",
        "model_path = \"/content/drive/MyDrive/yolov8s.pt\"  # モデルのパス (Google Drive に保存している場合は適宜変更)\n",
        "#data_yaml = \"/content/drive/MyDrive/MaiNDLab/dataset/data.yaml\"  # データセットの YAML ファイル\n",
        "epochs = 200  # エポック数\n",
        "batch_size = 64  # バッチサイズ\n",
        "img_size = 1280  # 画像サイズ\n",
        "iou_threshold = 0.3  # IoU 閾値\n",
        "mosaic = 1.0  # モザイクの確率\n",
        "mixup = 0.2  # Mixup の確率\n",
        "output_dir = \"runs_experiment\"  # 出力ディレクトリ\n",
        "\n",
        "# 出力ディレクトリを作成\n",
        "os.makedirs(output_dir, exist_ok=True)\n",
        "\n",
        "# YOLOv8 の学習実行\n",
        "train_yolov8(\n",
        "    model_path=model_path,\n",
        "    data_yaml=data_yaml,\n",
        "    epochs=epochs,\n",
        "    batch_size=batch_size,\n",
        "    img_size=img_size,\n",
        "    output_dir=output_dir,\n",
        "    iou_threshold=iou_threshold,\n",
        "    mosaic=mosaic,\n",
        "    mixup=mixup\n",
        ")\n"
      ],
      "metadata": {
        "id": "U-uMHhBsLWBz",
        "colab": {
          "base_uri": "https://localhost:8080/"
        },
        "outputId": "a4e663a3-fb0e-4168-914d-8fd8a50066bf"
      },
      "execution_count": 7,
      "outputs": [
        {
          "output_type": "stream",
          "name": "stdout",
          "text": [
            "Creating new Ultralytics Settings v0.0.6 file ✅ \n",
            "View Ultralytics Settings with 'yolo settings' or at '/root/.config/Ultralytics/settings.json'\n",
            "Update Settings with 'yolo settings key=value', i.e. 'yolo settings runs_dir=path/to/dir'. For help see https://docs.ultralytics.com/quickstart/#ultralytics-settings.\n",
            "Loading model from /content/drive/MyDrive/yolov8s.pt\n",
            "Training YOLOv8 with 200 epochs...\n",
            "Ultralytics 8.3.88 🚀 Python-3.11.11 torch-2.6.0+cu124 CUDA:0 (NVIDIA A100-SXM4-40GB, 40507MiB)\n",
            "\u001b[34m\u001b[1mengine/trainer: \u001b[0mtask=detect, mode=train, model=/content/drive/MyDrive/yolov8s.pt, data=/content/dataset/data.yaml, epochs=200, time=None, patience=100, batch=64, imgsz=960, save=True, save_period=-1, cache=False, device=None, workers=8, project=runs_experiment, name=yolov8_training, exist_ok=False, pretrained=True, optimizer=auto, verbose=True, seed=0, deterministic=True, single_cls=False, rect=False, cos_lr=False, close_mosaic=10, resume=False, amp=True, fraction=1.0, profile=False, freeze=None, multi_scale=False, overlap_mask=True, mask_ratio=4, dropout=0.0, val=True, split=val, save_json=False, save_hybrid=False, conf=None, iou=0.3, max_det=300, half=False, dnn=False, plots=True, source=None, vid_stride=1, stream_buffer=False, visualize=False, augment=False, agnostic_nms=False, classes=None, retina_masks=False, embed=None, show=False, save_frames=False, save_txt=False, save_conf=False, save_crop=False, show_labels=True, show_conf=True, show_boxes=True, line_width=None, format=torchscript, keras=False, optimize=False, int8=False, dynamic=False, simplify=True, opset=None, workspace=None, nms=False, lr0=0.01, lrf=0.01, momentum=0.937, weight_decay=0.0005, warmup_epochs=3.0, warmup_momentum=0.8, warmup_bias_lr=0.1, box=7.5, cls=0.5, dfl=1.5, pose=12.0, kobj=1.0, nbs=64, hsv_h=0.015, hsv_s=0.7, hsv_v=0.4, degrees=180, translate=0.1, scale=0.5, shear=0.0, perspective=0.0, flipud=0.0, fliplr=0.5, bgr=0.0, mosaic=1.0, mixup=0.2, copy_paste=0.0, copy_paste_mode=flip, auto_augment=randaugment, erasing=0.4, crop_fraction=1.0, cfg=None, tracker=botsort.yaml, save_dir=runs_experiment/yolov8_training\n",
            "Downloading https://ultralytics.com/assets/Arial.ttf to '/root/.config/Ultralytics/Arial.ttf'...\n"
          ]
        },
        {
          "output_type": "stream",
          "name": "stderr",
          "text": [
            "100%|██████████| 755k/755k [00:00<00:00, 14.8MB/s]\n"
          ]
        },
        {
          "output_type": "stream",
          "name": "stdout",
          "text": [
            "Overriding model.yaml nc=80 with nc=11\n",
            "\n",
            "                   from  n    params  module                                       arguments                     \n",
            "  0                  -1  1       928  ultralytics.nn.modules.conv.Conv             [3, 32, 3, 2]                 \n",
            "  1                  -1  1     18560  ultralytics.nn.modules.conv.Conv             [32, 64, 3, 2]                \n",
            "  2                  -1  1     29056  ultralytics.nn.modules.block.C2f             [64, 64, 1, True]             \n",
            "  3                  -1  1     73984  ultralytics.nn.modules.conv.Conv             [64, 128, 3, 2]               \n",
            "  4                  -1  2    197632  ultralytics.nn.modules.block.C2f             [128, 128, 2, True]           \n",
            "  5                  -1  1    295424  ultralytics.nn.modules.conv.Conv             [128, 256, 3, 2]              \n",
            "  6                  -1  2    788480  ultralytics.nn.modules.block.C2f             [256, 256, 2, True]           \n",
            "  7                  -1  1   1180672  ultralytics.nn.modules.conv.Conv             [256, 512, 3, 2]              \n",
            "  8                  -1  1   1838080  ultralytics.nn.modules.block.C2f             [512, 512, 1, True]           \n",
            "  9                  -1  1    656896  ultralytics.nn.modules.block.SPPF            [512, 512, 5]                 \n",
            " 10                  -1  1         0  torch.nn.modules.upsampling.Upsample         [None, 2, 'nearest']          \n",
            " 11             [-1, 6]  1         0  ultralytics.nn.modules.conv.Concat           [1]                           \n",
            " 12                  -1  1    591360  ultralytics.nn.modules.block.C2f             [768, 256, 1]                 \n",
            " 13                  -1  1         0  torch.nn.modules.upsampling.Upsample         [None, 2, 'nearest']          \n",
            " 14             [-1, 4]  1         0  ultralytics.nn.modules.conv.Concat           [1]                           \n",
            " 15                  -1  1    148224  ultralytics.nn.modules.block.C2f             [384, 128, 1]                 \n",
            " 16                  -1  1    147712  ultralytics.nn.modules.conv.Conv             [128, 128, 3, 2]              \n",
            " 17            [-1, 12]  1         0  ultralytics.nn.modules.conv.Concat           [1]                           \n",
            " 18                  -1  1    493056  ultralytics.nn.modules.block.C2f             [384, 256, 1]                 \n",
            " 19                  -1  1    590336  ultralytics.nn.modules.conv.Conv             [256, 256, 3, 2]              \n",
            " 20             [-1, 9]  1         0  ultralytics.nn.modules.conv.Concat           [1]                           \n",
            " 21                  -1  1   1969152  ultralytics.nn.modules.block.C2f             [768, 512, 1]                 \n",
            " 22        [15, 18, 21]  1   2120305  ultralytics.nn.modules.head.Detect           [11, [128, 256, 512]]         \n",
            "Model summary: 129 layers, 11,139,857 parameters, 11,139,841 gradients, 28.7 GFLOPs\n",
            "\n",
            "Transferred 349/355 items from pretrained weights\n",
            "\u001b[34m\u001b[1mTensorBoard: \u001b[0mStart with 'tensorboard --logdir runs_experiment/yolov8_training', view at http://localhost:6006/\n",
            "Freezing layer 'model.22.dfl.conv.weight'\n",
            "\u001b[34m\u001b[1mAMP: \u001b[0mrunning Automatic Mixed Precision (AMP) checks...\n",
            "Downloading https://github.com/ultralytics/assets/releases/download/v8.3.0/yolo11n.pt to 'yolo11n.pt'...\n"
          ]
        },
        {
          "output_type": "stream",
          "name": "stderr",
          "text": [
            "100%|██████████| 5.35M/5.35M [00:00<00:00, 65.2MB/s]\n"
          ]
        },
        {
          "output_type": "stream",
          "name": "stdout",
          "text": [
            "\u001b[34m\u001b[1mAMP: \u001b[0mchecks passed ✅\n"
          ]
        },
        {
          "output_type": "stream",
          "name": "stderr",
          "text": [
            "\u001b[34m\u001b[1mtrain: \u001b[0mScanning /content/dataset/labels/train... 1971 images, 1 backgrounds, 0 corrupt: 100%|██████████| 1971/1971 [00:19<00:00, 100.80it/s]"
          ]
        },
        {
          "output_type": "stream",
          "name": "stdout",
          "text": [
            "\u001b[34m\u001b[1mtrain: \u001b[0mWARNING ⚠️ /content/dataset/images/train/ba79da94-Ch120241225104204.png: 1 duplicate labels removed\n",
            "\u001b[34m\u001b[1mtrain: \u001b[0mWARNING ⚠️ /content/dataset/images/train/fc0f6c84-Ch120241121101144.png: 1 duplicate labels removed\n",
            "\u001b[34m\u001b[1mtrain: \u001b[0mNew cache created: /content/dataset/labels/train.cache\n"
          ]
        },
        {
          "output_type": "stream",
          "name": "stderr",
          "text": [
            "\n"
          ]
        },
        {
          "output_type": "stream",
          "name": "stdout",
          "text": [
            "\u001b[34m\u001b[1malbumentations: \u001b[0mBlur(p=0.01, blur_limit=(3, 7)), MedianBlur(p=0.01, blur_limit=(3, 7)), ToGray(p=0.01, num_output_channels=3, method='weighted_average'), CLAHE(p=0.01, clip_limit=(1.0, 4.0), tile_grid_size=(8, 8))\n"
          ]
        },
        {
          "output_type": "stream",
          "name": "stderr",
          "text": [
            "\u001b[34m\u001b[1mval: \u001b[0mScanning /content/dataset/labels/val... 563 images, 2 backgrounds, 0 corrupt: 100%|██████████| 563/563 [00:05<00:00, 96.88it/s] "
          ]
        },
        {
          "output_type": "stream",
          "name": "stdout",
          "text": [
            "\u001b[34m\u001b[1mval: \u001b[0mNew cache created: /content/dataset/labels/val.cache\n"
          ]
        },
        {
          "output_type": "stream",
          "name": "stderr",
          "text": [
            "\n"
          ]
        },
        {
          "output_type": "stream",
          "name": "stdout",
          "text": [
            "Plotting labels to runs_experiment/yolov8_training/labels.jpg... \n",
            "\u001b[34m\u001b[1moptimizer:\u001b[0m 'optimizer=auto' found, ignoring 'lr0=0.01' and 'momentum=0.937' and determining best 'optimizer', 'lr0' and 'momentum' automatically... \n",
            "\u001b[34m\u001b[1moptimizer:\u001b[0m AdamW(lr=0.000667, momentum=0.9) with parameter groups 57 weight(decay=0.0), 64 weight(decay=0.0005), 63 bias(decay=0.0)\n",
            "\u001b[34m\u001b[1mTensorBoard: \u001b[0mmodel graph visualization added ✅\n",
            "Image sizes 960 train, 960 val\n",
            "Using 8 dataloader workers\n",
            "Logging results to \u001b[1mruns_experiment/yolov8_training\u001b[0m\n",
            "Starting training for 200 epochs...\n",
            "\n",
            "      Epoch    GPU_mem   box_loss   cls_loss   dfl_loss  Instances       Size\n"
          ]
        },
        {
          "output_type": "stream",
          "name": "stderr",
          "text": [
            "      1/200      35.3G       2.15      3.408      1.974       2707        960: 100%|██████████| 31/31 [00:20<00:00,  1.50it/s]\n",
            "                 Class     Images  Instances      Box(P          R      mAP50  mAP50-95): 100%|██████████| 5/5 [00:21<00:00,  4.29s/it]"
          ]
        },
        {
          "output_type": "stream",
          "name": "stdout",
          "text": [
            "                   all        563      11164      0.563      0.576      0.512      0.166\n"
          ]
        },
        {
          "output_type": "stream",
          "name": "stderr",
          "text": [
            "\n"
          ]
        },
        {
          "output_type": "stream",
          "name": "stdout",
          "text": [
            "\n",
            "      Epoch    GPU_mem   box_loss   cls_loss   dfl_loss  Instances       Size\n"
          ]
        },
        {
          "output_type": "stream",
          "name": "stderr",
          "text": [
            "      2/200      38.9G      1.521      1.269      1.478       2100        960: 100%|██████████| 31/31 [00:17<00:00,  1.79it/s]\n",
            "                 Class     Images  Instances      Box(P          R      mAP50  mAP50-95): 100%|██████████| 5/5 [00:04<00:00,  1.20it/s]"
          ]
        },
        {
          "output_type": "stream",
          "name": "stdout",
          "text": [
            "                   all        563      11164      0.772      0.757      0.782      0.422\n"
          ]
        },
        {
          "output_type": "stream",
          "name": "stderr",
          "text": [
            "\n"
          ]
        },
        {
          "output_type": "stream",
          "name": "stdout",
          "text": [
            "\n",
            "      Epoch    GPU_mem   box_loss   cls_loss   dfl_loss  Instances       Size\n"
          ]
        },
        {
          "output_type": "stream",
          "name": "stderr",
          "text": [
            "      3/200      38.2G      1.451      1.041       1.42       1836        960: 100%|██████████| 31/31 [00:23<00:00,  1.33it/s]\n",
            "                 Class     Images  Instances      Box(P          R      mAP50  mAP50-95): 100%|██████████| 5/5 [00:03<00:00,  1.41it/s]"
          ]
        },
        {
          "output_type": "stream",
          "name": "stdout",
          "text": [
            "                   all        563      11164      0.849      0.789      0.841      0.496\n"
          ]
        },
        {
          "output_type": "stream",
          "name": "stderr",
          "text": [
            "\n"
          ]
        },
        {
          "output_type": "stream",
          "name": "stdout",
          "text": [
            "\n",
            "      Epoch    GPU_mem   box_loss   cls_loss   dfl_loss  Instances       Size\n"
          ]
        },
        {
          "output_type": "stream",
          "name": "stderr",
          "text": [
            "      4/200      38.7G      1.404     0.9396      1.401       2279        960: 100%|██████████| 31/31 [00:18<00:00,  1.70it/s]\n",
            "                 Class     Images  Instances      Box(P          R      mAP50  mAP50-95): 100%|██████████| 5/5 [00:04<00:00,  1.16it/s]"
          ]
        },
        {
          "output_type": "stream",
          "name": "stdout",
          "text": [
            "                   all        563      11164      0.894      0.834      0.876      0.484\n"
          ]
        },
        {
          "output_type": "stream",
          "name": "stderr",
          "text": [
            "\n"
          ]
        },
        {
          "output_type": "stream",
          "name": "stdout",
          "text": [
            "\n",
            "      Epoch    GPU_mem   box_loss   cls_loss   dfl_loss  Instances       Size\n"
          ]
        },
        {
          "output_type": "stream",
          "name": "stderr",
          "text": [
            "      5/200      35.4G      1.371     0.8639      1.374       2592        960: 100%|██████████| 31/31 [00:18<00:00,  1.66it/s]\n",
            "                 Class     Images  Instances      Box(P          R      mAP50  mAP50-95): 100%|██████████| 5/5 [00:03<00:00,  1.30it/s]"
          ]
        },
        {
          "output_type": "stream",
          "name": "stdout",
          "text": [
            "                   all        563      11164      0.903      0.848      0.882       0.48\n"
          ]
        },
        {
          "output_type": "stream",
          "name": "stderr",
          "text": [
            "\n"
          ]
        },
        {
          "output_type": "stream",
          "name": "stdout",
          "text": [
            "\n",
            "      Epoch    GPU_mem   box_loss   cls_loss   dfl_loss  Instances       Size\n"
          ]
        },
        {
          "output_type": "stream",
          "name": "stderr",
          "text": [
            "      6/200      35.4G      1.352     0.8345      1.365       1724        960: 100%|██████████| 31/31 [00:20<00:00,  1.54it/s]\n",
            "                 Class     Images  Instances      Box(P          R      mAP50  mAP50-95): 100%|██████████| 5/5 [00:03<00:00,  1.29it/s]"
          ]
        },
        {
          "output_type": "stream",
          "name": "stdout",
          "text": [
            "                   all        563      11164      0.927      0.873        0.9      0.516\n"
          ]
        },
        {
          "output_type": "stream",
          "name": "stderr",
          "text": [
            "\n"
          ]
        },
        {
          "output_type": "stream",
          "name": "stdout",
          "text": [
            "\n",
            "      Epoch    GPU_mem   box_loss   cls_loss   dfl_loss  Instances       Size\n"
          ]
        },
        {
          "output_type": "stream",
          "name": "stderr",
          "text": [
            "      7/200      35.4G      1.352     0.8141      1.363       2031        960: 100%|██████████| 31/31 [00:21<00:00,  1.47it/s]\n",
            "                 Class     Images  Instances      Box(P          R      mAP50  mAP50-95): 100%|██████████| 5/5 [00:04<00:00,  1.20it/s]"
          ]
        },
        {
          "output_type": "stream",
          "name": "stdout",
          "text": [
            "                   all        563      11164      0.948      0.875      0.908      0.501\n"
          ]
        },
        {
          "output_type": "stream",
          "name": "stderr",
          "text": [
            "\n"
          ]
        },
        {
          "output_type": "stream",
          "name": "stdout",
          "text": [
            "\n",
            "      Epoch    GPU_mem   box_loss   cls_loss   dfl_loss  Instances       Size\n"
          ]
        },
        {
          "output_type": "stream",
          "name": "stderr",
          "text": [
            "      8/200      35.5G      1.307     0.7721      1.333       1891        960: 100%|██████████| 31/31 [00:18<00:00,  1.70it/s]\n",
            "                 Class     Images  Instances      Box(P          R      mAP50  mAP50-95): 100%|██████████| 5/5 [00:03<00:00,  1.25it/s]"
          ]
        },
        {
          "output_type": "stream",
          "name": "stdout",
          "text": [
            "                   all        563      11164      0.938      0.885      0.908      0.457\n"
          ]
        },
        {
          "output_type": "stream",
          "name": "stderr",
          "text": [
            "\n"
          ]
        },
        {
          "output_type": "stream",
          "name": "stdout",
          "text": [
            "\n",
            "      Epoch    GPU_mem   box_loss   cls_loss   dfl_loss  Instances       Size\n"
          ]
        },
        {
          "output_type": "stream",
          "name": "stderr",
          "text": [
            "      9/200      35.5G      1.308     0.7643      1.331       2293        960: 100%|██████████| 31/31 [00:20<00:00,  1.49it/s]\n",
            "                 Class     Images  Instances      Box(P          R      mAP50  mAP50-95): 100%|██████████| 5/5 [00:03<00:00,  1.25it/s]"
          ]
        },
        {
          "output_type": "stream",
          "name": "stdout",
          "text": [
            "                   all        563      11164      0.955      0.874       0.91      0.533\n"
          ]
        },
        {
          "output_type": "stream",
          "name": "stderr",
          "text": [
            "\n"
          ]
        },
        {
          "output_type": "stream",
          "name": "stdout",
          "text": [
            "\n",
            "      Epoch    GPU_mem   box_loss   cls_loss   dfl_loss  Instances       Size\n"
          ]
        },
        {
          "output_type": "stream",
          "name": "stderr",
          "text": [
            "     10/200      35.6G      1.295     0.7489      1.328       2520        960: 100%|██████████| 31/31 [00:22<00:00,  1.39it/s]\n",
            "                 Class     Images  Instances      Box(P          R      mAP50  mAP50-95): 100%|██████████| 5/5 [00:03<00:00,  1.44it/s]"
          ]
        },
        {
          "output_type": "stream",
          "name": "stdout",
          "text": [
            "                   all        563      11164      0.947      0.894      0.917      0.587\n"
          ]
        },
        {
          "output_type": "stream",
          "name": "stderr",
          "text": [
            "\n"
          ]
        },
        {
          "output_type": "stream",
          "name": "stdout",
          "text": [
            "\n",
            "      Epoch    GPU_mem   box_loss   cls_loss   dfl_loss  Instances       Size\n"
          ]
        },
        {
          "output_type": "stream",
          "name": "stderr",
          "text": [
            "     11/200      35.6G      1.277     0.7419      1.309       2256        960: 100%|██████████| 31/31 [00:21<00:00,  1.42it/s]\n",
            "                 Class     Images  Instances      Box(P          R      mAP50  mAP50-95): 100%|██████████| 5/5 [00:03<00:00,  1.48it/s]"
          ]
        },
        {
          "output_type": "stream",
          "name": "stdout",
          "text": [
            "                   all        563      11164       0.95      0.899      0.925      0.567\n"
          ]
        },
        {
          "output_type": "stream",
          "name": "stderr",
          "text": [
            "\n"
          ]
        },
        {
          "output_type": "stream",
          "name": "stdout",
          "text": [
            "\n",
            "      Epoch    GPU_mem   box_loss   cls_loss   dfl_loss  Instances       Size\n"
          ]
        },
        {
          "output_type": "stream",
          "name": "stderr",
          "text": [
            "     12/200      35.6G      1.261     0.7217      1.305       1974        960: 100%|██████████| 31/31 [00:18<00:00,  1.66it/s]\n",
            "                 Class     Images  Instances      Box(P          R      mAP50  mAP50-95): 100%|██████████| 5/5 [00:03<00:00,  1.32it/s]"
          ]
        },
        {
          "output_type": "stream",
          "name": "stdout",
          "text": [
            "                   all        563      11164      0.951      0.897      0.925       0.57\n"
          ]
        },
        {
          "output_type": "stream",
          "name": "stderr",
          "text": [
            "\n"
          ]
        },
        {
          "output_type": "stream",
          "name": "stdout",
          "text": [
            "\n",
            "      Epoch    GPU_mem   box_loss   cls_loss   dfl_loss  Instances       Size\n"
          ]
        },
        {
          "output_type": "stream",
          "name": "stderr",
          "text": [
            "     13/200      36.4G       1.26     0.7151        1.3       2148        960: 100%|██████████| 31/31 [00:22<00:00,  1.36it/s]\n",
            "                 Class     Images  Instances      Box(P          R      mAP50  mAP50-95): 100%|██████████| 5/5 [00:03<00:00,  1.47it/s]"
          ]
        },
        {
          "output_type": "stream",
          "name": "stdout",
          "text": [
            "                   all        563      11164      0.957       0.89      0.919      0.556\n"
          ]
        },
        {
          "output_type": "stream",
          "name": "stderr",
          "text": [
            "\n"
          ]
        },
        {
          "output_type": "stream",
          "name": "stdout",
          "text": [
            "\n",
            "      Epoch    GPU_mem   box_loss   cls_loss   dfl_loss  Instances       Size\n"
          ]
        },
        {
          "output_type": "stream",
          "name": "stderr",
          "text": [
            "     14/200      36.4G      1.231      0.698      1.293       2739        960: 100%|██████████| 31/31 [00:18<00:00,  1.67it/s]\n",
            "                 Class     Images  Instances      Box(P          R      mAP50  mAP50-95): 100%|██████████| 5/5 [00:03<00:00,  1.26it/s]"
          ]
        },
        {
          "output_type": "stream",
          "name": "stdout",
          "text": [
            "                   all        563      11164      0.955      0.894      0.923      0.523\n"
          ]
        },
        {
          "output_type": "stream",
          "name": "stderr",
          "text": [
            "\n"
          ]
        },
        {
          "output_type": "stream",
          "name": "stdout",
          "text": [
            "\n",
            "      Epoch    GPU_mem   box_loss   cls_loss   dfl_loss  Instances       Size\n"
          ]
        },
        {
          "output_type": "stream",
          "name": "stderr",
          "text": [
            "     15/200      36.7G      1.217     0.6877      1.279       2073        960: 100%|██████████| 31/31 [00:22<00:00,  1.40it/s]\n",
            "                 Class     Images  Instances      Box(P          R      mAP50  mAP50-95): 100%|██████████| 5/5 [00:03<00:00,  1.42it/s]"
          ]
        },
        {
          "output_type": "stream",
          "name": "stdout",
          "text": [
            "                   all        563      11164      0.945      0.903      0.924      0.611\n"
          ]
        },
        {
          "output_type": "stream",
          "name": "stderr",
          "text": [
            "\n"
          ]
        },
        {
          "output_type": "stream",
          "name": "stdout",
          "text": [
            "\n",
            "      Epoch    GPU_mem   box_loss   cls_loss   dfl_loss  Instances       Size\n"
          ]
        },
        {
          "output_type": "stream",
          "name": "stderr",
          "text": [
            "     16/200      38.7G      1.216     0.6855      1.278       1891        960: 100%|██████████| 31/31 [00:18<00:00,  1.64it/s]\n",
            "                 Class     Images  Instances      Box(P          R      mAP50  mAP50-95): 100%|██████████| 5/5 [00:09<00:00,  1.99s/it]"
          ]
        },
        {
          "output_type": "stream",
          "name": "stdout",
          "text": [
            "                   all        563      11164      0.956      0.901      0.926       0.59\n"
          ]
        },
        {
          "output_type": "stream",
          "name": "stderr",
          "text": [
            "\n"
          ]
        },
        {
          "output_type": "stream",
          "name": "stdout",
          "text": [
            "\n",
            "      Epoch    GPU_mem   box_loss   cls_loss   dfl_loss  Instances       Size\n"
          ]
        },
        {
          "output_type": "stream",
          "name": "stderr",
          "text": [
            "     17/200      38.4G      1.189      0.672      1.262       1986        960: 100%|██████████| 31/31 [00:22<00:00,  1.39it/s]\n",
            "                 Class     Images  Instances      Box(P          R      mAP50  mAP50-95): 100%|██████████| 5/5 [00:03<00:00,  1.47it/s]"
          ]
        },
        {
          "output_type": "stream",
          "name": "stdout",
          "text": [
            "                   all        563      11164       0.96      0.907      0.932      0.646\n"
          ]
        },
        {
          "output_type": "stream",
          "name": "stderr",
          "text": [
            "\n"
          ]
        },
        {
          "output_type": "stream",
          "name": "stdout",
          "text": [
            "\n",
            "      Epoch    GPU_mem   box_loss   cls_loss   dfl_loss  Instances       Size\n"
          ]
        },
        {
          "output_type": "stream",
          "name": "stderr",
          "text": [
            "     18/200      38.6G      1.179     0.6561      1.252       2486        960: 100%|██████████| 31/31 [00:18<00:00,  1.71it/s]\n",
            "                 Class     Images  Instances      Box(P          R      mAP50  mAP50-95): 100%|██████████| 5/5 [00:09<00:00,  1.82s/it]"
          ]
        },
        {
          "output_type": "stream",
          "name": "stdout",
          "text": [
            "                   all        563      11164      0.957      0.901       0.93       0.63\n"
          ]
        },
        {
          "output_type": "stream",
          "name": "stderr",
          "text": [
            "\n"
          ]
        },
        {
          "output_type": "stream",
          "name": "stdout",
          "text": [
            "\n",
            "      Epoch    GPU_mem   box_loss   cls_loss   dfl_loss  Instances       Size\n"
          ]
        },
        {
          "output_type": "stream",
          "name": "stderr",
          "text": [
            "     19/200        39G      1.175     0.6541      1.255       2330        960: 100%|██████████| 31/31 [00:18<00:00,  1.71it/s]\n",
            "                 Class     Images  Instances      Box(P          R      mAP50  mAP50-95): 100%|██████████| 5/5 [00:03<00:00,  1.42it/s]"
          ]
        },
        {
          "output_type": "stream",
          "name": "stdout",
          "text": [
            "                   all        563      11164      0.958      0.912      0.931       0.62\n"
          ]
        },
        {
          "output_type": "stream",
          "name": "stderr",
          "text": [
            "\n"
          ]
        },
        {
          "output_type": "stream",
          "name": "stdout",
          "text": [
            "\n",
            "      Epoch    GPU_mem   box_loss   cls_loss   dfl_loss  Instances       Size\n"
          ]
        },
        {
          "output_type": "stream",
          "name": "stderr",
          "text": [
            "     20/200      38.8G      1.167     0.6622      1.254       2456        960: 100%|██████████| 31/31 [00:21<00:00,  1.42it/s]\n",
            "                 Class     Images  Instances      Box(P          R      mAP50  mAP50-95): 100%|██████████| 5/5 [00:06<00:00,  1.24s/it]"
          ]
        },
        {
          "output_type": "stream",
          "name": "stdout",
          "text": [
            "                   all        563      11164      0.958      0.898      0.924      0.592\n"
          ]
        },
        {
          "output_type": "stream",
          "name": "stderr",
          "text": [
            "\n"
          ]
        },
        {
          "output_type": "stream",
          "name": "stdout",
          "text": [
            "\n",
            "      Epoch    GPU_mem   box_loss   cls_loss   dfl_loss  Instances       Size\n"
          ]
        },
        {
          "output_type": "stream",
          "name": "stderr",
          "text": [
            "     21/200      36.3G      1.167     0.6447      1.253       2078        960: 100%|██████████| 31/31 [00:18<00:00,  1.67it/s]\n",
            "                 Class     Images  Instances      Box(P          R      mAP50  mAP50-95): 100%|██████████| 5/5 [00:03<00:00,  1.26it/s]"
          ]
        },
        {
          "output_type": "stream",
          "name": "stdout",
          "text": [
            "                   all        563      11164      0.958        0.9      0.925      0.565\n"
          ]
        },
        {
          "output_type": "stream",
          "name": "stderr",
          "text": [
            "\n"
          ]
        },
        {
          "output_type": "stream",
          "name": "stdout",
          "text": [
            "\n",
            "      Epoch    GPU_mem   box_loss   cls_loss   dfl_loss  Instances       Size\n"
          ]
        },
        {
          "output_type": "stream",
          "name": "stderr",
          "text": [
            "     22/200      38.5G      1.143     0.6301      1.241       2011        960: 100%|██████████| 31/31 [00:23<00:00,  1.33it/s]\n",
            "                 Class     Images  Instances      Box(P          R      mAP50  mAP50-95): 100%|██████████| 5/5 [00:09<00:00,  1.94s/it]"
          ]
        },
        {
          "output_type": "stream",
          "name": "stdout",
          "text": [
            "                   all        563      11164      0.965      0.893      0.924      0.562\n"
          ]
        },
        {
          "output_type": "stream",
          "name": "stderr",
          "text": [
            "\n"
          ]
        },
        {
          "output_type": "stream",
          "name": "stdout",
          "text": [
            "\n",
            "      Epoch    GPU_mem   box_loss   cls_loss   dfl_loss  Instances       Size\n"
          ]
        },
        {
          "output_type": "stream",
          "name": "stderr",
          "text": [
            "     23/200      35.1G      1.137     0.6263      1.235       2350        960: 100%|██████████| 31/31 [00:18<00:00,  1.69it/s]\n",
            "                 Class     Images  Instances      Box(P          R      mAP50  mAP50-95): 100%|██████████| 5/5 [00:04<00:00,  1.23it/s]"
          ]
        },
        {
          "output_type": "stream",
          "name": "stdout",
          "text": [
            "                   all        563      11164      0.962      0.891      0.925      0.561\n"
          ]
        },
        {
          "output_type": "stream",
          "name": "stderr",
          "text": [
            "\n"
          ]
        },
        {
          "output_type": "stream",
          "name": "stdout",
          "text": [
            "\n",
            "      Epoch    GPU_mem   box_loss   cls_loss   dfl_loss  Instances       Size\n"
          ]
        },
        {
          "output_type": "stream",
          "name": "stderr",
          "text": [
            "     24/200      35.2G      1.143     0.6304      1.238       2275        960: 100%|██████████| 31/31 [00:21<00:00,  1.44it/s]\n",
            "                 Class     Images  Instances      Box(P          R      mAP50  mAP50-95): 100%|██████████| 5/5 [00:05<00:00,  1.09s/it]"
          ]
        },
        {
          "output_type": "stream",
          "name": "stdout",
          "text": [
            "                   all        563      11164      0.964        0.9      0.932      0.625\n"
          ]
        },
        {
          "output_type": "stream",
          "name": "stderr",
          "text": [
            "\n"
          ]
        },
        {
          "output_type": "stream",
          "name": "stdout",
          "text": [
            "\n",
            "      Epoch    GPU_mem   box_loss   cls_loss   dfl_loss  Instances       Size\n"
          ]
        },
        {
          "output_type": "stream",
          "name": "stderr",
          "text": [
            "     25/200      35.2G       1.14     0.6235      1.237       2164        960: 100%|██████████| 31/31 [00:17<00:00,  1.77it/s]\n",
            "                 Class     Images  Instances      Box(P          R      mAP50  mAP50-95): 100%|██████████| 5/5 [00:04<00:00,  1.20it/s]"
          ]
        },
        {
          "output_type": "stream",
          "name": "stdout",
          "text": [
            "                   all        563      11164      0.967      0.896      0.929       0.58\n"
          ]
        },
        {
          "output_type": "stream",
          "name": "stderr",
          "text": [
            "\n"
          ]
        },
        {
          "output_type": "stream",
          "name": "stdout",
          "text": [
            "\n",
            "      Epoch    GPU_mem   box_loss   cls_loss   dfl_loss  Instances       Size\n"
          ]
        },
        {
          "output_type": "stream",
          "name": "stderr",
          "text": [
            "     26/200      38.8G      1.123     0.6162       1.23       1851        960: 100%|██████████| 31/31 [00:22<00:00,  1.37it/s]\n",
            "                 Class     Images  Instances      Box(P          R      mAP50  mAP50-95): 100%|██████████| 5/5 [00:03<00:00,  1.47it/s]"
          ]
        },
        {
          "output_type": "stream",
          "name": "stdout",
          "text": [
            "                   all        563      11164      0.966      0.894      0.925      0.573\n"
          ]
        },
        {
          "output_type": "stream",
          "name": "stderr",
          "text": [
            "\n"
          ]
        },
        {
          "output_type": "stream",
          "name": "stdout",
          "text": [
            "\n",
            "      Epoch    GPU_mem   box_loss   cls_loss   dfl_loss  Instances       Size\n"
          ]
        },
        {
          "output_type": "stream",
          "name": "stderr",
          "text": [
            "     27/200      37.7G      1.127     0.6143      1.223       2208        960: 100%|██████████| 31/31 [00:18<00:00,  1.67it/s]\n",
            "                 Class     Images  Instances      Box(P          R      mAP50  mAP50-95): 100%|██████████| 5/5 [00:04<00:00,  1.22it/s]"
          ]
        },
        {
          "output_type": "stream",
          "name": "stdout",
          "text": [
            "                   all        563      11164      0.966      0.897      0.926      0.632\n"
          ]
        },
        {
          "output_type": "stream",
          "name": "stderr",
          "text": [
            "\n"
          ]
        },
        {
          "output_type": "stream",
          "name": "stdout",
          "text": [
            "\n",
            "      Epoch    GPU_mem   box_loss   cls_loss   dfl_loss  Instances       Size\n"
          ]
        },
        {
          "output_type": "stream",
          "name": "stderr",
          "text": [
            "     28/200      35.1G      1.119     0.6127      1.228       2400        960: 100%|██████████| 31/31 [00:24<00:00,  1.26it/s]\n",
            "                 Class     Images  Instances      Box(P          R      mAP50  mAP50-95): 100%|██████████| 5/5 [00:08<00:00,  1.77s/it]"
          ]
        },
        {
          "output_type": "stream",
          "name": "stdout",
          "text": [
            "                   all        563      11164      0.974      0.903      0.937      0.643\n"
          ]
        },
        {
          "output_type": "stream",
          "name": "stderr",
          "text": [
            "\n"
          ]
        },
        {
          "output_type": "stream",
          "name": "stdout",
          "text": [
            "\n",
            "      Epoch    GPU_mem   box_loss   cls_loss   dfl_loss  Instances       Size\n"
          ]
        },
        {
          "output_type": "stream",
          "name": "stderr",
          "text": [
            "     29/200      35.2G      1.117     0.6083      1.221       2142        960: 100%|██████████| 31/31 [00:17<00:00,  1.79it/s]\n",
            "                 Class     Images  Instances      Box(P          R      mAP50  mAP50-95): 100%|██████████| 5/5 [00:03<00:00,  1.30it/s]"
          ]
        },
        {
          "output_type": "stream",
          "name": "stdout",
          "text": [
            "                   all        563      11164      0.964      0.912      0.938      0.603\n"
          ]
        },
        {
          "output_type": "stream",
          "name": "stderr",
          "text": [
            "\n"
          ]
        },
        {
          "output_type": "stream",
          "name": "stdout",
          "text": [
            "\n",
            "      Epoch    GPU_mem   box_loss   cls_loss   dfl_loss  Instances       Size\n"
          ]
        },
        {
          "output_type": "stream",
          "name": "stderr",
          "text": [
            "     30/200      35.2G      1.116     0.6069      1.224       2463        960: 100%|██████████| 31/31 [00:21<00:00,  1.43it/s]\n",
            "                 Class     Images  Instances      Box(P          R      mAP50  mAP50-95): 100%|██████████| 5/5 [00:05<00:00,  1.14s/it]"
          ]
        },
        {
          "output_type": "stream",
          "name": "stdout",
          "text": [
            "                   all        563      11164      0.971      0.905      0.937      0.619\n"
          ]
        },
        {
          "output_type": "stream",
          "name": "stderr",
          "text": [
            "\n"
          ]
        },
        {
          "output_type": "stream",
          "name": "stdout",
          "text": [
            "\n",
            "      Epoch    GPU_mem   box_loss   cls_loss   dfl_loss  Instances       Size\n"
          ]
        },
        {
          "output_type": "stream",
          "name": "stderr",
          "text": [
            "     31/200      35.9G      1.095     0.5943      1.212       2532        960: 100%|██████████| 31/31 [00:17<00:00,  1.76it/s]\n",
            "                 Class     Images  Instances      Box(P          R      mAP50  mAP50-95): 100%|██████████| 5/5 [00:03<00:00,  1.25it/s]"
          ]
        },
        {
          "output_type": "stream",
          "name": "stdout",
          "text": [
            "                   all        563      11164      0.965      0.907      0.938      0.646\n"
          ]
        },
        {
          "output_type": "stream",
          "name": "stderr",
          "text": [
            "\n"
          ]
        },
        {
          "output_type": "stream",
          "name": "stdout",
          "text": [
            "\n",
            "      Epoch    GPU_mem   box_loss   cls_loss   dfl_loss  Instances       Size\n"
          ]
        },
        {
          "output_type": "stream",
          "name": "stderr",
          "text": [
            "     32/200      36.5G      1.094     0.5985      1.215       2375        960: 100%|██████████| 31/31 [00:24<00:00,  1.29it/s]\n",
            "                 Class     Images  Instances      Box(P          R      mAP50  mAP50-95): 100%|██████████| 5/5 [00:09<00:00,  1.96s/it]"
          ]
        },
        {
          "output_type": "stream",
          "name": "stdout",
          "text": [
            "                   all        563      11164      0.972      0.906      0.936      0.637\n"
          ]
        },
        {
          "output_type": "stream",
          "name": "stderr",
          "text": [
            "\n"
          ]
        },
        {
          "output_type": "stream",
          "name": "stdout",
          "text": [
            "\n",
            "      Epoch    GPU_mem   box_loss   cls_loss   dfl_loss  Instances       Size\n"
          ]
        },
        {
          "output_type": "stream",
          "name": "stderr",
          "text": [
            "     33/200      36.9G      1.101     0.5973      1.213       2104        960: 100%|██████████| 31/31 [00:18<00:00,  1.70it/s]\n",
            "                 Class     Images  Instances      Box(P          R      mAP50  mAP50-95): 100%|██████████| 5/5 [00:04<00:00,  1.18it/s]"
          ]
        },
        {
          "output_type": "stream",
          "name": "stdout",
          "text": [
            "                   all        563      11164      0.967      0.901      0.926      0.614\n"
          ]
        },
        {
          "output_type": "stream",
          "name": "stderr",
          "text": [
            "\n"
          ]
        },
        {
          "output_type": "stream",
          "name": "stdout",
          "text": [
            "\n",
            "      Epoch    GPU_mem   box_loss   cls_loss   dfl_loss  Instances       Size\n"
          ]
        },
        {
          "output_type": "stream",
          "name": "stderr",
          "text": [
            "     34/200        36G       1.12      0.595      1.229       2384        960: 100%|██████████| 31/31 [00:22<00:00,  1.36it/s]\n",
            "                 Class     Images  Instances      Box(P          R      mAP50  mAP50-95): 100%|██████████| 5/5 [00:04<00:00,  1.24it/s]"
          ]
        },
        {
          "output_type": "stream",
          "name": "stdout",
          "text": [
            "                   all        563      11164      0.963      0.911      0.937      0.634\n"
          ]
        },
        {
          "output_type": "stream",
          "name": "stderr",
          "text": [
            "\n"
          ]
        },
        {
          "output_type": "stream",
          "name": "stdout",
          "text": [
            "\n",
            "      Epoch    GPU_mem   box_loss   cls_loss   dfl_loss  Instances       Size\n"
          ]
        },
        {
          "output_type": "stream",
          "name": "stderr",
          "text": [
            "     35/200      35.7G      1.091     0.5875      1.207       2225        960: 100%|██████████| 31/31 [00:18<00:00,  1.69it/s]\n",
            "                 Class     Images  Instances      Box(P          R      mAP50  mAP50-95): 100%|██████████| 5/5 [00:03<00:00,  1.33it/s]"
          ]
        },
        {
          "output_type": "stream",
          "name": "stdout",
          "text": [
            "                   all        563      11164      0.966      0.903      0.929      0.637\n"
          ]
        },
        {
          "output_type": "stream",
          "name": "stderr",
          "text": [
            "\n"
          ]
        },
        {
          "output_type": "stream",
          "name": "stdout",
          "text": [
            "\n",
            "      Epoch    GPU_mem   box_loss   cls_loss   dfl_loss  Instances       Size\n"
          ]
        },
        {
          "output_type": "stream",
          "name": "stderr",
          "text": [
            "     36/200      36.9G      1.076     0.5726      1.206       2437        960: 100%|██████████| 31/31 [00:22<00:00,  1.35it/s]\n",
            "                 Class     Images  Instances      Box(P          R      mAP50  mAP50-95): 100%|██████████| 5/5 [00:03<00:00,  1.50it/s]"
          ]
        },
        {
          "output_type": "stream",
          "name": "stdout",
          "text": [
            "                   all        563      11164      0.968      0.906      0.934      0.645\n"
          ]
        },
        {
          "output_type": "stream",
          "name": "stderr",
          "text": [
            "\n"
          ]
        },
        {
          "output_type": "stream",
          "name": "stdout",
          "text": [
            "\n",
            "      Epoch    GPU_mem   box_loss   cls_loss   dfl_loss  Instances       Size\n"
          ]
        },
        {
          "output_type": "stream",
          "name": "stderr",
          "text": [
            "     37/200      38.1G      1.085     0.5804      1.204       2336        960: 100%|██████████| 31/31 [00:18<00:00,  1.70it/s]\n",
            "                 Class     Images  Instances      Box(P          R      mAP50  mAP50-95): 100%|██████████| 5/5 [00:03<00:00,  1.40it/s]"
          ]
        },
        {
          "output_type": "stream",
          "name": "stdout",
          "text": [
            "                   all        563      11164      0.974      0.899      0.934      0.654\n"
          ]
        },
        {
          "output_type": "stream",
          "name": "stderr",
          "text": [
            "\n"
          ]
        },
        {
          "output_type": "stream",
          "name": "stdout",
          "text": [
            "\n",
            "      Epoch    GPU_mem   box_loss   cls_loss   dfl_loss  Instances       Size\n"
          ]
        },
        {
          "output_type": "stream",
          "name": "stderr",
          "text": [
            "     38/200      36.2G       1.08     0.5758      1.205       1978        960: 100%|██████████| 31/31 [00:22<00:00,  1.36it/s]\n",
            "                 Class     Images  Instances      Box(P          R      mAP50  mAP50-95): 100%|██████████| 5/5 [00:04<00:00,  1.24it/s]"
          ]
        },
        {
          "output_type": "stream",
          "name": "stdout",
          "text": [
            "                   all        563      11164      0.964      0.914      0.938      0.632\n"
          ]
        },
        {
          "output_type": "stream",
          "name": "stderr",
          "text": [
            "\n"
          ]
        },
        {
          "output_type": "stream",
          "name": "stdout",
          "text": [
            "\n",
            "      Epoch    GPU_mem   box_loss   cls_loss   dfl_loss  Instances       Size\n"
          ]
        },
        {
          "output_type": "stream",
          "name": "stderr",
          "text": [
            "     39/200        37G       1.08     0.5769      1.201       2210        960: 100%|██████████| 31/31 [00:18<00:00,  1.69it/s]\n",
            "                 Class     Images  Instances      Box(P          R      mAP50  mAP50-95): 100%|██████████| 5/5 [00:08<00:00,  1.62s/it]"
          ]
        },
        {
          "output_type": "stream",
          "name": "stdout",
          "text": [
            "                   all        563      11164       0.97      0.908      0.934      0.628\n"
          ]
        },
        {
          "output_type": "stream",
          "name": "stderr",
          "text": [
            "\n"
          ]
        },
        {
          "output_type": "stream",
          "name": "stdout",
          "text": [
            "\n",
            "      Epoch    GPU_mem   box_loss   cls_loss   dfl_loss  Instances       Size\n"
          ]
        },
        {
          "output_type": "stream",
          "name": "stderr",
          "text": [
            "     40/200      35.6G      1.076     0.5766      1.202       2114        960: 100%|██████████| 31/31 [00:24<00:00,  1.27it/s]\n",
            "                 Class     Images  Instances      Box(P          R      mAP50  mAP50-95): 100%|██████████| 5/5 [00:06<00:00,  1.39s/it]"
          ]
        },
        {
          "output_type": "stream",
          "name": "stdout",
          "text": [
            "                   all        563      11164      0.969      0.905      0.933       0.65\n"
          ]
        },
        {
          "output_type": "stream",
          "name": "stderr",
          "text": [
            "\n"
          ]
        },
        {
          "output_type": "stream",
          "name": "stdout",
          "text": [
            "\n",
            "      Epoch    GPU_mem   box_loss   cls_loss   dfl_loss  Instances       Size\n"
          ]
        },
        {
          "output_type": "stream",
          "name": "stderr",
          "text": [
            "     41/200      35.6G      1.084     0.5797      1.207       2287        960: 100%|██████████| 31/31 [00:25<00:00,  1.21it/s]\n",
            "                 Class     Images  Instances      Box(P          R      mAP50  mAP50-95): 100%|██████████| 5/5 [00:08<00:00,  1.71s/it]"
          ]
        },
        {
          "output_type": "stream",
          "name": "stdout",
          "text": [
            "                   all        563      11164      0.968      0.911      0.933      0.657\n"
          ]
        },
        {
          "output_type": "stream",
          "name": "stderr",
          "text": [
            "\n"
          ]
        },
        {
          "output_type": "stream",
          "name": "stdout",
          "text": [
            "\n",
            "      Epoch    GPU_mem   box_loss   cls_loss   dfl_loss  Instances       Size\n"
          ]
        },
        {
          "output_type": "stream",
          "name": "stderr",
          "text": [
            "     42/200      35.6G      1.072     0.5717      1.198       2616        960: 100%|██████████| 31/31 [00:19<00:00,  1.62it/s]\n",
            "                 Class     Images  Instances      Box(P          R      mAP50  mAP50-95): 100%|██████████| 5/5 [00:03<00:00,  1.27it/s]"
          ]
        },
        {
          "output_type": "stream",
          "name": "stdout",
          "text": [
            "                   all        563      11164      0.965      0.911       0.94      0.627\n"
          ]
        },
        {
          "output_type": "stream",
          "name": "stderr",
          "text": [
            "\n"
          ]
        },
        {
          "output_type": "stream",
          "name": "stdout",
          "text": [
            "\n",
            "      Epoch    GPU_mem   box_loss   cls_loss   dfl_loss  Instances       Size\n"
          ]
        },
        {
          "output_type": "stream",
          "name": "stderr",
          "text": [
            "     43/200      38.5G      1.053     0.5663       1.19       2251        960: 100%|██████████| 31/31 [00:20<00:00,  1.53it/s]\n",
            "                 Class     Images  Instances      Box(P          R      mAP50  mAP50-95): 100%|██████████| 5/5 [00:08<00:00,  1.69s/it]"
          ]
        },
        {
          "output_type": "stream",
          "name": "stdout",
          "text": [
            "                   all        563      11164      0.971       0.91      0.939      0.643\n"
          ]
        },
        {
          "output_type": "stream",
          "name": "stderr",
          "text": [
            "\n"
          ]
        },
        {
          "output_type": "stream",
          "name": "stdout",
          "text": [
            "\n",
            "      Epoch    GPU_mem   box_loss   cls_loss   dfl_loss  Instances       Size\n"
          ]
        },
        {
          "output_type": "stream",
          "name": "stderr",
          "text": [
            "     44/200      35.9G      1.056     0.5587      1.191       2268        960: 100%|██████████| 31/31 [00:18<00:00,  1.68it/s]\n",
            "                 Class     Images  Instances      Box(P          R      mAP50  mAP50-95): 100%|██████████| 5/5 [00:04<00:00,  1.23it/s]"
          ]
        },
        {
          "output_type": "stream",
          "name": "stdout",
          "text": [
            "                   all        563      11164      0.968      0.913      0.936      0.644\n"
          ]
        },
        {
          "output_type": "stream",
          "name": "stderr",
          "text": [
            "\n"
          ]
        },
        {
          "output_type": "stream",
          "name": "stdout",
          "text": [
            "\n",
            "      Epoch    GPU_mem   box_loss   cls_loss   dfl_loss  Instances       Size\n"
          ]
        },
        {
          "output_type": "stream",
          "name": "stderr",
          "text": [
            "     45/200        39G      1.058     0.5599       1.19       2202        960: 100%|██████████| 31/31 [00:22<00:00,  1.36it/s]\n",
            "                 Class     Images  Instances      Box(P          R      mAP50  mAP50-95): 100%|██████████| 5/5 [00:06<00:00,  1.36s/it]"
          ]
        },
        {
          "output_type": "stream",
          "name": "stdout",
          "text": [
            "                   all        563      11164      0.969      0.912      0.938      0.666\n"
          ]
        },
        {
          "output_type": "stream",
          "name": "stderr",
          "text": [
            "\n"
          ]
        },
        {
          "output_type": "stream",
          "name": "stdout",
          "text": [
            "\n",
            "      Epoch    GPU_mem   box_loss   cls_loss   dfl_loss  Instances       Size\n"
          ]
        },
        {
          "output_type": "stream",
          "name": "stderr",
          "text": [
            "     46/200      35.9G      1.059     0.5609      1.193       2421        960: 100%|██████████| 31/31 [00:19<00:00,  1.60it/s]\n",
            "                 Class     Images  Instances      Box(P          R      mAP50  mAP50-95): 100%|██████████| 5/5 [00:03<00:00,  1.28it/s]"
          ]
        },
        {
          "output_type": "stream",
          "name": "stdout",
          "text": [
            "                   all        563      11164       0.97      0.909      0.937      0.659\n"
          ]
        },
        {
          "output_type": "stream",
          "name": "stderr",
          "text": [
            "\n"
          ]
        },
        {
          "output_type": "stream",
          "name": "stdout",
          "text": [
            "\n",
            "      Epoch    GPU_mem   box_loss   cls_loss   dfl_loss  Instances       Size\n"
          ]
        },
        {
          "output_type": "stream",
          "name": "stderr",
          "text": [
            "     47/200      38.8G      1.057     0.5586      1.198       2071        960: 100%|██████████| 31/31 [00:20<00:00,  1.48it/s]\n",
            "                 Class     Images  Instances      Box(P          R      mAP50  mAP50-95): 100%|██████████| 5/5 [00:07<00:00,  1.52s/it]"
          ]
        },
        {
          "output_type": "stream",
          "name": "stdout",
          "text": [
            "                   all        563      11164      0.975      0.906      0.937      0.644\n"
          ]
        },
        {
          "output_type": "stream",
          "name": "stderr",
          "text": [
            "\n"
          ]
        },
        {
          "output_type": "stream",
          "name": "stdout",
          "text": [
            "\n",
            "      Epoch    GPU_mem   box_loss   cls_loss   dfl_loss  Instances       Size\n"
          ]
        },
        {
          "output_type": "stream",
          "name": "stderr",
          "text": [
            "     48/200      36.4G      1.053     0.5616      1.192       2485        960: 100%|██████████| 31/31 [00:18<00:00,  1.67it/s]\n",
            "                 Class     Images  Instances      Box(P          R      mAP50  mAP50-95): 100%|██████████| 5/5 [00:03<00:00,  1.29it/s]"
          ]
        },
        {
          "output_type": "stream",
          "name": "stdout",
          "text": [
            "                   all        563      11164       0.97       0.91      0.939      0.658\n"
          ]
        },
        {
          "output_type": "stream",
          "name": "stderr",
          "text": [
            "\n"
          ]
        },
        {
          "output_type": "stream",
          "name": "stdout",
          "text": [
            "\n",
            "      Epoch    GPU_mem   box_loss   cls_loss   dfl_loss  Instances       Size\n"
          ]
        },
        {
          "output_type": "stream",
          "name": "stderr",
          "text": [
            "     49/200      36.7G      1.049       0.55      1.187       2147        960: 100%|██████████| 31/31 [00:22<00:00,  1.37it/s]\n",
            "                 Class     Images  Instances      Box(P          R      mAP50  mAP50-95): 100%|██████████| 5/5 [00:08<00:00,  1.62s/it]"
          ]
        },
        {
          "output_type": "stream",
          "name": "stdout",
          "text": [
            "                   all        563      11164      0.973      0.913      0.941      0.659\n"
          ]
        },
        {
          "output_type": "stream",
          "name": "stderr",
          "text": [
            "\n"
          ]
        },
        {
          "output_type": "stream",
          "name": "stdout",
          "text": [
            "\n",
            "      Epoch    GPU_mem   box_loss   cls_loss   dfl_loss  Instances       Size\n"
          ]
        },
        {
          "output_type": "stream",
          "name": "stderr",
          "text": [
            "     50/200      35.4G      1.044     0.5474       1.18       2444        960: 100%|██████████| 31/31 [00:22<00:00,  1.35it/s]\n",
            "                 Class     Images  Instances      Box(P          R      mAP50  mAP50-95): 100%|██████████| 5/5 [00:03<00:00,  1.53it/s]"
          ]
        },
        {
          "output_type": "stream",
          "name": "stdout",
          "text": [
            "                   all        563      11164      0.972      0.914      0.941      0.648\n"
          ]
        },
        {
          "output_type": "stream",
          "name": "stderr",
          "text": [
            "\n"
          ]
        },
        {
          "output_type": "stream",
          "name": "stdout",
          "text": [
            "\n",
            "      Epoch    GPU_mem   box_loss   cls_loss   dfl_loss  Instances       Size\n"
          ]
        },
        {
          "output_type": "stream",
          "name": "stderr",
          "text": [
            "     51/200      35.5G       1.05     0.5544      1.188       1821        960: 100%|██████████| 31/31 [00:17<00:00,  1.74it/s]\n",
            "                 Class     Images  Instances      Box(P          R      mAP50  mAP50-95): 100%|██████████| 5/5 [00:03<00:00,  1.43it/s]"
          ]
        },
        {
          "output_type": "stream",
          "name": "stdout",
          "text": [
            "                   all        563      11164      0.968      0.914      0.939      0.666\n"
          ]
        },
        {
          "output_type": "stream",
          "name": "stderr",
          "text": [
            "\n"
          ]
        },
        {
          "output_type": "stream",
          "name": "stdout",
          "text": [
            "\n",
            "      Epoch    GPU_mem   box_loss   cls_loss   dfl_loss  Instances       Size\n"
          ]
        },
        {
          "output_type": "stream",
          "name": "stderr",
          "text": [
            "     52/200      35.5G      1.039     0.5419      1.181       1963        960: 100%|██████████| 31/31 [00:25<00:00,  1.24it/s]\n",
            "                 Class     Images  Instances      Box(P          R      mAP50  mAP50-95): 100%|██████████| 5/5 [00:05<00:00,  1.13s/it]"
          ]
        },
        {
          "output_type": "stream",
          "name": "stdout",
          "text": [
            "                   all        563      11164      0.965      0.915      0.937      0.662\n"
          ]
        },
        {
          "output_type": "stream",
          "name": "stderr",
          "text": [
            "\n"
          ]
        },
        {
          "output_type": "stream",
          "name": "stdout",
          "text": [
            "\n",
            "      Epoch    GPU_mem   box_loss   cls_loss   dfl_loss  Instances       Size\n"
          ]
        },
        {
          "output_type": "stream",
          "name": "stderr",
          "text": [
            "     53/200      35.6G      1.043      0.547      1.183       2203        960: 100%|██████████| 31/31 [00:17<00:00,  1.76it/s]\n",
            "                 Class     Images  Instances      Box(P          R      mAP50  mAP50-95): 100%|██████████| 5/5 [00:03<00:00,  1.36it/s]"
          ]
        },
        {
          "output_type": "stream",
          "name": "stdout",
          "text": [
            "                   all        563      11164      0.973       0.91      0.939      0.675\n"
          ]
        },
        {
          "output_type": "stream",
          "name": "stderr",
          "text": [
            "\n"
          ]
        },
        {
          "output_type": "stream",
          "name": "stdout",
          "text": [
            "\n",
            "      Epoch    GPU_mem   box_loss   cls_loss   dfl_loss  Instances       Size\n"
          ]
        },
        {
          "output_type": "stream",
          "name": "stderr",
          "text": [
            "     54/200      35.6G      1.045     0.5449      1.183       2240        960: 100%|██████████| 31/31 [00:21<00:00,  1.43it/s]\n",
            "                 Class     Images  Instances      Box(P          R      mAP50  mAP50-95): 100%|██████████| 5/5 [00:04<00:00,  1.04it/s]"
          ]
        },
        {
          "output_type": "stream",
          "name": "stdout",
          "text": [
            "                   all        563      11164      0.974       0.91      0.942      0.646\n"
          ]
        },
        {
          "output_type": "stream",
          "name": "stderr",
          "text": [
            "\n"
          ]
        },
        {
          "output_type": "stream",
          "name": "stdout",
          "text": [
            "\n",
            "      Epoch    GPU_mem   box_loss   cls_loss   dfl_loss  Instances       Size\n"
          ]
        },
        {
          "output_type": "stream",
          "name": "stderr",
          "text": [
            "     55/200      38.6G      1.036     0.5429      1.185       1932        960: 100%|██████████| 31/31 [00:18<00:00,  1.68it/s]\n",
            "                 Class     Images  Instances      Box(P          R      mAP50  mAP50-95): 100%|██████████| 5/5 [00:03<00:00,  1.29it/s]"
          ]
        },
        {
          "output_type": "stream",
          "name": "stdout",
          "text": [
            "                   all        563      11164      0.973       0.91      0.937      0.664\n"
          ]
        },
        {
          "output_type": "stream",
          "name": "stderr",
          "text": [
            "\n"
          ]
        },
        {
          "output_type": "stream",
          "name": "stdout",
          "text": [
            "\n",
            "      Epoch    GPU_mem   box_loss   cls_loss   dfl_loss  Instances       Size\n"
          ]
        },
        {
          "output_type": "stream",
          "name": "stderr",
          "text": [
            "     56/200      35.5G      1.031     0.5416      1.176       2560        960: 100%|██████████| 31/31 [00:24<00:00,  1.28it/s]\n",
            "                 Class     Images  Instances      Box(P          R      mAP50  mAP50-95): 100%|██████████| 5/5 [00:09<00:00,  1.92s/it]"
          ]
        },
        {
          "output_type": "stream",
          "name": "stdout",
          "text": [
            "                   all        563      11164      0.968      0.914       0.94      0.665\n"
          ]
        },
        {
          "output_type": "stream",
          "name": "stderr",
          "text": [
            "\n"
          ]
        },
        {
          "output_type": "stream",
          "name": "stdout",
          "text": [
            "\n",
            "      Epoch    GPU_mem   box_loss   cls_loss   dfl_loss  Instances       Size\n"
          ]
        },
        {
          "output_type": "stream",
          "name": "stderr",
          "text": [
            "     57/200      35.5G      1.036     0.5398      1.179       2060        960: 100%|██████████| 31/31 [00:17<00:00,  1.77it/s]\n",
            "                 Class     Images  Instances      Box(P          R      mAP50  mAP50-95): 100%|██████████| 5/5 [00:03<00:00,  1.40it/s]"
          ]
        },
        {
          "output_type": "stream",
          "name": "stdout",
          "text": [
            "                   all        563      11164      0.969      0.915       0.94      0.646\n"
          ]
        },
        {
          "output_type": "stream",
          "name": "stderr",
          "text": [
            "\n"
          ]
        },
        {
          "output_type": "stream",
          "name": "stdout",
          "text": [
            "\n",
            "      Epoch    GPU_mem   box_loss   cls_loss   dfl_loss  Instances       Size\n"
          ]
        },
        {
          "output_type": "stream",
          "name": "stderr",
          "text": [
            "     58/200      35.5G      1.031     0.5358      1.175       2124        960: 100%|██████████| 31/31 [00:23<00:00,  1.32it/s]\n",
            "                 Class     Images  Instances      Box(P          R      mAP50  mAP50-95): 100%|██████████| 5/5 [00:08<00:00,  1.67s/it]"
          ]
        },
        {
          "output_type": "stream",
          "name": "stdout",
          "text": [
            "                   all        563      11164      0.971      0.913       0.94      0.681\n"
          ]
        },
        {
          "output_type": "stream",
          "name": "stderr",
          "text": [
            "\n"
          ]
        },
        {
          "output_type": "stream",
          "name": "stdout",
          "text": [
            "\n",
            "      Epoch    GPU_mem   box_loss   cls_loss   dfl_loss  Instances       Size\n"
          ]
        },
        {
          "output_type": "stream",
          "name": "stderr",
          "text": [
            "     59/200      35.6G      1.031     0.5394      1.176       2296        960: 100%|██████████| 31/31 [00:18<00:00,  1.65it/s]\n",
            "                 Class     Images  Instances      Box(P          R      mAP50  mAP50-95): 100%|██████████| 5/5 [00:03<00:00,  1.42it/s]"
          ]
        },
        {
          "output_type": "stream",
          "name": "stdout",
          "text": [
            "                   all        563      11164      0.973      0.913      0.944      0.683\n"
          ]
        },
        {
          "output_type": "stream",
          "name": "stderr",
          "text": [
            "\n"
          ]
        },
        {
          "output_type": "stream",
          "name": "stdout",
          "text": [
            "\n",
            "      Epoch    GPU_mem   box_loss   cls_loss   dfl_loss  Instances       Size\n"
          ]
        },
        {
          "output_type": "stream",
          "name": "stderr",
          "text": [
            "     60/200      35.6G      1.022     0.5328       1.17       1889        960: 100%|██████████| 31/31 [00:20<00:00,  1.53it/s]\n",
            "                 Class     Images  Instances      Box(P          R      mAP50  mAP50-95): 100%|██████████| 5/5 [00:08<00:00,  1.67s/it]"
          ]
        },
        {
          "output_type": "stream",
          "name": "stdout",
          "text": [
            "                   all        563      11164      0.971      0.912      0.941      0.681\n"
          ]
        },
        {
          "output_type": "stream",
          "name": "stderr",
          "text": [
            "\n"
          ]
        },
        {
          "output_type": "stream",
          "name": "stdout",
          "text": [
            "\n",
            "      Epoch    GPU_mem   box_loss   cls_loss   dfl_loss  Instances       Size\n"
          ]
        },
        {
          "output_type": "stream",
          "name": "stderr",
          "text": [
            "     61/200      37.6G      1.035     0.5376      1.177       2129        960: 100%|██████████| 31/31 [00:18<00:00,  1.66it/s]\n",
            "                 Class     Images  Instances      Box(P          R      mAP50  mAP50-95): 100%|██████████| 5/5 [00:03<00:00,  1.41it/s]"
          ]
        },
        {
          "output_type": "stream",
          "name": "stdout",
          "text": [
            "                   all        563      11164      0.973      0.907      0.937      0.648\n"
          ]
        },
        {
          "output_type": "stream",
          "name": "stderr",
          "text": [
            "\n"
          ]
        },
        {
          "output_type": "stream",
          "name": "stdout",
          "text": [
            "\n",
            "      Epoch    GPU_mem   box_loss   cls_loss   dfl_loss  Instances       Size\n"
          ]
        },
        {
          "output_type": "stream",
          "name": "stderr",
          "text": [
            "     62/200      37.1G      1.018     0.5262      1.165       2216        960: 100%|██████████| 31/31 [00:23<00:00,  1.34it/s]\n",
            "                 Class     Images  Instances      Box(P          R      mAP50  mAP50-95): 100%|██████████| 5/5 [00:02<00:00,  1.74it/s]"
          ]
        },
        {
          "output_type": "stream",
          "name": "stdout",
          "text": [
            "                   all        563      11164      0.972       0.91      0.938      0.662\n"
          ]
        },
        {
          "output_type": "stream",
          "name": "stderr",
          "text": [
            "\n"
          ]
        },
        {
          "output_type": "stream",
          "name": "stdout",
          "text": [
            "\n",
            "      Epoch    GPU_mem   box_loss   cls_loss   dfl_loss  Instances       Size\n"
          ]
        },
        {
          "output_type": "stream",
          "name": "stderr",
          "text": [
            "     63/200      35.1G      1.017      0.531      1.175       2281        960: 100%|██████████| 31/31 [00:19<00:00,  1.63it/s]\n",
            "                 Class     Images  Instances      Box(P          R      mAP50  mAP50-95): 100%|██████████| 5/5 [00:03<00:00,  1.29it/s]"
          ]
        },
        {
          "output_type": "stream",
          "name": "stdout",
          "text": [
            "                   all        563      11164      0.969      0.917      0.941      0.683\n"
          ]
        },
        {
          "output_type": "stream",
          "name": "stderr",
          "text": [
            "\n"
          ]
        },
        {
          "output_type": "stream",
          "name": "stdout",
          "text": [
            "\n",
            "      Epoch    GPU_mem   box_loss   cls_loss   dfl_loss  Instances       Size\n"
          ]
        },
        {
          "output_type": "stream",
          "name": "stderr",
          "text": [
            "     64/200      35.5G      1.018     0.5297      1.177       2403        960: 100%|██████████| 31/31 [00:22<00:00,  1.38it/s]\n",
            "                 Class     Images  Instances      Box(P          R      mAP50  mAP50-95): 100%|██████████| 5/5 [00:03<00:00,  1.33it/s]"
          ]
        },
        {
          "output_type": "stream",
          "name": "stdout",
          "text": [
            "                   all        563      11164      0.976      0.911      0.942      0.679\n"
          ]
        },
        {
          "output_type": "stream",
          "name": "stderr",
          "text": [
            "\n"
          ]
        },
        {
          "output_type": "stream",
          "name": "stdout",
          "text": [
            "\n",
            "      Epoch    GPU_mem   box_loss   cls_loss   dfl_loss  Instances       Size\n"
          ]
        },
        {
          "output_type": "stream",
          "name": "stderr",
          "text": [
            "     65/200      35.5G       1.02     0.5284      1.178       2363        960: 100%|██████████| 31/31 [00:18<00:00,  1.70it/s]\n",
            "                 Class     Images  Instances      Box(P          R      mAP50  mAP50-95): 100%|██████████| 5/5 [00:03<00:00,  1.34it/s]"
          ]
        },
        {
          "output_type": "stream",
          "name": "stdout",
          "text": [
            "                   all        563      11164      0.972      0.909      0.936      0.642\n"
          ]
        },
        {
          "output_type": "stream",
          "name": "stderr",
          "text": [
            "\n"
          ]
        },
        {
          "output_type": "stream",
          "name": "stdout",
          "text": [
            "\n",
            "      Epoch    GPU_mem   box_loss   cls_loss   dfl_loss  Instances       Size\n"
          ]
        },
        {
          "output_type": "stream",
          "name": "stderr",
          "text": [
            "     66/200      35.6G      1.026     0.5328      1.175       2250        960: 100%|██████████| 31/31 [00:20<00:00,  1.55it/s]\n",
            "                 Class     Images  Instances      Box(P          R      mAP50  mAP50-95): 100%|██████████| 5/5 [00:03<00:00,  1.34it/s]"
          ]
        },
        {
          "output_type": "stream",
          "name": "stdout",
          "text": [
            "                   all        563      11164      0.973      0.908      0.937      0.674\n"
          ]
        },
        {
          "output_type": "stream",
          "name": "stderr",
          "text": [
            "\n"
          ]
        },
        {
          "output_type": "stream",
          "name": "stdout",
          "text": [
            "\n",
            "      Epoch    GPU_mem   box_loss   cls_loss   dfl_loss  Instances       Size\n"
          ]
        },
        {
          "output_type": "stream",
          "name": "stderr",
          "text": [
            "     67/200      35.6G      1.027     0.5321      1.174       2310        960: 100%|██████████| 31/31 [00:22<00:00,  1.40it/s]\n",
            "                 Class     Images  Instances      Box(P          R      mAP50  mAP50-95): 100%|██████████| 5/5 [00:03<00:00,  1.43it/s]"
          ]
        },
        {
          "output_type": "stream",
          "name": "stdout",
          "text": [
            "                   all        563      11164      0.972      0.908       0.94      0.677\n"
          ]
        },
        {
          "output_type": "stream",
          "name": "stderr",
          "text": [
            "\n"
          ]
        },
        {
          "output_type": "stream",
          "name": "stdout",
          "text": [
            "\n",
            "      Epoch    GPU_mem   box_loss   cls_loss   dfl_loss  Instances       Size\n"
          ]
        },
        {
          "output_type": "stream",
          "name": "stderr",
          "text": [
            "     68/200        36G      1.022     0.5289      1.175       2408        960: 100%|██████████| 31/31 [00:19<00:00,  1.60it/s]\n",
            "                 Class     Images  Instances      Box(P          R      mAP50  mAP50-95): 100%|██████████| 5/5 [00:03<00:00,  1.32it/s]"
          ]
        },
        {
          "output_type": "stream",
          "name": "stdout",
          "text": [
            "                   all        563      11164      0.975      0.905      0.932      0.656\n"
          ]
        },
        {
          "output_type": "stream",
          "name": "stderr",
          "text": [
            "\n"
          ]
        },
        {
          "output_type": "stream",
          "name": "stdout",
          "text": [
            "\n",
            "      Epoch    GPU_mem   box_loss   cls_loss   dfl_loss  Instances       Size\n"
          ]
        },
        {
          "output_type": "stream",
          "name": "stderr",
          "text": [
            "     69/200      36.5G       1.02     0.5263       1.18       2099        960: 100%|██████████| 31/31 [00:21<00:00,  1.47it/s]\n",
            "                 Class     Images  Instances      Box(P          R      mAP50  mAP50-95): 100%|██████████| 5/5 [00:03<00:00,  1.38it/s]"
          ]
        },
        {
          "output_type": "stream",
          "name": "stdout",
          "text": [
            "                   all        563      11164      0.972      0.915      0.943      0.687\n"
          ]
        },
        {
          "output_type": "stream",
          "name": "stderr",
          "text": [
            "\n"
          ]
        },
        {
          "output_type": "stream",
          "name": "stdout",
          "text": [
            "\n",
            "      Epoch    GPU_mem   box_loss   cls_loss   dfl_loss  Instances       Size\n"
          ]
        },
        {
          "output_type": "stream",
          "name": "stderr",
          "text": [
            "     70/200      37.2G      1.025      0.527      1.175       1843        960: 100%|██████████| 31/31 [00:18<00:00,  1.64it/s]\n",
            "                 Class     Images  Instances      Box(P          R      mAP50  mAP50-95): 100%|██████████| 5/5 [00:03<00:00,  1.39it/s]"
          ]
        },
        {
          "output_type": "stream",
          "name": "stdout",
          "text": [
            "                   all        563      11164      0.973      0.909      0.933      0.662\n"
          ]
        },
        {
          "output_type": "stream",
          "name": "stderr",
          "text": [
            "\n"
          ]
        },
        {
          "output_type": "stream",
          "name": "stdout",
          "text": [
            "\n",
            "      Epoch    GPU_mem   box_loss   cls_loss   dfl_loss  Instances       Size\n"
          ]
        },
        {
          "output_type": "stream",
          "name": "stderr",
          "text": [
            "     71/200        35G      1.007     0.5204      1.164       2237        960: 100%|██████████| 31/31 [00:19<00:00,  1.62it/s]\n",
            "                 Class     Images  Instances      Box(P          R      mAP50  mAP50-95): 100%|██████████| 5/5 [00:04<00:00,  1.21it/s]"
          ]
        },
        {
          "output_type": "stream",
          "name": "stdout",
          "text": [
            "                   all        563      11164       0.97      0.913      0.939       0.68\n"
          ]
        },
        {
          "output_type": "stream",
          "name": "stderr",
          "text": [
            "\n"
          ]
        },
        {
          "output_type": "stream",
          "name": "stdout",
          "text": [
            "\n",
            "      Epoch    GPU_mem   box_loss   cls_loss   dfl_loss  Instances       Size\n"
          ]
        },
        {
          "output_type": "stream",
          "name": "stderr",
          "text": [
            "     72/200        39G      1.009     0.5222      1.165       2129        960: 100%|██████████| 31/31 [00:21<00:00,  1.48it/s]\n",
            "                 Class     Images  Instances      Box(P          R      mAP50  mAP50-95): 100%|██████████| 5/5 [00:03<00:00,  1.51it/s]"
          ]
        },
        {
          "output_type": "stream",
          "name": "stdout",
          "text": [
            "                   all        563      11164      0.972      0.905      0.933      0.676\n"
          ]
        },
        {
          "output_type": "stream",
          "name": "stderr",
          "text": [
            "\n"
          ]
        },
        {
          "output_type": "stream",
          "name": "stdout",
          "text": [
            "\n",
            "      Epoch    GPU_mem   box_loss   cls_loss   dfl_loss  Instances       Size\n"
          ]
        },
        {
          "output_type": "stream",
          "name": "stderr",
          "text": [
            "     73/200      38.6G      1.006     0.5176      1.165       2018        960: 100%|██████████| 31/31 [00:18<00:00,  1.70it/s]\n",
            "                 Class     Images  Instances      Box(P          R      mAP50  mAP50-95): 100%|██████████| 5/5 [00:03<00:00,  1.26it/s]"
          ]
        },
        {
          "output_type": "stream",
          "name": "stdout",
          "text": [
            "                   all        563      11164      0.972      0.909       0.94      0.682\n"
          ]
        },
        {
          "output_type": "stream",
          "name": "stderr",
          "text": [
            "\n"
          ]
        },
        {
          "output_type": "stream",
          "name": "stdout",
          "text": [
            "\n",
            "      Epoch    GPU_mem   box_loss   cls_loss   dfl_loss  Instances       Size\n"
          ]
        },
        {
          "output_type": "stream",
          "name": "stderr",
          "text": [
            "     74/200      35.3G      1.012      0.523      1.168       2530        960: 100%|██████████| 31/31 [00:23<00:00,  1.33it/s]\n",
            "                 Class     Images  Instances      Box(P          R      mAP50  mAP50-95): 100%|██████████| 5/5 [00:03<00:00,  1.37it/s]"
          ]
        },
        {
          "output_type": "stream",
          "name": "stdout",
          "text": [
            "                   all        563      11164      0.971      0.912       0.94      0.667\n"
          ]
        },
        {
          "output_type": "stream",
          "name": "stderr",
          "text": [
            "\n"
          ]
        },
        {
          "output_type": "stream",
          "name": "stdout",
          "text": [
            "\n",
            "      Epoch    GPU_mem   box_loss   cls_loss   dfl_loss  Instances       Size\n"
          ]
        },
        {
          "output_type": "stream",
          "name": "stderr",
          "text": [
            "     75/200      38.5G      1.007     0.5176      1.167       2294        960: 100%|██████████| 31/31 [00:19<00:00,  1.57it/s]\n",
            "                 Class     Images  Instances      Box(P          R      mAP50  mAP50-95): 100%|██████████| 5/5 [00:09<00:00,  1.96s/it]"
          ]
        },
        {
          "output_type": "stream",
          "name": "stdout",
          "text": [
            "                   all        563      11164      0.971      0.913      0.941      0.669\n"
          ]
        },
        {
          "output_type": "stream",
          "name": "stderr",
          "text": [
            "\n"
          ]
        },
        {
          "output_type": "stream",
          "name": "stdout",
          "text": [
            "\n",
            "      Epoch    GPU_mem   box_loss   cls_loss   dfl_loss  Instances       Size\n"
          ]
        },
        {
          "output_type": "stream",
          "name": "stderr",
          "text": [
            "     76/200      35.5G          1     0.5132      1.159       2630        960: 100%|██████████| 31/31 [00:18<00:00,  1.66it/s]\n",
            "                 Class     Images  Instances      Box(P          R      mAP50  mAP50-95): 100%|██████████| 5/5 [00:03<00:00,  1.44it/s]"
          ]
        },
        {
          "output_type": "stream",
          "name": "stdout",
          "text": [
            "                   all        563      11164      0.972      0.915       0.94      0.684\n"
          ]
        },
        {
          "output_type": "stream",
          "name": "stderr",
          "text": [
            "\n"
          ]
        },
        {
          "output_type": "stream",
          "name": "stdout",
          "text": [
            "\n",
            "      Epoch    GPU_mem   box_loss   cls_loss   dfl_loss  Instances       Size\n"
          ]
        },
        {
          "output_type": "stream",
          "name": "stderr",
          "text": [
            "     77/200      35.5G      1.002     0.5135      1.162       2401        960: 100%|██████████| 31/31 [00:23<00:00,  1.32it/s]\n",
            "                 Class     Images  Instances      Box(P          R      mAP50  mAP50-95): 100%|██████████| 5/5 [00:10<00:00,  2.03s/it]"
          ]
        },
        {
          "output_type": "stream",
          "name": "stdout",
          "text": [
            "                   all        563      11164      0.974       0.91      0.941       0.68\n"
          ]
        },
        {
          "output_type": "stream",
          "name": "stderr",
          "text": [
            "\n"
          ]
        },
        {
          "output_type": "stream",
          "name": "stdout",
          "text": [
            "\n",
            "      Epoch    GPU_mem   box_loss   cls_loss   dfl_loss  Instances       Size\n"
          ]
        },
        {
          "output_type": "stream",
          "name": "stderr",
          "text": [
            "     78/200      35.7G      1.003     0.5151      1.162       1759        960: 100%|██████████| 31/31 [00:24<00:00,  1.26it/s]\n",
            "                 Class     Images  Instances      Box(P          R      mAP50  mAP50-95): 100%|██████████| 5/5 [00:06<00:00,  1.35s/it]"
          ]
        },
        {
          "output_type": "stream",
          "name": "stdout",
          "text": [
            "                   all        563      11164      0.971      0.916      0.941      0.673\n"
          ]
        },
        {
          "output_type": "stream",
          "name": "stderr",
          "text": [
            "\n"
          ]
        },
        {
          "output_type": "stream",
          "name": "stdout",
          "text": [
            "\n",
            "      Epoch    GPU_mem   box_loss   cls_loss   dfl_loss  Instances       Size\n"
          ]
        },
        {
          "output_type": "stream",
          "name": "stderr",
          "text": [
            "     79/200      35.1G     0.9984     0.5131      1.169       2257        960: 100%|██████████| 31/31 [00:18<00:00,  1.68it/s]\n",
            "                 Class     Images  Instances      Box(P          R      mAP50  mAP50-95): 100%|██████████| 5/5 [00:03<00:00,  1.36it/s]"
          ]
        },
        {
          "output_type": "stream",
          "name": "stdout",
          "text": [
            "                   all        563      11164      0.972      0.909      0.941      0.675\n"
          ]
        },
        {
          "output_type": "stream",
          "name": "stderr",
          "text": [
            "\n"
          ]
        },
        {
          "output_type": "stream",
          "name": "stdout",
          "text": [
            "\n",
            "      Epoch    GPU_mem   box_loss   cls_loss   dfl_loss  Instances       Size\n"
          ]
        },
        {
          "output_type": "stream",
          "name": "stderr",
          "text": [
            "     80/200      38.8G     0.9915     0.5132      1.161       2064        960: 100%|██████████| 31/31 [00:21<00:00,  1.43it/s]\n",
            "                 Class     Images  Instances      Box(P          R      mAP50  mAP50-95): 100%|██████████| 5/5 [00:05<00:00,  1.08s/it]"
          ]
        },
        {
          "output_type": "stream",
          "name": "stdout",
          "text": [
            "                   all        563      11164      0.971      0.906      0.937      0.672\n"
          ]
        },
        {
          "output_type": "stream",
          "name": "stderr",
          "text": [
            "\n"
          ]
        },
        {
          "output_type": "stream",
          "name": "stdout",
          "text": [
            "\n",
            "      Epoch    GPU_mem   box_loss   cls_loss   dfl_loss  Instances       Size\n"
          ]
        },
        {
          "output_type": "stream",
          "name": "stderr",
          "text": [
            "     81/200      36.5G     0.9999     0.5128      1.163       1771        960: 100%|██████████| 31/31 [00:18<00:00,  1.67it/s]\n",
            "                 Class     Images  Instances      Box(P          R      mAP50  mAP50-95): 100%|██████████| 5/5 [00:03<00:00,  1.31it/s]"
          ]
        },
        {
          "output_type": "stream",
          "name": "stdout",
          "text": [
            "                   all        563      11164      0.977      0.913      0.941      0.684\n"
          ]
        },
        {
          "output_type": "stream",
          "name": "stderr",
          "text": [
            "\n"
          ]
        },
        {
          "output_type": "stream",
          "name": "stdout",
          "text": [
            "\n",
            "      Epoch    GPU_mem   box_loss   cls_loss   dfl_loss  Instances       Size\n"
          ]
        },
        {
          "output_type": "stream",
          "name": "stderr",
          "text": [
            "     82/200      37.1G     0.9849     0.5064      1.148       2238        960: 100%|██████████| 31/31 [00:23<00:00,  1.34it/s]\n",
            "                 Class     Images  Instances      Box(P          R      mAP50  mAP50-95): 100%|██████████| 5/5 [00:08<00:00,  1.71s/it]"
          ]
        },
        {
          "output_type": "stream",
          "name": "stdout",
          "text": [
            "                   all        563      11164      0.973      0.916      0.942      0.692\n"
          ]
        },
        {
          "output_type": "stream",
          "name": "stderr",
          "text": [
            "\n"
          ]
        },
        {
          "output_type": "stream",
          "name": "stdout",
          "text": [
            "\n",
            "      Epoch    GPU_mem   box_loss   cls_loss   dfl_loss  Instances       Size\n"
          ]
        },
        {
          "output_type": "stream",
          "name": "stderr",
          "text": [
            "     83/200      35.5G     0.9915     0.5079      1.158       2378        960: 100%|██████████| 31/31 [00:18<00:00,  1.68it/s]\n",
            "                 Class     Images  Instances      Box(P          R      mAP50  mAP50-95): 100%|██████████| 5/5 [00:03<00:00,  1.41it/s]"
          ]
        },
        {
          "output_type": "stream",
          "name": "stdout",
          "text": [
            "                   all        563      11164       0.97      0.917      0.938       0.67\n"
          ]
        },
        {
          "output_type": "stream",
          "name": "stderr",
          "text": [
            "\n"
          ]
        },
        {
          "output_type": "stream",
          "name": "stdout",
          "text": [
            "\n",
            "      Epoch    GPU_mem   box_loss   cls_loss   dfl_loss  Instances       Size\n"
          ]
        },
        {
          "output_type": "stream",
          "name": "stderr",
          "text": [
            "     84/200        36G     0.9897     0.5053      1.153       2038        960: 100%|██████████| 31/31 [00:21<00:00,  1.41it/s]\n",
            "                 Class     Images  Instances      Box(P          R      mAP50  mAP50-95): 100%|██████████| 5/5 [00:05<00:00,  1.01s/it]"
          ]
        },
        {
          "output_type": "stream",
          "name": "stdout",
          "text": [
            "                   all        563      11164      0.976      0.905      0.942      0.674\n"
          ]
        },
        {
          "output_type": "stream",
          "name": "stderr",
          "text": [
            "\n"
          ]
        },
        {
          "output_type": "stream",
          "name": "stdout",
          "text": [
            "\n",
            "      Epoch    GPU_mem   box_loss   cls_loss   dfl_loss  Instances       Size\n"
          ]
        },
        {
          "output_type": "stream",
          "name": "stderr",
          "text": [
            "     85/200      35.3G     0.9939     0.5137      1.159       2014        960: 100%|██████████| 31/31 [00:18<00:00,  1.67it/s]\n",
            "                 Class     Images  Instances      Box(P          R      mAP50  mAP50-95): 100%|██████████| 5/5 [00:03<00:00,  1.26it/s]"
          ]
        },
        {
          "output_type": "stream",
          "name": "stdout",
          "text": [
            "                   all        563      11164      0.973      0.909       0.94      0.666\n"
          ]
        },
        {
          "output_type": "stream",
          "name": "stderr",
          "text": [
            "\n"
          ]
        },
        {
          "output_type": "stream",
          "name": "stdout",
          "text": [
            "\n",
            "      Epoch    GPU_mem   box_loss   cls_loss   dfl_loss  Instances       Size\n"
          ]
        },
        {
          "output_type": "stream",
          "name": "stderr",
          "text": [
            "     86/200      35.3G     0.9817     0.5036      1.151       2345        960: 100%|██████████| 31/31 [00:20<00:00,  1.50it/s]\n",
            "                 Class     Images  Instances      Box(P          R      mAP50  mAP50-95): 100%|██████████| 5/5 [00:06<00:00,  1.37s/it]"
          ]
        },
        {
          "output_type": "stream",
          "name": "stdout",
          "text": [
            "                   all        563      11164      0.972      0.918      0.944      0.683\n"
          ]
        },
        {
          "output_type": "stream",
          "name": "stderr",
          "text": [
            "\n"
          ]
        },
        {
          "output_type": "stream",
          "name": "stdout",
          "text": [
            "\n",
            "      Epoch    GPU_mem   box_loss   cls_loss   dfl_loss  Instances       Size\n"
          ]
        },
        {
          "output_type": "stream",
          "name": "stderr",
          "text": [
            "     87/200      35.7G     0.9958     0.5076      1.157       1840        960: 100%|██████████| 31/31 [00:24<00:00,  1.26it/s]\n",
            "                 Class     Images  Instances      Box(P          R      mAP50  mAP50-95): 100%|██████████| 5/5 [00:07<00:00,  1.42s/it]"
          ]
        },
        {
          "output_type": "stream",
          "name": "stdout",
          "text": [
            "                   all        563      11164      0.974      0.914      0.943      0.691\n"
          ]
        },
        {
          "output_type": "stream",
          "name": "stderr",
          "text": [
            "\n"
          ]
        },
        {
          "output_type": "stream",
          "name": "stdout",
          "text": [
            "\n",
            "      Epoch    GPU_mem   box_loss   cls_loss   dfl_loss  Instances       Size\n"
          ]
        },
        {
          "output_type": "stream",
          "name": "stderr",
          "text": [
            "     88/200      35.9G     0.9864     0.5035      1.158       2461        960: 100%|██████████| 31/31 [00:23<00:00,  1.35it/s]\n",
            "                 Class     Images  Instances      Box(P          R      mAP50  mAP50-95): 100%|██████████| 5/5 [00:03<00:00,  1.54it/s]"
          ]
        },
        {
          "output_type": "stream",
          "name": "stdout",
          "text": [
            "                   all        563      11164      0.976      0.903      0.933      0.643\n"
          ]
        },
        {
          "output_type": "stream",
          "name": "stderr",
          "text": [
            "\n"
          ]
        },
        {
          "output_type": "stream",
          "name": "stdout",
          "text": [
            "\n",
            "      Epoch    GPU_mem   box_loss   cls_loss   dfl_loss  Instances       Size\n"
          ]
        },
        {
          "output_type": "stream",
          "name": "stderr",
          "text": [
            "     89/200      38.9G     0.9919     0.5014      1.154       2465        960: 100%|██████████| 31/31 [00:18<00:00,  1.65it/s]\n",
            "                 Class     Images  Instances      Box(P          R      mAP50  mAP50-95): 100%|██████████| 5/5 [00:03<00:00,  1.42it/s]"
          ]
        },
        {
          "output_type": "stream",
          "name": "stdout",
          "text": [
            "                   all        563      11164      0.972      0.914      0.942      0.688\n"
          ]
        },
        {
          "output_type": "stream",
          "name": "stderr",
          "text": [
            "\n"
          ]
        },
        {
          "output_type": "stream",
          "name": "stdout",
          "text": [
            "\n",
            "      Epoch    GPU_mem   box_loss   cls_loss   dfl_loss  Instances       Size\n"
          ]
        },
        {
          "output_type": "stream",
          "name": "stderr",
          "text": [
            "     90/200      37.5G     0.9971     0.5064      1.157       2601        960: 100%|██████████| 31/31 [00:22<00:00,  1.38it/s]\n",
            "                 Class     Images  Instances      Box(P          R      mAP50  mAP50-95): 100%|██████████| 5/5 [00:04<00:00,  1.05it/s]"
          ]
        },
        {
          "output_type": "stream",
          "name": "stdout",
          "text": [
            "                   all        563      11164      0.972      0.912       0.94      0.683\n"
          ]
        },
        {
          "output_type": "stream",
          "name": "stderr",
          "text": [
            "\n"
          ]
        },
        {
          "output_type": "stream",
          "name": "stdout",
          "text": [
            "\n",
            "      Epoch    GPU_mem   box_loss   cls_loss   dfl_loss  Instances       Size\n"
          ]
        },
        {
          "output_type": "stream",
          "name": "stderr",
          "text": [
            "     91/200      38.7G     0.9763     0.5004      1.149       2324        960: 100%|██████████| 31/31 [00:21<00:00,  1.43it/s]\n",
            "                 Class     Images  Instances      Box(P          R      mAP50  mAP50-95): 100%|██████████| 5/5 [00:05<00:00,  1.03s/it]"
          ]
        },
        {
          "output_type": "stream",
          "name": "stdout",
          "text": [
            "                   all        563      11164      0.977      0.907      0.939      0.671\n"
          ]
        },
        {
          "output_type": "stream",
          "name": "stderr",
          "text": [
            "\n"
          ]
        },
        {
          "output_type": "stream",
          "name": "stdout",
          "text": [
            "\n",
            "      Epoch    GPU_mem   box_loss   cls_loss   dfl_loss  Instances       Size\n"
          ]
        },
        {
          "output_type": "stream",
          "name": "stderr",
          "text": [
            "     92/200      37.1G     0.9772     0.5034       1.15       2191        960: 100%|██████████| 31/31 [00:18<00:00,  1.67it/s]\n",
            "                 Class     Images  Instances      Box(P          R      mAP50  mAP50-95): 100%|██████████| 5/5 [00:03<00:00,  1.28it/s]"
          ]
        },
        {
          "output_type": "stream",
          "name": "stdout",
          "text": [
            "                   all        563      11164      0.973      0.912       0.94      0.669\n"
          ]
        },
        {
          "output_type": "stream",
          "name": "stderr",
          "text": [
            "\n"
          ]
        },
        {
          "output_type": "stream",
          "name": "stdout",
          "text": [
            "\n",
            "      Epoch    GPU_mem   box_loss   cls_loss   dfl_loss  Instances       Size\n"
          ]
        },
        {
          "output_type": "stream",
          "name": "stderr",
          "text": [
            "     93/200      35.2G     0.9814     0.5005      1.148       2222        960: 100%|██████████| 31/31 [00:23<00:00,  1.32it/s]\n",
            "                 Class     Images  Instances      Box(P          R      mAP50  mAP50-95): 100%|██████████| 5/5 [00:09<00:00,  1.93s/it]"
          ]
        },
        {
          "output_type": "stream",
          "name": "stdout",
          "text": [
            "                   all        563      11164      0.975       0.91       0.94      0.664\n"
          ]
        },
        {
          "output_type": "stream",
          "name": "stderr",
          "text": [
            "\n"
          ]
        },
        {
          "output_type": "stream",
          "name": "stdout",
          "text": [
            "\n",
            "      Epoch    GPU_mem   box_loss   cls_loss   dfl_loss  Instances       Size\n"
          ]
        },
        {
          "output_type": "stream",
          "name": "stderr",
          "text": [
            "     94/200      35.7G     0.9842     0.5002      1.154       2129        960: 100%|██████████| 31/31 [00:22<00:00,  1.39it/s]\n",
            "                 Class     Images  Instances      Box(P          R      mAP50  mAP50-95): 100%|██████████| 5/5 [00:03<00:00,  1.53it/s]"
          ]
        },
        {
          "output_type": "stream",
          "name": "stdout",
          "text": [
            "                   all        563      11164      0.975       0.91      0.943      0.676\n"
          ]
        },
        {
          "output_type": "stream",
          "name": "stderr",
          "text": [
            "\n"
          ]
        },
        {
          "output_type": "stream",
          "name": "stdout",
          "text": [
            "\n",
            "      Epoch    GPU_mem   box_loss   cls_loss   dfl_loss  Instances       Size\n"
          ]
        },
        {
          "output_type": "stream",
          "name": "stderr",
          "text": [
            "     95/200      36.3G     0.9836     0.5001      1.154       2239        960: 100%|██████████| 31/31 [00:18<00:00,  1.66it/s]\n",
            "                 Class     Images  Instances      Box(P          R      mAP50  mAP50-95): 100%|██████████| 5/5 [00:04<00:00,  1.20it/s]"
          ]
        },
        {
          "output_type": "stream",
          "name": "stdout",
          "text": [
            "                   all        563      11164      0.965       0.92      0.945      0.687\n"
          ]
        },
        {
          "output_type": "stream",
          "name": "stderr",
          "text": [
            "\n"
          ]
        },
        {
          "output_type": "stream",
          "name": "stdout",
          "text": [
            "\n",
            "      Epoch    GPU_mem   box_loss   cls_loss   dfl_loss  Instances       Size\n"
          ]
        },
        {
          "output_type": "stream",
          "name": "stderr",
          "text": [
            "     96/200      35.6G     0.9816     0.5001      1.149       2303        960: 100%|██████████| 31/31 [00:20<00:00,  1.53it/s]\n",
            "                 Class     Images  Instances      Box(P          R      mAP50  mAP50-95): 100%|██████████| 5/5 [00:03<00:00,  1.32it/s]"
          ]
        },
        {
          "output_type": "stream",
          "name": "stdout",
          "text": [
            "                   all        563      11164      0.971      0.915      0.941      0.679\n"
          ]
        },
        {
          "output_type": "stream",
          "name": "stderr",
          "text": [
            "\n"
          ]
        },
        {
          "output_type": "stream",
          "name": "stdout",
          "text": [
            "\n",
            "      Epoch    GPU_mem   box_loss   cls_loss   dfl_loss  Instances       Size\n"
          ]
        },
        {
          "output_type": "stream",
          "name": "stderr",
          "text": [
            "     97/200      35.6G       0.98     0.4958      1.151       2669        960: 100%|██████████| 31/31 [00:20<00:00,  1.49it/s]\n",
            "                 Class     Images  Instances      Box(P          R      mAP50  mAP50-95): 100%|██████████| 5/5 [00:09<00:00,  1.86s/it]"
          ]
        },
        {
          "output_type": "stream",
          "name": "stdout",
          "text": [
            "                   all        563      11164      0.976      0.914      0.946      0.697\n"
          ]
        },
        {
          "output_type": "stream",
          "name": "stderr",
          "text": [
            "\n"
          ]
        },
        {
          "output_type": "stream",
          "name": "stdout",
          "text": [
            "\n",
            "      Epoch    GPU_mem   box_loss   cls_loss   dfl_loss  Instances       Size\n"
          ]
        },
        {
          "output_type": "stream",
          "name": "stderr",
          "text": [
            "     98/200      36.2G     0.9704     0.4911      1.147       2406        960: 100%|██████████| 31/31 [00:18<00:00,  1.68it/s]\n",
            "                 Class     Images  Instances      Box(P          R      mAP50  mAP50-95): 100%|██████████| 5/5 [00:03<00:00,  1.48it/s]"
          ]
        },
        {
          "output_type": "stream",
          "name": "stdout",
          "text": [
            "                   all        563      11164      0.971      0.917      0.945      0.697\n"
          ]
        },
        {
          "output_type": "stream",
          "name": "stderr",
          "text": [
            "\n"
          ]
        },
        {
          "output_type": "stream",
          "name": "stdout",
          "text": [
            "\n",
            "      Epoch    GPU_mem   box_loss   cls_loss   dfl_loss  Instances       Size\n"
          ]
        },
        {
          "output_type": "stream",
          "name": "stderr",
          "text": [
            "     99/200      35.1G     0.9736     0.4921      1.148       2266        960: 100%|██████████| 31/31 [00:23<00:00,  1.34it/s]\n",
            "                 Class     Images  Instances      Box(P          R      mAP50  mAP50-95): 100%|██████████| 5/5 [00:03<00:00,  1.39it/s]"
          ]
        },
        {
          "output_type": "stream",
          "name": "stdout",
          "text": [
            "                   all        563      11164      0.976      0.908      0.939       0.68\n"
          ]
        },
        {
          "output_type": "stream",
          "name": "stderr",
          "text": [
            "\n"
          ]
        },
        {
          "output_type": "stream",
          "name": "stdout",
          "text": [
            "\n",
            "      Epoch    GPU_mem   box_loss   cls_loss   dfl_loss  Instances       Size\n"
          ]
        },
        {
          "output_type": "stream",
          "name": "stderr",
          "text": [
            "    100/200      38.7G     0.9774      0.492      1.152       2236        960: 100%|██████████| 31/31 [00:17<00:00,  1.74it/s]\n",
            "                 Class     Images  Instances      Box(P          R      mAP50  mAP50-95): 100%|██████████| 5/5 [00:04<00:00,  1.24it/s]"
          ]
        },
        {
          "output_type": "stream",
          "name": "stdout",
          "text": [
            "                   all        563      11164      0.973      0.911      0.942      0.692\n"
          ]
        },
        {
          "output_type": "stream",
          "name": "stderr",
          "text": [
            "\n"
          ]
        },
        {
          "output_type": "stream",
          "name": "stdout",
          "text": [
            "\n",
            "      Epoch    GPU_mem   box_loss   cls_loss   dfl_loss  Instances       Size\n"
          ]
        },
        {
          "output_type": "stream",
          "name": "stderr",
          "text": [
            "    101/200      35.6G     0.9712     0.4909      1.147       2316        960: 100%|██████████| 31/31 [00:23<00:00,  1.30it/s]\n",
            "                 Class     Images  Instances      Box(P          R      mAP50  mAP50-95): 100%|██████████| 5/5 [00:03<00:00,  1.50it/s]"
          ]
        },
        {
          "output_type": "stream",
          "name": "stdout",
          "text": [
            "                   all        563      11164      0.973      0.915      0.945      0.699\n"
          ]
        },
        {
          "output_type": "stream",
          "name": "stderr",
          "text": [
            "\n"
          ]
        },
        {
          "output_type": "stream",
          "name": "stdout",
          "text": [
            "\n",
            "      Epoch    GPU_mem   box_loss   cls_loss   dfl_loss  Instances       Size\n"
          ]
        },
        {
          "output_type": "stream",
          "name": "stderr",
          "text": [
            "    102/200        36G     0.9661     0.4873      1.147       2178        960: 100%|██████████| 31/31 [00:17<00:00,  1.74it/s]\n",
            "                 Class     Images  Instances      Box(P          R      mAP50  mAP50-95): 100%|██████████| 5/5 [00:03<00:00,  1.32it/s]"
          ]
        },
        {
          "output_type": "stream",
          "name": "stdout",
          "text": [
            "                   all        563      11164      0.976      0.913      0.945      0.682\n"
          ]
        },
        {
          "output_type": "stream",
          "name": "stderr",
          "text": [
            "\n"
          ]
        },
        {
          "output_type": "stream",
          "name": "stdout",
          "text": [
            "\n",
            "      Epoch    GPU_mem   box_loss   cls_loss   dfl_loss  Instances       Size\n"
          ]
        },
        {
          "output_type": "stream",
          "name": "stderr",
          "text": [
            "    103/200      35.4G     0.9691     0.4904      1.147       2385        960: 100%|██████████| 31/31 [00:23<00:00,  1.31it/s]\n",
            "                 Class     Images  Instances      Box(P          R      mAP50  mAP50-95): 100%|██████████| 5/5 [00:03<00:00,  1.52it/s]"
          ]
        },
        {
          "output_type": "stream",
          "name": "stdout",
          "text": [
            "                   all        563      11164      0.975      0.912       0.94      0.696\n"
          ]
        },
        {
          "output_type": "stream",
          "name": "stderr",
          "text": [
            "\n"
          ]
        },
        {
          "output_type": "stream",
          "name": "stdout",
          "text": [
            "\n",
            "      Epoch    GPU_mem   box_loss   cls_loss   dfl_loss  Instances       Size\n"
          ]
        },
        {
          "output_type": "stream",
          "name": "stderr",
          "text": [
            "    104/200      35.4G     0.9593     0.4867      1.146       1856        960: 100%|██████████| 31/31 [00:18<00:00,  1.65it/s]\n",
            "                 Class     Images  Instances      Box(P          R      mAP50  mAP50-95): 100%|██████████| 5/5 [00:04<00:00,  1.19it/s]"
          ]
        },
        {
          "output_type": "stream",
          "name": "stdout",
          "text": [
            "                   all        563      11164      0.974      0.914      0.942      0.692\n"
          ]
        },
        {
          "output_type": "stream",
          "name": "stderr",
          "text": [
            "\n"
          ]
        },
        {
          "output_type": "stream",
          "name": "stdout",
          "text": [
            "\n",
            "      Epoch    GPU_mem   box_loss   cls_loss   dfl_loss  Instances       Size\n"
          ]
        },
        {
          "output_type": "stream",
          "name": "stderr",
          "text": [
            "    105/200      35.5G     0.9627     0.4839       1.14       2240        960: 100%|██████████| 31/31 [00:22<00:00,  1.39it/s]\n",
            "                 Class     Images  Instances      Box(P          R      mAP50  mAP50-95): 100%|██████████| 5/5 [00:03<00:00,  1.46it/s]"
          ]
        },
        {
          "output_type": "stream",
          "name": "stdout",
          "text": [
            "                   all        563      11164      0.977      0.909      0.939      0.685\n"
          ]
        },
        {
          "output_type": "stream",
          "name": "stderr",
          "text": [
            "\n"
          ]
        },
        {
          "output_type": "stream",
          "name": "stdout",
          "text": [
            "\n",
            "      Epoch    GPU_mem   box_loss   cls_loss   dfl_loss  Instances       Size\n"
          ]
        },
        {
          "output_type": "stream",
          "name": "stderr",
          "text": [
            "    106/200        39G     0.9722     0.4876      1.149       2004        960: 100%|██████████| 31/31 [00:19<00:00,  1.60it/s]\n",
            "                 Class     Images  Instances      Box(P          R      mAP50  mAP50-95): 100%|██████████| 5/5 [00:04<00:00,  1.21it/s]"
          ]
        },
        {
          "output_type": "stream",
          "name": "stdout",
          "text": [
            "                   all        563      11164      0.973      0.914      0.942      0.683\n"
          ]
        },
        {
          "output_type": "stream",
          "name": "stderr",
          "text": [
            "\n"
          ]
        },
        {
          "output_type": "stream",
          "name": "stdout",
          "text": [
            "\n",
            "      Epoch    GPU_mem   box_loss   cls_loss   dfl_loss  Instances       Size\n"
          ]
        },
        {
          "output_type": "stream",
          "name": "stderr",
          "text": [
            "    107/200      38.5G     0.9678     0.4854      1.148       2174        960: 100%|██████████| 31/31 [00:20<00:00,  1.49it/s]\n",
            "                 Class     Images  Instances      Box(P          R      mAP50  mAP50-95): 100%|██████████| 5/5 [00:04<00:00,  1.23it/s]"
          ]
        },
        {
          "output_type": "stream",
          "name": "stdout",
          "text": [
            "                   all        563      11164      0.974       0.91      0.937      0.688\n"
          ]
        },
        {
          "output_type": "stream",
          "name": "stderr",
          "text": [
            "\n"
          ]
        },
        {
          "output_type": "stream",
          "name": "stdout",
          "text": [
            "\n",
            "      Epoch    GPU_mem   box_loss   cls_loss   dfl_loss  Instances       Size\n"
          ]
        },
        {
          "output_type": "stream",
          "name": "stderr",
          "text": [
            "    108/200      35.7G     0.9667     0.4881      1.145       2008        960: 100%|██████████| 31/31 [00:19<00:00,  1.62it/s]\n",
            "                 Class     Images  Instances      Box(P          R      mAP50  mAP50-95): 100%|██████████| 5/5 [00:10<00:00,  2.08s/it]"
          ]
        },
        {
          "output_type": "stream",
          "name": "stdout",
          "text": [
            "                   all        563      11164      0.973      0.906      0.934      0.669\n"
          ]
        },
        {
          "output_type": "stream",
          "name": "stderr",
          "text": [
            "\n"
          ]
        },
        {
          "output_type": "stream",
          "name": "stdout",
          "text": [
            "\n",
            "      Epoch    GPU_mem   box_loss   cls_loss   dfl_loss  Instances       Size\n"
          ]
        },
        {
          "output_type": "stream",
          "name": "stderr",
          "text": [
            "    109/200      38.8G     0.9676     0.4859      1.146       2637        960: 100%|██████████| 31/31 [00:18<00:00,  1.70it/s]\n",
            "                 Class     Images  Instances      Box(P          R      mAP50  mAP50-95): 100%|██████████| 5/5 [00:03<00:00,  1.34it/s]"
          ]
        },
        {
          "output_type": "stream",
          "name": "stdout",
          "text": [
            "                   all        563      11164      0.974      0.917      0.946      0.701\n"
          ]
        },
        {
          "output_type": "stream",
          "name": "stderr",
          "text": [
            "\n"
          ]
        },
        {
          "output_type": "stream",
          "name": "stdout",
          "text": [
            "\n",
            "      Epoch    GPU_mem   box_loss   cls_loss   dfl_loss  Instances       Size\n"
          ]
        },
        {
          "output_type": "stream",
          "name": "stderr",
          "text": [
            "    110/200      34.9G     0.9654      0.484      1.142       2519        960: 100%|██████████| 31/31 [00:22<00:00,  1.37it/s]\n",
            "                 Class     Images  Instances      Box(P          R      mAP50  mAP50-95): 100%|██████████| 5/5 [00:08<00:00,  1.64s/it]"
          ]
        },
        {
          "output_type": "stream",
          "name": "stdout",
          "text": [
            "                   all        563      11164      0.969       0.91      0.939      0.688\n"
          ]
        },
        {
          "output_type": "stream",
          "name": "stderr",
          "text": [
            "\n"
          ]
        },
        {
          "output_type": "stream",
          "name": "stdout",
          "text": [
            "\n",
            "      Epoch    GPU_mem   box_loss   cls_loss   dfl_loss  Instances       Size\n"
          ]
        },
        {
          "output_type": "stream",
          "name": "stderr",
          "text": [
            "    111/200      38.5G     0.9584      0.483      1.141       2131        960: 100%|██████████| 31/31 [00:25<00:00,  1.23it/s]\n",
            "                 Class     Images  Instances      Box(P          R      mAP50  mAP50-95): 100%|██████████| 5/5 [00:03<00:00,  1.52it/s]"
          ]
        },
        {
          "output_type": "stream",
          "name": "stdout",
          "text": [
            "                   all        563      11164      0.976       0.91       0.94      0.678\n"
          ]
        },
        {
          "output_type": "stream",
          "name": "stderr",
          "text": [
            "\n"
          ]
        },
        {
          "output_type": "stream",
          "name": "stdout",
          "text": [
            "\n",
            "      Epoch    GPU_mem   box_loss   cls_loss   dfl_loss  Instances       Size\n"
          ]
        },
        {
          "output_type": "stream",
          "name": "stderr",
          "text": [
            "    112/200      38.9G     0.9565     0.4822      1.142       2410        960: 100%|██████████| 31/31 [00:18<00:00,  1.67it/s]\n",
            "                 Class     Images  Instances      Box(P          R      mAP50  mAP50-95): 100%|██████████| 5/5 [00:03<00:00,  1.36it/s]"
          ]
        },
        {
          "output_type": "stream",
          "name": "stdout",
          "text": [
            "                   all        563      11164      0.971      0.917      0.944      0.699\n"
          ]
        },
        {
          "output_type": "stream",
          "name": "stderr",
          "text": [
            "\n"
          ]
        },
        {
          "output_type": "stream",
          "name": "stdout",
          "text": [
            "\n",
            "      Epoch    GPU_mem   box_loss   cls_loss   dfl_loss  Instances       Size\n"
          ]
        },
        {
          "output_type": "stream",
          "name": "stderr",
          "text": [
            "    113/200      38.8G     0.9539     0.4784      1.137       2457        960: 100%|██████████| 31/31 [00:23<00:00,  1.33it/s]\n",
            "                 Class     Images  Instances      Box(P          R      mAP50  mAP50-95): 100%|██████████| 5/5 [00:03<00:00,  1.47it/s]"
          ]
        },
        {
          "output_type": "stream",
          "name": "stdout",
          "text": [
            "                   all        563      11164       0.97      0.914      0.941      0.694\n"
          ]
        },
        {
          "output_type": "stream",
          "name": "stderr",
          "text": [
            "\n"
          ]
        },
        {
          "output_type": "stream",
          "name": "stdout",
          "text": [
            "\n",
            "      Epoch    GPU_mem   box_loss   cls_loss   dfl_loss  Instances       Size\n"
          ]
        },
        {
          "output_type": "stream",
          "name": "stderr",
          "text": [
            "    114/200      38.1G     0.9552     0.4786       1.14       2351        960: 100%|██████████| 31/31 [00:18<00:00,  1.68it/s]\n",
            "                 Class     Images  Instances      Box(P          R      mAP50  mAP50-95): 100%|██████████| 5/5 [00:03<00:00,  1.41it/s]"
          ]
        },
        {
          "output_type": "stream",
          "name": "stdout",
          "text": [
            "                   all        563      11164      0.972      0.913      0.942      0.696\n"
          ]
        },
        {
          "output_type": "stream",
          "name": "stderr",
          "text": [
            "\n"
          ]
        },
        {
          "output_type": "stream",
          "name": "stdout",
          "text": [
            "\n",
            "      Epoch    GPU_mem   box_loss   cls_loss   dfl_loss  Instances       Size\n"
          ]
        },
        {
          "output_type": "stream",
          "name": "stderr",
          "text": [
            "    115/200      35.9G     0.9547     0.4795      1.139       1928        960: 100%|██████████| 31/31 [00:22<00:00,  1.36it/s]\n",
            "                 Class     Images  Instances      Box(P          R      mAP50  mAP50-95): 100%|██████████| 5/5 [00:03<00:00,  1.34it/s]"
          ]
        },
        {
          "output_type": "stream",
          "name": "stdout",
          "text": [
            "                   all        563      11164      0.974      0.911      0.941      0.685\n"
          ]
        },
        {
          "output_type": "stream",
          "name": "stderr",
          "text": [
            "\n"
          ]
        },
        {
          "output_type": "stream",
          "name": "stdout",
          "text": [
            "\n",
            "      Epoch    GPU_mem   box_loss   cls_loss   dfl_loss  Instances       Size\n"
          ]
        },
        {
          "output_type": "stream",
          "name": "stderr",
          "text": [
            "    116/200      38.5G     0.9541     0.4765      1.138       2295        960: 100%|██████████| 31/31 [00:19<00:00,  1.59it/s]\n",
            "                 Class     Images  Instances      Box(P          R      mAP50  mAP50-95): 100%|██████████| 5/5 [00:10<00:00,  2.06s/it]"
          ]
        },
        {
          "output_type": "stream",
          "name": "stdout",
          "text": [
            "                   all        563      11164      0.977      0.912      0.941      0.701\n"
          ]
        },
        {
          "output_type": "stream",
          "name": "stderr",
          "text": [
            "\n"
          ]
        },
        {
          "output_type": "stream",
          "name": "stdout",
          "text": [
            "\n",
            "      Epoch    GPU_mem   box_loss   cls_loss   dfl_loss  Instances       Size\n"
          ]
        },
        {
          "output_type": "stream",
          "name": "stderr",
          "text": [
            "    117/200      36.4G      0.946     0.4767      1.138       2163        960: 100%|██████████| 31/31 [00:22<00:00,  1.38it/s]\n",
            "                 Class     Images  Instances      Box(P          R      mAP50  mAP50-95): 100%|██████████| 5/5 [00:03<00:00,  1.27it/s]"
          ]
        },
        {
          "output_type": "stream",
          "name": "stdout",
          "text": [
            "                   all        563      11164      0.977      0.912      0.943      0.695\n"
          ]
        },
        {
          "output_type": "stream",
          "name": "stderr",
          "text": [
            "\n"
          ]
        },
        {
          "output_type": "stream",
          "name": "stdout",
          "text": [
            "\n",
            "      Epoch    GPU_mem   box_loss   cls_loss   dfl_loss  Instances       Size\n"
          ]
        },
        {
          "output_type": "stream",
          "name": "stderr",
          "text": [
            "    118/200        36G     0.9607     0.4823      1.137       2541        960: 100%|██████████| 31/31 [00:18<00:00,  1.66it/s]\n",
            "                 Class     Images  Instances      Box(P          R      mAP50  mAP50-95): 100%|██████████| 5/5 [00:10<00:00,  2.00s/it]"
          ]
        },
        {
          "output_type": "stream",
          "name": "stdout",
          "text": [
            "                   all        563      11164      0.978      0.912      0.941      0.694\n"
          ]
        },
        {
          "output_type": "stream",
          "name": "stderr",
          "text": [
            "\n"
          ]
        },
        {
          "output_type": "stream",
          "name": "stdout",
          "text": [
            "\n",
            "      Epoch    GPU_mem   box_loss   cls_loss   dfl_loss  Instances       Size\n"
          ]
        },
        {
          "output_type": "stream",
          "name": "stderr",
          "text": [
            "    119/200      35.8G     0.9551     0.4764      1.137       2163        960: 100%|██████████| 31/31 [00:18<00:00,  1.67it/s]\n",
            "                 Class     Images  Instances      Box(P          R      mAP50  mAP50-95): 100%|██████████| 5/5 [00:03<00:00,  1.32it/s]"
          ]
        },
        {
          "output_type": "stream",
          "name": "stdout",
          "text": [
            "                   all        563      11164      0.978      0.911      0.942      0.688\n"
          ]
        },
        {
          "output_type": "stream",
          "name": "stderr",
          "text": [
            "\n"
          ]
        },
        {
          "output_type": "stream",
          "name": "stdout",
          "text": [
            "\n",
            "      Epoch    GPU_mem   box_loss   cls_loss   dfl_loss  Instances       Size\n"
          ]
        },
        {
          "output_type": "stream",
          "name": "stderr",
          "text": [
            "    120/200      38.2G     0.9558       0.48       1.14       2851        960: 100%|██████████| 31/31 [00:22<00:00,  1.40it/s]\n",
            "                 Class     Images  Instances      Box(P          R      mAP50  mAP50-95): 100%|██████████| 5/5 [00:08<00:00,  1.62s/it]"
          ]
        },
        {
          "output_type": "stream",
          "name": "stdout",
          "text": [
            "                   all        563      11164      0.976       0.91      0.941       0.69\n"
          ]
        },
        {
          "output_type": "stream",
          "name": "stderr",
          "text": [
            "\n"
          ]
        },
        {
          "output_type": "stream",
          "name": "stdout",
          "text": [
            "\n",
            "      Epoch    GPU_mem   box_loss   cls_loss   dfl_loss  Instances       Size\n"
          ]
        },
        {
          "output_type": "stream",
          "name": "stderr",
          "text": [
            "    121/200      36.7G     0.9562     0.4756      1.138       2333        960: 100%|██████████| 31/31 [00:19<00:00,  1.56it/s]\n",
            "                 Class     Images  Instances      Box(P          R      mAP50  mAP50-95): 100%|██████████| 5/5 [00:03<00:00,  1.32it/s]"
          ]
        },
        {
          "output_type": "stream",
          "name": "stdout",
          "text": [
            "                   all        563      11164      0.976      0.912      0.942      0.696\n"
          ]
        },
        {
          "output_type": "stream",
          "name": "stderr",
          "text": [
            "\n"
          ]
        },
        {
          "output_type": "stream",
          "name": "stdout",
          "text": [
            "\n",
            "      Epoch    GPU_mem   box_loss   cls_loss   dfl_loss  Instances       Size\n"
          ]
        },
        {
          "output_type": "stream",
          "name": "stderr",
          "text": [
            "    122/200      36.4G     0.9521     0.4741      1.131       1704        960: 100%|██████████| 31/31 [00:20<00:00,  1.48it/s]\n",
            "                 Class     Images  Instances      Box(P          R      mAP50  mAP50-95): 100%|██████████| 5/5 [00:08<00:00,  1.76s/it]"
          ]
        },
        {
          "output_type": "stream",
          "name": "stdout",
          "text": [
            "                   all        563      11164      0.972      0.918      0.946      0.703\n"
          ]
        },
        {
          "output_type": "stream",
          "name": "stderr",
          "text": [
            "\n"
          ]
        },
        {
          "output_type": "stream",
          "name": "stdout",
          "text": [
            "\n",
            "      Epoch    GPU_mem   box_loss   cls_loss   dfl_loss  Instances       Size\n"
          ]
        },
        {
          "output_type": "stream",
          "name": "stderr",
          "text": [
            "    123/200      35.5G     0.9538     0.4792      1.136       2054        960: 100%|██████████| 31/31 [00:18<00:00,  1.66it/s]\n",
            "                 Class     Images  Instances      Box(P          R      mAP50  mAP50-95): 100%|██████████| 5/5 [00:03<00:00,  1.48it/s]"
          ]
        },
        {
          "output_type": "stream",
          "name": "stdout",
          "text": [
            "                   all        563      11164      0.977      0.911      0.942      0.689\n"
          ]
        },
        {
          "output_type": "stream",
          "name": "stderr",
          "text": [
            "\n"
          ]
        },
        {
          "output_type": "stream",
          "name": "stdout",
          "text": [
            "\n",
            "      Epoch    GPU_mem   box_loss   cls_loss   dfl_loss  Instances       Size\n"
          ]
        },
        {
          "output_type": "stream",
          "name": "stderr",
          "text": [
            "    124/200      35.7G     0.9519     0.4773      1.135       2180        960: 100%|██████████| 31/31 [00:22<00:00,  1.39it/s]\n",
            "                 Class     Images  Instances      Box(P          R      mAP50  mAP50-95): 100%|██████████| 5/5 [00:05<00:00,  1.20s/it]"
          ]
        },
        {
          "output_type": "stream",
          "name": "stdout",
          "text": [
            "                   all        563      11164      0.971      0.914      0.941      0.691\n"
          ]
        },
        {
          "output_type": "stream",
          "name": "stderr",
          "text": [
            "\n"
          ]
        },
        {
          "output_type": "stream",
          "name": "stdout",
          "text": [
            "\n",
            "      Epoch    GPU_mem   box_loss   cls_loss   dfl_loss  Instances       Size\n"
          ]
        },
        {
          "output_type": "stream",
          "name": "stderr",
          "text": [
            "    125/200      36.1G     0.9526     0.4791      1.137       2125        960: 100%|██████████| 31/31 [00:18<00:00,  1.67it/s]\n",
            "                 Class     Images  Instances      Box(P          R      mAP50  mAP50-95): 100%|██████████| 5/5 [00:03<00:00,  1.30it/s]"
          ]
        },
        {
          "output_type": "stream",
          "name": "stdout",
          "text": [
            "                   all        563      11164      0.972      0.913      0.941      0.696\n"
          ]
        },
        {
          "output_type": "stream",
          "name": "stderr",
          "text": [
            "\n"
          ]
        },
        {
          "output_type": "stream",
          "name": "stdout",
          "text": [
            "\n",
            "      Epoch    GPU_mem   box_loss   cls_loss   dfl_loss  Instances       Size\n"
          ]
        },
        {
          "output_type": "stream",
          "name": "stderr",
          "text": [
            "    126/200      38.6G     0.9439     0.4696      1.134       2439        960: 100%|██████████| 31/31 [00:23<00:00,  1.32it/s]\n",
            "                 Class     Images  Instances      Box(P          R      mAP50  mAP50-95): 100%|██████████| 5/5 [00:03<00:00,  1.52it/s]"
          ]
        },
        {
          "output_type": "stream",
          "name": "stdout",
          "text": [
            "                   all        563      11164      0.978      0.909      0.942      0.696\n"
          ]
        },
        {
          "output_type": "stream",
          "name": "stderr",
          "text": [
            "\n"
          ]
        },
        {
          "output_type": "stream",
          "name": "stdout",
          "text": [
            "\n",
            "      Epoch    GPU_mem   box_loss   cls_loss   dfl_loss  Instances       Size\n"
          ]
        },
        {
          "output_type": "stream",
          "name": "stderr",
          "text": [
            "    127/200      37.9G     0.9446     0.4729      1.131       2132        960: 100%|██████████| 31/31 [00:19<00:00,  1.58it/s]\n",
            "                 Class     Images  Instances      Box(P          R      mAP50  mAP50-95): 100%|██████████| 5/5 [00:03<00:00,  1.32it/s]"
          ]
        },
        {
          "output_type": "stream",
          "name": "stdout",
          "text": [
            "                   all        563      11164      0.972      0.913      0.942      0.689\n"
          ]
        },
        {
          "output_type": "stream",
          "name": "stderr",
          "text": [
            "\n"
          ]
        },
        {
          "output_type": "stream",
          "name": "stdout",
          "text": [
            "\n",
            "      Epoch    GPU_mem   box_loss   cls_loss   dfl_loss  Instances       Size\n"
          ]
        },
        {
          "output_type": "stream",
          "name": "stderr",
          "text": [
            "    128/200      36.8G     0.9453     0.4726      1.136       1794        960: 100%|██████████| 31/31 [00:23<00:00,  1.32it/s]\n",
            "                 Class     Images  Instances      Box(P          R      mAP50  mAP50-95): 100%|██████████| 5/5 [00:03<00:00,  1.50it/s]"
          ]
        },
        {
          "output_type": "stream",
          "name": "stdout",
          "text": [
            "                   all        563      11164      0.972      0.915      0.945      0.684\n"
          ]
        },
        {
          "output_type": "stream",
          "name": "stderr",
          "text": [
            "\n"
          ]
        },
        {
          "output_type": "stream",
          "name": "stdout",
          "text": [
            "\n",
            "      Epoch    GPU_mem   box_loss   cls_loss   dfl_loss  Instances       Size\n"
          ]
        },
        {
          "output_type": "stream",
          "name": "stderr",
          "text": [
            "    129/200      34.4G     0.9416      0.473      1.133       2448        960: 100%|██████████| 31/31 [00:18<00:00,  1.70it/s]\n",
            "                 Class     Images  Instances      Box(P          R      mAP50  mAP50-95): 100%|██████████| 5/5 [00:03<00:00,  1.25it/s]"
          ]
        },
        {
          "output_type": "stream",
          "name": "stdout",
          "text": [
            "                   all        563      11164      0.978       0.91      0.947      0.707\n"
          ]
        },
        {
          "output_type": "stream",
          "name": "stderr",
          "text": [
            "\n"
          ]
        },
        {
          "output_type": "stream",
          "name": "stdout",
          "text": [
            "\n",
            "      Epoch    GPU_mem   box_loss   cls_loss   dfl_loss  Instances       Size\n"
          ]
        },
        {
          "output_type": "stream",
          "name": "stderr",
          "text": [
            "    130/200      38.5G      0.941     0.4698      1.128       2326        960: 100%|██████████| 31/31 [00:22<00:00,  1.36it/s]\n",
            "                 Class     Images  Instances      Box(P          R      mAP50  mAP50-95): 100%|██████████| 5/5 [00:03<00:00,  1.43it/s]"
          ]
        },
        {
          "output_type": "stream",
          "name": "stdout",
          "text": [
            "                   all        563      11164      0.974      0.915      0.944      0.701\n"
          ]
        },
        {
          "output_type": "stream",
          "name": "stderr",
          "text": [
            "\n"
          ]
        },
        {
          "output_type": "stream",
          "name": "stdout",
          "text": [
            "\n",
            "      Epoch    GPU_mem   box_loss   cls_loss   dfl_loss  Instances       Size\n"
          ]
        },
        {
          "output_type": "stream",
          "name": "stderr",
          "text": [
            "    131/200      38.7G     0.9469     0.4694      1.129       1939        960: 100%|██████████| 31/31 [00:18<00:00,  1.66it/s]\n",
            "                 Class     Images  Instances      Box(P          R      mAP50  mAP50-95): 100%|██████████| 5/5 [00:07<00:00,  1.48s/it]"
          ]
        },
        {
          "output_type": "stream",
          "name": "stdout",
          "text": [
            "                   all        563      11164      0.977      0.914      0.945      0.698\n"
          ]
        },
        {
          "output_type": "stream",
          "name": "stderr",
          "text": [
            "\n"
          ]
        },
        {
          "output_type": "stream",
          "name": "stdout",
          "text": [
            "\n",
            "      Epoch    GPU_mem   box_loss   cls_loss   dfl_loss  Instances       Size\n"
          ]
        },
        {
          "output_type": "stream",
          "name": "stderr",
          "text": [
            "    132/200      37.5G     0.9318      0.467      1.122       2105        960: 100%|██████████| 31/31 [00:19<00:00,  1.59it/s]\n",
            "                 Class     Images  Instances      Box(P          R      mAP50  mAP50-95): 100%|██████████| 5/5 [00:03<00:00,  1.42it/s]"
          ]
        },
        {
          "output_type": "stream",
          "name": "stdout",
          "text": [
            "                   all        563      11164      0.976      0.912      0.941      0.699\n"
          ]
        },
        {
          "output_type": "stream",
          "name": "stderr",
          "text": [
            "\n"
          ]
        },
        {
          "output_type": "stream",
          "name": "stdout",
          "text": [
            "\n",
            "      Epoch    GPU_mem   box_loss   cls_loss   dfl_loss  Instances       Size\n"
          ]
        },
        {
          "output_type": "stream",
          "name": "stderr",
          "text": [
            "    133/200      34.9G     0.9306     0.4664      1.125       2562        960: 100%|██████████| 31/31 [00:21<00:00,  1.44it/s]\n",
            "                 Class     Images  Instances      Box(P          R      mAP50  mAP50-95): 100%|██████████| 5/5 [00:08<00:00,  1.65s/it]"
          ]
        },
        {
          "output_type": "stream",
          "name": "stdout",
          "text": [
            "                   all        563      11164      0.973      0.916      0.942      0.697\n"
          ]
        },
        {
          "output_type": "stream",
          "name": "stderr",
          "text": [
            "\n"
          ]
        },
        {
          "output_type": "stream",
          "name": "stdout",
          "text": [
            "\n",
            "      Epoch    GPU_mem   box_loss   cls_loss   dfl_loss  Instances       Size\n"
          ]
        },
        {
          "output_type": "stream",
          "name": "stderr",
          "text": [
            "    134/200      34.9G     0.9416     0.4707      1.129       1852        960: 100%|██████████| 31/31 [00:17<00:00,  1.78it/s]\n",
            "                 Class     Images  Instances      Box(P          R      mAP50  mAP50-95): 100%|██████████| 5/5 [00:03<00:00,  1.38it/s]"
          ]
        },
        {
          "output_type": "stream",
          "name": "stdout",
          "text": [
            "                   all        563      11164      0.972      0.921      0.945      0.703\n"
          ]
        },
        {
          "output_type": "stream",
          "name": "stderr",
          "text": [
            "\n"
          ]
        },
        {
          "output_type": "stream",
          "name": "stdout",
          "text": [
            "\n",
            "      Epoch    GPU_mem   box_loss   cls_loss   dfl_loss  Instances       Size\n"
          ]
        },
        {
          "output_type": "stream",
          "name": "stderr",
          "text": [
            "    135/200        35G     0.9398     0.4668      1.129       2260        960: 100%|██████████| 31/31 [00:22<00:00,  1.40it/s]\n",
            "                 Class     Images  Instances      Box(P          R      mAP50  mAP50-95): 100%|██████████| 5/5 [00:08<00:00,  1.61s/it]"
          ]
        },
        {
          "output_type": "stream",
          "name": "stdout",
          "text": [
            "                   all        563      11164      0.975      0.915      0.946      0.697\n"
          ]
        },
        {
          "output_type": "stream",
          "name": "stderr",
          "text": [
            "\n"
          ]
        },
        {
          "output_type": "stream",
          "name": "stdout",
          "text": [
            "\n",
            "      Epoch    GPU_mem   box_loss   cls_loss   dfl_loss  Instances       Size\n"
          ]
        },
        {
          "output_type": "stream",
          "name": "stderr",
          "text": [
            "    136/200        35G     0.9392     0.4678      1.132       2409        960: 100%|██████████| 31/31 [00:24<00:00,  1.28it/s]\n",
            "                 Class     Images  Instances      Box(P          R      mAP50  mAP50-95): 100%|██████████| 5/5 [00:05<00:00,  1.15s/it]"
          ]
        },
        {
          "output_type": "stream",
          "name": "stdout",
          "text": [
            "                   all        563      11164      0.974      0.916      0.944      0.699\n"
          ]
        },
        {
          "output_type": "stream",
          "name": "stderr",
          "text": [
            "\n"
          ]
        },
        {
          "output_type": "stream",
          "name": "stdout",
          "text": [
            "\n",
            "      Epoch    GPU_mem   box_loss   cls_loss   dfl_loss  Instances       Size\n"
          ]
        },
        {
          "output_type": "stream",
          "name": "stderr",
          "text": [
            "    137/200      38.7G     0.9366     0.4636      1.133       2464        960: 100%|██████████| 31/31 [00:17<00:00,  1.77it/s]\n",
            "                 Class     Images  Instances      Box(P          R      mAP50  mAP50-95): 100%|██████████| 5/5 [00:04<00:00,  1.23it/s]"
          ]
        },
        {
          "output_type": "stream",
          "name": "stdout",
          "text": [
            "                   all        563      11164      0.974      0.914      0.941      0.703\n"
          ]
        },
        {
          "output_type": "stream",
          "name": "stderr",
          "text": [
            "\n"
          ]
        },
        {
          "output_type": "stream",
          "name": "stdout",
          "text": [
            "\n",
            "      Epoch    GPU_mem   box_loss   cls_loss   dfl_loss  Instances       Size\n"
          ]
        },
        {
          "output_type": "stream",
          "name": "stderr",
          "text": [
            "    138/200      35.8G     0.9438     0.4661      1.131       2288        960: 100%|██████████| 31/31 [00:23<00:00,  1.32it/s]\n",
            "                 Class     Images  Instances      Box(P          R      mAP50  mAP50-95): 100%|██████████| 5/5 [00:08<00:00,  1.78s/it]"
          ]
        },
        {
          "output_type": "stream",
          "name": "stdout",
          "text": [
            "                   all        563      11164      0.975      0.915      0.942      0.689\n"
          ]
        },
        {
          "output_type": "stream",
          "name": "stderr",
          "text": [
            "\n"
          ]
        },
        {
          "output_type": "stream",
          "name": "stdout",
          "text": [
            "\n",
            "      Epoch    GPU_mem   box_loss   cls_loss   dfl_loss  Instances       Size\n"
          ]
        },
        {
          "output_type": "stream",
          "name": "stderr",
          "text": [
            "    139/200      37.1G     0.9382     0.4685      1.128       2025        960: 100%|██████████| 31/31 [00:18<00:00,  1.68it/s]\n",
            "                 Class     Images  Instances      Box(P          R      mAP50  mAP50-95): 100%|██████████| 5/5 [00:04<00:00,  1.18it/s]"
          ]
        },
        {
          "output_type": "stream",
          "name": "stdout",
          "text": [
            "                   all        563      11164      0.974      0.913      0.941      0.689\n"
          ]
        },
        {
          "output_type": "stream",
          "name": "stderr",
          "text": [
            "\n"
          ]
        },
        {
          "output_type": "stream",
          "name": "stdout",
          "text": [
            "\n",
            "      Epoch    GPU_mem   box_loss   cls_loss   dfl_loss  Instances       Size\n"
          ]
        },
        {
          "output_type": "stream",
          "name": "stderr",
          "text": [
            "    140/200      37.7G     0.9277     0.4616      1.127       2266        960: 100%|██████████| 31/31 [00:22<00:00,  1.40it/s]\n",
            "                 Class     Images  Instances      Box(P          R      mAP50  mAP50-95): 100%|██████████| 5/5 [00:06<00:00,  1.36s/it]"
          ]
        },
        {
          "output_type": "stream",
          "name": "stdout",
          "text": [
            "                   all        563      11164      0.974      0.915      0.943      0.693\n"
          ]
        },
        {
          "output_type": "stream",
          "name": "stderr",
          "text": [
            "\n"
          ]
        },
        {
          "output_type": "stream",
          "name": "stdout",
          "text": [
            "\n",
            "      Epoch    GPU_mem   box_loss   cls_loss   dfl_loss  Instances       Size\n"
          ]
        },
        {
          "output_type": "stream",
          "name": "stderr",
          "text": [
            "    141/200      36.5G     0.9283      0.462      1.129       1999        960: 100%|██████████| 31/31 [00:18<00:00,  1.69it/s]\n",
            "                 Class     Images  Instances      Box(P          R      mAP50  mAP50-95): 100%|██████████| 5/5 [00:04<00:00,  1.23it/s]"
          ]
        },
        {
          "output_type": "stream",
          "name": "stdout",
          "text": [
            "                   all        563      11164      0.974      0.917      0.946        0.7\n"
          ]
        },
        {
          "output_type": "stream",
          "name": "stderr",
          "text": [
            "\n"
          ]
        },
        {
          "output_type": "stream",
          "name": "stdout",
          "text": [
            "\n",
            "      Epoch    GPU_mem   box_loss   cls_loss   dfl_loss  Instances       Size\n"
          ]
        },
        {
          "output_type": "stream",
          "name": "stderr",
          "text": [
            "    142/200      36.2G     0.9242     0.4595      1.122       2099        960: 100%|██████████| 31/31 [00:24<00:00,  1.29it/s]\n",
            "                 Class     Images  Instances      Box(P          R      mAP50  mAP50-95): 100%|██████████| 5/5 [00:09<00:00,  1.84s/it]"
          ]
        },
        {
          "output_type": "stream",
          "name": "stdout",
          "text": [
            "                   all        563      11164      0.974      0.916      0.944      0.701\n"
          ]
        },
        {
          "output_type": "stream",
          "name": "stderr",
          "text": [
            "\n"
          ]
        },
        {
          "output_type": "stream",
          "name": "stdout",
          "text": [
            "\n",
            "      Epoch    GPU_mem   box_loss   cls_loss   dfl_loss  Instances       Size\n"
          ]
        },
        {
          "output_type": "stream",
          "name": "stderr",
          "text": [
            "    143/200      34.8G     0.9319     0.4637      1.129       2217        960: 100%|██████████| 31/31 [00:18<00:00,  1.69it/s]\n",
            "                 Class     Images  Instances      Box(P          R      mAP50  mAP50-95): 100%|██████████| 5/5 [00:03<00:00,  1.32it/s]"
          ]
        },
        {
          "output_type": "stream",
          "name": "stdout",
          "text": [
            "                   all        563      11164      0.976      0.915      0.944      0.704\n"
          ]
        },
        {
          "output_type": "stream",
          "name": "stderr",
          "text": [
            "\n"
          ]
        },
        {
          "output_type": "stream",
          "name": "stdout",
          "text": [
            "\n",
            "      Epoch    GPU_mem   box_loss   cls_loss   dfl_loss  Instances       Size\n"
          ]
        },
        {
          "output_type": "stream",
          "name": "stderr",
          "text": [
            "    144/200      38.4G     0.9338     0.4656      1.131       2450        960: 100%|██████████| 31/31 [00:21<00:00,  1.43it/s]\n",
            "                 Class     Images  Instances      Box(P          R      mAP50  mAP50-95): 100%|██████████| 5/5 [00:08<00:00,  1.78s/it]"
          ]
        },
        {
          "output_type": "stream",
          "name": "stdout",
          "text": [
            "                   all        563      11164      0.972      0.917      0.943      0.701\n"
          ]
        },
        {
          "output_type": "stream",
          "name": "stderr",
          "text": [
            "\n"
          ]
        },
        {
          "output_type": "stream",
          "name": "stdout",
          "text": [
            "\n",
            "      Epoch    GPU_mem   box_loss   cls_loss   dfl_loss  Instances       Size\n"
          ]
        },
        {
          "output_type": "stream",
          "name": "stderr",
          "text": [
            "    145/200      36.4G     0.9261     0.4569      1.122       2508        960: 100%|██████████| 31/31 [00:20<00:00,  1.53it/s]\n",
            "                 Class     Images  Instances      Box(P          R      mAP50  mAP50-95): 100%|██████████| 5/5 [00:03<00:00,  1.30it/s]"
          ]
        },
        {
          "output_type": "stream",
          "name": "stdout",
          "text": [
            "                   all        563      11164      0.978       0.91      0.941      0.703\n"
          ]
        },
        {
          "output_type": "stream",
          "name": "stderr",
          "text": [
            "\n"
          ]
        },
        {
          "output_type": "stream",
          "name": "stdout",
          "text": [
            "\n",
            "      Epoch    GPU_mem   box_loss   cls_loss   dfl_loss  Instances       Size\n"
          ]
        },
        {
          "output_type": "stream",
          "name": "stderr",
          "text": [
            "    146/200      37.1G     0.9236     0.4588      1.128       2665        960: 100%|██████████| 31/31 [00:20<00:00,  1.54it/s]\n",
            "                 Class     Images  Instances      Box(P          R      mAP50  mAP50-95): 100%|██████████| 5/5 [00:10<00:00,  2.11s/it]"
          ]
        },
        {
          "output_type": "stream",
          "name": "stdout",
          "text": [
            "                   all        563      11164      0.976      0.911      0.943      0.701\n"
          ]
        },
        {
          "output_type": "stream",
          "name": "stderr",
          "text": [
            "\n"
          ]
        },
        {
          "output_type": "stream",
          "name": "stdout",
          "text": [
            "\n",
            "      Epoch    GPU_mem   box_loss   cls_loss   dfl_loss  Instances       Size\n"
          ]
        },
        {
          "output_type": "stream",
          "name": "stderr",
          "text": [
            "    147/200      34.5G     0.9317      0.462      1.129       2416        960: 100%|██████████| 31/31 [00:18<00:00,  1.69it/s]\n",
            "                 Class     Images  Instances      Box(P          R      mAP50  mAP50-95): 100%|██████████| 5/5 [00:03<00:00,  1.28it/s]"
          ]
        },
        {
          "output_type": "stream",
          "name": "stdout",
          "text": [
            "                   all        563      11164      0.973      0.914      0.943      0.697\n"
          ]
        },
        {
          "output_type": "stream",
          "name": "stderr",
          "text": [
            "\n"
          ]
        },
        {
          "output_type": "stream",
          "name": "stdout",
          "text": [
            "\n",
            "      Epoch    GPU_mem   box_loss   cls_loss   dfl_loss  Instances       Size\n"
          ]
        },
        {
          "output_type": "stream",
          "name": "stderr",
          "text": [
            "    148/200      37.5G     0.9223     0.4559      1.126       2164        960: 100%|██████████| 31/31 [00:21<00:00,  1.41it/s]\n",
            "                 Class     Images  Instances      Box(P          R      mAP50  mAP50-95): 100%|██████████| 5/5 [00:05<00:00,  1.16s/it]"
          ]
        },
        {
          "output_type": "stream",
          "name": "stdout",
          "text": [
            "                   all        563      11164      0.974      0.914      0.942        0.7\n"
          ]
        },
        {
          "output_type": "stream",
          "name": "stderr",
          "text": [
            "\n"
          ]
        },
        {
          "output_type": "stream",
          "name": "stdout",
          "text": [
            "\n",
            "      Epoch    GPU_mem   box_loss   cls_loss   dfl_loss  Instances       Size\n"
          ]
        },
        {
          "output_type": "stream",
          "name": "stderr",
          "text": [
            "    149/200        36G     0.9208     0.4559      1.127       2039        960: 100%|██████████| 31/31 [00:18<00:00,  1.71it/s]\n",
            "                 Class     Images  Instances      Box(P          R      mAP50  mAP50-95): 100%|██████████| 5/5 [00:03<00:00,  1.34it/s]"
          ]
        },
        {
          "output_type": "stream",
          "name": "stdout",
          "text": [
            "                   all        563      11164      0.974      0.915      0.942      0.708\n"
          ]
        },
        {
          "output_type": "stream",
          "name": "stderr",
          "text": [
            "\n"
          ]
        },
        {
          "output_type": "stream",
          "name": "stdout",
          "text": [
            "\n",
            "      Epoch    GPU_mem   box_loss   cls_loss   dfl_loss  Instances       Size\n"
          ]
        },
        {
          "output_type": "stream",
          "name": "stderr",
          "text": [
            "    150/200      35.8G     0.9314     0.4617      1.127       2297        960: 100%|██████████| 31/31 [00:23<00:00,  1.31it/s]\n",
            "                 Class     Images  Instances      Box(P          R      mAP50  mAP50-95): 100%|██████████| 5/5 [00:03<00:00,  1.47it/s]"
          ]
        },
        {
          "output_type": "stream",
          "name": "stdout",
          "text": [
            "                   all        563      11164      0.973      0.913      0.942      0.706\n"
          ]
        },
        {
          "output_type": "stream",
          "name": "stderr",
          "text": [
            "\n"
          ]
        },
        {
          "output_type": "stream",
          "name": "stdout",
          "text": [
            "\n",
            "      Epoch    GPU_mem   box_loss   cls_loss   dfl_loss  Instances       Size\n"
          ]
        },
        {
          "output_type": "stream",
          "name": "stderr",
          "text": [
            "    151/200      35.6G     0.9239      0.457      1.119       2499        960: 100%|██████████| 31/31 [00:18<00:00,  1.66it/s]\n",
            "                 Class     Images  Instances      Box(P          R      mAP50  mAP50-95): 100%|██████████| 5/5 [00:03<00:00,  1.30it/s]"
          ]
        },
        {
          "output_type": "stream",
          "name": "stdout",
          "text": [
            "                   all        563      11164      0.975      0.913      0.941      0.698\n"
          ]
        },
        {
          "output_type": "stream",
          "name": "stderr",
          "text": [
            "\n"
          ]
        },
        {
          "output_type": "stream",
          "name": "stdout",
          "text": [
            "\n",
            "      Epoch    GPU_mem   box_loss   cls_loss   dfl_loss  Instances       Size\n"
          ]
        },
        {
          "output_type": "stream",
          "name": "stderr",
          "text": [
            "    152/200      38.4G     0.9259     0.4558      1.125       2364        960: 100%|██████████| 31/31 [00:23<00:00,  1.33it/s]\n",
            "                 Class     Images  Instances      Box(P          R      mAP50  mAP50-95): 100%|██████████| 5/5 [00:03<00:00,  1.59it/s]"
          ]
        },
        {
          "output_type": "stream",
          "name": "stdout",
          "text": [
            "                   all        563      11164      0.975      0.918      0.945      0.702\n"
          ]
        },
        {
          "output_type": "stream",
          "name": "stderr",
          "text": [
            "\n"
          ]
        },
        {
          "output_type": "stream",
          "name": "stdout",
          "text": [
            "\n",
            "      Epoch    GPU_mem   box_loss   cls_loss   dfl_loss  Instances       Size\n"
          ]
        },
        {
          "output_type": "stream",
          "name": "stderr",
          "text": [
            "    153/200      38.9G      0.918     0.4541      1.121       2440        960: 100%|██████████| 31/31 [00:18<00:00,  1.68it/s]\n",
            "                 Class     Images  Instances      Box(P          R      mAP50  mAP50-95): 100%|██████████| 5/5 [00:03<00:00,  1.36it/s]"
          ]
        },
        {
          "output_type": "stream",
          "name": "stdout",
          "text": [
            "                   all        563      11164      0.976      0.917      0.944      0.699\n"
          ]
        },
        {
          "output_type": "stream",
          "name": "stderr",
          "text": [
            "\n"
          ]
        },
        {
          "output_type": "stream",
          "name": "stdout",
          "text": [
            "\n",
            "      Epoch    GPU_mem   box_loss   cls_loss   dfl_loss  Instances       Size\n"
          ]
        },
        {
          "output_type": "stream",
          "name": "stderr",
          "text": [
            "    154/200      36.2G     0.9206     0.4565      1.125       1992        960: 100%|██████████| 31/31 [00:23<00:00,  1.32it/s]\n",
            "                 Class     Images  Instances      Box(P          R      mAP50  mAP50-95): 100%|██████████| 5/5 [00:03<00:00,  1.43it/s]"
          ]
        },
        {
          "output_type": "stream",
          "name": "stdout",
          "text": [
            "                   all        563      11164      0.976      0.912      0.942      0.705\n"
          ]
        },
        {
          "output_type": "stream",
          "name": "stderr",
          "text": [
            "\n"
          ]
        },
        {
          "output_type": "stream",
          "name": "stdout",
          "text": [
            "\n",
            "      Epoch    GPU_mem   box_loss   cls_loss   dfl_loss  Instances       Size\n"
          ]
        },
        {
          "output_type": "stream",
          "name": "stderr",
          "text": [
            "    155/200      38.9G     0.9216     0.4554      1.121       2288        960: 100%|██████████| 31/31 [00:18<00:00,  1.67it/s]\n",
            "                 Class     Images  Instances      Box(P          R      mAP50  mAP50-95): 100%|██████████| 5/5 [00:08<00:00,  1.67s/it]"
          ]
        },
        {
          "output_type": "stream",
          "name": "stdout",
          "text": [
            "                   all        563      11164      0.974      0.915      0.943      0.704\n"
          ]
        },
        {
          "output_type": "stream",
          "name": "stderr",
          "text": [
            "\n"
          ]
        },
        {
          "output_type": "stream",
          "name": "stdout",
          "text": [
            "\n",
            "      Epoch    GPU_mem   box_loss   cls_loss   dfl_loss  Instances       Size\n"
          ]
        },
        {
          "output_type": "stream",
          "name": "stderr",
          "text": [
            "    156/200      37.1G      0.916     0.4533      1.119       1939        960: 100%|██████████| 31/31 [00:19<00:00,  1.62it/s]\n",
            "                 Class     Images  Instances      Box(P          R      mAP50  mAP50-95): 100%|██████████| 5/5 [00:03<00:00,  1.30it/s]"
          ]
        },
        {
          "output_type": "stream",
          "name": "stdout",
          "text": [
            "                   all        563      11164      0.971      0.916      0.944      0.705\n"
          ]
        },
        {
          "output_type": "stream",
          "name": "stderr",
          "text": [
            "\n"
          ]
        },
        {
          "output_type": "stream",
          "name": "stdout",
          "text": [
            "\n",
            "      Epoch    GPU_mem   box_loss   cls_loss   dfl_loss  Instances       Size\n"
          ]
        },
        {
          "output_type": "stream",
          "name": "stderr",
          "text": [
            "    157/200      38.1G     0.9126      0.451      1.118       2435        960: 100%|██████████| 31/31 [00:21<00:00,  1.45it/s]\n",
            "                 Class     Images  Instances      Box(P          R      mAP50  mAP50-95): 100%|██████████| 5/5 [00:08<00:00,  1.73s/it]"
          ]
        },
        {
          "output_type": "stream",
          "name": "stdout",
          "text": [
            "                   all        563      11164      0.977       0.91      0.943      0.708\n"
          ]
        },
        {
          "output_type": "stream",
          "name": "stderr",
          "text": [
            "\n"
          ]
        },
        {
          "output_type": "stream",
          "name": "stdout",
          "text": [
            "\n",
            "      Epoch    GPU_mem   box_loss   cls_loss   dfl_loss  Instances       Size\n"
          ]
        },
        {
          "output_type": "stream",
          "name": "stderr",
          "text": [
            "    158/200      37.3G     0.9196     0.4544      1.119       2027        960: 100%|██████████| 31/31 [00:18<00:00,  1.70it/s]\n",
            "                 Class     Images  Instances      Box(P          R      mAP50  mAP50-95): 100%|██████████| 5/5 [00:04<00:00,  1.25it/s]"
          ]
        },
        {
          "output_type": "stream",
          "name": "stdout",
          "text": [
            "                   all        563      11164      0.975      0.917      0.945      0.709\n"
          ]
        },
        {
          "output_type": "stream",
          "name": "stderr",
          "text": [
            "\n"
          ]
        },
        {
          "output_type": "stream",
          "name": "stdout",
          "text": [
            "\n",
            "      Epoch    GPU_mem   box_loss   cls_loss   dfl_loss  Instances       Size\n"
          ]
        },
        {
          "output_type": "stream",
          "name": "stderr",
          "text": [
            "    159/200      38.1G     0.9101     0.4514      1.121       2267        960: 100%|██████████| 31/31 [00:23<00:00,  1.29it/s]\n",
            "                 Class     Images  Instances      Box(P          R      mAP50  mAP50-95): 100%|██████████| 5/5 [00:03<00:00,  1.37it/s]"
          ]
        },
        {
          "output_type": "stream",
          "name": "stdout",
          "text": [
            "                   all        563      11164      0.972      0.918      0.945      0.706\n"
          ]
        },
        {
          "output_type": "stream",
          "name": "stderr",
          "text": [
            "\n"
          ]
        },
        {
          "output_type": "stream",
          "name": "stdout",
          "text": [
            "\n",
            "      Epoch    GPU_mem   box_loss   cls_loss   dfl_loss  Instances       Size\n"
          ]
        },
        {
          "output_type": "stream",
          "name": "stderr",
          "text": [
            "    160/200      36.5G     0.9059     0.4497       1.11       2438        960: 100%|██████████| 31/31 [00:18<00:00,  1.68it/s]\n",
            "                 Class     Images  Instances      Box(P          R      mAP50  mAP50-95): 100%|██████████| 5/5 [00:04<00:00,  1.19it/s]"
          ]
        },
        {
          "output_type": "stream",
          "name": "stdout",
          "text": [
            "                   all        563      11164      0.975      0.915      0.943      0.701\n"
          ]
        },
        {
          "output_type": "stream",
          "name": "stderr",
          "text": [
            "\n"
          ]
        },
        {
          "output_type": "stream",
          "name": "stdout",
          "text": [
            "\n",
            "      Epoch    GPU_mem   box_loss   cls_loss   dfl_loss  Instances       Size\n"
          ]
        },
        {
          "output_type": "stream",
          "name": "stderr",
          "text": [
            "    161/200      35.1G     0.9113     0.4512      1.115       2168        960: 100%|██████████| 31/31 [00:23<00:00,  1.30it/s]\n",
            "                 Class     Images  Instances      Box(P          R      mAP50  mAP50-95): 100%|██████████| 5/5 [00:08<00:00,  1.65s/it]"
          ]
        },
        {
          "output_type": "stream",
          "name": "stdout",
          "text": [
            "                   all        563      11164      0.974      0.915      0.943      0.704\n"
          ]
        },
        {
          "output_type": "stream",
          "name": "stderr",
          "text": [
            "\n"
          ]
        },
        {
          "output_type": "stream",
          "name": "stdout",
          "text": [
            "\n",
            "      Epoch    GPU_mem   box_loss   cls_loss   dfl_loss  Instances       Size\n"
          ]
        },
        {
          "output_type": "stream",
          "name": "stderr",
          "text": [
            "    162/200      35.2G     0.9126     0.4502      1.117       2348        960: 100%|██████████| 31/31 [00:19<00:00,  1.62it/s]\n",
            "                 Class     Images  Instances      Box(P          R      mAP50  mAP50-95): 100%|██████████| 5/5 [00:03<00:00,  1.33it/s]"
          ]
        },
        {
          "output_type": "stream",
          "name": "stdout",
          "text": [
            "                   all        563      11164      0.974      0.916      0.944      0.703\n"
          ]
        },
        {
          "output_type": "stream",
          "name": "stderr",
          "text": [
            "\n"
          ]
        },
        {
          "output_type": "stream",
          "name": "stdout",
          "text": [
            "\n",
            "      Epoch    GPU_mem   box_loss   cls_loss   dfl_loss  Instances       Size\n"
          ]
        },
        {
          "output_type": "stream",
          "name": "stderr",
          "text": [
            "    163/200      35.2G     0.9091      0.446      1.117       2615        960: 100%|██████████| 31/31 [00:20<00:00,  1.53it/s]\n",
            "                 Class     Images  Instances      Box(P          R      mAP50  mAP50-95): 100%|██████████| 5/5 [00:09<00:00,  1.98s/it]"
          ]
        },
        {
          "output_type": "stream",
          "name": "stdout",
          "text": [
            "                   all        563      11164      0.975      0.916      0.944      0.708\n"
          ]
        },
        {
          "output_type": "stream",
          "name": "stderr",
          "text": [
            "\n"
          ]
        },
        {
          "output_type": "stream",
          "name": "stdout",
          "text": [
            "\n",
            "      Epoch    GPU_mem   box_loss   cls_loss   dfl_loss  Instances       Size\n"
          ]
        },
        {
          "output_type": "stream",
          "name": "stderr",
          "text": [
            "    164/200      35.2G     0.9062     0.4474      1.113       2654        960: 100%|██████████| 31/31 [00:22<00:00,  1.36it/s]\n",
            "                 Class     Images  Instances      Box(P          R      mAP50  mAP50-95): 100%|██████████| 5/5 [00:03<00:00,  1.50it/s]"
          ]
        },
        {
          "output_type": "stream",
          "name": "stdout",
          "text": [
            "                   all        563      11164      0.975      0.915      0.945      0.707\n"
          ]
        },
        {
          "output_type": "stream",
          "name": "stderr",
          "text": [
            "\n"
          ]
        },
        {
          "output_type": "stream",
          "name": "stdout",
          "text": [
            "\n",
            "      Epoch    GPU_mem   box_loss   cls_loss   dfl_loss  Instances       Size\n"
          ]
        },
        {
          "output_type": "stream",
          "name": "stderr",
          "text": [
            "    165/200        39G     0.9068     0.4462      1.115       2108        960: 100%|██████████| 31/31 [00:17<00:00,  1.76it/s]\n",
            "                 Class     Images  Instances      Box(P          R      mAP50  mAP50-95): 100%|██████████| 5/5 [00:04<00:00,  1.12it/s]"
          ]
        },
        {
          "output_type": "stream",
          "name": "stdout",
          "text": [
            "                   all        563      11164      0.975      0.916      0.944       0.71\n"
          ]
        },
        {
          "output_type": "stream",
          "name": "stderr",
          "text": [
            "\n"
          ]
        },
        {
          "output_type": "stream",
          "name": "stdout",
          "text": [
            "\n",
            "      Epoch    GPU_mem   box_loss   cls_loss   dfl_loss  Instances       Size\n"
          ]
        },
        {
          "output_type": "stream",
          "name": "stderr",
          "text": [
            "    166/200      35.2G     0.9068     0.4449      1.116       2238        960: 100%|██████████| 31/31 [00:25<00:00,  1.23it/s]\n",
            "                 Class     Images  Instances      Box(P          R      mAP50  mAP50-95): 100%|██████████| 5/5 [00:04<00:00,  1.17it/s]"
          ]
        },
        {
          "output_type": "stream",
          "name": "stdout",
          "text": [
            "                   all        563      11164      0.976      0.917      0.945      0.709\n"
          ]
        },
        {
          "output_type": "stream",
          "name": "stderr",
          "text": [
            "\n"
          ]
        },
        {
          "output_type": "stream",
          "name": "stdout",
          "text": [
            "\n",
            "      Epoch    GPU_mem   box_loss   cls_loss   dfl_loss  Instances       Size\n"
          ]
        },
        {
          "output_type": "stream",
          "name": "stderr",
          "text": [
            "    167/200      35.7G     0.9123     0.4477      1.114       2291        960: 100%|██████████| 31/31 [00:17<00:00,  1.76it/s]\n",
            "                 Class     Images  Instances      Box(P          R      mAP50  mAP50-95): 100%|██████████| 5/5 [00:04<00:00,  1.19it/s]"
          ]
        },
        {
          "output_type": "stream",
          "name": "stdout",
          "text": [
            "                   all        563      11164      0.974      0.919      0.945      0.712\n"
          ]
        },
        {
          "output_type": "stream",
          "name": "stderr",
          "text": [
            "\n"
          ]
        },
        {
          "output_type": "stream",
          "name": "stdout",
          "text": [
            "\n",
            "      Epoch    GPU_mem   box_loss   cls_loss   dfl_loss  Instances       Size\n"
          ]
        },
        {
          "output_type": "stream",
          "name": "stderr",
          "text": [
            "    168/200      35.2G      0.913     0.4493      1.115       2276        960: 100%|██████████| 31/31 [00:23<00:00,  1.30it/s]\n",
            "                 Class     Images  Instances      Box(P          R      mAP50  mAP50-95): 100%|██████████| 5/5 [00:03<00:00,  1.49it/s]"
          ]
        },
        {
          "output_type": "stream",
          "name": "stdout",
          "text": [
            "                   all        563      11164      0.975      0.916      0.946      0.709\n"
          ]
        },
        {
          "output_type": "stream",
          "name": "stderr",
          "text": [
            "\n"
          ]
        },
        {
          "output_type": "stream",
          "name": "stdout",
          "text": [
            "\n",
            "      Epoch    GPU_mem   box_loss   cls_loss   dfl_loss  Instances       Size\n"
          ]
        },
        {
          "output_type": "stream",
          "name": "stderr",
          "text": [
            "    169/200      35.2G     0.9113     0.4504      1.118       2244        960: 100%|██████████| 31/31 [00:17<00:00,  1.74it/s]\n",
            "                 Class     Images  Instances      Box(P          R      mAP50  mAP50-95): 100%|██████████| 5/5 [00:04<00:00,  1.23it/s]"
          ]
        },
        {
          "output_type": "stream",
          "name": "stdout",
          "text": [
            "                   all        563      11164      0.975      0.916      0.943      0.706\n"
          ]
        },
        {
          "output_type": "stream",
          "name": "stderr",
          "text": [
            "\n"
          ]
        },
        {
          "output_type": "stream",
          "name": "stdout",
          "text": [
            "\n",
            "      Epoch    GPU_mem   box_loss   cls_loss   dfl_loss  Instances       Size\n"
          ]
        },
        {
          "output_type": "stream",
          "name": "stderr",
          "text": [
            "    170/200      35.2G     0.9061      0.446      1.114       2264        960: 100%|██████████| 31/31 [00:22<00:00,  1.35it/s]\n",
            "                 Class     Images  Instances      Box(P          R      mAP50  mAP50-95): 100%|██████████| 5/5 [00:04<00:00,  1.06it/s]"
          ]
        },
        {
          "output_type": "stream",
          "name": "stdout",
          "text": [
            "                   all        563      11164      0.977      0.913      0.943      0.709\n"
          ]
        },
        {
          "output_type": "stream",
          "name": "stderr",
          "text": [
            "\n"
          ]
        },
        {
          "output_type": "stream",
          "name": "stdout",
          "text": [
            "\n",
            "      Epoch    GPU_mem   box_loss   cls_loss   dfl_loss  Instances       Size\n"
          ]
        },
        {
          "output_type": "stream",
          "name": "stderr",
          "text": [
            "    171/200      35.3G     0.9032     0.4421      1.109       2567        960: 100%|██████████| 31/31 [00:17<00:00,  1.76it/s]\n",
            "                 Class     Images  Instances      Box(P          R      mAP50  mAP50-95): 100%|██████████| 5/5 [00:03<00:00,  1.26it/s]"
          ]
        },
        {
          "output_type": "stream",
          "name": "stdout",
          "text": [
            "                   all        563      11164      0.978      0.917      0.945      0.712\n"
          ]
        },
        {
          "output_type": "stream",
          "name": "stderr",
          "text": [
            "\n"
          ]
        },
        {
          "output_type": "stream",
          "name": "stdout",
          "text": [
            "\n",
            "      Epoch    GPU_mem   box_loss   cls_loss   dfl_loss  Instances       Size\n"
          ]
        },
        {
          "output_type": "stream",
          "name": "stderr",
          "text": [
            "    172/200      35.6G     0.9003     0.4437      1.108       2497        960: 100%|██████████| 31/31 [00:23<00:00,  1.34it/s]\n",
            "                 Class     Images  Instances      Box(P          R      mAP50  mAP50-95): 100%|██████████| 5/5 [00:08<00:00,  1.68s/it]"
          ]
        },
        {
          "output_type": "stream",
          "name": "stdout",
          "text": [
            "                   all        563      11164      0.977      0.916      0.943      0.711\n"
          ]
        },
        {
          "output_type": "stream",
          "name": "stderr",
          "text": [
            "\n"
          ]
        },
        {
          "output_type": "stream",
          "name": "stdout",
          "text": [
            "\n",
            "      Epoch    GPU_mem   box_loss   cls_loss   dfl_loss  Instances       Size\n"
          ]
        },
        {
          "output_type": "stream",
          "name": "stderr",
          "text": [
            "    173/200      37.3G     0.8986     0.4426      1.107       2275        960: 100%|██████████| 31/31 [00:19<00:00,  1.58it/s]\n",
            "                 Class     Images  Instances      Box(P          R      mAP50  mAP50-95): 100%|██████████| 5/5 [00:03<00:00,  1.35it/s]"
          ]
        },
        {
          "output_type": "stream",
          "name": "stdout",
          "text": [
            "                   all        563      11164      0.975      0.918      0.944      0.709\n"
          ]
        },
        {
          "output_type": "stream",
          "name": "stderr",
          "text": [
            "\n"
          ]
        },
        {
          "output_type": "stream",
          "name": "stdout",
          "text": [
            "\n",
            "      Epoch    GPU_mem   box_loss   cls_loss   dfl_loss  Instances       Size\n"
          ]
        },
        {
          "output_type": "stream",
          "name": "stderr",
          "text": [
            "    174/200      37.9G     0.9055     0.4459      1.115       2043        960: 100%|██████████| 31/31 [00:20<00:00,  1.50it/s]\n",
            "                 Class     Images  Instances      Box(P          R      mAP50  mAP50-95): 100%|██████████| 5/5 [00:09<00:00,  1.90s/it]"
          ]
        },
        {
          "output_type": "stream",
          "name": "stdout",
          "text": [
            "                   all        563      11164      0.976      0.916      0.944      0.711\n"
          ]
        },
        {
          "output_type": "stream",
          "name": "stderr",
          "text": [
            "\n"
          ]
        },
        {
          "output_type": "stream",
          "name": "stdout",
          "text": [
            "\n",
            "      Epoch    GPU_mem   box_loss   cls_loss   dfl_loss  Instances       Size\n"
          ]
        },
        {
          "output_type": "stream",
          "name": "stderr",
          "text": [
            "    175/200      38.4G     0.9069     0.4438      1.111       2064        960: 100%|██████████| 31/31 [00:18<00:00,  1.71it/s]\n",
            "                 Class     Images  Instances      Box(P          R      mAP50  mAP50-95): 100%|██████████| 5/5 [00:03<00:00,  1.36it/s]"
          ]
        },
        {
          "output_type": "stream",
          "name": "stdout",
          "text": [
            "                   all        563      11164      0.978      0.915      0.943       0.71\n"
          ]
        },
        {
          "output_type": "stream",
          "name": "stderr",
          "text": [
            "\n"
          ]
        },
        {
          "output_type": "stream",
          "name": "stdout",
          "text": [
            "\n",
            "      Epoch    GPU_mem   box_loss   cls_loss   dfl_loss  Instances       Size\n"
          ]
        },
        {
          "output_type": "stream",
          "name": "stderr",
          "text": [
            "    176/200      36.9G     0.9037     0.4443      1.114       2192        960: 100%|██████████| 31/31 [00:22<00:00,  1.35it/s]\n",
            "                 Class     Images  Instances      Box(P          R      mAP50  mAP50-95): 100%|██████████| 5/5 [00:06<00:00,  1.20s/it]"
          ]
        },
        {
          "output_type": "stream",
          "name": "stdout",
          "text": [
            "                   all        563      11164      0.978      0.915      0.942       0.71\n"
          ]
        },
        {
          "output_type": "stream",
          "name": "stderr",
          "text": [
            "\n"
          ]
        },
        {
          "output_type": "stream",
          "name": "stdout",
          "text": [
            "\n",
            "      Epoch    GPU_mem   box_loss   cls_loss   dfl_loss  Instances       Size\n"
          ]
        },
        {
          "output_type": "stream",
          "name": "stderr",
          "text": [
            "    177/200      36.4G     0.9016     0.4391      1.103       2147        960: 100%|██████████| 31/31 [00:18<00:00,  1.69it/s]\n",
            "                 Class     Images  Instances      Box(P          R      mAP50  mAP50-95): 100%|██████████| 5/5 [00:03<00:00,  1.27it/s]"
          ]
        },
        {
          "output_type": "stream",
          "name": "stdout",
          "text": [
            "                   all        563      11164      0.977      0.916      0.943      0.711\n"
          ]
        },
        {
          "output_type": "stream",
          "name": "stderr",
          "text": [
            "\n"
          ]
        },
        {
          "output_type": "stream",
          "name": "stdout",
          "text": [
            "\n",
            "      Epoch    GPU_mem   box_loss   cls_loss   dfl_loss  Instances       Size\n"
          ]
        },
        {
          "output_type": "stream",
          "name": "stderr",
          "text": [
            "    178/200      36.2G     0.8971     0.4417       1.11       2288        960: 100%|██████████| 31/31 [00:23<00:00,  1.34it/s]\n",
            "                 Class     Images  Instances      Box(P          R      mAP50  mAP50-95): 100%|██████████| 5/5 [00:06<00:00,  1.20s/it]"
          ]
        },
        {
          "output_type": "stream",
          "name": "stdout",
          "text": [
            "                   all        563      11164      0.979      0.913      0.942      0.705\n"
          ]
        },
        {
          "output_type": "stream",
          "name": "stderr",
          "text": [
            "\n"
          ]
        },
        {
          "output_type": "stream",
          "name": "stdout",
          "text": [
            "\n",
            "      Epoch    GPU_mem   box_loss   cls_loss   dfl_loss  Instances       Size\n"
          ]
        },
        {
          "output_type": "stream",
          "name": "stderr",
          "text": [
            "    179/200      35.1G     0.8984     0.4401      1.109       2380        960: 100%|██████████| 31/31 [00:26<00:00,  1.18it/s]\n",
            "                 Class     Images  Instances      Box(P          R      mAP50  mAP50-95): 100%|██████████| 5/5 [00:07<00:00,  1.46s/it]"
          ]
        },
        {
          "output_type": "stream",
          "name": "stdout",
          "text": [
            "                   all        563      11164      0.975      0.916      0.942      0.705\n"
          ]
        },
        {
          "output_type": "stream",
          "name": "stderr",
          "text": [
            "\n"
          ]
        },
        {
          "output_type": "stream",
          "name": "stdout",
          "text": [
            "\n",
            "      Epoch    GPU_mem   box_loss   cls_loss   dfl_loss  Instances       Size\n"
          ]
        },
        {
          "output_type": "stream",
          "name": "stderr",
          "text": [
            "    180/200      38.6G     0.9058     0.4403      1.112       1876        960: 100%|██████████| 31/31 [00:17<00:00,  1.75it/s]\n",
            "                 Class     Images  Instances      Box(P          R      mAP50  mAP50-95): 100%|██████████| 5/5 [00:04<00:00,  1.22it/s]"
          ]
        },
        {
          "output_type": "stream",
          "name": "stdout",
          "text": [
            "                   all        563      11164      0.977      0.914      0.941      0.703\n"
          ]
        },
        {
          "output_type": "stream",
          "name": "stderr",
          "text": [
            "\n"
          ]
        },
        {
          "output_type": "stream",
          "name": "stdout",
          "text": [
            "\n",
            "      Epoch    GPU_mem   box_loss   cls_loss   dfl_loss  Instances       Size\n"
          ]
        },
        {
          "output_type": "stream",
          "name": "stderr",
          "text": [
            "    181/200        39G     0.9026     0.4436       1.11       2495        960: 100%|██████████| 31/31 [00:22<00:00,  1.35it/s]\n",
            "                 Class     Images  Instances      Box(P          R      mAP50  mAP50-95): 100%|██████████| 5/5 [00:07<00:00,  1.48s/it]"
          ]
        },
        {
          "output_type": "stream",
          "name": "stdout",
          "text": [
            "                   all        563      11164      0.977      0.913      0.942      0.707\n"
          ]
        },
        {
          "output_type": "stream",
          "name": "stderr",
          "text": [
            "\n"
          ]
        },
        {
          "output_type": "stream",
          "name": "stdout",
          "text": [
            "\n",
            "      Epoch    GPU_mem   box_loss   cls_loss   dfl_loss  Instances       Size\n"
          ]
        },
        {
          "output_type": "stream",
          "name": "stderr",
          "text": [
            "    182/200      35.3G     0.9007     0.4466      1.112       2096        960: 100%|██████████| 31/31 [00:18<00:00,  1.68it/s]\n",
            "                 Class     Images  Instances      Box(P          R      mAP50  mAP50-95): 100%|██████████| 5/5 [00:03<00:00,  1.34it/s]"
          ]
        },
        {
          "output_type": "stream",
          "name": "stdout",
          "text": [
            "                   all        563      11164       0.98      0.911      0.941      0.707\n"
          ]
        },
        {
          "output_type": "stream",
          "name": "stderr",
          "text": [
            "\n"
          ]
        },
        {
          "output_type": "stream",
          "name": "stdout",
          "text": [
            "\n",
            "      Epoch    GPU_mem   box_loss   cls_loss   dfl_loss  Instances       Size\n"
          ]
        },
        {
          "output_type": "stream",
          "name": "stderr",
          "text": [
            "    183/200      35.3G     0.9001     0.4408      1.108       1950        960: 100%|██████████| 31/31 [00:23<00:00,  1.31it/s]\n",
            "                 Class     Images  Instances      Box(P          R      mAP50  mAP50-95): 100%|██████████| 5/5 [00:06<00:00,  1.31s/it]"
          ]
        },
        {
          "output_type": "stream",
          "name": "stdout",
          "text": [
            "                   all        563      11164      0.978      0.913      0.942       0.71\n"
          ]
        },
        {
          "output_type": "stream",
          "name": "stderr",
          "text": [
            "\n"
          ]
        },
        {
          "output_type": "stream",
          "name": "stdout",
          "text": [
            "\n",
            "      Epoch    GPU_mem   box_loss   cls_loss   dfl_loss  Instances       Size\n"
          ]
        },
        {
          "output_type": "stream",
          "name": "stderr",
          "text": [
            "    184/200      35.4G     0.9011     0.4409      1.111       2090        960: 100%|██████████| 31/31 [00:17<00:00,  1.77it/s]\n",
            "                 Class     Images  Instances      Box(P          R      mAP50  mAP50-95): 100%|██████████| 5/5 [00:04<00:00,  1.23it/s]"
          ]
        },
        {
          "output_type": "stream",
          "name": "stdout",
          "text": [
            "                   all        563      11164      0.979      0.912      0.941      0.709\n"
          ]
        },
        {
          "output_type": "stream",
          "name": "stderr",
          "text": [
            "\n"
          ]
        },
        {
          "output_type": "stream",
          "name": "stdout",
          "text": [
            "\n",
            "      Epoch    GPU_mem   box_loss   cls_loss   dfl_loss  Instances       Size\n"
          ]
        },
        {
          "output_type": "stream",
          "name": "stderr",
          "text": [
            "    185/200      35.4G     0.8947     0.4407      1.111       1723        960: 100%|██████████| 31/31 [00:21<00:00,  1.43it/s]\n",
            "                 Class     Images  Instances      Box(P          R      mAP50  mAP50-95): 100%|██████████| 5/5 [00:08<00:00,  1.72s/it]"
          ]
        },
        {
          "output_type": "stream",
          "name": "stdout",
          "text": [
            "                   all        563      11164      0.978      0.912      0.942      0.708\n"
          ]
        },
        {
          "output_type": "stream",
          "name": "stderr",
          "text": [
            "\n"
          ]
        },
        {
          "output_type": "stream",
          "name": "stdout",
          "text": [
            "\n",
            "      Epoch    GPU_mem   box_loss   cls_loss   dfl_loss  Instances       Size\n"
          ]
        },
        {
          "output_type": "stream",
          "name": "stderr",
          "text": [
            "    186/200      35.4G     0.8989     0.4364      1.107       2427        960: 100%|██████████| 31/31 [00:17<00:00,  1.77it/s]\n",
            "                 Class     Images  Instances      Box(P          R      mAP50  mAP50-95): 100%|██████████| 5/5 [00:03<00:00,  1.32it/s]"
          ]
        },
        {
          "output_type": "stream",
          "name": "stdout",
          "text": [
            "                   all        563      11164      0.978      0.914      0.943      0.709\n"
          ]
        },
        {
          "output_type": "stream",
          "name": "stderr",
          "text": [
            "\n"
          ]
        },
        {
          "output_type": "stream",
          "name": "stdout",
          "text": [
            "\n",
            "      Epoch    GPU_mem   box_loss   cls_loss   dfl_loss  Instances       Size\n"
          ]
        },
        {
          "output_type": "stream",
          "name": "stderr",
          "text": [
            "    187/200      35.5G      0.893     0.4352      1.108       2192        960: 100%|██████████| 31/31 [00:22<00:00,  1.39it/s]\n",
            "                 Class     Images  Instances      Box(P          R      mAP50  mAP50-95): 100%|██████████| 5/5 [00:07<00:00,  1.45s/it]"
          ]
        },
        {
          "output_type": "stream",
          "name": "stdout",
          "text": [
            "                   all        563      11164      0.979      0.915      0.945      0.713\n"
          ]
        },
        {
          "output_type": "stream",
          "name": "stderr",
          "text": [
            "\n"
          ]
        },
        {
          "output_type": "stream",
          "name": "stdout",
          "text": [
            "\n",
            "      Epoch    GPU_mem   box_loss   cls_loss   dfl_loss  Instances       Size\n"
          ]
        },
        {
          "output_type": "stream",
          "name": "stderr",
          "text": [
            "    188/200      35.5G     0.8949      0.436      1.105       2051        960: 100%|██████████| 31/31 [00:17<00:00,  1.79it/s]\n",
            "                 Class     Images  Instances      Box(P          R      mAP50  mAP50-95): 100%|██████████| 5/5 [00:03<00:00,  1.38it/s]"
          ]
        },
        {
          "output_type": "stream",
          "name": "stdout",
          "text": [
            "                   all        563      11164      0.978      0.914      0.942      0.711\n"
          ]
        },
        {
          "output_type": "stream",
          "name": "stderr",
          "text": [
            "\n"
          ]
        },
        {
          "output_type": "stream",
          "name": "stdout",
          "text": [
            "\n",
            "      Epoch    GPU_mem   box_loss   cls_loss   dfl_loss  Instances       Size\n"
          ]
        },
        {
          "output_type": "stream",
          "name": "stderr",
          "text": [
            "    189/200      35.5G      0.892     0.4344      1.104       2273        960: 100%|██████████| 31/31 [00:22<00:00,  1.39it/s]\n",
            "                 Class     Images  Instances      Box(P          R      mAP50  mAP50-95): 100%|██████████| 5/5 [00:08<00:00,  1.63s/it]"
          ]
        },
        {
          "output_type": "stream",
          "name": "stdout",
          "text": [
            "                   all        563      11164      0.977      0.915      0.943      0.711\n"
          ]
        },
        {
          "output_type": "stream",
          "name": "stderr",
          "text": [
            "\n"
          ]
        },
        {
          "output_type": "stream",
          "name": "stdout",
          "text": [
            "\n",
            "      Epoch    GPU_mem   box_loss   cls_loss   dfl_loss  Instances       Size\n"
          ]
        },
        {
          "output_type": "stream",
          "name": "stderr",
          "text": [
            "    190/200      35.6G     0.8899     0.4349      1.107       2075        960: 100%|██████████| 31/31 [00:17<00:00,  1.80it/s]\n",
            "                 Class     Images  Instances      Box(P          R      mAP50  mAP50-95): 100%|██████████| 5/5 [00:04<00:00,  1.25it/s]"
          ]
        },
        {
          "output_type": "stream",
          "name": "stdout",
          "text": [
            "                   all        563      11164      0.977      0.913      0.942      0.712\n"
          ]
        },
        {
          "output_type": "stream",
          "name": "stderr",
          "text": [
            "\n"
          ]
        },
        {
          "output_type": "stream",
          "name": "stdout",
          "text": [
            "Closing dataloader mosaic\n",
            "\u001b[34m\u001b[1malbumentations: \u001b[0mBlur(p=0.01, blur_limit=(3, 7)), MedianBlur(p=0.01, blur_limit=(3, 7)), ToGray(p=0.01, num_output_channels=3, method='weighted_average'), CLAHE(p=0.01, clip_limit=(1.0, 4.0), tile_grid_size=(8, 8))\n",
            "\n",
            "      Epoch    GPU_mem   box_loss   cls_loss   dfl_loss  Instances       Size\n"
          ]
        },
        {
          "output_type": "stream",
          "name": "stderr",
          "text": [
            "    191/200      35.6G      0.807     0.3703      1.071        937        960: 100%|██████████| 31/31 [00:22<00:00,  1.40it/s]\n",
            "                 Class     Images  Instances      Box(P          R      mAP50  mAP50-95): 100%|██████████| 5/5 [00:03<00:00,  1.62it/s]"
          ]
        },
        {
          "output_type": "stream",
          "name": "stdout",
          "text": [
            "                   all        563      11164      0.976      0.911      0.939      0.705\n"
          ]
        },
        {
          "output_type": "stream",
          "name": "stderr",
          "text": [
            "\n"
          ]
        },
        {
          "output_type": "stream",
          "name": "stdout",
          "text": [
            "\n",
            "      Epoch    GPU_mem   box_loss   cls_loss   dfl_loss  Instances       Size\n"
          ]
        },
        {
          "output_type": "stream",
          "name": "stderr",
          "text": [
            "    192/200      32.4G      0.798      0.363      1.061        891        960: 100%|██████████| 31/31 [00:16<00:00,  1.84it/s]\n",
            "                 Class     Images  Instances      Box(P          R      mAP50  mAP50-95): 100%|██████████| 5/5 [00:03<00:00,  1.48it/s]"
          ]
        },
        {
          "output_type": "stream",
          "name": "stdout",
          "text": [
            "                   all        563      11164      0.978      0.911      0.939      0.701\n"
          ]
        },
        {
          "output_type": "stream",
          "name": "stderr",
          "text": [
            "\n"
          ]
        },
        {
          "output_type": "stream",
          "name": "stdout",
          "text": [
            "\n",
            "      Epoch    GPU_mem   box_loss   cls_loss   dfl_loss  Instances       Size\n"
          ]
        },
        {
          "output_type": "stream",
          "name": "stderr",
          "text": [
            "    193/200      34.2G      0.796     0.3586       1.06       1057        960: 100%|██████████| 31/31 [00:16<00:00,  1.84it/s]\n",
            "                 Class     Images  Instances      Box(P          R      mAP50  mAP50-95): 100%|██████████| 5/5 [00:03<00:00,  1.54it/s]"
          ]
        },
        {
          "output_type": "stream",
          "name": "stdout",
          "text": [
            "                   all        563      11164      0.979      0.911      0.939      0.702\n"
          ]
        },
        {
          "output_type": "stream",
          "name": "stderr",
          "text": [
            "\n"
          ]
        },
        {
          "output_type": "stream",
          "name": "stdout",
          "text": [
            "\n",
            "      Epoch    GPU_mem   box_loss   cls_loss   dfl_loss  Instances       Size\n"
          ]
        },
        {
          "output_type": "stream",
          "name": "stderr",
          "text": [
            "    194/200      34.2G     0.7904     0.3569      1.057        973        960: 100%|██████████| 31/31 [00:16<00:00,  1.87it/s]\n",
            "                 Class     Images  Instances      Box(P          R      mAP50  mAP50-95): 100%|██████████| 5/5 [00:03<00:00,  1.47it/s]"
          ]
        },
        {
          "output_type": "stream",
          "name": "stdout",
          "text": [
            "                   all        563      11164       0.98      0.911       0.94      0.705\n"
          ]
        },
        {
          "output_type": "stream",
          "name": "stderr",
          "text": [
            "\n"
          ]
        },
        {
          "output_type": "stream",
          "name": "stdout",
          "text": [
            "\n",
            "      Epoch    GPU_mem   box_loss   cls_loss   dfl_loss  Instances       Size\n"
          ]
        },
        {
          "output_type": "stream",
          "name": "stderr",
          "text": [
            "    195/200      34.2G     0.7896     0.3557      1.056        997        960: 100%|██████████| 31/31 [00:16<00:00,  1.88it/s]\n",
            "                 Class     Images  Instances      Box(P          R      mAP50  mAP50-95): 100%|██████████| 5/5 [00:03<00:00,  1.60it/s]"
          ]
        },
        {
          "output_type": "stream",
          "name": "stdout",
          "text": [
            "                   all        563      11164       0.98      0.912       0.94      0.706\n"
          ]
        },
        {
          "output_type": "stream",
          "name": "stderr",
          "text": [
            "\n"
          ]
        },
        {
          "output_type": "stream",
          "name": "stdout",
          "text": [
            "\n",
            "      Epoch    GPU_mem   box_loss   cls_loss   dfl_loss  Instances       Size\n"
          ]
        },
        {
          "output_type": "stream",
          "name": "stderr",
          "text": [
            "    196/200      34.3G     0.7942     0.3579      1.059       1004        960: 100%|██████████| 31/31 [00:16<00:00,  1.88it/s]\n",
            "                 Class     Images  Instances      Box(P          R      mAP50  mAP50-95): 100%|██████████| 5/5 [00:03<00:00,  1.47it/s]"
          ]
        },
        {
          "output_type": "stream",
          "name": "stdout",
          "text": [
            "                   all        563      11164      0.981      0.911      0.941      0.705\n"
          ]
        },
        {
          "output_type": "stream",
          "name": "stderr",
          "text": [
            "\n"
          ]
        },
        {
          "output_type": "stream",
          "name": "stdout",
          "text": [
            "\n",
            "      Epoch    GPU_mem   box_loss   cls_loss   dfl_loss  Instances       Size\n"
          ]
        },
        {
          "output_type": "stream",
          "name": "stderr",
          "text": [
            "    197/200      34.3G     0.7889     0.3562      1.058        939        960: 100%|██████████| 31/31 [00:16<00:00,  1.87it/s]\n",
            "                 Class     Images  Instances      Box(P          R      mAP50  mAP50-95): 100%|██████████| 5/5 [00:03<00:00,  1.43it/s]"
          ]
        },
        {
          "output_type": "stream",
          "name": "stdout",
          "text": [
            "                   all        563      11164      0.975      0.916      0.941      0.706\n"
          ]
        },
        {
          "output_type": "stream",
          "name": "stderr",
          "text": [
            "\n"
          ]
        },
        {
          "output_type": "stream",
          "name": "stdout",
          "text": [
            "\n",
            "      Epoch    GPU_mem   box_loss   cls_loss   dfl_loss  Instances       Size\n"
          ]
        },
        {
          "output_type": "stream",
          "name": "stderr",
          "text": [
            "    198/200      34.3G     0.7859     0.3537      1.057        993        960: 100%|██████████| 31/31 [00:16<00:00,  1.87it/s]\n",
            "                 Class     Images  Instances      Box(P          R      mAP50  mAP50-95): 100%|██████████| 5/5 [00:03<00:00,  1.38it/s]"
          ]
        },
        {
          "output_type": "stream",
          "name": "stdout",
          "text": [
            "                   all        563      11164      0.976      0.915      0.941      0.707\n"
          ]
        },
        {
          "output_type": "stream",
          "name": "stderr",
          "text": [
            "\n"
          ]
        },
        {
          "output_type": "stream",
          "name": "stdout",
          "text": [
            "\n",
            "      Epoch    GPU_mem   box_loss   cls_loss   dfl_loss  Instances       Size\n"
          ]
        },
        {
          "output_type": "stream",
          "name": "stderr",
          "text": [
            "    199/200      34.4G     0.7877     0.3564       1.06       1037        960: 100%|██████████| 31/31 [00:16<00:00,  1.88it/s]\n",
            "                 Class     Images  Instances      Box(P          R      mAP50  mAP50-95): 100%|██████████| 5/5 [00:03<00:00,  1.44it/s]"
          ]
        },
        {
          "output_type": "stream",
          "name": "stdout",
          "text": [
            "                   all        563      11164      0.979      0.912      0.941      0.708\n"
          ]
        },
        {
          "output_type": "stream",
          "name": "stderr",
          "text": [
            "\n"
          ]
        },
        {
          "output_type": "stream",
          "name": "stdout",
          "text": [
            "\n",
            "      Epoch    GPU_mem   box_loss   cls_loss   dfl_loss  Instances       Size\n"
          ]
        },
        {
          "output_type": "stream",
          "name": "stderr",
          "text": [
            "    200/200      34.4G     0.7823     0.3542      1.056       1013        960: 100%|██████████| 31/31 [00:16<00:00,  1.87it/s]\n",
            "                 Class     Images  Instances      Box(P          R      mAP50  mAP50-95): 100%|██████████| 5/5 [00:03<00:00,  1.46it/s]"
          ]
        },
        {
          "output_type": "stream",
          "name": "stdout",
          "text": [
            "                   all        563      11164      0.978      0.913      0.941      0.708\n"
          ]
        },
        {
          "output_type": "stream",
          "name": "stderr",
          "text": [
            "\n"
          ]
        },
        {
          "output_type": "stream",
          "name": "stdout",
          "text": [
            "\n",
            "200 epochs completed in 1.499 hours.\n",
            "Optimizer stripped from runs_experiment/yolov8_training/weights/last.pt, 22.6MB\n",
            "Optimizer stripped from runs_experiment/yolov8_training/weights/best.pt, 22.6MB\n",
            "\n",
            "Validating runs_experiment/yolov8_training/weights/best.pt...\n",
            "Ultralytics 8.3.88 🚀 Python-3.11.11 torch-2.6.0+cu124 CUDA:0 (NVIDIA A100-SXM4-40GB, 40507MiB)\n",
            "Model summary (fused): 72 layers, 11,129,841 parameters, 0 gradients, 28.5 GFLOPs\n"
          ]
        },
        {
          "output_type": "stream",
          "name": "stderr",
          "text": [
            "                 Class     Images  Instances      Box(P          R      mAP50  mAP50-95): 100%|██████████| 5/5 [00:12<00:00,  2.42s/it]\n"
          ]
        },
        {
          "output_type": "stream",
          "name": "stdout",
          "text": [
            "                   all        563      11164      0.979      0.914      0.944      0.713\n",
            "                  Huki        139        852      0.952      0.982      0.961      0.681\n",
            "                Inngen        191       2070      0.973      0.741      0.851      0.634\n",
            "               Kabocha        287       1794      0.971      0.968      0.979      0.638\n",
            "              Ninnjinn        382       2353      0.974      0.974      0.983      0.723\n",
            "              Shiitake        331       2059      0.984      0.988      0.991      0.772\n",
            "             Gochujang        179        555      0.984      0.901      0.933      0.743\n",
            "              F_renkon         44        269      0.997      0.981      0.989      0.867\n",
            "                daikon         51        323      0.996      0.991      0.995      0.807\n",
            "                 ganmo         44        266      0.987      0.981      0.988       0.78\n",
            "                 gobou         51        308      0.979      0.818      0.896      0.611\n",
            "              konnyaku         51        315      0.977      0.733      0.817      0.583\n",
            "Speed: 0.2ms preprocess, 1.1ms inference, 0.0ms loss, 2.6ms postprocess per image\n",
            "Results saved to \u001b[1mruns_experiment/yolov8_training\u001b[0m\n",
            "Training complete. Results saved to runs_experiment\n"
          ]
        }
      ]
    }
  ]
}