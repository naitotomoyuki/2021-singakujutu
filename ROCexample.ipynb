{
  "nbformat": 4,
  "nbformat_minor": 0,
  "metadata": {
    "colab": {
      "private_outputs": true,
      "provenance": [],
      "include_colab_link": true
    },
    "kernelspec": {
      "name": "python3",
      "display_name": "Python 3"
    },
    "language_info": {
      "name": "python"
    }
  },
  "cells": [
    {
      "cell_type": "markdown",
      "metadata": {
        "id": "view-in-github",
        "colab_type": "text"
      },
      "source": [
        "<a href=\"https://colab.research.google.com/github/naitotomoyuki/2021-singakujutu/blob/master/ROCexample.ipynb\" target=\"_parent\"><img src=\"https://colab.research.google.com/assets/colab-badge.svg\" alt=\"Open In Colab\"/></a>"
      ]
    },
    {
      "cell_type": "code",
      "source": [
        "# prompt: 最初の列は0から始まるデータ番号であり、最初リストは全て0、２番目のリストは１となる。２列目は数値\n",
        "# 出力はoutput.xlsxファイルの保存されるので必要であればDLする\n",
        "#　これはシミュレーションデータ生成コードなので、実データがある場合は実行せず、代わりに実データをoutput.xlsxとしてアップロードする\n",
        "import numpy as np\n",
        "import pandas as pd\n",
        "\n",
        "\n",
        "def generate_normal_data(mean, variance, num_data):\n",
        "  \"\"\"\n",
        "  平均値と分散を指定し、正規分布から指定された数のデータを作成する関数。\n",
        "\n",
        "  Args:\n",
        "    mean: 平均値。\n",
        "    variance: 分散。\n",
        "    num_data: 作成するデータの数。\n",
        "\n",
        "  ただし０より小さいデータは０、\n",
        "  １より大きいデータは１とする簡易的なデータ生成\n",
        "\n",
        "  Returns:\n",
        "    指定された正規分布から生成されたデータのリスト。\n",
        "  \"\"\"\n",
        "  std_dev = np.sqrt(variance)\n",
        "  data = np.random.normal(loc=mean, scale=std_dev, size=num_data)\n",
        "  data[data < 0] = 0\n",
        "  data[data > 1] = 1\n",
        "  return data\n",
        "\n",
        "# 正常データの平均値、分散、データ数を設定\n",
        "mean_normal = 0.275\n",
        "variance_normal = 0.085\n",
        "num_data_normal = 100\n",
        "\n",
        "# 異常データの平均値、分散、データ数を設定\n",
        "mean_anormal = 0.557\n",
        "variance_anormal = 0.148\n",
        "num_data_anormal = 100\n",
        "\n",
        "# データを作成\n",
        "data1 = generate_normal_data(mean_anormal, variance_anormal, num_data_anormal)\n",
        "data2 = generate_normal_data(mean_normal, variance_normal, num_data_normal)\n",
        "\n",
        "# データ番号のリストを作成\n",
        "data_number = list(range(num_data_normal+num_data_anormal))\n",
        "list_0 = [0] * num_data_anormal\n",
        "list_1 = [1] * num_data_normal\n",
        "\n",
        "true = np.concatenate((list_0, list_1))\n",
        "pred = np.concatenate((data1, data2))\n",
        "\n",
        "# DataFrameを作成\n",
        "df = pd.DataFrame({\n",
        "    'True': true,\n",
        "    'Pred': pred\n",
        "})\n",
        "\n",
        "# Excelファイルとして保存\n",
        "df.to_excel('output.xlsx', index=False)"
      ],
      "metadata": {
        "id": "nqlOy1K9Elny"
      },
      "execution_count": null,
      "outputs": []
    },
    {
      "cell_type": "code",
      "source": [
        "# prompt: output.xlsファイルを読み込み、Trueの値が０のデータと1のデータの分布を重ねてグラフ化する.\n",
        "\n",
        "import numpy as np\n",
        "import pandas as pd\n",
        "import matplotlib.pyplot as plt\n",
        "from sklearn.metrics import roc_curve, auc\n",
        "\n",
        "# Excelファイルを読み込む\n",
        "df = pd.read_excel('output.xlsx')\n",
        "\n",
        "# Trueの値が0のデータと1のデータを取得\n",
        "df_true_0 = df[df['True'] == 0]\n",
        "df_true_1 = df[df['True'] == 1]\n",
        "\n",
        "# ヒストグラムを作成\n",
        "plt.hist(df_true_0['Pred'], bins=20, alpha=0.5, label='anormal')\n",
        "plt.hist(df_true_1['Pred'], bins=20, alpha=0.5, label='normal')\n",
        "\n",
        "# グラフのタイトル、ラベルを設定\n",
        "plt.xlabel('Pred', fontsize=18)\n",
        "plt.ylabel('Frequency', fontsize=18)\n",
        "plt.title('Distribution of anormal index', fontsize=24)\n",
        "\n",
        "# 凡例を表示\n",
        "plt.legend(fontsize=12)\n",
        "\n",
        "# メモリの数値のフォントサイズを設定\n",
        "plt.xticks(fontsize=12)\n",
        "plt.yticks(fontsize=12)\n",
        "\n",
        "# グラフを表示\n",
        "plt.show()"
      ],
      "metadata": {
        "id": "RSGOz4nnTNhY"
      },
      "execution_count": null,
      "outputs": []
    },
    {
      "cell_type": "code",
      "source": [
        "# prompt: output.xlsxを読み込みROC曲線をかく\n",
        "\n",
        "import pandas as pd\n",
        "import numpy as np\n",
        "import matplotlib.pyplot as plt\n",
        "from sklearn.metrics import roc_curve, auc\n",
        "\n",
        "# Excelファイルを読み込む\n",
        "df = pd.read_excel('output.xlsx')\n",
        "\n",
        "# TrueとPredの値を取得\n",
        "y_true = df['True']\n",
        "y_scores = df['Pred']\n",
        "\n",
        "# ROC曲線を作成\n",
        "fpr, tpr, thresholds = roc_curve(y_true, 1-y_scores)\n",
        "\n",
        "# AUCを計算\n",
        "roc_auc = auc(fpr, tpr)\n",
        "\n",
        "# ROC曲線をプロット\n",
        "plt.figure()\n",
        "plt.plot(fpr, tpr, color='darkorange', lw=2, label='ROC curve (area = %0.2f)' % roc_auc)\n",
        "plt.plot([0, 1], [0, 1], color='navy', lw=2, linestyle='--')\n",
        "plt.xlim([0.0, 1.0])\n",
        "plt.ylim([0.0, 1.05])\n",
        "plt.xlabel('False Positive Rate', fontsize=24)\n",
        "plt.ylabel('True Positive Rate', fontsize=24)\n",
        "plt.title('ROC of anormal detection', fontsize=18)\n",
        "plt.xticks(fontsize=12)\n",
        "plt.yticks(fontsize=12)\n",
        "plt.legend(loc=\"lower right\")\n",
        "plt.show()"
      ],
      "metadata": {
        "id": "X5O8ke6MTXUg"
      },
      "execution_count": null,
      "outputs": []
    },
    {
      "cell_type": "code",
      "source": [],
      "metadata": {
        "id": "Qhn0_hEYMMsX"
      },
      "execution_count": null,
      "outputs": []
    }
  ]
}